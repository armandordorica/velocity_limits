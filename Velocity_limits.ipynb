{
  "nbformat": 4,
  "nbformat_minor": 0,
  "metadata": {
    "colab": {
      "name": "Velocity_limits.ipynb",
      "provenance": [],
      "collapsed_sections": [],
      "toc_visible": true,
      "authorship_tag": "ABX9TyO2evU6uYBdXbTomm2iIPaY",
      "include_colab_link": true
    },
    "kernelspec": {
      "name": "python3",
      "display_name": "Python 3"
    }
  },
  "cells": [
    {
      "cell_type": "markdown",
      "metadata": {
        "id": "view-in-github",
        "colab_type": "text"
      },
      "source": [
        "<a href=\"https://colab.research.google.com/github/armandordorica/velocity_limits/blob/main/Velocity_limits.ipynb\" target=\"_parent\"><img src=\"https://colab.research.google.com/assets/colab-badge.svg\" alt=\"Open In Colab\"/></a>"
      ]
    },
    {
      "cell_type": "code",
      "metadata": {
        "id": "bjYQbMshIpjb",
        "outputId": "5140b155-0aac-40b7-8e4d-2a5c2f0b817c",
        "colab": {
          "base_uri": "https://localhost:8080/",
          "height": 115
        }
      },
      "source": [
        "!git clone https://github.com/armandordorica/velocity_limits.git"
      ],
      "execution_count": null,
      "outputs": [
        {
          "output_type": "stream",
          "text": [
            "Cloning into 'velocity_limits'...\n",
            "remote: Enumerating objects: 26, done.\u001b[K\n",
            "remote: Counting objects: 100% (26/26), done.\u001b[K\n",
            "remote: Compressing objects: 100% (25/25), done.\u001b[K\n",
            "remote: Total 26 (delta 5), reused 0 (delta 0), pack-reused 0\u001b[K\n",
            "Unpacking objects: 100% (26/26), done.\n"
          ],
          "name": "stdout"
        }
      ]
    },
    {
      "cell_type": "code",
      "metadata": {
        "id": "_w5qJh-aL5gh",
        "outputId": "dfb2829d-f2e1-4122-f941-c35567fc55f7",
        "colab": {
          "base_uri": "https://localhost:8080/",
          "height": 33
        }
      },
      "source": [
        "cd velocity_limits/takehome/"
      ],
      "execution_count": null,
      "outputs": [
        {
          "output_type": "stream",
          "text": [
            "/content/velocity_limits/takehome\n"
          ],
          "name": "stdout"
        }
      ]
    },
    {
      "cell_type": "markdown",
      "metadata": {
        "id": "swrmkrSqm5Vi"
      },
      "source": [
        "In finance, it's common for accounts to have so-called \"velocity limits\". In this task, you'll write a program that accepts or declines attempts to load funds into customers' accounts in real-time.\n",
        "\n",
        "Each attempt to load funds will come as a single-line JSON payload, structured as follows:\n",
        "\n",
        "```json\n",
        "{ \"id\": \"1234\", \"customer_id\": \"1234\", \"load_amount\": \"$123.45\", \"time\": \"2018-01-01T00:00:00Z\" }\n",
        "```\n",
        "\n",
        "Each customer is subject to three limits:\n",
        "\n",
        "- A maximum of $\\$5,000$ can be loaded per day\n",
        "- A maximum of $\\$20,000$ can be loaded per week\n",
        "- A maximum of 3 loads can be performed per day, regardless of amount\n",
        "\n",
        "As such, a user attempting to load $\\$3,000$ twice in one day would be declined on the second attempt, as would a user attempting to load $400 four times in a day.\n",
        "\n",
        "For each load attempt, you should return a JSON response indicating whether the fund load was accepted based on the user's activity, with the structure:\n",
        "\n",
        "```json\n",
        "{ \"id\": \"1234\", \"customer_id\": \"1234\", \"accepted\": true }\n",
        "```\n",
        "\n",
        "You can assume that the input arrives in ascending chronological order and that if a load ID is observed more than once for a particular user, all but the first instance can be ignored. Each day is considered to end at midnight UTC, and weeks start on Monday (i.e. one second after 23:59:59 on Sunday).\n",
        "\n",
        "Your program should process lines from `input.txt` and return output in the format specified above, either to standard output or a file. Expected output given our input data can be found in `output.txt`.\n",
        "\n",
        "You're welcome to write your program in a general-purpose language of your choosing.\n",
        "\n",
        "We value well-structured, self-documenting code with sensible test coverage. Descriptive function and variable names are appreciated, as is isolating your business logic from the rest of your code.\n"
      ]
    },
    {
      "cell_type": "markdown",
      "metadata": {
        "id": "3umVGZiQMFd-"
      },
      "source": [
        "### Importing Source data"
      ]
    },
    {
      "cell_type": "code",
      "metadata": {
        "id": "dpGVUnfCI0Hv",
        "outputId": "c65caff6-78ed-4239-d2c9-1d3c6df4e9bc",
        "colab": {
          "base_uri": "https://localhost:8080/",
          "height": 115
        }
      },
      "source": [
        "import pandas as pd\n",
        "import matplotlib.pyplot as plt\n",
        "import itertools\n",
        "import numpy as np\n",
        "from datetime import datetime, timedelta\n",
        "import pandas as pd\n",
        "\n",
        "input_data = pd.read_json('input.txt', lines=True)\n",
        "input_data.head(), len(input_data)"
      ],
      "execution_count": null,
      "outputs": [
        {
          "output_type": "execute_result",
          "data": {
            "text/plain": [
              "(      id  customer_id load_amount                  time\n",
              " 0  15887          528    $3318.47  2000-01-01T00:00:00Z\n",
              " 1  30081          154    $1413.18  2000-01-01T01:01:22Z\n",
              " 2  26540          426     $404.56  2000-01-01T02:02:44Z\n",
              " 3  10694            1     $785.11  2000-01-01T03:04:06Z\n",
              " 4  15089          205    $2247.28  2000-01-01T04:05:28Z, 1000)"
            ]
          },
          "metadata": {
            "tags": []
          },
          "execution_count": 28
        }
      ]
    },
    {
      "cell_type": "code",
      "metadata": {
        "id": "e0KiyatHMQ61",
        "outputId": "e597e341-5fc2-4636-a586-37e911b1fd09",
        "colab": {
          "base_uri": "https://localhost:8080/",
          "height": 191
        }
      },
      "source": [
        "input_data.head()"
      ],
      "execution_count": null,
      "outputs": [
        {
          "output_type": "execute_result",
          "data": {
            "text/html": [
              "<div>\n",
              "<style scoped>\n",
              "    .dataframe tbody tr th:only-of-type {\n",
              "        vertical-align: middle;\n",
              "    }\n",
              "\n",
              "    .dataframe tbody tr th {\n",
              "        vertical-align: top;\n",
              "    }\n",
              "\n",
              "    .dataframe thead th {\n",
              "        text-align: right;\n",
              "    }\n",
              "</style>\n",
              "<table border=\"1\" class=\"dataframe\">\n",
              "  <thead>\n",
              "    <tr style=\"text-align: right;\">\n",
              "      <th></th>\n",
              "      <th>id</th>\n",
              "      <th>customer_id</th>\n",
              "      <th>load_amount</th>\n",
              "      <th>time</th>\n",
              "    </tr>\n",
              "  </thead>\n",
              "  <tbody>\n",
              "    <tr>\n",
              "      <th>0</th>\n",
              "      <td>15887</td>\n",
              "      <td>528</td>\n",
              "      <td>$3318.47</td>\n",
              "      <td>2000-01-01T00:00:00Z</td>\n",
              "    </tr>\n",
              "    <tr>\n",
              "      <th>1</th>\n",
              "      <td>30081</td>\n",
              "      <td>154</td>\n",
              "      <td>$1413.18</td>\n",
              "      <td>2000-01-01T01:01:22Z</td>\n",
              "    </tr>\n",
              "    <tr>\n",
              "      <th>2</th>\n",
              "      <td>26540</td>\n",
              "      <td>426</td>\n",
              "      <td>$404.56</td>\n",
              "      <td>2000-01-01T02:02:44Z</td>\n",
              "    </tr>\n",
              "    <tr>\n",
              "      <th>3</th>\n",
              "      <td>10694</td>\n",
              "      <td>1</td>\n",
              "      <td>$785.11</td>\n",
              "      <td>2000-01-01T03:04:06Z</td>\n",
              "    </tr>\n",
              "    <tr>\n",
              "      <th>4</th>\n",
              "      <td>15089</td>\n",
              "      <td>205</td>\n",
              "      <td>$2247.28</td>\n",
              "      <td>2000-01-01T04:05:28Z</td>\n",
              "    </tr>\n",
              "  </tbody>\n",
              "</table>\n",
              "</div>"
            ],
            "text/plain": [
              "      id  customer_id load_amount                  time\n",
              "0  15887          528    $3318.47  2000-01-01T00:00:00Z\n",
              "1  30081          154    $1413.18  2000-01-01T01:01:22Z\n",
              "2  26540          426     $404.56  2000-01-01T02:02:44Z\n",
              "3  10694            1     $785.11  2000-01-01T03:04:06Z\n",
              "4  15089          205    $2247.28  2000-01-01T04:05:28Z"
            ]
          },
          "metadata": {
            "tags": []
          },
          "execution_count": 29
        }
      ]
    },
    {
      "cell_type": "code",
      "metadata": {
        "id": "EDEe4-85MZpC",
        "outputId": "ba791a63-a7ae-4f9f-cf61-073c6ebbe574",
        "colab": {
          "base_uri": "https://localhost:8080/",
          "height": 33
        }
      },
      "source": [
        "len(input_data['id']), len(input_data['id'].unique())"
      ],
      "execution_count": null,
      "outputs": [
        {
          "output_type": "execute_result",
          "data": {
            "text/plain": [
              "(1000, 984)"
            ]
          },
          "metadata": {
            "tags": []
          },
          "execution_count": 30
        }
      ]
    },
    {
      "cell_type": "markdown",
      "metadata": {
        "id": "wPp7TolrMtI0"
      },
      "source": [
        "**\"If a load ID is observed more than once for a particular user, all but the first instance can be ignored.\"** \n",
        "* There are 984 unique `id`s"
      ]
    },
    {
      "cell_type": "markdown",
      "metadata": {
        "id": "1YQQQ4g3NAkV"
      },
      "source": [
        "Looking at unique combinations of load `id` and `customer_id`"
      ]
    },
    {
      "cell_type": "code",
      "metadata": {
        "id": "Icuy_JMCMrfj"
      },
      "source": [
        "input_data['unique_id']  = input_data['id'].astype(str) + \"_\" + input_data['customer_id'].astype(str)"
      ],
      "execution_count": null,
      "outputs": []
    },
    {
      "cell_type": "code",
      "metadata": {
        "id": "v2-ntcOKNRO6",
        "outputId": "c63e4594-be64-444f-e5a5-11139733d50c",
        "colab": {
          "base_uri": "https://localhost:8080/",
          "height": 191
        }
      },
      "source": [
        "input_data.head()"
      ],
      "execution_count": null,
      "outputs": [
        {
          "output_type": "execute_result",
          "data": {
            "text/html": [
              "<div>\n",
              "<style scoped>\n",
              "    .dataframe tbody tr th:only-of-type {\n",
              "        vertical-align: middle;\n",
              "    }\n",
              "\n",
              "    .dataframe tbody tr th {\n",
              "        vertical-align: top;\n",
              "    }\n",
              "\n",
              "    .dataframe thead th {\n",
              "        text-align: right;\n",
              "    }\n",
              "</style>\n",
              "<table border=\"1\" class=\"dataframe\">\n",
              "  <thead>\n",
              "    <tr style=\"text-align: right;\">\n",
              "      <th></th>\n",
              "      <th>id</th>\n",
              "      <th>customer_id</th>\n",
              "      <th>load_amount</th>\n",
              "      <th>time</th>\n",
              "      <th>unique_id</th>\n",
              "    </tr>\n",
              "  </thead>\n",
              "  <tbody>\n",
              "    <tr>\n",
              "      <th>0</th>\n",
              "      <td>15887</td>\n",
              "      <td>528</td>\n",
              "      <td>$3318.47</td>\n",
              "      <td>2000-01-01T00:00:00Z</td>\n",
              "      <td>15887_528</td>\n",
              "    </tr>\n",
              "    <tr>\n",
              "      <th>1</th>\n",
              "      <td>30081</td>\n",
              "      <td>154</td>\n",
              "      <td>$1413.18</td>\n",
              "      <td>2000-01-01T01:01:22Z</td>\n",
              "      <td>30081_154</td>\n",
              "    </tr>\n",
              "    <tr>\n",
              "      <th>2</th>\n",
              "      <td>26540</td>\n",
              "      <td>426</td>\n",
              "      <td>$404.56</td>\n",
              "      <td>2000-01-01T02:02:44Z</td>\n",
              "      <td>26540_426</td>\n",
              "    </tr>\n",
              "    <tr>\n",
              "      <th>3</th>\n",
              "      <td>10694</td>\n",
              "      <td>1</td>\n",
              "      <td>$785.11</td>\n",
              "      <td>2000-01-01T03:04:06Z</td>\n",
              "      <td>10694_1</td>\n",
              "    </tr>\n",
              "    <tr>\n",
              "      <th>4</th>\n",
              "      <td>15089</td>\n",
              "      <td>205</td>\n",
              "      <td>$2247.28</td>\n",
              "      <td>2000-01-01T04:05:28Z</td>\n",
              "      <td>15089_205</td>\n",
              "    </tr>\n",
              "  </tbody>\n",
              "</table>\n",
              "</div>"
            ],
            "text/plain": [
              "      id  customer_id load_amount                  time  unique_id\n",
              "0  15887          528    $3318.47  2000-01-01T00:00:00Z  15887_528\n",
              "1  30081          154    $1413.18  2000-01-01T01:01:22Z  30081_154\n",
              "2  26540          426     $404.56  2000-01-01T02:02:44Z  26540_426\n",
              "3  10694            1     $785.11  2000-01-01T03:04:06Z    10694_1\n",
              "4  15089          205    $2247.28  2000-01-01T04:05:28Z  15089_205"
            ]
          },
          "metadata": {
            "tags": []
          },
          "execution_count": 32
        }
      ]
    },
    {
      "cell_type": "code",
      "metadata": {
        "id": "Vfw1OJDVpMmg"
      },
      "source": [
        ""
      ],
      "execution_count": null,
      "outputs": []
    },
    {
      "cell_type": "markdown",
      "metadata": {
        "id": "vHQaulE1ZJxZ"
      },
      "source": [
        "### 1. Keeping only the first instance for any combination of load id and customer id"
      ]
    },
    {
      "cell_type": "code",
      "metadata": {
        "id": "cXdLQUWwOsge"
      },
      "source": [
        "grouped_input_data = input_data.groupby([\"unique_id\"])\n",
        "input_data = grouped_input_data.first().copy(deep=True)"
      ],
      "execution_count": null,
      "outputs": []
    },
    {
      "cell_type": "code",
      "metadata": {
        "id": "Sf8nxTsGpX4p",
        "outputId": "182cf651-166d-49a5-8380-62e53e0c1919",
        "colab": {
          "base_uri": "https://localhost:8080/",
          "height": 220
        }
      },
      "source": [
        "input_data.head()"
      ],
      "execution_count": null,
      "outputs": [
        {
          "output_type": "execute_result",
          "data": {
            "text/html": [
              "<div>\n",
              "<style scoped>\n",
              "    .dataframe tbody tr th:only-of-type {\n",
              "        vertical-align: middle;\n",
              "    }\n",
              "\n",
              "    .dataframe tbody tr th {\n",
              "        vertical-align: top;\n",
              "    }\n",
              "\n",
              "    .dataframe thead th {\n",
              "        text-align: right;\n",
              "    }\n",
              "</style>\n",
              "<table border=\"1\" class=\"dataframe\">\n",
              "  <thead>\n",
              "    <tr style=\"text-align: right;\">\n",
              "      <th></th>\n",
              "      <th>id</th>\n",
              "      <th>customer_id</th>\n",
              "      <th>load_amount</th>\n",
              "      <th>time</th>\n",
              "    </tr>\n",
              "    <tr>\n",
              "      <th>unique_id</th>\n",
              "      <th></th>\n",
              "      <th></th>\n",
              "      <th></th>\n",
              "      <th></th>\n",
              "    </tr>\n",
              "  </thead>\n",
              "  <tbody>\n",
              "    <tr>\n",
              "      <th>10002_35</th>\n",
              "      <td>10002</td>\n",
              "      <td>35</td>\n",
              "      <td>$2385.52</td>\n",
              "      <td>2000-01-20T05:16:22Z</td>\n",
              "    </tr>\n",
              "    <tr>\n",
              "      <th>10041_239</th>\n",
              "      <td>10041</td>\n",
              "      <td>239</td>\n",
              "      <td>$5455.00</td>\n",
              "      <td>2000-01-19T00:38:06Z</td>\n",
              "    </tr>\n",
              "    <tr>\n",
              "      <th>10041_596</th>\n",
              "      <td>10041</td>\n",
              "      <td>596</td>\n",
              "      <td>$162.67</td>\n",
              "      <td>2000-02-04T22:40:40Z</td>\n",
              "    </tr>\n",
              "    <tr>\n",
              "      <th>10047_137</th>\n",
              "      <td>10047</td>\n",
              "      <td>137</td>\n",
              "      <td>$3266.77</td>\n",
              "      <td>2000-01-19T13:55:52Z</td>\n",
              "    </tr>\n",
              "    <tr>\n",
              "      <th>10055_460</th>\n",
              "      <td>10055</td>\n",
              "      <td>460</td>\n",
              "      <td>$2671.07</td>\n",
              "      <td>2000-02-08T21:47:46Z</td>\n",
              "    </tr>\n",
              "  </tbody>\n",
              "</table>\n",
              "</div>"
            ],
            "text/plain": [
              "              id  customer_id load_amount                  time\n",
              "unique_id                                                      \n",
              "10002_35   10002           35    $2385.52  2000-01-20T05:16:22Z\n",
              "10041_239  10041          239    $5455.00  2000-01-19T00:38:06Z\n",
              "10041_596  10041          596     $162.67  2000-02-04T22:40:40Z\n",
              "10047_137  10047          137    $3266.77  2000-01-19T13:55:52Z\n",
              "10055_460  10055          460    $2671.07  2000-02-08T21:47:46Z"
            ]
          },
          "metadata": {
            "tags": []
          },
          "execution_count": 34
        }
      ]
    },
    {
      "cell_type": "code",
      "metadata": {
        "id": "4mgud6wHpdbF"
      },
      "source": [
        "input_data.sort_values(by=['time'], ascending=True, inplace=True)\n",
        "input_data.reset_index(inplace=True)"
      ],
      "execution_count": null,
      "outputs": []
    },
    {
      "cell_type": "code",
      "metadata": {
        "id": "yw3EdBRHqPtT",
        "outputId": "c38afb3e-a0b9-4c59-c0cc-dc7f995a1ac8",
        "colab": {
          "base_uri": "https://localhost:8080/",
          "height": 191
        }
      },
      "source": [
        "input_data.head()"
      ],
      "execution_count": null,
      "outputs": [
        {
          "output_type": "execute_result",
          "data": {
            "text/html": [
              "<div>\n",
              "<style scoped>\n",
              "    .dataframe tbody tr th:only-of-type {\n",
              "        vertical-align: middle;\n",
              "    }\n",
              "\n",
              "    .dataframe tbody tr th {\n",
              "        vertical-align: top;\n",
              "    }\n",
              "\n",
              "    .dataframe thead th {\n",
              "        text-align: right;\n",
              "    }\n",
              "</style>\n",
              "<table border=\"1\" class=\"dataframe\">\n",
              "  <thead>\n",
              "    <tr style=\"text-align: right;\">\n",
              "      <th></th>\n",
              "      <th>unique_id</th>\n",
              "      <th>id</th>\n",
              "      <th>customer_id</th>\n",
              "      <th>load_amount</th>\n",
              "      <th>time</th>\n",
              "    </tr>\n",
              "  </thead>\n",
              "  <tbody>\n",
              "    <tr>\n",
              "      <th>0</th>\n",
              "      <td>15887_528</td>\n",
              "      <td>15887</td>\n",
              "      <td>528</td>\n",
              "      <td>$3318.47</td>\n",
              "      <td>2000-01-01T00:00:00Z</td>\n",
              "    </tr>\n",
              "    <tr>\n",
              "      <th>1</th>\n",
              "      <td>30081_154</td>\n",
              "      <td>30081</td>\n",
              "      <td>154</td>\n",
              "      <td>$1413.18</td>\n",
              "      <td>2000-01-01T01:01:22Z</td>\n",
              "    </tr>\n",
              "    <tr>\n",
              "      <th>2</th>\n",
              "      <td>26540_426</td>\n",
              "      <td>26540</td>\n",
              "      <td>426</td>\n",
              "      <td>$404.56</td>\n",
              "      <td>2000-01-01T02:02:44Z</td>\n",
              "    </tr>\n",
              "    <tr>\n",
              "      <th>3</th>\n",
              "      <td>10694_1</td>\n",
              "      <td>10694</td>\n",
              "      <td>1</td>\n",
              "      <td>$785.11</td>\n",
              "      <td>2000-01-01T03:04:06Z</td>\n",
              "    </tr>\n",
              "    <tr>\n",
              "      <th>4</th>\n",
              "      <td>15089_205</td>\n",
              "      <td>15089</td>\n",
              "      <td>205</td>\n",
              "      <td>$2247.28</td>\n",
              "      <td>2000-01-01T04:05:28Z</td>\n",
              "    </tr>\n",
              "  </tbody>\n",
              "</table>\n",
              "</div>"
            ],
            "text/plain": [
              "   unique_id     id  customer_id load_amount                  time\n",
              "0  15887_528  15887          528    $3318.47  2000-01-01T00:00:00Z\n",
              "1  30081_154  30081          154    $1413.18  2000-01-01T01:01:22Z\n",
              "2  26540_426  26540          426     $404.56  2000-01-01T02:02:44Z\n",
              "3    10694_1  10694            1     $785.11  2000-01-01T03:04:06Z\n",
              "4  15089_205  15089          205    $2247.28  2000-01-01T04:05:28Z"
            ]
          },
          "metadata": {
            "tags": []
          },
          "execution_count": 36
        }
      ]
    },
    {
      "cell_type": "code",
      "metadata": {
        "id": "p-obOaEZOzqp",
        "outputId": "5f928172-05cb-4c78-8648-b2effcf971c0",
        "colab": {
          "base_uri": "https://localhost:8080/",
          "height": 76
        }
      },
      "source": [
        "input_data[input_data['unique_id']=='6928_562']"
      ],
      "execution_count": null,
      "outputs": [
        {
          "output_type": "execute_result",
          "data": {
            "text/html": [
              "<div>\n",
              "<style scoped>\n",
              "    .dataframe tbody tr th:only-of-type {\n",
              "        vertical-align: middle;\n",
              "    }\n",
              "\n",
              "    .dataframe tbody tr th {\n",
              "        vertical-align: top;\n",
              "    }\n",
              "\n",
              "    .dataframe thead th {\n",
              "        text-align: right;\n",
              "    }\n",
              "</style>\n",
              "<table border=\"1\" class=\"dataframe\">\n",
              "  <thead>\n",
              "    <tr style=\"text-align: right;\">\n",
              "      <th></th>\n",
              "      <th>unique_id</th>\n",
              "      <th>id</th>\n",
              "      <th>customer_id</th>\n",
              "      <th>load_amount</th>\n",
              "      <th>time</th>\n",
              "    </tr>\n",
              "  </thead>\n",
              "  <tbody>\n",
              "    <tr>\n",
              "      <th>108</th>\n",
              "      <td>6928_562</td>\n",
              "      <td>6928</td>\n",
              "      <td>562</td>\n",
              "      <td>$5255.16</td>\n",
              "      <td>2000-01-05T14:27:36Z</td>\n",
              "    </tr>\n",
              "  </tbody>\n",
              "</table>\n",
              "</div>"
            ],
            "text/plain": [
              "    unique_id    id  customer_id load_amount                  time\n",
              "108  6928_562  6928          562    $5255.16  2000-01-05T14:27:36Z"
            ]
          },
          "metadata": {
            "tags": []
          },
          "execution_count": 37
        }
      ]
    },
    {
      "cell_type": "markdown",
      "metadata": {
        "id": "4hA1WcPqjtKZ"
      },
      "source": [
        "* **How many users?**  50\n",
        "* **How many transactions per user per day? per week? per month?**\n",
        "* **What is the average transaction amount per user? per day? per week?**"
      ]
    },
    {
      "cell_type": "code",
      "metadata": {
        "id": "xCMyc2djY8Tg"
      },
      "source": [
        "# input_data['load_amount']= input_data.load_amount.replace('[\\$,]', '', regex=True).astype(float)\n"
      ],
      "execution_count": null,
      "outputs": []
    },
    {
      "cell_type": "code",
      "metadata": {
        "id": "kCGfTmq3kr7X"
      },
      "source": [
        "# input_data['load_amount'].mean()"
      ],
      "execution_count": null,
      "outputs": []
    },
    {
      "cell_type": "code",
      "metadata": {
        "id": "spNCdgnakzBX"
      },
      "source": [
        "# plt.hist(input_data.load_amount, bins = 50)"
      ],
      "execution_count": null,
      "outputs": []
    },
    {
      "cell_type": "code",
      "metadata": {
        "id": "hwc4lhGwkzD9"
      },
      "source": [
        "# plt.scatter(input_data[input_data['customer_id']==1].time, input_data[input_data['customer_id']==1].customer_id)"
      ],
      "execution_count": null,
      "outputs": []
    },
    {
      "cell_type": "code",
      "metadata": {
        "id": "Vu5HlBw0lexB"
      },
      "source": [
        "# input_data[input_data['customer_id']==1].count(), input_data[input_data['customer_id']==1].min(), input_data[input_data['customer_id']==1].max(), input_data[input_data['customer_id']==1].mean()"
      ],
      "execution_count": null,
      "outputs": []
    },
    {
      "cell_type": "code",
      "metadata": {
        "id": "13Hae7Eule4G",
        "outputId": "4b573c7e-358f-44db-d6ce-43906f4361c8",
        "colab": {
          "base_uri": "https://localhost:8080/",
          "height": 680
        }
      },
      "source": [
        "customer1_df = input_data[input_data['customer_id']==1]\n",
        "customer1_df"
      ],
      "execution_count": null,
      "outputs": [
        {
          "output_type": "execute_result",
          "data": {
            "text/html": [
              "<div>\n",
              "<style scoped>\n",
              "    .dataframe tbody tr th:only-of-type {\n",
              "        vertical-align: middle;\n",
              "    }\n",
              "\n",
              "    .dataframe tbody tr th {\n",
              "        vertical-align: top;\n",
              "    }\n",
              "\n",
              "    .dataframe thead th {\n",
              "        text-align: right;\n",
              "    }\n",
              "</style>\n",
              "<table border=\"1\" class=\"dataframe\">\n",
              "  <thead>\n",
              "    <tr style=\"text-align: right;\">\n",
              "      <th></th>\n",
              "      <th>unique_id</th>\n",
              "      <th>id</th>\n",
              "      <th>customer_id</th>\n",
              "      <th>load_amount</th>\n",
              "      <th>time</th>\n",
              "    </tr>\n",
              "  </thead>\n",
              "  <tbody>\n",
              "    <tr>\n",
              "      <th>3</th>\n",
              "      <td>10694_1</td>\n",
              "      <td>10694</td>\n",
              "      <td>1</td>\n",
              "      <td>$785.11</td>\n",
              "      <td>2000-01-01T03:04:06Z</td>\n",
              "    </tr>\n",
              "    <tr>\n",
              "      <th>18</th>\n",
              "      <td>18705_1</td>\n",
              "      <td>18705</td>\n",
              "      <td>1</td>\n",
              "      <td>$3628.88</td>\n",
              "      <td>2000-01-01T18:24:36Z</td>\n",
              "    </tr>\n",
              "    <tr>\n",
              "      <th>66</th>\n",
              "      <td>11456_1</td>\n",
              "      <td>11456</td>\n",
              "      <td>1</td>\n",
              "      <td>$2566.29</td>\n",
              "      <td>2000-01-03T19:30:12Z</td>\n",
              "    </tr>\n",
              "    <tr>\n",
              "      <th>165</th>\n",
              "      <td>11114_1</td>\n",
              "      <td>11114</td>\n",
              "      <td>1</td>\n",
              "      <td>$2887.30</td>\n",
              "      <td>2000-01-08T00:45:30Z</td>\n",
              "    </tr>\n",
              "    <tr>\n",
              "      <th>171</th>\n",
              "      <td>7485_1</td>\n",
              "      <td>7485</td>\n",
              "      <td>1</td>\n",
              "      <td>$1920.88</td>\n",
              "      <td>2000-01-08T06:53:42Z</td>\n",
              "    </tr>\n",
              "    <tr>\n",
              "      <th>223</th>\n",
              "      <td>16907_1</td>\n",
              "      <td>16907</td>\n",
              "      <td>1</td>\n",
              "      <td>$4972.22</td>\n",
              "      <td>2000-01-10T12:04:46Z</td>\n",
              "    </tr>\n",
              "    <tr>\n",
              "      <th>229</th>\n",
              "      <td>31045_1</td>\n",
              "      <td>31045</td>\n",
              "      <td>1</td>\n",
              "      <td>$5992.27</td>\n",
              "      <td>2000-01-10T18:12:58Z</td>\n",
              "    </tr>\n",
              "    <tr>\n",
              "      <th>276</th>\n",
              "      <td>7806_1</td>\n",
              "      <td>7806</td>\n",
              "      <td>1</td>\n",
              "      <td>$4421.55</td>\n",
              "      <td>2000-01-12T18:17:12Z</td>\n",
              "    </tr>\n",
              "    <tr>\n",
              "      <th>496</th>\n",
              "      <td>10262_1</td>\n",
              "      <td>10262</td>\n",
              "      <td>1</td>\n",
              "      <td>$962.12</td>\n",
              "      <td>2000-01-22T03:17:52Z</td>\n",
              "    </tr>\n",
              "    <tr>\n",
              "      <th>498</th>\n",
              "      <td>19749_1</td>\n",
              "      <td>19749</td>\n",
              "      <td>1</td>\n",
              "      <td>$4770.96</td>\n",
              "      <td>2000-01-22T05:20:36Z</td>\n",
              "    </tr>\n",
              "    <tr>\n",
              "      <th>550</th>\n",
              "      <td>3462_1</td>\n",
              "      <td>3462</td>\n",
              "      <td>1</td>\n",
              "      <td>$4682.96</td>\n",
              "      <td>2000-01-24T10:31:40Z</td>\n",
              "    </tr>\n",
              "    <tr>\n",
              "      <th>603</th>\n",
              "      <td>4057_1</td>\n",
              "      <td>4057</td>\n",
              "      <td>1</td>\n",
              "      <td>$2936.16</td>\n",
              "      <td>2000-01-26T16:44:06Z</td>\n",
              "    </tr>\n",
              "    <tr>\n",
              "      <th>634</th>\n",
              "      <td>16449_1</td>\n",
              "      <td>16449</td>\n",
              "      <td>1</td>\n",
              "      <td>$4832.29</td>\n",
              "      <td>2000-01-28T00:26:28Z</td>\n",
              "    </tr>\n",
              "    <tr>\n",
              "      <th>657</th>\n",
              "      <td>19518_1</td>\n",
              "      <td>19518</td>\n",
              "      <td>1</td>\n",
              "      <td>$1648.34</td>\n",
              "      <td>2000-01-28T23:57:54Z</td>\n",
              "    </tr>\n",
              "    <tr>\n",
              "      <th>684</th>\n",
              "      <td>2845_1</td>\n",
              "      <td>2845</td>\n",
              "      <td>1</td>\n",
              "      <td>$3883.89</td>\n",
              "      <td>2000-01-30T03:34:48Z</td>\n",
              "    </tr>\n",
              "    <tr>\n",
              "      <th>699</th>\n",
              "      <td>31223_1</td>\n",
              "      <td>31223</td>\n",
              "      <td>1</td>\n",
              "      <td>$5997.09</td>\n",
              "      <td>2000-01-30T19:56:40Z</td>\n",
              "    </tr>\n",
              "    <tr>\n",
              "      <th>742</th>\n",
              "      <td>28278_1</td>\n",
              "      <td>28278</td>\n",
              "      <td>1</td>\n",
              "      <td>$1741.75</td>\n",
              "      <td>2000-02-01T15:55:26Z</td>\n",
              "    </tr>\n",
              "    <tr>\n",
              "      <th>767</th>\n",
              "      <td>28618_1</td>\n",
              "      <td>28618</td>\n",
              "      <td>1</td>\n",
              "      <td>$113.32</td>\n",
              "      <td>2000-02-02T17:29:36Z</td>\n",
              "    </tr>\n",
              "    <tr>\n",
              "      <th>815</th>\n",
              "      <td>1637_1</td>\n",
              "      <td>1637</td>\n",
              "      <td>1</td>\n",
              "      <td>$518.28</td>\n",
              "      <td>2000-02-04T18:35:12Z</td>\n",
              "    </tr>\n",
              "    <tr>\n",
              "      <th>885</th>\n",
              "      <td>17351_1</td>\n",
              "      <td>17351</td>\n",
              "      <td>1</td>\n",
              "      <td>$1634.27</td>\n",
              "      <td>2000-02-07T18:10:52Z</td>\n",
              "    </tr>\n",
              "    <tr>\n",
              "      <th>960</th>\n",
              "      <td>24411_1</td>\n",
              "      <td>24411</td>\n",
              "      <td>1</td>\n",
              "      <td>$3116.50</td>\n",
              "      <td>2000-02-10T22:53:22Z</td>\n",
              "    </tr>\n",
              "    <tr>\n",
              "      <th>968</th>\n",
              "      <td>25125_1</td>\n",
              "      <td>25125</td>\n",
              "      <td>1</td>\n",
              "      <td>$2071.60</td>\n",
              "      <td>2000-02-11T07:04:18Z</td>\n",
              "    </tr>\n",
              "  </tbody>\n",
              "</table>\n",
              "</div>"
            ],
            "text/plain": [
              "    unique_id     id  customer_id load_amount                  time\n",
              "3     10694_1  10694            1     $785.11  2000-01-01T03:04:06Z\n",
              "18    18705_1  18705            1    $3628.88  2000-01-01T18:24:36Z\n",
              "66    11456_1  11456            1    $2566.29  2000-01-03T19:30:12Z\n",
              "165   11114_1  11114            1    $2887.30  2000-01-08T00:45:30Z\n",
              "171    7485_1   7485            1    $1920.88  2000-01-08T06:53:42Z\n",
              "223   16907_1  16907            1    $4972.22  2000-01-10T12:04:46Z\n",
              "229   31045_1  31045            1    $5992.27  2000-01-10T18:12:58Z\n",
              "276    7806_1   7806            1    $4421.55  2000-01-12T18:17:12Z\n",
              "496   10262_1  10262            1     $962.12  2000-01-22T03:17:52Z\n",
              "498   19749_1  19749            1    $4770.96  2000-01-22T05:20:36Z\n",
              "550    3462_1   3462            1    $4682.96  2000-01-24T10:31:40Z\n",
              "603    4057_1   4057            1    $2936.16  2000-01-26T16:44:06Z\n",
              "634   16449_1  16449            1    $4832.29  2000-01-28T00:26:28Z\n",
              "657   19518_1  19518            1    $1648.34  2000-01-28T23:57:54Z\n",
              "684    2845_1   2845            1    $3883.89  2000-01-30T03:34:48Z\n",
              "699   31223_1  31223            1    $5997.09  2000-01-30T19:56:40Z\n",
              "742   28278_1  28278            1    $1741.75  2000-02-01T15:55:26Z\n",
              "767   28618_1  28618            1     $113.32  2000-02-02T17:29:36Z\n",
              "815    1637_1   1637            1     $518.28  2000-02-04T18:35:12Z\n",
              "885   17351_1  17351            1    $1634.27  2000-02-07T18:10:52Z\n",
              "960   24411_1  24411            1    $3116.50  2000-02-10T22:53:22Z\n",
              "968   25125_1  25125            1    $2071.60  2000-02-11T07:04:18Z"
            ]
          },
          "metadata": {
            "tags": []
          },
          "execution_count": 43
        }
      ]
    },
    {
      "cell_type": "markdown",
      "metadata": {
        "id": "5RP7peaAmUrJ"
      },
      "source": [
        "### Initializing Account Controller"
      ]
    },
    {
      "cell_type": "code",
      "metadata": {
        "id": "cDlJE3ufle1d"
      },
      "source": [
        "from AccountsController import AccountsController"
      ],
      "execution_count": null,
      "outputs": []
    },
    {
      "cell_type": "code",
      "metadata": {
        "id": "soJmQ0B9ky6a",
        "outputId": "b1b36d1b-c647-4002-ea37-1cd6f840dc9f",
        "colab": {
          "base_uri": "https://localhost:8080/",
          "height": 33
        }
      },
      "source": [
        "acct_ctrl1 = AccountsController()\n",
        "acct_ctrl1.daily_deposit_limit, acct_ctrl1.weekly_deposit_limit, acct_ctrl1.daily_loads"
      ],
      "execution_count": null,
      "outputs": [
        {
          "output_type": "execute_result",
          "data": {
            "text/plain": [
              "(5000, 20000, 3)"
            ]
          },
          "metadata": {
            "tags": []
          },
          "execution_count": 45
        }
      ]
    },
    {
      "cell_type": "code",
      "metadata": {
        "id": "JdIbYSIpoK_7",
        "outputId": "9c6d6928-ba74-4f47-883b-4ef4ec9a8da0",
        "colab": {
          "base_uri": "https://localhost:8080/",
          "height": 212
        }
      },
      "source": [
        "customer1_df['id'] = customer1_df.id.astype(str)\n",
        "customer1_df['customer_id'] = customer1_df.customer_id.astype(str)"
      ],
      "execution_count": null,
      "outputs": [
        {
          "output_type": "stream",
          "text": [
            "/usr/local/lib/python3.6/dist-packages/ipykernel_launcher.py:1: SettingWithCopyWarning: \n",
            "A value is trying to be set on a copy of a slice from a DataFrame.\n",
            "Try using .loc[row_indexer,col_indexer] = value instead\n",
            "\n",
            "See the caveats in the documentation: https://pandas.pydata.org/pandas-docs/stable/user_guide/indexing.html#returning-a-view-versus-a-copy\n",
            "  \"\"\"Entry point for launching an IPython kernel.\n",
            "/usr/local/lib/python3.6/dist-packages/ipykernel_launcher.py:2: SettingWithCopyWarning: \n",
            "A value is trying to be set on a copy of a slice from a DataFrame.\n",
            "Try using .loc[row_indexer,col_indexer] = value instead\n",
            "\n",
            "See the caveats in the documentation: https://pandas.pydata.org/pandas-docs/stable/user_guide/indexing.html#returning-a-view-versus-a-copy\n",
            "  \n"
          ],
          "name": "stderr"
        }
      ]
    },
    {
      "cell_type": "code",
      "metadata": {
        "id": "UYxL5h5RomGc",
        "outputId": "3c6399f3-d765-4984-db24-55f3ca8da447",
        "colab": {
          "base_uri": "https://localhost:8080/",
          "height": 98
        }
      },
      "source": [
        "customer1_df.iloc[0].to_dict()"
      ],
      "execution_count": null,
      "outputs": [
        {
          "output_type": "execute_result",
          "data": {
            "text/plain": [
              "{'customer_id': '1',\n",
              " 'id': '10694',\n",
              " 'load_amount': '$785.11',\n",
              " 'time': '2000-01-01T03:04:06Z',\n",
              " 'unique_id': '10694_1'}"
            ]
          },
          "metadata": {
            "tags": []
          },
          "execution_count": 47
        }
      ]
    },
    {
      "cell_type": "code",
      "metadata": {
        "id": "znitZFSlnDD9",
        "outputId": "86d26613-8756-4721-e600-8d85c14f3844",
        "colab": {
          "base_uri": "https://localhost:8080/",
          "height": 33
        }
      },
      "source": [
        "acct_ctrl1.processUserLoad(customer1_df.iloc[0].to_dict())"
      ],
      "execution_count": null,
      "outputs": [
        {
          "output_type": "execute_result",
          "data": {
            "text/plain": [
              "{'accepted': True, 'customer_id': '1', 'id': '10694'}"
            ]
          },
          "metadata": {
            "tags": []
          },
          "execution_count": 48
        }
      ]
    },
    {
      "cell_type": "code",
      "metadata": {
        "id": "wFXohvEGq-G1",
        "outputId": "3586eaea-01ab-4ef6-948e-a516086547b8",
        "colab": {
          "base_uri": "https://localhost:8080/",
          "height": 33
        }
      },
      "source": [
        "acct_ctrl1.processUserLoad(customer1_df.iloc[1].to_dict())"
      ],
      "execution_count": null,
      "outputs": [
        {
          "output_type": "execute_result",
          "data": {
            "text/plain": [
              "{'accepted': True, 'customer_id': '1', 'id': '18705'}"
            ]
          },
          "metadata": {
            "tags": []
          },
          "execution_count": 49
        }
      ]
    },
    {
      "cell_type": "code",
      "metadata": {
        "id": "EcyNPMHarl2e",
        "outputId": "bdec84cc-80de-46d1-c39c-891e8b261392",
        "colab": {
          "base_uri": "https://localhost:8080/",
          "height": 33
        }
      },
      "source": [
        "acct_ctrl1.processUserLoad({'customer_id': '1',\n",
        "'id': '10694',\n",
        "'load_amount': '$7785.11',\n",
        "'time': '2000-01-01T03:04:06Z',\n",
        "'unique_id': '10694_1'})"
      ],
      "execution_count": null,
      "outputs": [
        {
          "output_type": "execute_result",
          "data": {
            "text/plain": [
              "{'accepted': False, 'customer_id': '1', 'id': '10694'}"
            ]
          },
          "metadata": {
            "tags": []
          },
          "execution_count": 50
        }
      ]
    },
    {
      "cell_type": "markdown",
      "metadata": {
        "id": "nvs3MbFmDqLF"
      },
      "source": [
        "### Exhaustive Rules\n"
      ]
    },
    {
      "cell_type": "code",
      "metadata": {
        "id": "eSkaayHlfqfO",
        "outputId": "49b2ba8a-c3b5-4009-980b-862cc3aaba23",
        "colab": {
          "base_uri": "https://localhost:8080/",
          "height": 967
        }
      },
      "source": [
        "rules_df = pd.read_csv(\"Book1.csv\")\n",
        "rules_df"
      ],
      "execution_count": null,
      "outputs": [
        {
          "output_type": "execute_result",
          "data": {
            "text/html": [
              "<div>\n",
              "<style scoped>\n",
              "    .dataframe tbody tr th:only-of-type {\n",
              "        vertical-align: middle;\n",
              "    }\n",
              "\n",
              "    .dataframe tbody tr th {\n",
              "        vertical-align: top;\n",
              "    }\n",
              "\n",
              "    .dataframe thead th {\n",
              "        text-align: right;\n",
              "    }\n",
              "</style>\n",
              "<table border=\"1\" class=\"dataframe\">\n",
              "  <thead>\n",
              "    <tr style=\"text-align: right;\">\n",
              "      <th></th>\n",
              "      <th>Rule Number</th>\n",
              "      <th>time stamp is unique</th>\n",
              "      <th>Load ID is unique</th>\n",
              "      <th>daily_deps_left &gt; load.amt</th>\n",
              "      <th>daily_loads_left &gt;= 0</th>\n",
              "      <th>weekly_deps_left &gt; load.amt</th>\n",
              "      <th>System Response</th>\n",
              "    </tr>\n",
              "  </thead>\n",
              "  <tbody>\n",
              "    <tr>\n",
              "      <th>0</th>\n",
              "      <td>1</td>\n",
              "      <td>0</td>\n",
              "      <td>0</td>\n",
              "      <td>0</td>\n",
              "      <td>0</td>\n",
              "      <td>0</td>\n",
              "      <td>Decline - Time stamp not unique 1</td>\n",
              "    </tr>\n",
              "    <tr>\n",
              "      <th>1</th>\n",
              "      <td>2</td>\n",
              "      <td>0</td>\n",
              "      <td>0</td>\n",
              "      <td>0</td>\n",
              "      <td>0</td>\n",
              "      <td>1</td>\n",
              "      <td>Decline - Time stamp not unique 2</td>\n",
              "    </tr>\n",
              "    <tr>\n",
              "      <th>2</th>\n",
              "      <td>3</td>\n",
              "      <td>0</td>\n",
              "      <td>0</td>\n",
              "      <td>0</td>\n",
              "      <td>1</td>\n",
              "      <td>0</td>\n",
              "      <td>Decline - Time stamp not unique 3</td>\n",
              "    </tr>\n",
              "    <tr>\n",
              "      <th>3</th>\n",
              "      <td>4</td>\n",
              "      <td>0</td>\n",
              "      <td>0</td>\n",
              "      <td>0</td>\n",
              "      <td>1</td>\n",
              "      <td>1</td>\n",
              "      <td>Decline - Time stamp not unique 4</td>\n",
              "    </tr>\n",
              "    <tr>\n",
              "      <th>4</th>\n",
              "      <td>5</td>\n",
              "      <td>0</td>\n",
              "      <td>0</td>\n",
              "      <td>1</td>\n",
              "      <td>0</td>\n",
              "      <td>0</td>\n",
              "      <td>Decline - Time stamp not unique 5</td>\n",
              "    </tr>\n",
              "    <tr>\n",
              "      <th>5</th>\n",
              "      <td>6</td>\n",
              "      <td>0</td>\n",
              "      <td>0</td>\n",
              "      <td>1</td>\n",
              "      <td>0</td>\n",
              "      <td>1</td>\n",
              "      <td>Decline - Time stamp not unique 6</td>\n",
              "    </tr>\n",
              "    <tr>\n",
              "      <th>6</th>\n",
              "      <td>7</td>\n",
              "      <td>0</td>\n",
              "      <td>0</td>\n",
              "      <td>1</td>\n",
              "      <td>1</td>\n",
              "      <td>0</td>\n",
              "      <td>Decline - Time stamp not unique 7</td>\n",
              "    </tr>\n",
              "    <tr>\n",
              "      <th>7</th>\n",
              "      <td>8</td>\n",
              "      <td>0</td>\n",
              "      <td>0</td>\n",
              "      <td>1</td>\n",
              "      <td>1</td>\n",
              "      <td>1</td>\n",
              "      <td>Decline - Time stamp not unique 8</td>\n",
              "    </tr>\n",
              "    <tr>\n",
              "      <th>8</th>\n",
              "      <td>9</td>\n",
              "      <td>0</td>\n",
              "      <td>1</td>\n",
              "      <td>0</td>\n",
              "      <td>0</td>\n",
              "      <td>0</td>\n",
              "      <td>Decline - Time stamp not unique 9</td>\n",
              "    </tr>\n",
              "    <tr>\n",
              "      <th>9</th>\n",
              "      <td>10</td>\n",
              "      <td>0</td>\n",
              "      <td>1</td>\n",
              "      <td>0</td>\n",
              "      <td>0</td>\n",
              "      <td>1</td>\n",
              "      <td>Decline - Time stamp not unique 10</td>\n",
              "    </tr>\n",
              "    <tr>\n",
              "      <th>10</th>\n",
              "      <td>11</td>\n",
              "      <td>0</td>\n",
              "      <td>1</td>\n",
              "      <td>0</td>\n",
              "      <td>1</td>\n",
              "      <td>0</td>\n",
              "      <td>Decline - Time stamp not unique 11</td>\n",
              "    </tr>\n",
              "    <tr>\n",
              "      <th>11</th>\n",
              "      <td>12</td>\n",
              "      <td>0</td>\n",
              "      <td>1</td>\n",
              "      <td>0</td>\n",
              "      <td>1</td>\n",
              "      <td>1</td>\n",
              "      <td>Decline - Time stamp not unique 12</td>\n",
              "    </tr>\n",
              "    <tr>\n",
              "      <th>12</th>\n",
              "      <td>13</td>\n",
              "      <td>0</td>\n",
              "      <td>1</td>\n",
              "      <td>1</td>\n",
              "      <td>0</td>\n",
              "      <td>0</td>\n",
              "      <td>Decline - Time stamp not unique 13</td>\n",
              "    </tr>\n",
              "    <tr>\n",
              "      <th>13</th>\n",
              "      <td>14</td>\n",
              "      <td>0</td>\n",
              "      <td>1</td>\n",
              "      <td>1</td>\n",
              "      <td>0</td>\n",
              "      <td>1</td>\n",
              "      <td>Decline - Time stamp not unique 14</td>\n",
              "    </tr>\n",
              "    <tr>\n",
              "      <th>14</th>\n",
              "      <td>15</td>\n",
              "      <td>0</td>\n",
              "      <td>1</td>\n",
              "      <td>1</td>\n",
              "      <td>1</td>\n",
              "      <td>0</td>\n",
              "      <td>Decline - Time stamp not unique 15</td>\n",
              "    </tr>\n",
              "    <tr>\n",
              "      <th>15</th>\n",
              "      <td>16</td>\n",
              "      <td>0</td>\n",
              "      <td>1</td>\n",
              "      <td>1</td>\n",
              "      <td>1</td>\n",
              "      <td>1</td>\n",
              "      <td>Decline - Time stamp not unique 16</td>\n",
              "    </tr>\n",
              "    <tr>\n",
              "      <th>16</th>\n",
              "      <td>17</td>\n",
              "      <td>1</td>\n",
              "      <td>0</td>\n",
              "      <td>0</td>\n",
              "      <td>0</td>\n",
              "      <td>0</td>\n",
              "      <td>Decline - Load ID not unique 1</td>\n",
              "    </tr>\n",
              "    <tr>\n",
              "      <th>17</th>\n",
              "      <td>18</td>\n",
              "      <td>1</td>\n",
              "      <td>0</td>\n",
              "      <td>0</td>\n",
              "      <td>0</td>\n",
              "      <td>1</td>\n",
              "      <td>Decline - Load ID not unique 2</td>\n",
              "    </tr>\n",
              "    <tr>\n",
              "      <th>18</th>\n",
              "      <td>19</td>\n",
              "      <td>1</td>\n",
              "      <td>0</td>\n",
              "      <td>0</td>\n",
              "      <td>1</td>\n",
              "      <td>0</td>\n",
              "      <td>Decline - Load ID not unique 3</td>\n",
              "    </tr>\n",
              "    <tr>\n",
              "      <th>19</th>\n",
              "      <td>20</td>\n",
              "      <td>1</td>\n",
              "      <td>0</td>\n",
              "      <td>0</td>\n",
              "      <td>1</td>\n",
              "      <td>1</td>\n",
              "      <td>Decline - Load ID not unique 4</td>\n",
              "    </tr>\n",
              "    <tr>\n",
              "      <th>20</th>\n",
              "      <td>21</td>\n",
              "      <td>1</td>\n",
              "      <td>0</td>\n",
              "      <td>1</td>\n",
              "      <td>0</td>\n",
              "      <td>0</td>\n",
              "      <td>Decline - Load ID not unique 5</td>\n",
              "    </tr>\n",
              "    <tr>\n",
              "      <th>21</th>\n",
              "      <td>22</td>\n",
              "      <td>1</td>\n",
              "      <td>0</td>\n",
              "      <td>1</td>\n",
              "      <td>0</td>\n",
              "      <td>1</td>\n",
              "      <td>Decline - Load ID not unique 6</td>\n",
              "    </tr>\n",
              "    <tr>\n",
              "      <th>22</th>\n",
              "      <td>23</td>\n",
              "      <td>1</td>\n",
              "      <td>0</td>\n",
              "      <td>1</td>\n",
              "      <td>1</td>\n",
              "      <td>0</td>\n",
              "      <td>Decline - Load ID not unique 7</td>\n",
              "    </tr>\n",
              "    <tr>\n",
              "      <th>23</th>\n",
              "      <td>24</td>\n",
              "      <td>1</td>\n",
              "      <td>0</td>\n",
              "      <td>1</td>\n",
              "      <td>1</td>\n",
              "      <td>1</td>\n",
              "      <td>Decline - Load ID not unique 8</td>\n",
              "    </tr>\n",
              "    <tr>\n",
              "      <th>24</th>\n",
              "      <td>25</td>\n",
              "      <td>1</td>\n",
              "      <td>1</td>\n",
              "      <td>0</td>\n",
              "      <td>0</td>\n",
              "      <td>0</td>\n",
              "      <td>Decline - Daily Deps left limit exceeded 1</td>\n",
              "    </tr>\n",
              "    <tr>\n",
              "      <th>25</th>\n",
              "      <td>26</td>\n",
              "      <td>1</td>\n",
              "      <td>1</td>\n",
              "      <td>0</td>\n",
              "      <td>0</td>\n",
              "      <td>1</td>\n",
              "      <td>Decline - Daily Deps left limit exceeded 2</td>\n",
              "    </tr>\n",
              "    <tr>\n",
              "      <th>26</th>\n",
              "      <td>27</td>\n",
              "      <td>1</td>\n",
              "      <td>1</td>\n",
              "      <td>0</td>\n",
              "      <td>1</td>\n",
              "      <td>0</td>\n",
              "      <td>Decline - Daily Deps left limit exceeded 3</td>\n",
              "    </tr>\n",
              "    <tr>\n",
              "      <th>27</th>\n",
              "      <td>28</td>\n",
              "      <td>1</td>\n",
              "      <td>1</td>\n",
              "      <td>0</td>\n",
              "      <td>1</td>\n",
              "      <td>1</td>\n",
              "      <td>Decline - Daily Deps left limit exceeded 4</td>\n",
              "    </tr>\n",
              "    <tr>\n",
              "      <th>28</th>\n",
              "      <td>29</td>\n",
              "      <td>1</td>\n",
              "      <td>1</td>\n",
              "      <td>1</td>\n",
              "      <td>0</td>\n",
              "      <td>0</td>\n",
              "      <td>Decline - Daily loads left limit exceeded 1</td>\n",
              "    </tr>\n",
              "    <tr>\n",
              "      <th>29</th>\n",
              "      <td>30</td>\n",
              "      <td>1</td>\n",
              "      <td>1</td>\n",
              "      <td>1</td>\n",
              "      <td>0</td>\n",
              "      <td>1</td>\n",
              "      <td>Decline - Daily loads left limit exceeded 2</td>\n",
              "    </tr>\n",
              "    <tr>\n",
              "      <th>30</th>\n",
              "      <td>31</td>\n",
              "      <td>1</td>\n",
              "      <td>1</td>\n",
              "      <td>1</td>\n",
              "      <td>1</td>\n",
              "      <td>0</td>\n",
              "      <td>Decline - Weekly deps left limit exceeded 1</td>\n",
              "    </tr>\n",
              "    <tr>\n",
              "      <th>31</th>\n",
              "      <td>32</td>\n",
              "      <td>1</td>\n",
              "      <td>1</td>\n",
              "      <td>1</td>\n",
              "      <td>1</td>\n",
              "      <td>1</td>\n",
              "      <td>Approve</td>\n",
              "    </tr>\n",
              "  </tbody>\n",
              "</table>\n",
              "</div>"
            ],
            "text/plain": [
              "    Rule Number  ...                             System Response \n",
              "0             1  ...            Decline - Time stamp not unique 1\n",
              "1             2  ...            Decline - Time stamp not unique 2\n",
              "2             3  ...            Decline - Time stamp not unique 3\n",
              "3             4  ...            Decline - Time stamp not unique 4\n",
              "4             5  ...            Decline - Time stamp not unique 5\n",
              "5             6  ...            Decline - Time stamp not unique 6\n",
              "6             7  ...            Decline - Time stamp not unique 7\n",
              "7             8  ...            Decline - Time stamp not unique 8\n",
              "8             9  ...            Decline - Time stamp not unique 9\n",
              "9            10  ...           Decline - Time stamp not unique 10\n",
              "10           11  ...           Decline - Time stamp not unique 11\n",
              "11           12  ...           Decline - Time stamp not unique 12\n",
              "12           13  ...           Decline - Time stamp not unique 13\n",
              "13           14  ...           Decline - Time stamp not unique 14\n",
              "14           15  ...           Decline - Time stamp not unique 15\n",
              "15           16  ...           Decline - Time stamp not unique 16\n",
              "16           17  ...               Decline - Load ID not unique 1\n",
              "17           18  ...               Decline - Load ID not unique 2\n",
              "18           19  ...               Decline - Load ID not unique 3\n",
              "19           20  ...               Decline - Load ID not unique 4\n",
              "20           21  ...               Decline - Load ID not unique 5\n",
              "21           22  ...               Decline - Load ID not unique 6\n",
              "22           23  ...               Decline - Load ID not unique 7\n",
              "23           24  ...               Decline - Load ID not unique 8\n",
              "24           25  ...  Decline - Daily Deps left limit exceeded 1 \n",
              "25           26  ...   Decline - Daily Deps left limit exceeded 2\n",
              "26           27  ...   Decline - Daily Deps left limit exceeded 3\n",
              "27           28  ...   Decline - Daily Deps left limit exceeded 4\n",
              "28           29  ...  Decline - Daily loads left limit exceeded 1\n",
              "29           30  ...  Decline - Daily loads left limit exceeded 2\n",
              "30           31  ...  Decline - Weekly deps left limit exceeded 1\n",
              "31           32  ...                                     Approve \n",
              "\n",
              "[32 rows x 7 columns]"
            ]
          },
          "metadata": {
            "tags": []
          },
          "execution_count": 428
        }
      ]
    },
    {
      "cell_type": "code",
      "metadata": {
        "id": "m2jMMjVorYHX"
      },
      "source": [
        "\n",
        "class Customer: \n",
        "  def __init__(self, customer_id, loads=None, daily_deposit_limit=5000, weekly_deposit_limit=20000, daily_loads_limit=3, initial_bal=0, \n",
        "               current_daily_deposits=0, current_weekly_deposits=0, current_daily_loads= 0 ):\n",
        "\n",
        "    self.customer_id = customer_id\n",
        "    self.loads = []\n",
        "    self.daily_deposit_limit =  daily_deposit_limit\n",
        "    self.weekly_deposit_limit =weekly_deposit_limit \n",
        "    self.daily_loads_limit = daily_loads_limit \n",
        "    self.balance = initial_bal\n",
        "\n",
        "    self.current_daily_deposits =current_daily_deposits\n",
        "    self.current_weekly_deposits = current_daily_deposits\n",
        "    self.current_daily_loads = current_daily_loads\n",
        "\n",
        "\n",
        "    self.daily_deposits_left = daily_deposit_limit\n",
        "    self.weekly_deposits_left = weekly_deposit_limit \n",
        "    self.daily_loads_left = daily_loads_limit\n",
        "\n",
        "    self.load_hist = pd.DataFrame({'customer_id':self.customer_id, \n",
        "                                   'load_id': [], \n",
        "                                   'load_amt': [], \n",
        "                                   'load_time': [], \n",
        "                                   'load_week_num':[],\n",
        "                                   'load_day_num':[],\n",
        "                                   'approved_status':[], \n",
        "                                   'ruleA':[],\n",
        "                                   'ruleB':[],\n",
        "                                   'rule1':[], \n",
        "                                   'rule2':[], \n",
        "                                   'rule3':[]})\n",
        "\n",
        "\n",
        "\n",
        "  def get_daily_deposits_left(self): \n",
        "    self.daily_deposits_left = self.daily_deposit_limit - self.current_daily_deposits\n",
        "    return self.daily_deposits_left\n",
        "\n",
        "  def get_weekly_deposits_left(self): \n",
        "    self.weekly_deposits_left = self.weekly_deposit_limit - self.current_weekly_deposits\n",
        "    return self.weekly_deposits_left\n",
        "\n",
        "  def get_daily_loads_left(self): \n",
        "    # pass\n",
        "    if hasattr(self, 'valid_loads') and len(self.valid_loads)>0:\n",
        "      self.daily_loads_left = self.valid_loads[self.valid_loads['load_day_num']==self.loads[-1].load_day_num]['num_daily_deps_left'].iloc[-1]\n",
        "    \n",
        "    else: \n",
        "      self.daily_loads_left = self.daily_loads_limit \n",
        "    return self.daily_loads_left\n",
        "\n",
        "  def update_load_history(self): \n",
        "    \n",
        "    self.load_hist = self.load_hist.append({'customer_id': self.customer_id, \\\n",
        "                                            'load_id': self.loads[-1].load_id, \\\n",
        "                                            'load_amt':self.loads[-1].load_amt, \\\n",
        "                                            'load_time': self.loads[-1].load_time, \\\n",
        "                                            'load_week_num':self.loads[-1].load_week_num,\\\n",
        "                                            'load_day_num':self.loads[-1].load_day_num,\\\n",
        "                                            'approved_status': self.ruleA&self.ruleB&self.rule1&self.rule2&self.rule3, \n",
        "                                            'ruleA': self.ruleA, \n",
        "                                            'ruleB': self.ruleB,\n",
        "                                            'rule1': self.rule1, \n",
        "                                            'rule2': self.rule2, \n",
        "                                            'rule3': self.rule3\n",
        "                                            }, ignore_index=True).copy(deep=True)\n",
        "\n",
        "    self.load_hist['load_week_num'] = self.load_hist['load_week_num'].astype(int)\n",
        "    self.load_hist['load_day_num'] = self.load_hist['load_day_num'].astype(int) \n",
        "\n",
        "    self.load_hist['approved_status'] = self.load_hist['approved_status'].astype(bool)  \n",
        "    self.load_hist['ruleA'] = self.load_hist['ruleA'].astype(bool) \n",
        "    self.load_hist['ruleB'] = self.load_hist['ruleB'].astype(bool) \n",
        "    self.load_hist['rule1'] = self.load_hist['rule1'].astype(bool) \n",
        "    self.load_hist['rule2'] = self.load_hist['rule2'].astype(bool) \n",
        "    self.load_hist['rule3'] = self.load_hist['rule3'].astype(bool) \n",
        "\n",
        "\n",
        "    \n",
        "\n",
        "  def process_valid_loads(self):\n",
        "    # keeping only the valid loads (no dupes allowed)\n",
        "    self.valid_loads = self.load_hist[self.load_hist['approved_status']==True].copy(deep=True)\n",
        "\n",
        "    df1 = self.valid_loads.set_index('load_time').sort_index().copy(deep=True)\n",
        "\n",
        "    df2 = pd.DataFrame(df1.groupby('load_week_num')['load_amt'].transform(pd.Series.cumsum)).copy(deep=True)\n",
        "    df3 = pd.DataFrame(df1.groupby('load_day_num')['load_amt'].transform(pd.Series.cumsum)).copy(deep=True)\n",
        "    df4 = pd.DataFrame(df1.groupby(['load_day_num']).cumcount()+1).copy(deep=True)\n",
        "    df4.columns=['num_daily_deps']\n",
        "\n",
        "\n",
        "    self.valid_loads['cum_weekly_deps'] = list(pd.merge(self.valid_loads, df2, how='left', left_on =['load_time'], right_on=['load_time'])['load_amt_y'])\n",
        "    self.valid_loads['cum_daily_deps'] = list(pd.merge(self.valid_loads, df3, how='left', left_on =['load_time'], right_on=['load_time'])['load_amt_y'])\n",
        "    self.valid_loads['num_daily_deps'] = list(pd.merge(self.valid_loads, df4, how='left', left_on =['load_time'], right_on=['load_time'])['num_daily_deps'])\n",
        "\n",
        "\n",
        "    self.valid_loads['weekly_deps_left'] = self.weekly_deposit_limit - self.valid_loads['cum_weekly_deps']\n",
        "    self.valid_loads['daily_deps_left'] = self.daily_deposit_limit - self.valid_loads['cum_daily_deps']\n",
        "    self.valid_loads['num_daily_deps_left'] = self.daily_loads_limit - self.valid_loads['num_daily_deps']\n",
        "\n",
        "\n",
        "\n",
        "\n",
        "  def process_load(self, load):\n",
        "    self.balance += float(load.load_amt)\n",
        "    self.loads.append(load)\n",
        "\n",
        "    \n",
        "\n",
        "    #3 rules: \n",
        "    # 1) A maximum of  $5,000  can be loaded per day\n",
        "    # 2) A maximum of  $20,000  can be loaded per week\n",
        "    # 3) A maximum of 3 loads can be performed per day, regardless of amount\n",
        "\n",
        "\n",
        "    self.ruleA = load.load_id not in list(self.load_hist.load_id)\n",
        "    self.ruleB = load.load_time not in list(self.load_hist.load_time) \n",
        "    self.rule1 = self.daily_deposits_left > float(load.load_amt)\n",
        "    self.rule2 = self.daily_loads_left >= 1 \n",
        "    self.rule3 = self.weekly_deposits_left > float(load.load_amt) \n",
        "\n",
        "    self.rule_status = str(self.ruleA) + \" \" + str(self.ruleB) + \" \" + str(self.rule1) +  \" \" + str(self.rule2) + \" \" + str(self.rule3)\n",
        "\n",
        "    if not self.ruleA:\n",
        "      print(\"ERROR: Load ID already exists\")\n",
        "\n",
        "    if not self.ruleB: \n",
        "      print(\"ERROR: Time stamp already exists for same customer\")\n",
        "\n",
        "    if not self.rule1: \n",
        "      print(\"ERROR: No room for daily deposits left\")\n",
        "\n",
        "    if not self.rule2: \n",
        "      print(\"ERROR: Number of allowed daily deposits exceeded\")\n",
        "\n",
        "    if not self.rule3: \n",
        "      print(\"ERROR: No room for weekly deposits left\")\n",
        "\n",
        "\n",
        "    self.update_load_history()\n",
        "    self.process_valid_loads()\n",
        "\n",
        "\n",
        "    if self.ruleA & self.ruleB & self.rule1 & self.rule2 & self.rule3 : \n",
        "      self.current_daily_deposits+=float(load.load_amt)\n",
        "      self.current_weekly_deposits+=float(load.load_amt)\n",
        "      self.current_daily_loads+=1\n",
        "\n",
        "      self.get_daily_deposits_left()\n",
        "      self.get_weekly_deposits_left()\n",
        "      self.get_daily_loads_left()\n",
        "\n",
        "      self.loads[-1].approved_status = True \n",
        "      print(\"All Rules Passed ... Load Added\")\n",
        "\n",
        "    else: \n",
        "      print(\"Load Rejected\")\n",
        "\n",
        "    return None\n",
        "\n",
        "  def print_status(self): \n",
        "    print(\"Customer_id:{}\".format(self.customer_id))\n",
        "    print(\"Current Deposit Balance:{}\".format(self.balance))\n",
        "    print(\"Current Daily Deposits:{}\".format(self.current_daily_deposits))\n",
        "    print(\"Current Weekly Deposits:{}\".format(self.current_weekly_deposits))\n",
        "    print(\"Current Daily Loads:{}\".format(self.current_daily_loads))\n",
        "\n",
        "    print(\"Daily Deposits Left:{}\".format(self.daily_deposits_left))\n",
        "    print(\"Weekly Deposits Left:{}\".format(self.weekly_deposits_left))\n",
        "    print(\"Daily Loads Left:{}\".format(self.daily_loads_left))\n",
        "\n"
      ],
      "execution_count": null,
      "outputs": []
    },
    {
      "cell_type": "code",
      "metadata": {
        "id": "MJ_PsBWXu89E"
      },
      "source": [
        "\n",
        "# import datetime as datetime \n",
        "class Load: \n",
        "  def __init__(self, load_id, load_amt, load_time):\n",
        "    self.load_id = load_id\n",
        "    self.load_amt = float(load_amt[1:])\n",
        "    self.load_time = load_time \n",
        "    self.approved_status = False\n",
        "\n",
        "    self.datetime_object = datetime.strptime(self.load_time, \"%Y-%m-%dT%H:%M:%SZ\")\n",
        "    self.load_week_num = self.datetime_object.year + self.datetime_object.isocalendar()[1]\n",
        "\n",
        "    import datetime as dt\n",
        "\n",
        "    self.load_day_num = self.datetime_object.year + (dt.date(self.datetime_object.year, self.datetime_object.month, self.datetime_object.day) - dt.date(self.datetime_object.year,1,1)).days + 1\n",
        "\n",
        "    # self.day_num = (datetime.date(self.datetime_object.year, self.datetime_object.month, self.datetime_object.day) - datetime.date(year,1,1)).days + 1\n",
        "\n",
        "\n",
        "\n",
        "    "
      ],
      "execution_count": null,
      "outputs": []
    },
    {
      "cell_type": "markdown",
      "metadata": {
        "id": "m_GSYIuEfTmJ"
      },
      "source": [
        "Test 28: "
      ]
    },
    {
      "cell_type": "code",
      "metadata": {
        "id": "JqDHOXJffSwL",
        "outputId": "4cdfe803-a65c-4510-8e06-e0e7559614dd",
        "colab": {
          "base_uri": "https://localhost:8080/",
          "height": 76
        }
      },
      "source": [
        "rules_df.iloc[[27]]"
      ],
      "execution_count": null,
      "outputs": [
        {
          "output_type": "execute_result",
          "data": {
            "text/html": [
              "<div>\n",
              "<style scoped>\n",
              "    .dataframe tbody tr th:only-of-type {\n",
              "        vertical-align: middle;\n",
              "    }\n",
              "\n",
              "    .dataframe tbody tr th {\n",
              "        vertical-align: top;\n",
              "    }\n",
              "\n",
              "    .dataframe thead th {\n",
              "        text-align: right;\n",
              "    }\n",
              "</style>\n",
              "<table border=\"1\" class=\"dataframe\">\n",
              "  <thead>\n",
              "    <tr style=\"text-align: right;\">\n",
              "      <th></th>\n",
              "      <th>Rule Number</th>\n",
              "      <th>time stamp is unique</th>\n",
              "      <th>Load ID is unique</th>\n",
              "      <th>daily_deps_left &gt; load.amt</th>\n",
              "      <th>daily_loads_left &gt;= 0</th>\n",
              "      <th>weekly_deps_left &gt; load.amt</th>\n",
              "      <th>System Response</th>\n",
              "    </tr>\n",
              "  </thead>\n",
              "  <tbody>\n",
              "    <tr>\n",
              "      <th>27</th>\n",
              "      <td>28</td>\n",
              "      <td>1</td>\n",
              "      <td>1</td>\n",
              "      <td>0</td>\n",
              "      <td>1</td>\n",
              "      <td>1</td>\n",
              "      <td>Decline - Daily Deps left limit exceeded 4</td>\n",
              "    </tr>\n",
              "  </tbody>\n",
              "</table>\n",
              "</div>"
            ],
            "text/plain": [
              "    Rule Number  ...                            System Response \n",
              "27           28  ...  Decline - Daily Deps left limit exceeded 4\n",
              "\n",
              "[1 rows x 7 columns]"
            ]
          },
          "metadata": {
            "tags": []
          },
          "execution_count": 496
        }
      ]
    },
    {
      "cell_type": "code",
      "metadata": {
        "id": "eVCqipy8gW1v",
        "outputId": "f832dab5-5ac7-4814-defd-cb5aff5d865c",
        "colab": {
          "base_uri": "https://localhost:8080/",
          "height": 50
        }
      },
      "source": [
        "cust1 = Customer(1)\n",
        "cust1.process_load(Load('10694', '$7785.11', '2000-01-01T03:04:06Z'))"
      ],
      "execution_count": null,
      "outputs": [
        {
          "output_type": "stream",
          "text": [
            "ERROR: No room for daily deposits left\n",
            "Load Rejected\n"
          ],
          "name": "stdout"
        }
      ]
    },
    {
      "cell_type": "code",
      "metadata": {
        "id": "CuVXJ9-MhIHV",
        "outputId": "04fd2f06-09d3-463e-9e72-95ecbaf77a58",
        "colab": {
          "base_uri": "https://localhost:8080/",
          "height": 76
        }
      },
      "source": [
        "cust1.load_hist"
      ],
      "execution_count": null,
      "outputs": [
        {
          "output_type": "execute_result",
          "data": {
            "text/html": [
              "<div>\n",
              "<style scoped>\n",
              "    .dataframe tbody tr th:only-of-type {\n",
              "        vertical-align: middle;\n",
              "    }\n",
              "\n",
              "    .dataframe tbody tr th {\n",
              "        vertical-align: top;\n",
              "    }\n",
              "\n",
              "    .dataframe thead th {\n",
              "        text-align: right;\n",
              "    }\n",
              "</style>\n",
              "<table border=\"1\" class=\"dataframe\">\n",
              "  <thead>\n",
              "    <tr style=\"text-align: right;\">\n",
              "      <th></th>\n",
              "      <th>customer_id</th>\n",
              "      <th>load_id</th>\n",
              "      <th>load_amt</th>\n",
              "      <th>load_time</th>\n",
              "      <th>load_week_num</th>\n",
              "      <th>load_day_num</th>\n",
              "      <th>approved_status</th>\n",
              "      <th>ruleA</th>\n",
              "      <th>ruleB</th>\n",
              "      <th>rule1</th>\n",
              "      <th>rule2</th>\n",
              "      <th>rule3</th>\n",
              "    </tr>\n",
              "  </thead>\n",
              "  <tbody>\n",
              "    <tr>\n",
              "      <th>0</th>\n",
              "      <td>1</td>\n",
              "      <td>10694</td>\n",
              "      <td>7785.11</td>\n",
              "      <td>2000-01-01T03:04:06Z</td>\n",
              "      <td>2052</td>\n",
              "      <td>2001</td>\n",
              "      <td>False</td>\n",
              "      <td>True</td>\n",
              "      <td>True</td>\n",
              "      <td>False</td>\n",
              "      <td>True</td>\n",
              "      <td>True</td>\n",
              "    </tr>\n",
              "  </tbody>\n",
              "</table>\n",
              "</div>"
            ],
            "text/plain": [
              "   customer_id load_id  load_amt  ...  rule1  rule2  rule3\n",
              "0            1   10694   7785.11  ...  False   True   True\n",
              "\n",
              "[1 rows x 12 columns]"
            ]
          },
          "metadata": {
            "tags": []
          },
          "execution_count": 498
        }
      ]
    },
    {
      "cell_type": "code",
      "metadata": {
        "id": "oZLzLZjig_lH",
        "outputId": "b981f088-5204-4a7b-e88b-6b60ae2322b2",
        "colab": {
          "base_uri": "https://localhost:8080/",
          "height": 67
        }
      },
      "source": [
        "cust1.valid_loads"
      ],
      "execution_count": null,
      "outputs": [
        {
          "output_type": "execute_result",
          "data": {
            "text/html": [
              "<div>\n",
              "<style scoped>\n",
              "    .dataframe tbody tr th:only-of-type {\n",
              "        vertical-align: middle;\n",
              "    }\n",
              "\n",
              "    .dataframe tbody tr th {\n",
              "        vertical-align: top;\n",
              "    }\n",
              "\n",
              "    .dataframe thead th {\n",
              "        text-align: right;\n",
              "    }\n",
              "</style>\n",
              "<table border=\"1\" class=\"dataframe\">\n",
              "  <thead>\n",
              "    <tr style=\"text-align: right;\">\n",
              "      <th></th>\n",
              "      <th>customer_id</th>\n",
              "      <th>load_id</th>\n",
              "      <th>load_amt</th>\n",
              "      <th>load_time</th>\n",
              "      <th>load_week_num</th>\n",
              "      <th>load_day_num</th>\n",
              "      <th>approved_status</th>\n",
              "      <th>ruleA</th>\n",
              "      <th>ruleB</th>\n",
              "      <th>rule1</th>\n",
              "      <th>rule2</th>\n",
              "      <th>rule3</th>\n",
              "      <th>cum_weekly_deps</th>\n",
              "      <th>cum_daily_deps</th>\n",
              "      <th>num_daily_deps</th>\n",
              "      <th>weekly_deps_left</th>\n",
              "      <th>daily_deps_left</th>\n",
              "      <th>num_daily_deps_left</th>\n",
              "    </tr>\n",
              "  </thead>\n",
              "  <tbody>\n",
              "  </tbody>\n",
              "</table>\n",
              "</div>"
            ],
            "text/plain": [
              "Empty DataFrame\n",
              "Columns: [customer_id, load_id, load_amt, load_time, load_week_num, load_day_num, approved_status, ruleA, ruleB, rule1, rule2, rule3, cum_weekly_deps, cum_daily_deps, num_daily_deps, weekly_deps_left, daily_deps_left, num_daily_deps_left]\n",
              "Index: []"
            ]
          },
          "metadata": {
            "tags": []
          },
          "execution_count": 499
        }
      ]
    },
    {
      "cell_type": "code",
      "metadata": {
        "id": "yxbxfm2ehK0f",
        "outputId": "baa280eb-2fa8-45b5-ece7-088f0e056a43",
        "colab": {
          "base_uri": "https://localhost:8080/",
          "height": 35
        }
      },
      "source": [
        "cust1.rule_status"
      ],
      "execution_count": null,
      "outputs": [
        {
          "output_type": "execute_result",
          "data": {
            "application/vnd.google.colaboratory.intrinsic+json": {
              "type": "string"
            },
            "text/plain": [
              "'True True False True True'"
            ]
          },
          "metadata": {
            "tags": []
          },
          "execution_count": 500
        }
      ]
    },
    {
      "cell_type": "markdown",
      "metadata": {
        "id": "mf11s0e7h2Mc"
      },
      "source": [
        "Test 32: "
      ]
    },
    {
      "cell_type": "code",
      "metadata": {
        "id": "vqmi_jm3iQO_",
        "outputId": "ce7b76ab-fb6c-4e22-ae31-82d4a6aff369",
        "colab": {
          "base_uri": "https://localhost:8080/",
          "height": 76
        }
      },
      "source": [
        "rules_df.iloc[[31]]"
      ],
      "execution_count": null,
      "outputs": [
        {
          "output_type": "execute_result",
          "data": {
            "text/html": [
              "<div>\n",
              "<style scoped>\n",
              "    .dataframe tbody tr th:only-of-type {\n",
              "        vertical-align: middle;\n",
              "    }\n",
              "\n",
              "    .dataframe tbody tr th {\n",
              "        vertical-align: top;\n",
              "    }\n",
              "\n",
              "    .dataframe thead th {\n",
              "        text-align: right;\n",
              "    }\n",
              "</style>\n",
              "<table border=\"1\" class=\"dataframe\">\n",
              "  <thead>\n",
              "    <tr style=\"text-align: right;\">\n",
              "      <th></th>\n",
              "      <th>Rule Number</th>\n",
              "      <th>time stamp is unique</th>\n",
              "      <th>Load ID is unique</th>\n",
              "      <th>daily_deps_left &gt; load.amt</th>\n",
              "      <th>daily_loads_left &gt;= 0</th>\n",
              "      <th>weekly_deps_left &gt; load.amt</th>\n",
              "      <th>System Response</th>\n",
              "    </tr>\n",
              "  </thead>\n",
              "  <tbody>\n",
              "    <tr>\n",
              "      <th>31</th>\n",
              "      <td>32</td>\n",
              "      <td>1</td>\n",
              "      <td>1</td>\n",
              "      <td>1</td>\n",
              "      <td>1</td>\n",
              "      <td>1</td>\n",
              "      <td>Approve</td>\n",
              "    </tr>\n",
              "  </tbody>\n",
              "</table>\n",
              "</div>"
            ],
            "text/plain": [
              "    Rule Number  ...  System Response \n",
              "31           32  ...          Approve \n",
              "\n",
              "[1 rows x 7 columns]"
            ]
          },
          "metadata": {
            "tags": []
          },
          "execution_count": 501
        }
      ]
    },
    {
      "cell_type": "code",
      "metadata": {
        "id": "-MGCVNzOh5NA",
        "outputId": "c0393e82-b285-4d25-d2dd-37cf436e3d4b",
        "colab": {
          "base_uri": "https://localhost:8080/",
          "height": 33
        }
      },
      "source": [
        "cust1 = Customer(1)\n",
        "cust1.process_load(Load('10694', '$3785.11', '2000-01-01T03:04:06Z'))"
      ],
      "execution_count": null,
      "outputs": [
        {
          "output_type": "stream",
          "text": [
            "All Rules Passed ... Load Added\n"
          ],
          "name": "stdout"
        }
      ]
    },
    {
      "cell_type": "code",
      "metadata": {
        "id": "RL8sZdDIh5SL",
        "outputId": "32191469-9a77-4119-b6af-7622d79e32c3",
        "colab": {
          "base_uri": "https://localhost:8080/",
          "height": 76
        }
      },
      "source": [
        "cust1.load_hist"
      ],
      "execution_count": null,
      "outputs": [
        {
          "output_type": "execute_result",
          "data": {
            "text/html": [
              "<div>\n",
              "<style scoped>\n",
              "    .dataframe tbody tr th:only-of-type {\n",
              "        vertical-align: middle;\n",
              "    }\n",
              "\n",
              "    .dataframe tbody tr th {\n",
              "        vertical-align: top;\n",
              "    }\n",
              "\n",
              "    .dataframe thead th {\n",
              "        text-align: right;\n",
              "    }\n",
              "</style>\n",
              "<table border=\"1\" class=\"dataframe\">\n",
              "  <thead>\n",
              "    <tr style=\"text-align: right;\">\n",
              "      <th></th>\n",
              "      <th>customer_id</th>\n",
              "      <th>load_id</th>\n",
              "      <th>load_amt</th>\n",
              "      <th>load_time</th>\n",
              "      <th>load_week_num</th>\n",
              "      <th>load_day_num</th>\n",
              "      <th>approved_status</th>\n",
              "      <th>ruleA</th>\n",
              "      <th>ruleB</th>\n",
              "      <th>rule1</th>\n",
              "      <th>rule2</th>\n",
              "      <th>rule3</th>\n",
              "    </tr>\n",
              "  </thead>\n",
              "  <tbody>\n",
              "    <tr>\n",
              "      <th>0</th>\n",
              "      <td>1</td>\n",
              "      <td>10694</td>\n",
              "      <td>3785.11</td>\n",
              "      <td>2000-01-01T03:04:06Z</td>\n",
              "      <td>2052</td>\n",
              "      <td>2001</td>\n",
              "      <td>True</td>\n",
              "      <td>True</td>\n",
              "      <td>True</td>\n",
              "      <td>True</td>\n",
              "      <td>True</td>\n",
              "      <td>True</td>\n",
              "    </tr>\n",
              "  </tbody>\n",
              "</table>\n",
              "</div>"
            ],
            "text/plain": [
              "   customer_id load_id  load_amt  ... rule1  rule2  rule3\n",
              "0            1   10694   3785.11  ...  True   True   True\n",
              "\n",
              "[1 rows x 12 columns]"
            ]
          },
          "metadata": {
            "tags": []
          },
          "execution_count": 503
        }
      ]
    },
    {
      "cell_type": "code",
      "metadata": {
        "id": "c_GNxl3Zh5Pj",
        "outputId": "bc5788b2-fbfd-4740-87ef-95844d2b2ff6",
        "colab": {
          "base_uri": "https://localhost:8080/",
          "height": 112
        }
      },
      "source": [
        "cust1.valid_loads"
      ],
      "execution_count": null,
      "outputs": [
        {
          "output_type": "execute_result",
          "data": {
            "text/html": [
              "<div>\n",
              "<style scoped>\n",
              "    .dataframe tbody tr th:only-of-type {\n",
              "        vertical-align: middle;\n",
              "    }\n",
              "\n",
              "    .dataframe tbody tr th {\n",
              "        vertical-align: top;\n",
              "    }\n",
              "\n",
              "    .dataframe thead th {\n",
              "        text-align: right;\n",
              "    }\n",
              "</style>\n",
              "<table border=\"1\" class=\"dataframe\">\n",
              "  <thead>\n",
              "    <tr style=\"text-align: right;\">\n",
              "      <th></th>\n",
              "      <th>customer_id</th>\n",
              "      <th>load_id</th>\n",
              "      <th>load_amt</th>\n",
              "      <th>load_time</th>\n",
              "      <th>load_week_num</th>\n",
              "      <th>load_day_num</th>\n",
              "      <th>approved_status</th>\n",
              "      <th>ruleA</th>\n",
              "      <th>ruleB</th>\n",
              "      <th>rule1</th>\n",
              "      <th>rule2</th>\n",
              "      <th>rule3</th>\n",
              "      <th>cum_weekly_deps</th>\n",
              "      <th>cum_daily_deps</th>\n",
              "      <th>num_daily_deps</th>\n",
              "      <th>weekly_deps_left</th>\n",
              "      <th>daily_deps_left</th>\n",
              "      <th>num_daily_deps_left</th>\n",
              "    </tr>\n",
              "  </thead>\n",
              "  <tbody>\n",
              "    <tr>\n",
              "      <th>0</th>\n",
              "      <td>1</td>\n",
              "      <td>10694</td>\n",
              "      <td>3785.11</td>\n",
              "      <td>2000-01-01T03:04:06Z</td>\n",
              "      <td>2052</td>\n",
              "      <td>2001</td>\n",
              "      <td>True</td>\n",
              "      <td>True</td>\n",
              "      <td>True</td>\n",
              "      <td>True</td>\n",
              "      <td>True</td>\n",
              "      <td>True</td>\n",
              "      <td>3785.11</td>\n",
              "      <td>3785.11</td>\n",
              "      <td>1</td>\n",
              "      <td>16214.89</td>\n",
              "      <td>1214.89</td>\n",
              "      <td>2</td>\n",
              "    </tr>\n",
              "  </tbody>\n",
              "</table>\n",
              "</div>"
            ],
            "text/plain": [
              "   customer_id load_id  ...  daily_deps_left num_daily_deps_left\n",
              "0            1   10694  ...          1214.89                   2\n",
              "\n",
              "[1 rows x 18 columns]"
            ]
          },
          "metadata": {
            "tags": []
          },
          "execution_count": 504
        }
      ]
    },
    {
      "cell_type": "markdown",
      "metadata": {
        "id": "vuh5Mk3diWKT"
      },
      "source": [
        "Tests 1 - 15: Load ID is not unique"
      ]
    },
    {
      "cell_type": "code",
      "metadata": {
        "id": "L4mMhoX-jg2U",
        "outputId": "4dd8688f-e731-42cd-b77c-88567bebb38b",
        "colab": {
          "base_uri": "https://localhost:8080/",
          "height": 478
        }
      },
      "source": [
        "rules_df.iloc[0:15]"
      ],
      "execution_count": null,
      "outputs": [
        {
          "output_type": "execute_result",
          "data": {
            "text/html": [
              "<div>\n",
              "<style scoped>\n",
              "    .dataframe tbody tr th:only-of-type {\n",
              "        vertical-align: middle;\n",
              "    }\n",
              "\n",
              "    .dataframe tbody tr th {\n",
              "        vertical-align: top;\n",
              "    }\n",
              "\n",
              "    .dataframe thead th {\n",
              "        text-align: right;\n",
              "    }\n",
              "</style>\n",
              "<table border=\"1\" class=\"dataframe\">\n",
              "  <thead>\n",
              "    <tr style=\"text-align: right;\">\n",
              "      <th></th>\n",
              "      <th>Rule Number</th>\n",
              "      <th>time stamp is unique</th>\n",
              "      <th>Load ID is unique</th>\n",
              "      <th>daily_deps_left &gt; load.amt</th>\n",
              "      <th>daily_loads_left &gt;= 0</th>\n",
              "      <th>weekly_deps_left &gt; load.amt</th>\n",
              "      <th>System Response</th>\n",
              "    </tr>\n",
              "  </thead>\n",
              "  <tbody>\n",
              "    <tr>\n",
              "      <th>0</th>\n",
              "      <td>1</td>\n",
              "      <td>0</td>\n",
              "      <td>0</td>\n",
              "      <td>0</td>\n",
              "      <td>0</td>\n",
              "      <td>0</td>\n",
              "      <td>Decline - Time stamp not unique 1</td>\n",
              "    </tr>\n",
              "    <tr>\n",
              "      <th>1</th>\n",
              "      <td>2</td>\n",
              "      <td>0</td>\n",
              "      <td>0</td>\n",
              "      <td>0</td>\n",
              "      <td>0</td>\n",
              "      <td>1</td>\n",
              "      <td>Decline - Time stamp not unique 2</td>\n",
              "    </tr>\n",
              "    <tr>\n",
              "      <th>2</th>\n",
              "      <td>3</td>\n",
              "      <td>0</td>\n",
              "      <td>0</td>\n",
              "      <td>0</td>\n",
              "      <td>1</td>\n",
              "      <td>0</td>\n",
              "      <td>Decline - Time stamp not unique 3</td>\n",
              "    </tr>\n",
              "    <tr>\n",
              "      <th>3</th>\n",
              "      <td>4</td>\n",
              "      <td>0</td>\n",
              "      <td>0</td>\n",
              "      <td>0</td>\n",
              "      <td>1</td>\n",
              "      <td>1</td>\n",
              "      <td>Decline - Time stamp not unique 4</td>\n",
              "    </tr>\n",
              "    <tr>\n",
              "      <th>4</th>\n",
              "      <td>5</td>\n",
              "      <td>0</td>\n",
              "      <td>0</td>\n",
              "      <td>1</td>\n",
              "      <td>0</td>\n",
              "      <td>0</td>\n",
              "      <td>Decline - Time stamp not unique 5</td>\n",
              "    </tr>\n",
              "    <tr>\n",
              "      <th>5</th>\n",
              "      <td>6</td>\n",
              "      <td>0</td>\n",
              "      <td>0</td>\n",
              "      <td>1</td>\n",
              "      <td>0</td>\n",
              "      <td>1</td>\n",
              "      <td>Decline - Time stamp not unique 6</td>\n",
              "    </tr>\n",
              "    <tr>\n",
              "      <th>6</th>\n",
              "      <td>7</td>\n",
              "      <td>0</td>\n",
              "      <td>0</td>\n",
              "      <td>1</td>\n",
              "      <td>1</td>\n",
              "      <td>0</td>\n",
              "      <td>Decline - Time stamp not unique 7</td>\n",
              "    </tr>\n",
              "    <tr>\n",
              "      <th>7</th>\n",
              "      <td>8</td>\n",
              "      <td>0</td>\n",
              "      <td>0</td>\n",
              "      <td>1</td>\n",
              "      <td>1</td>\n",
              "      <td>1</td>\n",
              "      <td>Decline - Time stamp not unique 8</td>\n",
              "    </tr>\n",
              "    <tr>\n",
              "      <th>8</th>\n",
              "      <td>9</td>\n",
              "      <td>0</td>\n",
              "      <td>1</td>\n",
              "      <td>0</td>\n",
              "      <td>0</td>\n",
              "      <td>0</td>\n",
              "      <td>Decline - Time stamp not unique 9</td>\n",
              "    </tr>\n",
              "    <tr>\n",
              "      <th>9</th>\n",
              "      <td>10</td>\n",
              "      <td>0</td>\n",
              "      <td>1</td>\n",
              "      <td>0</td>\n",
              "      <td>0</td>\n",
              "      <td>1</td>\n",
              "      <td>Decline - Time stamp not unique 10</td>\n",
              "    </tr>\n",
              "    <tr>\n",
              "      <th>10</th>\n",
              "      <td>11</td>\n",
              "      <td>0</td>\n",
              "      <td>1</td>\n",
              "      <td>0</td>\n",
              "      <td>1</td>\n",
              "      <td>0</td>\n",
              "      <td>Decline - Time stamp not unique 11</td>\n",
              "    </tr>\n",
              "    <tr>\n",
              "      <th>11</th>\n",
              "      <td>12</td>\n",
              "      <td>0</td>\n",
              "      <td>1</td>\n",
              "      <td>0</td>\n",
              "      <td>1</td>\n",
              "      <td>1</td>\n",
              "      <td>Decline - Time stamp not unique 12</td>\n",
              "    </tr>\n",
              "    <tr>\n",
              "      <th>12</th>\n",
              "      <td>13</td>\n",
              "      <td>0</td>\n",
              "      <td>1</td>\n",
              "      <td>1</td>\n",
              "      <td>0</td>\n",
              "      <td>0</td>\n",
              "      <td>Decline - Time stamp not unique 13</td>\n",
              "    </tr>\n",
              "    <tr>\n",
              "      <th>13</th>\n",
              "      <td>14</td>\n",
              "      <td>0</td>\n",
              "      <td>1</td>\n",
              "      <td>1</td>\n",
              "      <td>0</td>\n",
              "      <td>1</td>\n",
              "      <td>Decline - Time stamp not unique 14</td>\n",
              "    </tr>\n",
              "    <tr>\n",
              "      <th>14</th>\n",
              "      <td>15</td>\n",
              "      <td>0</td>\n",
              "      <td>1</td>\n",
              "      <td>1</td>\n",
              "      <td>1</td>\n",
              "      <td>0</td>\n",
              "      <td>Decline - Time stamp not unique 15</td>\n",
              "    </tr>\n",
              "  </tbody>\n",
              "</table>\n",
              "</div>"
            ],
            "text/plain": [
              "    Rule Number  ...                    System Response \n",
              "0             1  ...   Decline - Time stamp not unique 1\n",
              "1             2  ...   Decline - Time stamp not unique 2\n",
              "2             3  ...   Decline - Time stamp not unique 3\n",
              "3             4  ...   Decline - Time stamp not unique 4\n",
              "4             5  ...   Decline - Time stamp not unique 5\n",
              "5             6  ...   Decline - Time stamp not unique 6\n",
              "6             7  ...   Decline - Time stamp not unique 7\n",
              "7             8  ...   Decline - Time stamp not unique 8\n",
              "8             9  ...   Decline - Time stamp not unique 9\n",
              "9            10  ...  Decline - Time stamp not unique 10\n",
              "10           11  ...  Decline - Time stamp not unique 11\n",
              "11           12  ...  Decline - Time stamp not unique 12\n",
              "12           13  ...  Decline - Time stamp not unique 13\n",
              "13           14  ...  Decline - Time stamp not unique 14\n",
              "14           15  ...  Decline - Time stamp not unique 15\n",
              "\n",
              "[15 rows x 7 columns]"
            ]
          },
          "metadata": {
            "tags": []
          },
          "execution_count": 505
        }
      ]
    },
    {
      "cell_type": "code",
      "metadata": {
        "id": "N-frKB4ah5Ky",
        "outputId": "6f8348b9-5285-467a-d906-321d5132960d",
        "colab": {
          "base_uri": "https://localhost:8080/",
          "height": 33
        }
      },
      "source": [
        "cust1 = Customer(1)\n",
        "cust1.process_load(Load('10694', '$385.11', '2000-01-01T03:04:06Z'))"
      ],
      "execution_count": null,
      "outputs": [
        {
          "output_type": "stream",
          "text": [
            "All Rules Passed ... Load Added\n"
          ],
          "name": "stdout"
        }
      ]
    },
    {
      "cell_type": "code",
      "metadata": {
        "id": "9ceBF2wDiehI",
        "outputId": "78cdea85-c7c4-4d71-a423-5dcb60db77b8",
        "colab": {
          "base_uri": "https://localhost:8080/",
          "height": 76
        }
      },
      "source": [
        "cust1.load_hist"
      ],
      "execution_count": null,
      "outputs": [
        {
          "output_type": "execute_result",
          "data": {
            "text/html": [
              "<div>\n",
              "<style scoped>\n",
              "    .dataframe tbody tr th:only-of-type {\n",
              "        vertical-align: middle;\n",
              "    }\n",
              "\n",
              "    .dataframe tbody tr th {\n",
              "        vertical-align: top;\n",
              "    }\n",
              "\n",
              "    .dataframe thead th {\n",
              "        text-align: right;\n",
              "    }\n",
              "</style>\n",
              "<table border=\"1\" class=\"dataframe\">\n",
              "  <thead>\n",
              "    <tr style=\"text-align: right;\">\n",
              "      <th></th>\n",
              "      <th>customer_id</th>\n",
              "      <th>load_id</th>\n",
              "      <th>load_amt</th>\n",
              "      <th>load_time</th>\n",
              "      <th>load_week_num</th>\n",
              "      <th>load_day_num</th>\n",
              "      <th>approved_status</th>\n",
              "      <th>ruleA</th>\n",
              "      <th>ruleB</th>\n",
              "      <th>rule1</th>\n",
              "      <th>rule2</th>\n",
              "      <th>rule3</th>\n",
              "    </tr>\n",
              "  </thead>\n",
              "  <tbody>\n",
              "    <tr>\n",
              "      <th>0</th>\n",
              "      <td>1</td>\n",
              "      <td>10694</td>\n",
              "      <td>385.11</td>\n",
              "      <td>2000-01-01T03:04:06Z</td>\n",
              "      <td>2052</td>\n",
              "      <td>2001</td>\n",
              "      <td>True</td>\n",
              "      <td>True</td>\n",
              "      <td>True</td>\n",
              "      <td>True</td>\n",
              "      <td>True</td>\n",
              "      <td>True</td>\n",
              "    </tr>\n",
              "  </tbody>\n",
              "</table>\n",
              "</div>"
            ],
            "text/plain": [
              "   customer_id load_id  load_amt  ... rule1  rule2  rule3\n",
              "0            1   10694    385.11  ...  True   True   True\n",
              "\n",
              "[1 rows x 12 columns]"
            ]
          },
          "metadata": {
            "tags": []
          },
          "execution_count": 507
        }
      ]
    },
    {
      "cell_type": "code",
      "metadata": {
        "id": "jsfbWZU-ifBV",
        "outputId": "f74ba608-7a1b-45ff-96e8-e2bdf11b7bcf",
        "colab": {
          "base_uri": "https://localhost:8080/",
          "height": 112
        }
      },
      "source": [
        "cust1.valid_loads"
      ],
      "execution_count": null,
      "outputs": [
        {
          "output_type": "execute_result",
          "data": {
            "text/html": [
              "<div>\n",
              "<style scoped>\n",
              "    .dataframe tbody tr th:only-of-type {\n",
              "        vertical-align: middle;\n",
              "    }\n",
              "\n",
              "    .dataframe tbody tr th {\n",
              "        vertical-align: top;\n",
              "    }\n",
              "\n",
              "    .dataframe thead th {\n",
              "        text-align: right;\n",
              "    }\n",
              "</style>\n",
              "<table border=\"1\" class=\"dataframe\">\n",
              "  <thead>\n",
              "    <tr style=\"text-align: right;\">\n",
              "      <th></th>\n",
              "      <th>customer_id</th>\n",
              "      <th>load_id</th>\n",
              "      <th>load_amt</th>\n",
              "      <th>load_time</th>\n",
              "      <th>load_week_num</th>\n",
              "      <th>load_day_num</th>\n",
              "      <th>approved_status</th>\n",
              "      <th>ruleA</th>\n",
              "      <th>ruleB</th>\n",
              "      <th>rule1</th>\n",
              "      <th>rule2</th>\n",
              "      <th>rule3</th>\n",
              "      <th>cum_weekly_deps</th>\n",
              "      <th>cum_daily_deps</th>\n",
              "      <th>num_daily_deps</th>\n",
              "      <th>weekly_deps_left</th>\n",
              "      <th>daily_deps_left</th>\n",
              "      <th>num_daily_deps_left</th>\n",
              "    </tr>\n",
              "  </thead>\n",
              "  <tbody>\n",
              "    <tr>\n",
              "      <th>0</th>\n",
              "      <td>1</td>\n",
              "      <td>10694</td>\n",
              "      <td>385.11</td>\n",
              "      <td>2000-01-01T03:04:06Z</td>\n",
              "      <td>2052</td>\n",
              "      <td>2001</td>\n",
              "      <td>True</td>\n",
              "      <td>True</td>\n",
              "      <td>True</td>\n",
              "      <td>True</td>\n",
              "      <td>True</td>\n",
              "      <td>True</td>\n",
              "      <td>385.11</td>\n",
              "      <td>385.11</td>\n",
              "      <td>1</td>\n",
              "      <td>19614.89</td>\n",
              "      <td>4614.89</td>\n",
              "      <td>2</td>\n",
              "    </tr>\n",
              "  </tbody>\n",
              "</table>\n",
              "</div>"
            ],
            "text/plain": [
              "   customer_id load_id  ...  daily_deps_left num_daily_deps_left\n",
              "0            1   10694  ...          4614.89                   2\n",
              "\n",
              "[1 rows x 18 columns]"
            ]
          },
          "metadata": {
            "tags": []
          },
          "execution_count": 508
        }
      ]
    },
    {
      "cell_type": "code",
      "metadata": {
        "id": "mZedLkpfi8Lx",
        "outputId": "d8c0bec2-5142-4be2-b3b5-fe643cc3757c",
        "colab": {
          "base_uri": "https://localhost:8080/",
          "height": 50
        }
      },
      "source": [
        "cust1.process_load(Load('10694', '$385.11', '2000-01-01T03:05:06Z'))"
      ],
      "execution_count": null,
      "outputs": [
        {
          "output_type": "stream",
          "text": [
            "ERROR: Load ID already exists\n",
            "Load Rejected\n"
          ],
          "name": "stdout"
        }
      ]
    },
    {
      "cell_type": "markdown",
      "metadata": {
        "id": "u7RJ5Np1j4FN"
      },
      "source": [
        "### Time stamp is not unique"
      ]
    },
    {
      "cell_type": "code",
      "metadata": {
        "id": "AMvdvbdjkKW5",
        "outputId": "55f61961-8ad7-4f32-f1dc-0cd34a3f93e5",
        "colab": {
          "base_uri": "https://localhost:8080/",
          "height": 248
        }
      },
      "source": [
        "rules_df.iloc[16:23]"
      ],
      "execution_count": null,
      "outputs": [
        {
          "output_type": "execute_result",
          "data": {
            "text/html": [
              "<div>\n",
              "<style scoped>\n",
              "    .dataframe tbody tr th:only-of-type {\n",
              "        vertical-align: middle;\n",
              "    }\n",
              "\n",
              "    .dataframe tbody tr th {\n",
              "        vertical-align: top;\n",
              "    }\n",
              "\n",
              "    .dataframe thead th {\n",
              "        text-align: right;\n",
              "    }\n",
              "</style>\n",
              "<table border=\"1\" class=\"dataframe\">\n",
              "  <thead>\n",
              "    <tr style=\"text-align: right;\">\n",
              "      <th></th>\n",
              "      <th>Rule Number</th>\n",
              "      <th>time stamp is unique</th>\n",
              "      <th>Load ID is unique</th>\n",
              "      <th>daily_deps_left &gt; load.amt</th>\n",
              "      <th>daily_loads_left &gt;= 0</th>\n",
              "      <th>weekly_deps_left &gt; load.amt</th>\n",
              "      <th>System Response</th>\n",
              "    </tr>\n",
              "  </thead>\n",
              "  <tbody>\n",
              "    <tr>\n",
              "      <th>16</th>\n",
              "      <td>17</td>\n",
              "      <td>1</td>\n",
              "      <td>0</td>\n",
              "      <td>0</td>\n",
              "      <td>0</td>\n",
              "      <td>0</td>\n",
              "      <td>Decline - Load ID not unique 1</td>\n",
              "    </tr>\n",
              "    <tr>\n",
              "      <th>17</th>\n",
              "      <td>18</td>\n",
              "      <td>1</td>\n",
              "      <td>0</td>\n",
              "      <td>0</td>\n",
              "      <td>0</td>\n",
              "      <td>1</td>\n",
              "      <td>Decline - Load ID not unique 2</td>\n",
              "    </tr>\n",
              "    <tr>\n",
              "      <th>18</th>\n",
              "      <td>19</td>\n",
              "      <td>1</td>\n",
              "      <td>0</td>\n",
              "      <td>0</td>\n",
              "      <td>1</td>\n",
              "      <td>0</td>\n",
              "      <td>Decline - Load ID not unique 3</td>\n",
              "    </tr>\n",
              "    <tr>\n",
              "      <th>19</th>\n",
              "      <td>20</td>\n",
              "      <td>1</td>\n",
              "      <td>0</td>\n",
              "      <td>0</td>\n",
              "      <td>1</td>\n",
              "      <td>1</td>\n",
              "      <td>Decline - Load ID not unique 4</td>\n",
              "    </tr>\n",
              "    <tr>\n",
              "      <th>20</th>\n",
              "      <td>21</td>\n",
              "      <td>1</td>\n",
              "      <td>0</td>\n",
              "      <td>1</td>\n",
              "      <td>0</td>\n",
              "      <td>0</td>\n",
              "      <td>Decline - Load ID not unique 5</td>\n",
              "    </tr>\n",
              "    <tr>\n",
              "      <th>21</th>\n",
              "      <td>22</td>\n",
              "      <td>1</td>\n",
              "      <td>0</td>\n",
              "      <td>1</td>\n",
              "      <td>0</td>\n",
              "      <td>1</td>\n",
              "      <td>Decline - Load ID not unique 6</td>\n",
              "    </tr>\n",
              "    <tr>\n",
              "      <th>22</th>\n",
              "      <td>23</td>\n",
              "      <td>1</td>\n",
              "      <td>0</td>\n",
              "      <td>1</td>\n",
              "      <td>1</td>\n",
              "      <td>0</td>\n",
              "      <td>Decline - Load ID not unique 7</td>\n",
              "    </tr>\n",
              "  </tbody>\n",
              "</table>\n",
              "</div>"
            ],
            "text/plain": [
              "    Rule Number  ...                System Response \n",
              "16           17  ...  Decline - Load ID not unique 1\n",
              "17           18  ...  Decline - Load ID not unique 2\n",
              "18           19  ...  Decline - Load ID not unique 3\n",
              "19           20  ...  Decline - Load ID not unique 4\n",
              "20           21  ...  Decline - Load ID not unique 5\n",
              "21           22  ...  Decline - Load ID not unique 6\n",
              "22           23  ...  Decline - Load ID not unique 7\n",
              "\n",
              "[7 rows x 7 columns]"
            ]
          },
          "metadata": {
            "tags": []
          },
          "execution_count": 510
        }
      ]
    },
    {
      "cell_type": "code",
      "metadata": {
        "id": "WdrVapNej6VV",
        "outputId": "aa4b8b02-30ef-4145-b866-c34143732971",
        "colab": {
          "base_uri": "https://localhost:8080/",
          "height": 33
        }
      },
      "source": [
        "cust1 = Customer(1)\n",
        "cust1.process_load(Load('10694', '$385.11', '2000-01-01T03:04:06Z'))"
      ],
      "execution_count": null,
      "outputs": [
        {
          "output_type": "stream",
          "text": [
            "All Rules Passed ... Load Added\n"
          ],
          "name": "stdout"
        }
      ]
    },
    {
      "cell_type": "code",
      "metadata": {
        "id": "mX4so3bLj_lK",
        "outputId": "5431dcc0-e923-49f7-8bfa-9adcfeb35a94",
        "colab": {
          "base_uri": "https://localhost:8080/",
          "height": 76
        }
      },
      "source": [
        "cust1.load_hist"
      ],
      "execution_count": null,
      "outputs": [
        {
          "output_type": "execute_result",
          "data": {
            "text/html": [
              "<div>\n",
              "<style scoped>\n",
              "    .dataframe tbody tr th:only-of-type {\n",
              "        vertical-align: middle;\n",
              "    }\n",
              "\n",
              "    .dataframe tbody tr th {\n",
              "        vertical-align: top;\n",
              "    }\n",
              "\n",
              "    .dataframe thead th {\n",
              "        text-align: right;\n",
              "    }\n",
              "</style>\n",
              "<table border=\"1\" class=\"dataframe\">\n",
              "  <thead>\n",
              "    <tr style=\"text-align: right;\">\n",
              "      <th></th>\n",
              "      <th>customer_id</th>\n",
              "      <th>load_id</th>\n",
              "      <th>load_amt</th>\n",
              "      <th>load_time</th>\n",
              "      <th>load_week_num</th>\n",
              "      <th>load_day_num</th>\n",
              "      <th>approved_status</th>\n",
              "      <th>ruleA</th>\n",
              "      <th>ruleB</th>\n",
              "      <th>rule1</th>\n",
              "      <th>rule2</th>\n",
              "      <th>rule3</th>\n",
              "    </tr>\n",
              "  </thead>\n",
              "  <tbody>\n",
              "    <tr>\n",
              "      <th>0</th>\n",
              "      <td>1</td>\n",
              "      <td>10694</td>\n",
              "      <td>385.11</td>\n",
              "      <td>2000-01-01T03:04:06Z</td>\n",
              "      <td>2052</td>\n",
              "      <td>2001</td>\n",
              "      <td>True</td>\n",
              "      <td>True</td>\n",
              "      <td>True</td>\n",
              "      <td>True</td>\n",
              "      <td>True</td>\n",
              "      <td>True</td>\n",
              "    </tr>\n",
              "  </tbody>\n",
              "</table>\n",
              "</div>"
            ],
            "text/plain": [
              "   customer_id load_id  load_amt  ... rule1  rule2  rule3\n",
              "0            1   10694    385.11  ...  True   True   True\n",
              "\n",
              "[1 rows x 12 columns]"
            ]
          },
          "metadata": {
            "tags": []
          },
          "execution_count": 512
        }
      ]
    },
    {
      "cell_type": "code",
      "metadata": {
        "id": "j9C_-L5ckAyF",
        "outputId": "bdee935c-3601-4b20-dc17-ba5e90815a7c",
        "colab": {
          "base_uri": "https://localhost:8080/",
          "height": 112
        }
      },
      "source": [
        "cust1.valid_loads"
      ],
      "execution_count": null,
      "outputs": [
        {
          "output_type": "execute_result",
          "data": {
            "text/html": [
              "<div>\n",
              "<style scoped>\n",
              "    .dataframe tbody tr th:only-of-type {\n",
              "        vertical-align: middle;\n",
              "    }\n",
              "\n",
              "    .dataframe tbody tr th {\n",
              "        vertical-align: top;\n",
              "    }\n",
              "\n",
              "    .dataframe thead th {\n",
              "        text-align: right;\n",
              "    }\n",
              "</style>\n",
              "<table border=\"1\" class=\"dataframe\">\n",
              "  <thead>\n",
              "    <tr style=\"text-align: right;\">\n",
              "      <th></th>\n",
              "      <th>customer_id</th>\n",
              "      <th>load_id</th>\n",
              "      <th>load_amt</th>\n",
              "      <th>load_time</th>\n",
              "      <th>load_week_num</th>\n",
              "      <th>load_day_num</th>\n",
              "      <th>approved_status</th>\n",
              "      <th>ruleA</th>\n",
              "      <th>ruleB</th>\n",
              "      <th>rule1</th>\n",
              "      <th>rule2</th>\n",
              "      <th>rule3</th>\n",
              "      <th>cum_weekly_deps</th>\n",
              "      <th>cum_daily_deps</th>\n",
              "      <th>num_daily_deps</th>\n",
              "      <th>weekly_deps_left</th>\n",
              "      <th>daily_deps_left</th>\n",
              "      <th>num_daily_deps_left</th>\n",
              "    </tr>\n",
              "  </thead>\n",
              "  <tbody>\n",
              "    <tr>\n",
              "      <th>0</th>\n",
              "      <td>1</td>\n",
              "      <td>10694</td>\n",
              "      <td>385.11</td>\n",
              "      <td>2000-01-01T03:04:06Z</td>\n",
              "      <td>2052</td>\n",
              "      <td>2001</td>\n",
              "      <td>True</td>\n",
              "      <td>True</td>\n",
              "      <td>True</td>\n",
              "      <td>True</td>\n",
              "      <td>True</td>\n",
              "      <td>True</td>\n",
              "      <td>385.11</td>\n",
              "      <td>385.11</td>\n",
              "      <td>1</td>\n",
              "      <td>19614.89</td>\n",
              "      <td>4614.89</td>\n",
              "      <td>2</td>\n",
              "    </tr>\n",
              "  </tbody>\n",
              "</table>\n",
              "</div>"
            ],
            "text/plain": [
              "   customer_id load_id  ...  daily_deps_left num_daily_deps_left\n",
              "0            1   10694  ...          4614.89                   2\n",
              "\n",
              "[1 rows x 18 columns]"
            ]
          },
          "metadata": {
            "tags": []
          },
          "execution_count": 513
        }
      ]
    },
    {
      "cell_type": "code",
      "metadata": {
        "id": "N44T6t9KkCxY",
        "outputId": "96b993fa-768f-4d8b-fe75-412a39daf1d3",
        "colab": {
          "base_uri": "https://localhost:8080/",
          "height": 50
        }
      },
      "source": [
        "cust1.process_load(Load('10695', '$3.11', '2000-01-01T03:04:06Z'))"
      ],
      "execution_count": null,
      "outputs": [
        {
          "output_type": "stream",
          "text": [
            "ERROR: Time stamp already exists for same customer\n",
            "Load Rejected\n"
          ],
          "name": "stdout"
        }
      ]
    },
    {
      "cell_type": "markdown",
      "metadata": {
        "id": "PJktPbDAkTry"
      },
      "source": [
        "### Daily Deposit Amount Is Exceeded"
      ]
    },
    {
      "cell_type": "code",
      "metadata": {
        "id": "ys8O7dhOkm_p",
        "outputId": "d154ab6b-a329-4b8a-fc75-40339f77b660",
        "colab": {
          "base_uri": "https://localhost:8080/",
          "height": 162
        }
      },
      "source": [
        "rules_df.iloc[24:28]"
      ],
      "execution_count": null,
      "outputs": [
        {
          "output_type": "execute_result",
          "data": {
            "text/html": [
              "<div>\n",
              "<style scoped>\n",
              "    .dataframe tbody tr th:only-of-type {\n",
              "        vertical-align: middle;\n",
              "    }\n",
              "\n",
              "    .dataframe tbody tr th {\n",
              "        vertical-align: top;\n",
              "    }\n",
              "\n",
              "    .dataframe thead th {\n",
              "        text-align: right;\n",
              "    }\n",
              "</style>\n",
              "<table border=\"1\" class=\"dataframe\">\n",
              "  <thead>\n",
              "    <tr style=\"text-align: right;\">\n",
              "      <th></th>\n",
              "      <th>Rule Number</th>\n",
              "      <th>time stamp is unique</th>\n",
              "      <th>Load ID is unique</th>\n",
              "      <th>daily_deps_left &gt; load.amt</th>\n",
              "      <th>daily_loads_left &gt;= 0</th>\n",
              "      <th>weekly_deps_left &gt; load.amt</th>\n",
              "      <th>System Response</th>\n",
              "    </tr>\n",
              "  </thead>\n",
              "  <tbody>\n",
              "    <tr>\n",
              "      <th>24</th>\n",
              "      <td>25</td>\n",
              "      <td>1</td>\n",
              "      <td>1</td>\n",
              "      <td>0</td>\n",
              "      <td>0</td>\n",
              "      <td>0</td>\n",
              "      <td>Decline - Daily Deps left limit exceeded 1</td>\n",
              "    </tr>\n",
              "    <tr>\n",
              "      <th>25</th>\n",
              "      <td>26</td>\n",
              "      <td>1</td>\n",
              "      <td>1</td>\n",
              "      <td>0</td>\n",
              "      <td>0</td>\n",
              "      <td>1</td>\n",
              "      <td>Decline - Daily Deps left limit exceeded 2</td>\n",
              "    </tr>\n",
              "    <tr>\n",
              "      <th>26</th>\n",
              "      <td>27</td>\n",
              "      <td>1</td>\n",
              "      <td>1</td>\n",
              "      <td>0</td>\n",
              "      <td>1</td>\n",
              "      <td>0</td>\n",
              "      <td>Decline - Daily Deps left limit exceeded 3</td>\n",
              "    </tr>\n",
              "    <tr>\n",
              "      <th>27</th>\n",
              "      <td>28</td>\n",
              "      <td>1</td>\n",
              "      <td>1</td>\n",
              "      <td>0</td>\n",
              "      <td>1</td>\n",
              "      <td>1</td>\n",
              "      <td>Decline - Daily Deps left limit exceeded 4</td>\n",
              "    </tr>\n",
              "  </tbody>\n",
              "</table>\n",
              "</div>"
            ],
            "text/plain": [
              "    Rule Number  ...                             System Response \n",
              "24           25  ...  Decline - Daily Deps left limit exceeded 1 \n",
              "25           26  ...   Decline - Daily Deps left limit exceeded 2\n",
              "26           27  ...   Decline - Daily Deps left limit exceeded 3\n",
              "27           28  ...   Decline - Daily Deps left limit exceeded 4\n",
              "\n",
              "[4 rows x 7 columns]"
            ]
          },
          "metadata": {
            "tags": []
          },
          "execution_count": 515
        }
      ]
    },
    {
      "cell_type": "code",
      "metadata": {
        "id": "V7uFh-YzkWr-",
        "outputId": "d5a1854f-589a-4df8-ead9-fd07ed2f7d77",
        "colab": {
          "base_uri": "https://localhost:8080/",
          "height": 50
        }
      },
      "source": [
        "cust1 = Customer(1)\n",
        "cust1.process_load(Load('10694', '$6000.11', '2000-01-01T03:04:06Z'))"
      ],
      "execution_count": null,
      "outputs": [
        {
          "output_type": "stream",
          "text": [
            "ERROR: No room for daily deposits left\n",
            "Load Rejected\n"
          ],
          "name": "stdout"
        }
      ]
    },
    {
      "cell_type": "code",
      "metadata": {
        "id": "AgUE2PGNkgD4",
        "outputId": "95d3a423-e8bd-43a0-baa7-422bc45f207b",
        "colab": {
          "base_uri": "https://localhost:8080/",
          "height": 76
        }
      },
      "source": [
        "cust1.load_hist"
      ],
      "execution_count": null,
      "outputs": [
        {
          "output_type": "execute_result",
          "data": {
            "text/html": [
              "<div>\n",
              "<style scoped>\n",
              "    .dataframe tbody tr th:only-of-type {\n",
              "        vertical-align: middle;\n",
              "    }\n",
              "\n",
              "    .dataframe tbody tr th {\n",
              "        vertical-align: top;\n",
              "    }\n",
              "\n",
              "    .dataframe thead th {\n",
              "        text-align: right;\n",
              "    }\n",
              "</style>\n",
              "<table border=\"1\" class=\"dataframe\">\n",
              "  <thead>\n",
              "    <tr style=\"text-align: right;\">\n",
              "      <th></th>\n",
              "      <th>customer_id</th>\n",
              "      <th>load_id</th>\n",
              "      <th>load_amt</th>\n",
              "      <th>load_time</th>\n",
              "      <th>load_week_num</th>\n",
              "      <th>load_day_num</th>\n",
              "      <th>approved_status</th>\n",
              "      <th>ruleA</th>\n",
              "      <th>ruleB</th>\n",
              "      <th>rule1</th>\n",
              "      <th>rule2</th>\n",
              "      <th>rule3</th>\n",
              "    </tr>\n",
              "  </thead>\n",
              "  <tbody>\n",
              "    <tr>\n",
              "      <th>0</th>\n",
              "      <td>1</td>\n",
              "      <td>10694</td>\n",
              "      <td>6000.11</td>\n",
              "      <td>2000-01-01T03:04:06Z</td>\n",
              "      <td>2052</td>\n",
              "      <td>2001</td>\n",
              "      <td>False</td>\n",
              "      <td>True</td>\n",
              "      <td>True</td>\n",
              "      <td>False</td>\n",
              "      <td>True</td>\n",
              "      <td>True</td>\n",
              "    </tr>\n",
              "  </tbody>\n",
              "</table>\n",
              "</div>"
            ],
            "text/plain": [
              "   customer_id load_id  load_amt  ...  rule1  rule2  rule3\n",
              "0            1   10694   6000.11  ...  False   True   True\n",
              "\n",
              "[1 rows x 12 columns]"
            ]
          },
          "metadata": {
            "tags": []
          },
          "execution_count": 517
        }
      ]
    },
    {
      "cell_type": "code",
      "metadata": {
        "id": "g6YU_9J4khr-",
        "outputId": "cbc243db-5a5c-47f3-8f52-73be6f1b4571",
        "colab": {
          "base_uri": "https://localhost:8080/",
          "height": 67
        }
      },
      "source": [
        "cust1.valid_loads"
      ],
      "execution_count": null,
      "outputs": [
        {
          "output_type": "execute_result",
          "data": {
            "text/html": [
              "<div>\n",
              "<style scoped>\n",
              "    .dataframe tbody tr th:only-of-type {\n",
              "        vertical-align: middle;\n",
              "    }\n",
              "\n",
              "    .dataframe tbody tr th {\n",
              "        vertical-align: top;\n",
              "    }\n",
              "\n",
              "    .dataframe thead th {\n",
              "        text-align: right;\n",
              "    }\n",
              "</style>\n",
              "<table border=\"1\" class=\"dataframe\">\n",
              "  <thead>\n",
              "    <tr style=\"text-align: right;\">\n",
              "      <th></th>\n",
              "      <th>customer_id</th>\n",
              "      <th>load_id</th>\n",
              "      <th>load_amt</th>\n",
              "      <th>load_time</th>\n",
              "      <th>load_week_num</th>\n",
              "      <th>load_day_num</th>\n",
              "      <th>approved_status</th>\n",
              "      <th>ruleA</th>\n",
              "      <th>ruleB</th>\n",
              "      <th>rule1</th>\n",
              "      <th>rule2</th>\n",
              "      <th>rule3</th>\n",
              "      <th>cum_weekly_deps</th>\n",
              "      <th>cum_daily_deps</th>\n",
              "      <th>num_daily_deps</th>\n",
              "      <th>weekly_deps_left</th>\n",
              "      <th>daily_deps_left</th>\n",
              "      <th>num_daily_deps_left</th>\n",
              "    </tr>\n",
              "  </thead>\n",
              "  <tbody>\n",
              "  </tbody>\n",
              "</table>\n",
              "</div>"
            ],
            "text/plain": [
              "Empty DataFrame\n",
              "Columns: [customer_id, load_id, load_amt, load_time, load_week_num, load_day_num, approved_status, ruleA, ruleB, rule1, rule2, rule3, cum_weekly_deps, cum_daily_deps, num_daily_deps, weekly_deps_left, daily_deps_left, num_daily_deps_left]\n",
              "Index: []"
            ]
          },
          "metadata": {
            "tags": []
          },
          "execution_count": 518
        }
      ]
    },
    {
      "cell_type": "markdown",
      "metadata": {
        "id": "dwpROWIokjdr"
      },
      "source": [
        "### Number of daily deposits is exceeded"
      ]
    },
    {
      "cell_type": "code",
      "metadata": {
        "id": "iyZniF9mldQF",
        "outputId": "525c8e59-e15e-4c2f-8d80-b54720d22db7",
        "colab": {
          "base_uri": "https://localhost:8080/",
          "height": 105
        }
      },
      "source": [
        "rules_df.iloc[28:30]"
      ],
      "execution_count": null,
      "outputs": [
        {
          "output_type": "execute_result",
          "data": {
            "text/html": [
              "<div>\n",
              "<style scoped>\n",
              "    .dataframe tbody tr th:only-of-type {\n",
              "        vertical-align: middle;\n",
              "    }\n",
              "\n",
              "    .dataframe tbody tr th {\n",
              "        vertical-align: top;\n",
              "    }\n",
              "\n",
              "    .dataframe thead th {\n",
              "        text-align: right;\n",
              "    }\n",
              "</style>\n",
              "<table border=\"1\" class=\"dataframe\">\n",
              "  <thead>\n",
              "    <tr style=\"text-align: right;\">\n",
              "      <th></th>\n",
              "      <th>Rule Number</th>\n",
              "      <th>time stamp is unique</th>\n",
              "      <th>Load ID is unique</th>\n",
              "      <th>daily_deps_left &gt; load.amt</th>\n",
              "      <th>daily_loads_left &gt;= 0</th>\n",
              "      <th>weekly_deps_left &gt; load.amt</th>\n",
              "      <th>System Response</th>\n",
              "    </tr>\n",
              "  </thead>\n",
              "  <tbody>\n",
              "    <tr>\n",
              "      <th>28</th>\n",
              "      <td>29</td>\n",
              "      <td>1</td>\n",
              "      <td>1</td>\n",
              "      <td>1</td>\n",
              "      <td>0</td>\n",
              "      <td>0</td>\n",
              "      <td>Decline - Daily loads left limit exceeded 1</td>\n",
              "    </tr>\n",
              "    <tr>\n",
              "      <th>29</th>\n",
              "      <td>30</td>\n",
              "      <td>1</td>\n",
              "      <td>1</td>\n",
              "      <td>1</td>\n",
              "      <td>0</td>\n",
              "      <td>1</td>\n",
              "      <td>Decline - Daily loads left limit exceeded 2</td>\n",
              "    </tr>\n",
              "  </tbody>\n",
              "</table>\n",
              "</div>"
            ],
            "text/plain": [
              "    Rule Number  ...                             System Response \n",
              "28           29  ...  Decline - Daily loads left limit exceeded 1\n",
              "29           30  ...  Decline - Daily loads left limit exceeded 2\n",
              "\n",
              "[2 rows x 7 columns]"
            ]
          },
          "metadata": {
            "tags": []
          },
          "execution_count": 519
        }
      ]
    },
    {
      "cell_type": "code",
      "metadata": {
        "id": "eEk-hWMmk4Pk",
        "outputId": "e90ee5fb-9c43-43ba-f236-6158717fe42b",
        "colab": {
          "base_uri": "https://localhost:8080/",
          "height": 33
        }
      },
      "source": [
        "cust1 = Customer(1)\n",
        "cust1.process_load(Load('10694', '$600.11', '2000-01-01T03:04:06Z'))"
      ],
      "execution_count": null,
      "outputs": [
        {
          "output_type": "stream",
          "text": [
            "All Rules Passed ... Load Added\n"
          ],
          "name": "stdout"
        }
      ]
    },
    {
      "cell_type": "code",
      "metadata": {
        "id": "Pnwqp6S1k86t",
        "outputId": "abab2ab2-3747-46df-917f-f481f91a29c1",
        "colab": {
          "base_uri": "https://localhost:8080/",
          "height": 76
        }
      },
      "source": [
        "cust1.load_hist"
      ],
      "execution_count": null,
      "outputs": [
        {
          "output_type": "execute_result",
          "data": {
            "text/html": [
              "<div>\n",
              "<style scoped>\n",
              "    .dataframe tbody tr th:only-of-type {\n",
              "        vertical-align: middle;\n",
              "    }\n",
              "\n",
              "    .dataframe tbody tr th {\n",
              "        vertical-align: top;\n",
              "    }\n",
              "\n",
              "    .dataframe thead th {\n",
              "        text-align: right;\n",
              "    }\n",
              "</style>\n",
              "<table border=\"1\" class=\"dataframe\">\n",
              "  <thead>\n",
              "    <tr style=\"text-align: right;\">\n",
              "      <th></th>\n",
              "      <th>customer_id</th>\n",
              "      <th>load_id</th>\n",
              "      <th>load_amt</th>\n",
              "      <th>load_time</th>\n",
              "      <th>load_week_num</th>\n",
              "      <th>load_day_num</th>\n",
              "      <th>approved_status</th>\n",
              "      <th>ruleA</th>\n",
              "      <th>ruleB</th>\n",
              "      <th>rule1</th>\n",
              "      <th>rule2</th>\n",
              "      <th>rule3</th>\n",
              "    </tr>\n",
              "  </thead>\n",
              "  <tbody>\n",
              "    <tr>\n",
              "      <th>0</th>\n",
              "      <td>1</td>\n",
              "      <td>10694</td>\n",
              "      <td>600.11</td>\n",
              "      <td>2000-01-01T03:04:06Z</td>\n",
              "      <td>2052</td>\n",
              "      <td>2001</td>\n",
              "      <td>True</td>\n",
              "      <td>True</td>\n",
              "      <td>True</td>\n",
              "      <td>True</td>\n",
              "      <td>True</td>\n",
              "      <td>True</td>\n",
              "    </tr>\n",
              "  </tbody>\n",
              "</table>\n",
              "</div>"
            ],
            "text/plain": [
              "   customer_id load_id  load_amt  ... rule1  rule2  rule3\n",
              "0            1   10694    600.11  ...  True   True   True\n",
              "\n",
              "[1 rows x 12 columns]"
            ]
          },
          "metadata": {
            "tags": []
          },
          "execution_count": 521
        }
      ]
    },
    {
      "cell_type": "code",
      "metadata": {
        "id": "3kvgOiC7lA3O",
        "outputId": "dadf3437-ac33-49fa-b098-ef3772773cf2",
        "colab": {
          "base_uri": "https://localhost:8080/",
          "height": 33
        }
      },
      "source": [
        "cust1.process_load(Load('10695', '$600.11', '2000-01-01T03:05:06Z'))"
      ],
      "execution_count": null,
      "outputs": [
        {
          "output_type": "stream",
          "text": [
            "All Rules Passed ... Load Added\n"
          ],
          "name": "stdout"
        }
      ]
    },
    {
      "cell_type": "code",
      "metadata": {
        "id": "U3LfkG6klF0y",
        "outputId": "9d16b6f7-ad0d-4839-bf0c-c88acac03c97",
        "colab": {
          "base_uri": "https://localhost:8080/",
          "height": 105
        }
      },
      "source": [
        "cust1.load_hist"
      ],
      "execution_count": null,
      "outputs": [
        {
          "output_type": "execute_result",
          "data": {
            "text/html": [
              "<div>\n",
              "<style scoped>\n",
              "    .dataframe tbody tr th:only-of-type {\n",
              "        vertical-align: middle;\n",
              "    }\n",
              "\n",
              "    .dataframe tbody tr th {\n",
              "        vertical-align: top;\n",
              "    }\n",
              "\n",
              "    .dataframe thead th {\n",
              "        text-align: right;\n",
              "    }\n",
              "</style>\n",
              "<table border=\"1\" class=\"dataframe\">\n",
              "  <thead>\n",
              "    <tr style=\"text-align: right;\">\n",
              "      <th></th>\n",
              "      <th>customer_id</th>\n",
              "      <th>load_id</th>\n",
              "      <th>load_amt</th>\n",
              "      <th>load_time</th>\n",
              "      <th>load_week_num</th>\n",
              "      <th>load_day_num</th>\n",
              "      <th>approved_status</th>\n",
              "      <th>ruleA</th>\n",
              "      <th>ruleB</th>\n",
              "      <th>rule1</th>\n",
              "      <th>rule2</th>\n",
              "      <th>rule3</th>\n",
              "    </tr>\n",
              "  </thead>\n",
              "  <tbody>\n",
              "    <tr>\n",
              "      <th>0</th>\n",
              "      <td>1</td>\n",
              "      <td>10694</td>\n",
              "      <td>600.11</td>\n",
              "      <td>2000-01-01T03:04:06Z</td>\n",
              "      <td>2052</td>\n",
              "      <td>2001</td>\n",
              "      <td>True</td>\n",
              "      <td>True</td>\n",
              "      <td>True</td>\n",
              "      <td>True</td>\n",
              "      <td>True</td>\n",
              "      <td>True</td>\n",
              "    </tr>\n",
              "    <tr>\n",
              "      <th>1</th>\n",
              "      <td>1</td>\n",
              "      <td>10695</td>\n",
              "      <td>600.11</td>\n",
              "      <td>2000-01-01T03:05:06Z</td>\n",
              "      <td>2052</td>\n",
              "      <td>2001</td>\n",
              "      <td>True</td>\n",
              "      <td>True</td>\n",
              "      <td>True</td>\n",
              "      <td>True</td>\n",
              "      <td>True</td>\n",
              "      <td>True</td>\n",
              "    </tr>\n",
              "  </tbody>\n",
              "</table>\n",
              "</div>"
            ],
            "text/plain": [
              "   customer_id load_id  load_amt  ... rule1  rule2  rule3\n",
              "0            1   10694    600.11  ...  True   True   True\n",
              "1            1   10695    600.11  ...  True   True   True\n",
              "\n",
              "[2 rows x 12 columns]"
            ]
          },
          "metadata": {
            "tags": []
          },
          "execution_count": 523
        }
      ]
    },
    {
      "cell_type": "code",
      "metadata": {
        "id": "1FND06bclG58",
        "outputId": "0a797bae-225f-462e-a21e-74f259ed4eef",
        "colab": {
          "base_uri": "https://localhost:8080/",
          "height": 157
        }
      },
      "source": [
        "cust1.valid_loads"
      ],
      "execution_count": null,
      "outputs": [
        {
          "output_type": "execute_result",
          "data": {
            "text/html": [
              "<div>\n",
              "<style scoped>\n",
              "    .dataframe tbody tr th:only-of-type {\n",
              "        vertical-align: middle;\n",
              "    }\n",
              "\n",
              "    .dataframe tbody tr th {\n",
              "        vertical-align: top;\n",
              "    }\n",
              "\n",
              "    .dataframe thead th {\n",
              "        text-align: right;\n",
              "    }\n",
              "</style>\n",
              "<table border=\"1\" class=\"dataframe\">\n",
              "  <thead>\n",
              "    <tr style=\"text-align: right;\">\n",
              "      <th></th>\n",
              "      <th>customer_id</th>\n",
              "      <th>load_id</th>\n",
              "      <th>load_amt</th>\n",
              "      <th>load_time</th>\n",
              "      <th>load_week_num</th>\n",
              "      <th>load_day_num</th>\n",
              "      <th>approved_status</th>\n",
              "      <th>ruleA</th>\n",
              "      <th>ruleB</th>\n",
              "      <th>rule1</th>\n",
              "      <th>rule2</th>\n",
              "      <th>rule3</th>\n",
              "      <th>cum_weekly_deps</th>\n",
              "      <th>cum_daily_deps</th>\n",
              "      <th>num_daily_deps</th>\n",
              "      <th>weekly_deps_left</th>\n",
              "      <th>daily_deps_left</th>\n",
              "      <th>num_daily_deps_left</th>\n",
              "    </tr>\n",
              "  </thead>\n",
              "  <tbody>\n",
              "    <tr>\n",
              "      <th>0</th>\n",
              "      <td>1</td>\n",
              "      <td>10694</td>\n",
              "      <td>600.11</td>\n",
              "      <td>2000-01-01T03:04:06Z</td>\n",
              "      <td>2052</td>\n",
              "      <td>2001</td>\n",
              "      <td>True</td>\n",
              "      <td>True</td>\n",
              "      <td>True</td>\n",
              "      <td>True</td>\n",
              "      <td>True</td>\n",
              "      <td>True</td>\n",
              "      <td>600.11</td>\n",
              "      <td>600.11</td>\n",
              "      <td>1</td>\n",
              "      <td>19399.89</td>\n",
              "      <td>4399.89</td>\n",
              "      <td>2</td>\n",
              "    </tr>\n",
              "    <tr>\n",
              "      <th>1</th>\n",
              "      <td>1</td>\n",
              "      <td>10695</td>\n",
              "      <td>600.11</td>\n",
              "      <td>2000-01-01T03:05:06Z</td>\n",
              "      <td>2052</td>\n",
              "      <td>2001</td>\n",
              "      <td>True</td>\n",
              "      <td>True</td>\n",
              "      <td>True</td>\n",
              "      <td>True</td>\n",
              "      <td>True</td>\n",
              "      <td>True</td>\n",
              "      <td>1200.22</td>\n",
              "      <td>1200.22</td>\n",
              "      <td>2</td>\n",
              "      <td>18799.78</td>\n",
              "      <td>3799.78</td>\n",
              "      <td>1</td>\n",
              "    </tr>\n",
              "  </tbody>\n",
              "</table>\n",
              "</div>"
            ],
            "text/plain": [
              "   customer_id load_id  ...  daily_deps_left num_daily_deps_left\n",
              "0            1   10694  ...          4399.89                   2\n",
              "1            1   10695  ...          3799.78                   1\n",
              "\n",
              "[2 rows x 18 columns]"
            ]
          },
          "metadata": {
            "tags": []
          },
          "execution_count": 524
        }
      ]
    },
    {
      "cell_type": "code",
      "metadata": {
        "id": "WEy1g3bOlKMM",
        "outputId": "c70d0ee7-e53f-4451-d168-a9dc12ec9909",
        "colab": {
          "base_uri": "https://localhost:8080/",
          "height": 33
        }
      },
      "source": [
        "cust1.process_load(Load('10696', '$600.11', '2000-01-01T03:06:06Z'))"
      ],
      "execution_count": null,
      "outputs": [
        {
          "output_type": "stream",
          "text": [
            "All Rules Passed ... Load Added\n"
          ],
          "name": "stdout"
        }
      ]
    },
    {
      "cell_type": "code",
      "metadata": {
        "id": "RAbgQbKjlN5q",
        "outputId": "1a42c302-66b6-4de3-e7f2-7d6e0bd1e782",
        "colab": {
          "base_uri": "https://localhost:8080/",
          "height": 133
        }
      },
      "source": [
        "cust1.load_hist"
      ],
      "execution_count": null,
      "outputs": [
        {
          "output_type": "execute_result",
          "data": {
            "text/html": [
              "<div>\n",
              "<style scoped>\n",
              "    .dataframe tbody tr th:only-of-type {\n",
              "        vertical-align: middle;\n",
              "    }\n",
              "\n",
              "    .dataframe tbody tr th {\n",
              "        vertical-align: top;\n",
              "    }\n",
              "\n",
              "    .dataframe thead th {\n",
              "        text-align: right;\n",
              "    }\n",
              "</style>\n",
              "<table border=\"1\" class=\"dataframe\">\n",
              "  <thead>\n",
              "    <tr style=\"text-align: right;\">\n",
              "      <th></th>\n",
              "      <th>customer_id</th>\n",
              "      <th>load_id</th>\n",
              "      <th>load_amt</th>\n",
              "      <th>load_time</th>\n",
              "      <th>load_week_num</th>\n",
              "      <th>load_day_num</th>\n",
              "      <th>approved_status</th>\n",
              "      <th>ruleA</th>\n",
              "      <th>ruleB</th>\n",
              "      <th>rule1</th>\n",
              "      <th>rule2</th>\n",
              "      <th>rule3</th>\n",
              "    </tr>\n",
              "  </thead>\n",
              "  <tbody>\n",
              "    <tr>\n",
              "      <th>0</th>\n",
              "      <td>1</td>\n",
              "      <td>10694</td>\n",
              "      <td>600.11</td>\n",
              "      <td>2000-01-01T03:04:06Z</td>\n",
              "      <td>2052</td>\n",
              "      <td>2001</td>\n",
              "      <td>True</td>\n",
              "      <td>True</td>\n",
              "      <td>True</td>\n",
              "      <td>True</td>\n",
              "      <td>True</td>\n",
              "      <td>True</td>\n",
              "    </tr>\n",
              "    <tr>\n",
              "      <th>1</th>\n",
              "      <td>1</td>\n",
              "      <td>10695</td>\n",
              "      <td>600.11</td>\n",
              "      <td>2000-01-01T03:05:06Z</td>\n",
              "      <td>2052</td>\n",
              "      <td>2001</td>\n",
              "      <td>True</td>\n",
              "      <td>True</td>\n",
              "      <td>True</td>\n",
              "      <td>True</td>\n",
              "      <td>True</td>\n",
              "      <td>True</td>\n",
              "    </tr>\n",
              "    <tr>\n",
              "      <th>2</th>\n",
              "      <td>1</td>\n",
              "      <td>10696</td>\n",
              "      <td>600.11</td>\n",
              "      <td>2000-01-01T03:06:06Z</td>\n",
              "      <td>2052</td>\n",
              "      <td>2001</td>\n",
              "      <td>True</td>\n",
              "      <td>True</td>\n",
              "      <td>True</td>\n",
              "      <td>True</td>\n",
              "      <td>True</td>\n",
              "      <td>True</td>\n",
              "    </tr>\n",
              "  </tbody>\n",
              "</table>\n",
              "</div>"
            ],
            "text/plain": [
              "   customer_id load_id  load_amt  ... rule1  rule2  rule3\n",
              "0            1   10694    600.11  ...  True   True   True\n",
              "1            1   10695    600.11  ...  True   True   True\n",
              "2            1   10696    600.11  ...  True   True   True\n",
              "\n",
              "[3 rows x 12 columns]"
            ]
          },
          "metadata": {
            "tags": []
          },
          "execution_count": 526
        }
      ]
    },
    {
      "cell_type": "code",
      "metadata": {
        "id": "YG4-NuNRlPFc",
        "outputId": "69bf827f-efb1-41ab-8cde-de7ba42da839",
        "colab": {
          "base_uri": "https://localhost:8080/",
          "height": 202
        }
      },
      "source": [
        "cust1.valid_loads"
      ],
      "execution_count": null,
      "outputs": [
        {
          "output_type": "execute_result",
          "data": {
            "text/html": [
              "<div>\n",
              "<style scoped>\n",
              "    .dataframe tbody tr th:only-of-type {\n",
              "        vertical-align: middle;\n",
              "    }\n",
              "\n",
              "    .dataframe tbody tr th {\n",
              "        vertical-align: top;\n",
              "    }\n",
              "\n",
              "    .dataframe thead th {\n",
              "        text-align: right;\n",
              "    }\n",
              "</style>\n",
              "<table border=\"1\" class=\"dataframe\">\n",
              "  <thead>\n",
              "    <tr style=\"text-align: right;\">\n",
              "      <th></th>\n",
              "      <th>customer_id</th>\n",
              "      <th>load_id</th>\n",
              "      <th>load_amt</th>\n",
              "      <th>load_time</th>\n",
              "      <th>load_week_num</th>\n",
              "      <th>load_day_num</th>\n",
              "      <th>approved_status</th>\n",
              "      <th>ruleA</th>\n",
              "      <th>ruleB</th>\n",
              "      <th>rule1</th>\n",
              "      <th>rule2</th>\n",
              "      <th>rule3</th>\n",
              "      <th>cum_weekly_deps</th>\n",
              "      <th>cum_daily_deps</th>\n",
              "      <th>num_daily_deps</th>\n",
              "      <th>weekly_deps_left</th>\n",
              "      <th>daily_deps_left</th>\n",
              "      <th>num_daily_deps_left</th>\n",
              "    </tr>\n",
              "  </thead>\n",
              "  <tbody>\n",
              "    <tr>\n",
              "      <th>0</th>\n",
              "      <td>1</td>\n",
              "      <td>10694</td>\n",
              "      <td>600.11</td>\n",
              "      <td>2000-01-01T03:04:06Z</td>\n",
              "      <td>2052</td>\n",
              "      <td>2001</td>\n",
              "      <td>True</td>\n",
              "      <td>True</td>\n",
              "      <td>True</td>\n",
              "      <td>True</td>\n",
              "      <td>True</td>\n",
              "      <td>True</td>\n",
              "      <td>600.11</td>\n",
              "      <td>600.11</td>\n",
              "      <td>1</td>\n",
              "      <td>19399.89</td>\n",
              "      <td>4399.89</td>\n",
              "      <td>2</td>\n",
              "    </tr>\n",
              "    <tr>\n",
              "      <th>1</th>\n",
              "      <td>1</td>\n",
              "      <td>10695</td>\n",
              "      <td>600.11</td>\n",
              "      <td>2000-01-01T03:05:06Z</td>\n",
              "      <td>2052</td>\n",
              "      <td>2001</td>\n",
              "      <td>True</td>\n",
              "      <td>True</td>\n",
              "      <td>True</td>\n",
              "      <td>True</td>\n",
              "      <td>True</td>\n",
              "      <td>True</td>\n",
              "      <td>1200.22</td>\n",
              "      <td>1200.22</td>\n",
              "      <td>2</td>\n",
              "      <td>18799.78</td>\n",
              "      <td>3799.78</td>\n",
              "      <td>1</td>\n",
              "    </tr>\n",
              "    <tr>\n",
              "      <th>2</th>\n",
              "      <td>1</td>\n",
              "      <td>10696</td>\n",
              "      <td>600.11</td>\n",
              "      <td>2000-01-01T03:06:06Z</td>\n",
              "      <td>2052</td>\n",
              "      <td>2001</td>\n",
              "      <td>True</td>\n",
              "      <td>True</td>\n",
              "      <td>True</td>\n",
              "      <td>True</td>\n",
              "      <td>True</td>\n",
              "      <td>True</td>\n",
              "      <td>1800.33</td>\n",
              "      <td>1800.33</td>\n",
              "      <td>3</td>\n",
              "      <td>18199.67</td>\n",
              "      <td>3199.67</td>\n",
              "      <td>0</td>\n",
              "    </tr>\n",
              "  </tbody>\n",
              "</table>\n",
              "</div>"
            ],
            "text/plain": [
              "   customer_id load_id  ...  daily_deps_left num_daily_deps_left\n",
              "0            1   10694  ...          4399.89                   2\n",
              "1            1   10695  ...          3799.78                   1\n",
              "2            1   10696  ...          3199.67                   0\n",
              "\n",
              "[3 rows x 18 columns]"
            ]
          },
          "metadata": {
            "tags": []
          },
          "execution_count": 527
        }
      ]
    },
    {
      "cell_type": "code",
      "metadata": {
        "id": "H2s4s2I6lQfB",
        "outputId": "897d2b37-500f-433b-def4-4593eea04b8b",
        "colab": {
          "base_uri": "https://localhost:8080/",
          "height": 50
        }
      },
      "source": [
        "cust1.process_load(Load('10697', '$600.11', '2000-01-01T03:09:06Z'))"
      ],
      "execution_count": null,
      "outputs": [
        {
          "output_type": "stream",
          "text": [
            "ERROR: Number of allowed daily deposits exceeded\n",
            "Load Rejected\n"
          ],
          "name": "stdout"
        }
      ]
    },
    {
      "cell_type": "markdown",
      "metadata": {
        "id": "gG3OWqIIliAU"
      },
      "source": [
        "### Weekly deposits is exceeded"
      ]
    },
    {
      "cell_type": "code",
      "metadata": {
        "id": "IBDBo74Rlr9O",
        "outputId": "cbd0c685-d8e4-43eb-ed29-09661e15889b",
        "colab": {
          "base_uri": "https://localhost:8080/",
          "height": 92
        }
      },
      "source": [
        "cust1 = Customer(1)\n",
        "cust1.process_load(Load('10694', '$600.11', '2000-01-01T03:04:06Z'))\n",
        "cust1.load_hist"
      ],
      "execution_count": null,
      "outputs": [
        {
          "output_type": "stream",
          "text": [
            "All Rules Passed ... Load Added\n"
          ],
          "name": "stdout"
        },
        {
          "output_type": "execute_result",
          "data": {
            "text/html": [
              "<div>\n",
              "<style scoped>\n",
              "    .dataframe tbody tr th:only-of-type {\n",
              "        vertical-align: middle;\n",
              "    }\n",
              "\n",
              "    .dataframe tbody tr th {\n",
              "        vertical-align: top;\n",
              "    }\n",
              "\n",
              "    .dataframe thead th {\n",
              "        text-align: right;\n",
              "    }\n",
              "</style>\n",
              "<table border=\"1\" class=\"dataframe\">\n",
              "  <thead>\n",
              "    <tr style=\"text-align: right;\">\n",
              "      <th></th>\n",
              "      <th>customer_id</th>\n",
              "      <th>load_id</th>\n",
              "      <th>load_amt</th>\n",
              "      <th>load_time</th>\n",
              "      <th>load_week_num</th>\n",
              "      <th>load_day_num</th>\n",
              "      <th>approved_status</th>\n",
              "      <th>ruleA</th>\n",
              "      <th>ruleB</th>\n",
              "      <th>rule1</th>\n",
              "      <th>rule2</th>\n",
              "      <th>rule3</th>\n",
              "    </tr>\n",
              "  </thead>\n",
              "  <tbody>\n",
              "    <tr>\n",
              "      <th>0</th>\n",
              "      <td>1</td>\n",
              "      <td>10694</td>\n",
              "      <td>600.11</td>\n",
              "      <td>2000-01-01T03:04:06Z</td>\n",
              "      <td>2052</td>\n",
              "      <td>2001</td>\n",
              "      <td>True</td>\n",
              "      <td>True</td>\n",
              "      <td>True</td>\n",
              "      <td>True</td>\n",
              "      <td>True</td>\n",
              "      <td>True</td>\n",
              "    </tr>\n",
              "  </tbody>\n",
              "</table>\n",
              "</div>"
            ],
            "text/plain": [
              "   customer_id load_id  load_amt  ... rule1  rule2  rule3\n",
              "0            1   10694    600.11  ...  True   True   True\n",
              "\n",
              "[1 rows x 12 columns]"
            ]
          },
          "metadata": {
            "tags": []
          },
          "execution_count": 572
        }
      ]
    },
    {
      "cell_type": "code",
      "metadata": {
        "id": "_G251pEkmBb9",
        "outputId": "f82863c0-1f2a-43d4-b167-6b987c2ac0d8",
        "colab": {
          "base_uri": "https://localhost:8080/",
          "height": 121
        }
      },
      "source": [
        "cust1.process_load(Load('10695', '$600.11', '2000-01-01T03:05:06Z'))\n",
        "cust1.load_hist"
      ],
      "execution_count": null,
      "outputs": [
        {
          "output_type": "stream",
          "text": [
            "All Rules Passed ... Load Added\n"
          ],
          "name": "stdout"
        },
        {
          "output_type": "execute_result",
          "data": {
            "text/html": [
              "<div>\n",
              "<style scoped>\n",
              "    .dataframe tbody tr th:only-of-type {\n",
              "        vertical-align: middle;\n",
              "    }\n",
              "\n",
              "    .dataframe tbody tr th {\n",
              "        vertical-align: top;\n",
              "    }\n",
              "\n",
              "    .dataframe thead th {\n",
              "        text-align: right;\n",
              "    }\n",
              "</style>\n",
              "<table border=\"1\" class=\"dataframe\">\n",
              "  <thead>\n",
              "    <tr style=\"text-align: right;\">\n",
              "      <th></th>\n",
              "      <th>customer_id</th>\n",
              "      <th>load_id</th>\n",
              "      <th>load_amt</th>\n",
              "      <th>load_time</th>\n",
              "      <th>load_week_num</th>\n",
              "      <th>load_day_num</th>\n",
              "      <th>approved_status</th>\n",
              "      <th>ruleA</th>\n",
              "      <th>ruleB</th>\n",
              "      <th>rule1</th>\n",
              "      <th>rule2</th>\n",
              "      <th>rule3</th>\n",
              "    </tr>\n",
              "  </thead>\n",
              "  <tbody>\n",
              "    <tr>\n",
              "      <th>0</th>\n",
              "      <td>1</td>\n",
              "      <td>10694</td>\n",
              "      <td>600.11</td>\n",
              "      <td>2000-01-01T03:04:06Z</td>\n",
              "      <td>2052</td>\n",
              "      <td>2001</td>\n",
              "      <td>True</td>\n",
              "      <td>True</td>\n",
              "      <td>True</td>\n",
              "      <td>True</td>\n",
              "      <td>True</td>\n",
              "      <td>True</td>\n",
              "    </tr>\n",
              "    <tr>\n",
              "      <th>1</th>\n",
              "      <td>1</td>\n",
              "      <td>10695</td>\n",
              "      <td>600.11</td>\n",
              "      <td>2000-01-01T03:05:06Z</td>\n",
              "      <td>2052</td>\n",
              "      <td>2001</td>\n",
              "      <td>True</td>\n",
              "      <td>True</td>\n",
              "      <td>True</td>\n",
              "      <td>True</td>\n",
              "      <td>True</td>\n",
              "      <td>True</td>\n",
              "    </tr>\n",
              "  </tbody>\n",
              "</table>\n",
              "</div>"
            ],
            "text/plain": [
              "   customer_id load_id  load_amt  ... rule1  rule2  rule3\n",
              "0            1   10694    600.11  ...  True   True   True\n",
              "1            1   10695    600.11  ...  True   True   True\n",
              "\n",
              "[2 rows x 12 columns]"
            ]
          },
          "metadata": {
            "tags": []
          },
          "execution_count": 573
        }
      ]
    },
    {
      "cell_type": "code",
      "metadata": {
        "id": "lCi2DP9rmM5I",
        "outputId": "7f6a5c04-e50b-4b21-88d7-10ff06d2ba22",
        "colab": {
          "base_uri": "https://localhost:8080/",
          "height": 150
        }
      },
      "source": [
        "cust1.process_load(Load('10696', '$600.11', '2000-01-01T03:06:06Z'))\n",
        "cust1.load_hist"
      ],
      "execution_count": null,
      "outputs": [
        {
          "output_type": "stream",
          "text": [
            "All Rules Passed ... Load Added\n"
          ],
          "name": "stdout"
        },
        {
          "output_type": "execute_result",
          "data": {
            "text/html": [
              "<div>\n",
              "<style scoped>\n",
              "    .dataframe tbody tr th:only-of-type {\n",
              "        vertical-align: middle;\n",
              "    }\n",
              "\n",
              "    .dataframe tbody tr th {\n",
              "        vertical-align: top;\n",
              "    }\n",
              "\n",
              "    .dataframe thead th {\n",
              "        text-align: right;\n",
              "    }\n",
              "</style>\n",
              "<table border=\"1\" class=\"dataframe\">\n",
              "  <thead>\n",
              "    <tr style=\"text-align: right;\">\n",
              "      <th></th>\n",
              "      <th>customer_id</th>\n",
              "      <th>load_id</th>\n",
              "      <th>load_amt</th>\n",
              "      <th>load_time</th>\n",
              "      <th>load_week_num</th>\n",
              "      <th>load_day_num</th>\n",
              "      <th>approved_status</th>\n",
              "      <th>ruleA</th>\n",
              "      <th>ruleB</th>\n",
              "      <th>rule1</th>\n",
              "      <th>rule2</th>\n",
              "      <th>rule3</th>\n",
              "    </tr>\n",
              "  </thead>\n",
              "  <tbody>\n",
              "    <tr>\n",
              "      <th>0</th>\n",
              "      <td>1</td>\n",
              "      <td>10694</td>\n",
              "      <td>600.11</td>\n",
              "      <td>2000-01-01T03:04:06Z</td>\n",
              "      <td>2052</td>\n",
              "      <td>2001</td>\n",
              "      <td>True</td>\n",
              "      <td>True</td>\n",
              "      <td>True</td>\n",
              "      <td>True</td>\n",
              "      <td>True</td>\n",
              "      <td>True</td>\n",
              "    </tr>\n",
              "    <tr>\n",
              "      <th>1</th>\n",
              "      <td>1</td>\n",
              "      <td>10695</td>\n",
              "      <td>600.11</td>\n",
              "      <td>2000-01-01T03:05:06Z</td>\n",
              "      <td>2052</td>\n",
              "      <td>2001</td>\n",
              "      <td>True</td>\n",
              "      <td>True</td>\n",
              "      <td>True</td>\n",
              "      <td>True</td>\n",
              "      <td>True</td>\n",
              "      <td>True</td>\n",
              "    </tr>\n",
              "    <tr>\n",
              "      <th>2</th>\n",
              "      <td>1</td>\n",
              "      <td>10696</td>\n",
              "      <td>600.11</td>\n",
              "      <td>2000-01-01T03:06:06Z</td>\n",
              "      <td>2052</td>\n",
              "      <td>2001</td>\n",
              "      <td>True</td>\n",
              "      <td>True</td>\n",
              "      <td>True</td>\n",
              "      <td>True</td>\n",
              "      <td>True</td>\n",
              "      <td>True</td>\n",
              "    </tr>\n",
              "  </tbody>\n",
              "</table>\n",
              "</div>"
            ],
            "text/plain": [
              "   customer_id load_id  load_amt  ... rule1  rule2  rule3\n",
              "0            1   10694    600.11  ...  True   True   True\n",
              "1            1   10695    600.11  ...  True   True   True\n",
              "2            1   10696    600.11  ...  True   True   True\n",
              "\n",
              "[3 rows x 12 columns]"
            ]
          },
          "metadata": {
            "tags": []
          },
          "execution_count": 574
        }
      ]
    },
    {
      "cell_type": "code",
      "metadata": {
        "id": "Vh-q_MiomQVU",
        "outputId": "8f6fdbf4-1928-4647-fb71-d489548fa0ee",
        "colab": {
          "base_uri": "https://localhost:8080/",
          "height": 195
        }
      },
      "source": [
        "cust1.process_load(Load('10697', '$600.11', '2000-01-01T03:07:06Z'))\n",
        "cust1.load_hist"
      ],
      "execution_count": null,
      "outputs": [
        {
          "output_type": "stream",
          "text": [
            "ERROR: Number of allowed daily deposits exceeded\n",
            "Load Rejected\n"
          ],
          "name": "stdout"
        },
        {
          "output_type": "execute_result",
          "data": {
            "text/html": [
              "<div>\n",
              "<style scoped>\n",
              "    .dataframe tbody tr th:only-of-type {\n",
              "        vertical-align: middle;\n",
              "    }\n",
              "\n",
              "    .dataframe tbody tr th {\n",
              "        vertical-align: top;\n",
              "    }\n",
              "\n",
              "    .dataframe thead th {\n",
              "        text-align: right;\n",
              "    }\n",
              "</style>\n",
              "<table border=\"1\" class=\"dataframe\">\n",
              "  <thead>\n",
              "    <tr style=\"text-align: right;\">\n",
              "      <th></th>\n",
              "      <th>customer_id</th>\n",
              "      <th>load_id</th>\n",
              "      <th>load_amt</th>\n",
              "      <th>load_time</th>\n",
              "      <th>load_week_num</th>\n",
              "      <th>load_day_num</th>\n",
              "      <th>approved_status</th>\n",
              "      <th>ruleA</th>\n",
              "      <th>ruleB</th>\n",
              "      <th>rule1</th>\n",
              "      <th>rule2</th>\n",
              "      <th>rule3</th>\n",
              "    </tr>\n",
              "  </thead>\n",
              "  <tbody>\n",
              "    <tr>\n",
              "      <th>0</th>\n",
              "      <td>1</td>\n",
              "      <td>10694</td>\n",
              "      <td>600.11</td>\n",
              "      <td>2000-01-01T03:04:06Z</td>\n",
              "      <td>2052</td>\n",
              "      <td>2001</td>\n",
              "      <td>True</td>\n",
              "      <td>True</td>\n",
              "      <td>True</td>\n",
              "      <td>True</td>\n",
              "      <td>True</td>\n",
              "      <td>True</td>\n",
              "    </tr>\n",
              "    <tr>\n",
              "      <th>1</th>\n",
              "      <td>1</td>\n",
              "      <td>10695</td>\n",
              "      <td>600.11</td>\n",
              "      <td>2000-01-01T03:05:06Z</td>\n",
              "      <td>2052</td>\n",
              "      <td>2001</td>\n",
              "      <td>True</td>\n",
              "      <td>True</td>\n",
              "      <td>True</td>\n",
              "      <td>True</td>\n",
              "      <td>True</td>\n",
              "      <td>True</td>\n",
              "    </tr>\n",
              "    <tr>\n",
              "      <th>2</th>\n",
              "      <td>1</td>\n",
              "      <td>10696</td>\n",
              "      <td>600.11</td>\n",
              "      <td>2000-01-01T03:06:06Z</td>\n",
              "      <td>2052</td>\n",
              "      <td>2001</td>\n",
              "      <td>True</td>\n",
              "      <td>True</td>\n",
              "      <td>True</td>\n",
              "      <td>True</td>\n",
              "      <td>True</td>\n",
              "      <td>True</td>\n",
              "    </tr>\n",
              "    <tr>\n",
              "      <th>3</th>\n",
              "      <td>1</td>\n",
              "      <td>10697</td>\n",
              "      <td>600.11</td>\n",
              "      <td>2000-01-01T03:07:06Z</td>\n",
              "      <td>2052</td>\n",
              "      <td>2001</td>\n",
              "      <td>False</td>\n",
              "      <td>True</td>\n",
              "      <td>True</td>\n",
              "      <td>True</td>\n",
              "      <td>False</td>\n",
              "      <td>True</td>\n",
              "    </tr>\n",
              "  </tbody>\n",
              "</table>\n",
              "</div>"
            ],
            "text/plain": [
              "   customer_id load_id  load_amt  ... rule1  rule2  rule3\n",
              "0            1   10694    600.11  ...  True   True   True\n",
              "1            1   10695    600.11  ...  True   True   True\n",
              "2            1   10696    600.11  ...  True   True   True\n",
              "3            1   10697    600.11  ...  True  False   True\n",
              "\n",
              "[4 rows x 12 columns]"
            ]
          },
          "metadata": {
            "tags": []
          },
          "execution_count": 575
        }
      ]
    },
    {
      "cell_type": "code",
      "metadata": {
        "id": "U9tGb2zymmrL",
        "outputId": "07ccad81-e1db-4b0f-b377-8d7520110cea",
        "colab": {
          "base_uri": "https://localhost:8080/",
          "height": 202
        }
      },
      "source": [
        "cust1.valid_loads"
      ],
      "execution_count": null,
      "outputs": [
        {
          "output_type": "execute_result",
          "data": {
            "text/html": [
              "<div>\n",
              "<style scoped>\n",
              "    .dataframe tbody tr th:only-of-type {\n",
              "        vertical-align: middle;\n",
              "    }\n",
              "\n",
              "    .dataframe tbody tr th {\n",
              "        vertical-align: top;\n",
              "    }\n",
              "\n",
              "    .dataframe thead th {\n",
              "        text-align: right;\n",
              "    }\n",
              "</style>\n",
              "<table border=\"1\" class=\"dataframe\">\n",
              "  <thead>\n",
              "    <tr style=\"text-align: right;\">\n",
              "      <th></th>\n",
              "      <th>customer_id</th>\n",
              "      <th>load_id</th>\n",
              "      <th>load_amt</th>\n",
              "      <th>load_time</th>\n",
              "      <th>load_week_num</th>\n",
              "      <th>load_day_num</th>\n",
              "      <th>approved_status</th>\n",
              "      <th>ruleA</th>\n",
              "      <th>ruleB</th>\n",
              "      <th>rule1</th>\n",
              "      <th>rule2</th>\n",
              "      <th>rule3</th>\n",
              "      <th>cum_weekly_deps</th>\n",
              "      <th>cum_daily_deps</th>\n",
              "      <th>num_daily_deps</th>\n",
              "      <th>weekly_deps_left</th>\n",
              "      <th>daily_deps_left</th>\n",
              "      <th>num_daily_deps_left</th>\n",
              "    </tr>\n",
              "  </thead>\n",
              "  <tbody>\n",
              "    <tr>\n",
              "      <th>0</th>\n",
              "      <td>1</td>\n",
              "      <td>10694</td>\n",
              "      <td>600.11</td>\n",
              "      <td>2000-01-01T03:04:06Z</td>\n",
              "      <td>2052</td>\n",
              "      <td>2001</td>\n",
              "      <td>True</td>\n",
              "      <td>True</td>\n",
              "      <td>True</td>\n",
              "      <td>True</td>\n",
              "      <td>True</td>\n",
              "      <td>True</td>\n",
              "      <td>600.11</td>\n",
              "      <td>600.11</td>\n",
              "      <td>1</td>\n",
              "      <td>19399.89</td>\n",
              "      <td>4399.89</td>\n",
              "      <td>2</td>\n",
              "    </tr>\n",
              "    <tr>\n",
              "      <th>1</th>\n",
              "      <td>1</td>\n",
              "      <td>10695</td>\n",
              "      <td>600.11</td>\n",
              "      <td>2000-01-01T03:05:06Z</td>\n",
              "      <td>2052</td>\n",
              "      <td>2001</td>\n",
              "      <td>True</td>\n",
              "      <td>True</td>\n",
              "      <td>True</td>\n",
              "      <td>True</td>\n",
              "      <td>True</td>\n",
              "      <td>True</td>\n",
              "      <td>1200.22</td>\n",
              "      <td>1200.22</td>\n",
              "      <td>2</td>\n",
              "      <td>18799.78</td>\n",
              "      <td>3799.78</td>\n",
              "      <td>1</td>\n",
              "    </tr>\n",
              "    <tr>\n",
              "      <th>2</th>\n",
              "      <td>1</td>\n",
              "      <td>10696</td>\n",
              "      <td>600.11</td>\n",
              "      <td>2000-01-01T03:06:06Z</td>\n",
              "      <td>2052</td>\n",
              "      <td>2001</td>\n",
              "      <td>True</td>\n",
              "      <td>True</td>\n",
              "      <td>True</td>\n",
              "      <td>True</td>\n",
              "      <td>True</td>\n",
              "      <td>True</td>\n",
              "      <td>1800.33</td>\n",
              "      <td>1800.33</td>\n",
              "      <td>3</td>\n",
              "      <td>18199.67</td>\n",
              "      <td>3199.67</td>\n",
              "      <td>0</td>\n",
              "    </tr>\n",
              "  </tbody>\n",
              "</table>\n",
              "</div>"
            ],
            "text/plain": [
              "   customer_id load_id  ...  daily_deps_left num_daily_deps_left\n",
              "0            1   10694  ...          4399.89                   2\n",
              "1            1   10695  ...          3799.78                   1\n",
              "2            1   10696  ...          3199.67                   0\n",
              "\n",
              "[3 rows x 18 columns]"
            ]
          },
          "metadata": {
            "tags": []
          },
          "execution_count": 580
        }
      ]
    },
    {
      "cell_type": "code",
      "metadata": {
        "id": "s62dFr4lqGIw"
      },
      "source": [
        "load1 = Load('10697', '$600.11', '2000-01-01T03:07:06Z')"
      ],
      "execution_count": null,
      "outputs": []
    },
    {
      "cell_type": "code",
      "metadata": {
        "id": "yviVjQ76wFKa",
        "outputId": "742f6c2f-bacc-4cc2-d6d4-6cf58dcfc8a2",
        "colab": {
          "base_uri": "https://localhost:8080/",
          "height": 33
        }
      },
      "source": [
        "load1.load_day_num in list(cust1.valid_loads.load_day_num)"
      ],
      "execution_count": null,
      "outputs": [
        {
          "output_type": "execute_result",
          "data": {
            "text/plain": [
              "True"
            ]
          },
          "metadata": {
            "tags": []
          },
          "execution_count": 585
        }
      ]
    },
    {
      "cell_type": "code",
      "metadata": {
        "id": "Yff3NZ_OwChb",
        "outputId": "bc9f1f60-bc57-4de1-ad0c-0fdedf6b6ac3",
        "colab": {
          "base_uri": "https://localhost:8080/",
          "height": 82
        }
      },
      "source": [
        ""
      ],
      "execution_count": null,
      "outputs": [
        {
          "output_type": "execute_result",
          "data": {
            "text/plain": [
              "0    2001\n",
              "1    2001\n",
              "2    2001\n",
              "Name: load_day_num, dtype: int64"
            ]
          },
          "metadata": {
            "tags": []
          },
          "execution_count": 583
        }
      ]
    },
    {
      "cell_type": "code",
      "metadata": {
        "id": "_XZ6voKzrWAk"
      },
      "source": [
        "if hasattr(cust1, 'valid_loads') and len(cust1.valid_loads)>0:\n",
        "  if len(cust1.valid_loads[cust1.valid_loads['load_day_num']==cust1.loads[-1].load_day_num]['num_daily_deps_left'] > 0): \n",
        "    cust1.daily_loads_left = cust1.valid_loads[cust1.valid_loads['load_day_num']==cust1.loads[-1].load_day_num]['num_daily_deps_left'].iloc[-1]\n",
        "\n",
        "else: \n",
        "  cust1.daily_loads_left = cust1.daily_loads_limit \n"
      ],
      "execution_count": null,
      "outputs": []
    },
    {
      "cell_type": "code",
      "metadata": {
        "id": "JAjqCGsPuTtF",
        "outputId": "e04a9d32-cb4f-499b-fcae-3ad2149af6e3",
        "colab": {
          "base_uri": "https://localhost:8080/",
          "height": 33
        }
      },
      "source": [
        "cust1.daily_loads_left"
      ],
      "execution_count": null,
      "outputs": [
        {
          "output_type": "execute_result",
          "data": {
            "text/plain": [
              "0"
            ]
          },
          "metadata": {
            "tags": []
          },
          "execution_count": 569
        }
      ]
    },
    {
      "cell_type": "code",
      "metadata": {
        "id": "E7PMvYR1uWL7",
        "outputId": "588a5b90-ab1b-4d6a-a063-c08ab4dd156a",
        "colab": {
          "base_uri": "https://localhost:8080/",
          "height": 33
        }
      },
      "source": [
        "len(cust1.valid_loads)>0"
      ],
      "execution_count": null,
      "outputs": [
        {
          "output_type": "execute_result",
          "data": {
            "text/plain": [
              "True"
            ]
          },
          "metadata": {
            "tags": []
          },
          "execution_count": 549
        }
      ]
    },
    {
      "cell_type": "code",
      "metadata": {
        "id": "F9LZBpqOuZEr",
        "outputId": "3065e909-c01c-4acd-a63c-435d7dbb7801",
        "colab": {
          "base_uri": "https://localhost:8080/",
          "height": 112
        }
      },
      "source": [
        "cust1.valid_loads[cust1.valid_loads['load_day_num']==cust1.loads[-1].load_day_num]"
      ],
      "execution_count": null,
      "outputs": [
        {
          "output_type": "execute_result",
          "data": {
            "text/html": [
              "<div>\n",
              "<style scoped>\n",
              "    .dataframe tbody tr th:only-of-type {\n",
              "        vertical-align: middle;\n",
              "    }\n",
              "\n",
              "    .dataframe tbody tr th {\n",
              "        vertical-align: top;\n",
              "    }\n",
              "\n",
              "    .dataframe thead th {\n",
              "        text-align: right;\n",
              "    }\n",
              "</style>\n",
              "<table border=\"1\" class=\"dataframe\">\n",
              "  <thead>\n",
              "    <tr style=\"text-align: right;\">\n",
              "      <th></th>\n",
              "      <th>customer_id</th>\n",
              "      <th>load_id</th>\n",
              "      <th>load_amt</th>\n",
              "      <th>load_time</th>\n",
              "      <th>load_week_num</th>\n",
              "      <th>load_day_num</th>\n",
              "      <th>approved_status</th>\n",
              "      <th>ruleA</th>\n",
              "      <th>ruleB</th>\n",
              "      <th>rule1</th>\n",
              "      <th>rule2</th>\n",
              "      <th>rule3</th>\n",
              "      <th>cum_weekly_deps</th>\n",
              "      <th>cum_daily_deps</th>\n",
              "      <th>num_daily_deps</th>\n",
              "      <th>weekly_deps_left</th>\n",
              "      <th>daily_deps_left</th>\n",
              "      <th>num_daily_deps_left</th>\n",
              "    </tr>\n",
              "  </thead>\n",
              "  <tbody>\n",
              "    <tr>\n",
              "      <th>4</th>\n",
              "      <td>1</td>\n",
              "      <td>10698</td>\n",
              "      <td>600.11</td>\n",
              "      <td>2000-01-02T03:07:06Z</td>\n",
              "      <td>2052</td>\n",
              "      <td>2002</td>\n",
              "      <td>True</td>\n",
              "      <td>True</td>\n",
              "      <td>True</td>\n",
              "      <td>True</td>\n",
              "      <td>True</td>\n",
              "      <td>True</td>\n",
              "      <td>3000.55</td>\n",
              "      <td>600.11</td>\n",
              "      <td>1</td>\n",
              "      <td>16999.45</td>\n",
              "      <td>4399.89</td>\n",
              "      <td>2</td>\n",
              "    </tr>\n",
              "  </tbody>\n",
              "</table>\n",
              "</div>"
            ],
            "text/plain": [
              "   customer_id load_id  ...  daily_deps_left num_daily_deps_left\n",
              "4            1   10698  ...          4399.89                   2\n",
              "\n",
              "[1 rows x 18 columns]"
            ]
          },
          "metadata": {
            "tags": []
          },
          "execution_count": 550
        }
      ]
    },
    {
      "cell_type": "code",
      "metadata": {
        "id": "3Dr8Sq0DuhJJ"
      },
      "source": [
        ""
      ],
      "execution_count": null,
      "outputs": []
    }
  ]
}