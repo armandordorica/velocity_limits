{
  "nbformat": 4,
  "nbformat_minor": 0,
  "metadata": {
    "colab": {
      "name": "Velocity_limits.ipynb",
      "provenance": [],
      "toc_visible": true,
      "authorship_tag": "ABX9TyOZXxcA7dnpLepm4flTf2eV",
      "include_colab_link": true
    },
    "kernelspec": {
      "name": "python3",
      "display_name": "Python 3"
    }
  },
  "cells": [
    {
      "cell_type": "markdown",
      "metadata": {
        "id": "view-in-github",
        "colab_type": "text"
      },
      "source": [
        "<a href=\"https://colab.research.google.com/github/armandordorica/velocity_limits/blob/main/Velocity_limits.ipynb\" target=\"_parent\"><img src=\"https://colab.research.google.com/assets/colab-badge.svg\" alt=\"Open In Colab\"/></a>"
      ]
    },
    {
      "cell_type": "code",
      "metadata": {
        "id": "GcGVYqg7JEcL",
        "outputId": "c5b52c04-b2ad-478f-e0df-f81000462b19",
        "colab": {
          "base_uri": "https://localhost:8080/",
          "height": 35
        }
      },
      "source": [
        "\"\"\"\n",
        "{\"id\":\"15887\",\"customer_id\":\"528\",\"load_amount\":\"$3318.47\",\"time\":\"2000-01-01T00:00:00Z\"}\n",
        "{\"id\":\"30081\",\"customer_id\":\"154\",\"load_amount\":\"$1413.18\",\"time\":\"2000-01-01T01:01:22Z\"}\n",
        "\"\"\""
      ],
      "execution_count": null,
      "outputs": [
        {
          "output_type": "execute_result",
          "data": {
            "application/vnd.google.colaboratory.intrinsic+json": {
              "type": "string"
            },
            "text/plain": [
              "'\\n{\"id\":\"15887\",\"customer_id\":\"528\",\"load_amount\":\"$3318.47\",\"time\":\"2000-01-01T00:00:00Z\"}\\n{\"id\":\"30081\",\"customer_id\":\"154\",\"load_amount\":\"$1413.18\",\"time\":\"2000-01-01T01:01:22Z\"}\\n'"
            ]
          },
          "metadata": {
            "tags": []
          },
          "execution_count": 9
        }
      ]
    },
    {
      "cell_type": "code",
      "metadata": {
        "id": "bjYQbMshIpjb",
        "outputId": "996d4039-e501-44d3-c9c1-8a4006daee4c",
        "colab": {
          "base_uri": "https://localhost:8080/",
          "height": 115
        }
      },
      "source": [
        "!git clone https://github.com/armandordorica/velocity_limits.git"
      ],
      "execution_count": 1,
      "outputs": [
        {
          "output_type": "stream",
          "text": [
            "Cloning into 'velocity_limits'...\n",
            "remote: Enumerating objects: 11, done.\u001b[K\n",
            "remote: Counting objects: 100% (11/11), done.\u001b[K\n",
            "remote: Compressing objects: 100% (10/10), done.\u001b[K\n",
            "remote: Total 11 (delta 0), reused 0 (delta 0), pack-reused 0\u001b[K\n",
            "Unpacking objects: 100% (11/11), done.\n"
          ],
          "name": "stdout"
        }
      ]
    },
    {
      "cell_type": "markdown",
      "metadata": {
        "id": "swrmkrSqm5Vi"
      },
      "source": [
        "In finance, it's common for accounts to have so-called \"velocity limits\". In this task, you'll write a program that accepts or declines attempts to load funds into customers' accounts in real-time.\n",
        "\n",
        "Each attempt to load funds will come as a single-line JSON payload, structured as follows:\n",
        "\n",
        "```json\n",
        "{ \"id\": \"1234\", \"customer_id\": \"1234\", \"load_amount\": \"$123.45\", \"time\": \"2018-01-01T00:00:00Z\" }\n",
        "```\n",
        "\n",
        "Each customer is subject to three limits:\n",
        "\n",
        "- A maximum of $\\$5,000$ can be loaded per day\n",
        "- A maximum of $\\$20,000$ can be loaded per week\n",
        "- A maximum of 3 loads can be performed per day, regardless of amount\n",
        "\n",
        "As such, a user attempting to load $\\$3,000$ twice in one day would be declined on the second attempt, as would a user attempting to load $400 four times in a day.\n",
        "\n",
        "For each load attempt, you should return a JSON response indicating whether the fund load was accepted based on the user's activity, with the structure:\n",
        "\n",
        "```json\n",
        "{ \"id\": \"1234\", \"customer_id\": \"1234\", \"accepted\": true }\n",
        "```\n",
        "\n",
        "You can assume that the input arrives in ascending chronological order and that if a load ID is observed more than once for a particular user, all but the first instance can be ignored. Each day is considered to end at midnight UTC, and weeks start on Monday (i.e. one second after 23:59:59 on Sunday).\n",
        "\n",
        "Your program should process lines from `input.txt` and return output in the format specified above, either to standard output or a file. Expected output given our input data can be found in `output.txt`.\n",
        "\n",
        "You're welcome to write your program in a general-purpose language of your choosing.\n",
        "\n",
        "We value well-structured, self-documenting code with sensible test coverage. Descriptive function and variable names are appreciated, as is isolating your business logic from the rest of your code.\n"
      ]
    },
    {
      "cell_type": "code",
      "metadata": {
        "id": "el3Z0AiLIrip",
        "outputId": "d333a264-2ee3-43c7-e10f-0d13474a94a4",
        "colab": {
          "base_uri": "https://localhost:8080/",
          "height": 50
        }
      },
      "source": [
        "ls"
      ],
      "execution_count": 42,
      "outputs": [
        {
          "output_type": "stream",
          "text": [
            "AccountsController.py  output_accounts.py  output.txt    README.md\n",
            "input.txt              output_amar.txt     \u001b[0m\u001b[01;34m__pycache__\u001b[0m/\n"
          ],
          "name": "stdout"
        }
      ]
    },
    {
      "cell_type": "code",
      "metadata": {
        "id": "bIwR6bYZIwcX",
        "outputId": "c4408fae-a5ba-4ff3-e143-0cdd17b21468",
        "colab": {
          "base_uri": "https://localhost:8080/",
          "height": 50
        }
      },
      "source": [
        "cd velocity_limits/"
      ],
      "execution_count": 43,
      "outputs": [
        {
          "output_type": "stream",
          "text": [
            "[Errno 2] No such file or directory: 'velocity_limits/'\n",
            "/content/velocity_limits/takehome\n"
          ],
          "name": "stdout"
        }
      ]
    },
    {
      "cell_type": "code",
      "metadata": {
        "id": "aM5QTNkMIyGF",
        "outputId": "43e217a7-99be-432d-a8c2-bbc21db99696",
        "colab": {
          "base_uri": "https://localhost:8080/",
          "height": 50
        }
      },
      "source": [
        "ls"
      ],
      "execution_count": 44,
      "outputs": [
        {
          "output_type": "stream",
          "text": [
            "AccountsController.py  output_accounts.py  output.txt    README.md\n",
            "input.txt              output_amar.txt     \u001b[0m\u001b[01;34m__pycache__\u001b[0m/\n"
          ],
          "name": "stdout"
        }
      ]
    },
    {
      "cell_type": "code",
      "metadata": {
        "id": "rVSOnc4uIyZX",
        "outputId": "e2866f3e-c9e6-42d2-8189-ccbcf54cda56",
        "colab": {
          "base_uri": "https://localhost:8080/",
          "height": 50
        }
      },
      "source": [
        "cd takehome/"
      ],
      "execution_count": 45,
      "outputs": [
        {
          "output_type": "stream",
          "text": [
            "[Errno 2] No such file or directory: 'takehome/'\n",
            "/content/velocity_limits/takehome\n"
          ],
          "name": "stdout"
        }
      ]
    },
    {
      "cell_type": "code",
      "metadata": {
        "id": "ue62lXbuIzyH",
        "outputId": "f703b9ca-d200-4ef8-cccd-cc5532a10f46",
        "colab": {
          "base_uri": "https://localhost:8080/",
          "height": 50
        }
      },
      "source": [
        "ls"
      ],
      "execution_count": 6,
      "outputs": [
        {
          "output_type": "stream",
          "text": [
            "AccountsController.py  output_accounts.py  output.txt    README.md\n",
            "input.txt              output_amar.txt     \u001b[0m\u001b[01;34m__pycache__\u001b[0m/\n"
          ],
          "name": "stdout"
        }
      ]
    },
    {
      "cell_type": "code",
      "metadata": {
        "id": "dpGVUnfCI0Hv",
        "outputId": "b4438b26-b635-4a9d-8df9-15330a6caf43",
        "colab": {
          "base_uri": "https://localhost:8080/",
          "height": 115
        }
      },
      "source": [
        "input_data = pd.read_json('input.txt', lines=True)\n",
        "input_data.head(), len(input_data)"
      ],
      "execution_count": 94,
      "outputs": [
        {
          "output_type": "execute_result",
          "data": {
            "text/plain": [
              "(      id  customer_id load_amount                  time\n",
              " 0  15887          528    $3318.47  2000-01-01T00:00:00Z\n",
              " 1  30081          154    $1413.18  2000-01-01T01:01:22Z\n",
              " 2  26540          426     $404.56  2000-01-01T02:02:44Z\n",
              " 3  10694            1     $785.11  2000-01-01T03:04:06Z\n",
              " 4  15089          205    $2247.28  2000-01-01T04:05:28Z, 1000)"
            ]
          },
          "metadata": {
            "tags": []
          },
          "execution_count": 94
        }
      ]
    },
    {
      "cell_type": "code",
      "metadata": {
        "id": "A5oVRKpdrQAE",
        "outputId": "27ab912d-c826-4684-b9aa-157903dd6a65",
        "colab": {
          "base_uri": "https://localhost:8080/",
          "height": 115
        }
      },
      "source": [
        "output_data = pd.read_json(\"output.txt\", lines=True)\n",
        "output_data.head(), len(output_data)"
      ],
      "execution_count": 95,
      "outputs": [
        {
          "output_type": "execute_result",
          "data": {
            "text/plain": [
              "(      id  customer_id  accepted\n",
              " 0  15887          528      True\n",
              " 1  30081          154      True\n",
              " 2  26540          426      True\n",
              " 3  10694            1      True\n",
              " 4  15089          205      True, 999)"
            ]
          },
          "metadata": {
            "tags": []
          },
          "execution_count": 95
        }
      ]
    },
    {
      "cell_type": "code",
      "metadata": {
        "id": "6QCZPQ3FutPf",
        "outputId": "53f3c84d-9310-4824-8b7c-036386a2c26c",
        "colab": {
          "base_uri": "https://localhost:8080/",
          "height": 115
        }
      },
      "source": [
        "output_amar_data = pd.read_json(\"output_amar.txt\", lines=True)\n",
        "output_amar_data.head(), len(output_amar_data)"
      ],
      "execution_count": 112,
      "outputs": [
        {
          "output_type": "execute_result",
          "data": {
            "text/plain": [
              "(   accepted  customer_id     id\n",
              " 0      True          528  15887\n",
              " 1      True          154  30081\n",
              " 2      True          426  26540\n",
              " 3      True            1  10694\n",
              " 4      True          205  15089, 999)"
            ]
          },
          "metadata": {
            "tags": []
          },
          "execution_count": 112
        }
      ]
    },
    {
      "cell_type": "code",
      "metadata": {
        "id": "O4cG-t3mrdbm"
      },
      "source": [
        "common_df= pd.merge(input_data, output_data, how='inner' ,left_on=['id', 'customer_id'], right_on=['id', 'customer_id'])"
      ],
      "execution_count": 99,
      "outputs": []
    },
    {
      "cell_type": "code",
      "metadata": {
        "id": "lU4cwXrNs5nH",
        "outputId": "e638066f-593c-469c-ea20-025ee24bf804",
        "colab": {
          "base_uri": "https://localhost:8080/",
          "height": 191
        }
      },
      "source": [
        "common_df.head()"
      ],
      "execution_count": 100,
      "outputs": [
        {
          "output_type": "execute_result",
          "data": {
            "text/html": [
              "<div>\n",
              "<style scoped>\n",
              "    .dataframe tbody tr th:only-of-type {\n",
              "        vertical-align: middle;\n",
              "    }\n",
              "\n",
              "    .dataframe tbody tr th {\n",
              "        vertical-align: top;\n",
              "    }\n",
              "\n",
              "    .dataframe thead th {\n",
              "        text-align: right;\n",
              "    }\n",
              "</style>\n",
              "<table border=\"1\" class=\"dataframe\">\n",
              "  <thead>\n",
              "    <tr style=\"text-align: right;\">\n",
              "      <th></th>\n",
              "      <th>id</th>\n",
              "      <th>customer_id</th>\n",
              "      <th>load_amount</th>\n",
              "      <th>time</th>\n",
              "      <th>accepted</th>\n",
              "    </tr>\n",
              "  </thead>\n",
              "  <tbody>\n",
              "    <tr>\n",
              "      <th>0</th>\n",
              "      <td>15887</td>\n",
              "      <td>528</td>\n",
              "      <td>$3318.47</td>\n",
              "      <td>2000-01-01T00:00:00Z</td>\n",
              "      <td>True</td>\n",
              "    </tr>\n",
              "    <tr>\n",
              "      <th>1</th>\n",
              "      <td>30081</td>\n",
              "      <td>154</td>\n",
              "      <td>$1413.18</td>\n",
              "      <td>2000-01-01T01:01:22Z</td>\n",
              "      <td>True</td>\n",
              "    </tr>\n",
              "    <tr>\n",
              "      <th>2</th>\n",
              "      <td>26540</td>\n",
              "      <td>426</td>\n",
              "      <td>$404.56</td>\n",
              "      <td>2000-01-01T02:02:44Z</td>\n",
              "      <td>True</td>\n",
              "    </tr>\n",
              "    <tr>\n",
              "      <th>3</th>\n",
              "      <td>10694</td>\n",
              "      <td>1</td>\n",
              "      <td>$785.11</td>\n",
              "      <td>2000-01-01T03:04:06Z</td>\n",
              "      <td>True</td>\n",
              "    </tr>\n",
              "    <tr>\n",
              "      <th>4</th>\n",
              "      <td>15089</td>\n",
              "      <td>205</td>\n",
              "      <td>$2247.28</td>\n",
              "      <td>2000-01-01T04:05:28Z</td>\n",
              "      <td>True</td>\n",
              "    </tr>\n",
              "  </tbody>\n",
              "</table>\n",
              "</div>"
            ],
            "text/plain": [
              "      id  customer_id load_amount                  time  accepted\n",
              "0  15887          528    $3318.47  2000-01-01T00:00:00Z      True\n",
              "1  30081          154    $1413.18  2000-01-01T01:01:22Z      True\n",
              "2  26540          426     $404.56  2000-01-01T02:02:44Z      True\n",
              "3  10694            1     $785.11  2000-01-01T03:04:06Z      True\n",
              "4  15089          205    $2247.28  2000-01-01T04:05:28Z      True"
            ]
          },
          "metadata": {
            "tags": []
          },
          "execution_count": 100
        }
      ]
    },
    {
      "cell_type": "code",
      "metadata": {
        "id": "yVge9arhtS4s"
      },
      "source": [
        "id_counts = common_df.groupby(['id']).count()"
      ],
      "execution_count": 106,
      "outputs": []
    },
    {
      "cell_type": "code",
      "metadata": {
        "id": "rRDm5xvhtbma",
        "outputId": "155484f6-8f28-4075-cb08-40a4660ee866",
        "colab": {
          "base_uri": "https://localhost:8080/",
          "height": 536
        }
      },
      "source": [
        "id_counts[id_counts['customer_id']>1]"
      ],
      "execution_count": 108,
      "outputs": [
        {
          "output_type": "execute_result",
          "data": {
            "text/html": [
              "<div>\n",
              "<style scoped>\n",
              "    .dataframe tbody tr th:only-of-type {\n",
              "        vertical-align: middle;\n",
              "    }\n",
              "\n",
              "    .dataframe tbody tr th {\n",
              "        vertical-align: top;\n",
              "    }\n",
              "\n",
              "    .dataframe thead th {\n",
              "        text-align: right;\n",
              "    }\n",
              "</style>\n",
              "<table border=\"1\" class=\"dataframe\">\n",
              "  <thead>\n",
              "    <tr style=\"text-align: right;\">\n",
              "      <th></th>\n",
              "      <th>customer_id</th>\n",
              "      <th>load_amount</th>\n",
              "      <th>time</th>\n",
              "      <th>accepted</th>\n",
              "    </tr>\n",
              "    <tr>\n",
              "      <th>id</th>\n",
              "      <th></th>\n",
              "      <th></th>\n",
              "      <th></th>\n",
              "      <th></th>\n",
              "    </tr>\n",
              "  </thead>\n",
              "  <tbody>\n",
              "    <tr>\n",
              "      <th>1827</th>\n",
              "      <td>2</td>\n",
              "      <td>2</td>\n",
              "      <td>2</td>\n",
              "      <td>2</td>\n",
              "    </tr>\n",
              "    <tr>\n",
              "      <th>5330</th>\n",
              "      <td>2</td>\n",
              "      <td>2</td>\n",
              "      <td>2</td>\n",
              "      <td>2</td>\n",
              "    </tr>\n",
              "    <tr>\n",
              "      <th>5472</th>\n",
              "      <td>2</td>\n",
              "      <td>2</td>\n",
              "      <td>2</td>\n",
              "      <td>2</td>\n",
              "    </tr>\n",
              "    <tr>\n",
              "      <th>6591</th>\n",
              "      <td>2</td>\n",
              "      <td>2</td>\n",
              "      <td>2</td>\n",
              "      <td>2</td>\n",
              "    </tr>\n",
              "    <tr>\n",
              "      <th>6928</th>\n",
              "      <td>2</td>\n",
              "      <td>2</td>\n",
              "      <td>2</td>\n",
              "      <td>2</td>\n",
              "    </tr>\n",
              "    <tr>\n",
              "      <th>7185</th>\n",
              "      <td>2</td>\n",
              "      <td>2</td>\n",
              "      <td>2</td>\n",
              "      <td>2</td>\n",
              "    </tr>\n",
              "    <tr>\n",
              "      <th>7518</th>\n",
              "      <td>2</td>\n",
              "      <td>2</td>\n",
              "      <td>2</td>\n",
              "      <td>2</td>\n",
              "    </tr>\n",
              "    <tr>\n",
              "      <th>10041</th>\n",
              "      <td>2</td>\n",
              "      <td>2</td>\n",
              "      <td>2</td>\n",
              "      <td>2</td>\n",
              "    </tr>\n",
              "    <tr>\n",
              "      <th>13812</th>\n",
              "      <td>2</td>\n",
              "      <td>2</td>\n",
              "      <td>2</td>\n",
              "      <td>2</td>\n",
              "    </tr>\n",
              "    <tr>\n",
              "      <th>19254</th>\n",
              "      <td>2</td>\n",
              "      <td>2</td>\n",
              "      <td>2</td>\n",
              "      <td>2</td>\n",
              "    </tr>\n",
              "    <tr>\n",
              "      <th>19518</th>\n",
              "      <td>2</td>\n",
              "      <td>2</td>\n",
              "      <td>2</td>\n",
              "      <td>2</td>\n",
              "    </tr>\n",
              "    <tr>\n",
              "      <th>29417</th>\n",
              "      <td>2</td>\n",
              "      <td>2</td>\n",
              "      <td>2</td>\n",
              "      <td>2</td>\n",
              "    </tr>\n",
              "    <tr>\n",
              "      <th>29513</th>\n",
              "      <td>2</td>\n",
              "      <td>2</td>\n",
              "      <td>2</td>\n",
              "      <td>2</td>\n",
              "    </tr>\n",
              "    <tr>\n",
              "      <th>30123</th>\n",
              "      <td>2</td>\n",
              "      <td>2</td>\n",
              "      <td>2</td>\n",
              "      <td>2</td>\n",
              "    </tr>\n",
              "    <tr>\n",
              "      <th>30675</th>\n",
              "      <td>2</td>\n",
              "      <td>2</td>\n",
              "      <td>2</td>\n",
              "      <td>2</td>\n",
              "    </tr>\n",
              "    <tr>\n",
              "      <th>30826</th>\n",
              "      <td>2</td>\n",
              "      <td>2</td>\n",
              "      <td>2</td>\n",
              "      <td>2</td>\n",
              "    </tr>\n",
              "  </tbody>\n",
              "</table>\n",
              "</div>"
            ],
            "text/plain": [
              "       customer_id  load_amount  time  accepted\n",
              "id                                             \n",
              "1827             2            2     2         2\n",
              "5330             2            2     2         2\n",
              "5472             2            2     2         2\n",
              "6591             2            2     2         2\n",
              "6928             2            2     2         2\n",
              "7185             2            2     2         2\n",
              "7518             2            2     2         2\n",
              "10041            2            2     2         2\n",
              "13812            2            2     2         2\n",
              "19254            2            2     2         2\n",
              "19518            2            2     2         2\n",
              "29417            2            2     2         2\n",
              "29513            2            2     2         2\n",
              "30123            2            2     2         2\n",
              "30675            2            2     2         2\n",
              "30826            2            2     2         2"
            ]
          },
          "metadata": {
            "tags": []
          },
          "execution_count": 108
        }
      ]
    },
    {
      "cell_type": "code",
      "metadata": {
        "id": "RowbWyJOtgyL",
        "outputId": "df84a912-2d4a-41cd-883f-7c8fb25099b9",
        "colab": {
          "base_uri": "https://localhost:8080/",
          "height": 105
        }
      },
      "source": [
        "common_df[common_df['id']==1827]"
      ],
      "execution_count": 111,
      "outputs": [
        {
          "output_type": "execute_result",
          "data": {
            "text/html": [
              "<div>\n",
              "<style scoped>\n",
              "    .dataframe tbody tr th:only-of-type {\n",
              "        vertical-align: middle;\n",
              "    }\n",
              "\n",
              "    .dataframe tbody tr th {\n",
              "        vertical-align: top;\n",
              "    }\n",
              "\n",
              "    .dataframe thead th {\n",
              "        text-align: right;\n",
              "    }\n",
              "</style>\n",
              "<table border=\"1\" class=\"dataframe\">\n",
              "  <thead>\n",
              "    <tr style=\"text-align: right;\">\n",
              "      <th></th>\n",
              "      <th>id</th>\n",
              "      <th>customer_id</th>\n",
              "      <th>load_amount</th>\n",
              "      <th>time</th>\n",
              "      <th>accepted</th>\n",
              "    </tr>\n",
              "  </thead>\n",
              "  <tbody>\n",
              "    <tr>\n",
              "      <th>345</th>\n",
              "      <td>1827</td>\n",
              "      <td>698</td>\n",
              "      <td>$971.86</td>\n",
              "      <td>2000-01-15T15:50:08Z</td>\n",
              "      <td>True</td>\n",
              "    </tr>\n",
              "    <tr>\n",
              "      <th>701</th>\n",
              "      <td>1827</td>\n",
              "      <td>766</td>\n",
              "      <td>$4522.88</td>\n",
              "      <td>2000-01-30T20:58:02Z</td>\n",
              "      <td>False</td>\n",
              "    </tr>\n",
              "  </tbody>\n",
              "</table>\n",
              "</div>"
            ],
            "text/plain": [
              "       id  customer_id load_amount                  time  accepted\n",
              "345  1827          698     $971.86  2000-01-15T15:50:08Z      True\n",
              "701  1827          766    $4522.88  2000-01-30T20:58:02Z     False"
            ]
          },
          "metadata": {
            "tags": []
          },
          "execution_count": 111
        }
      ]
    },
    {
      "cell_type": "code",
      "metadata": {
        "id": "X8de_dmju0sd",
        "outputId": "8b12d70f-8ea4-42cc-9b1e-1bdb17c2a057",
        "colab": {
          "base_uri": "https://localhost:8080/",
          "height": 105
        }
      },
      "source": [
        "output_amar_data[output_amar_data['id']==1827]"
      ],
      "execution_count": 115,
      "outputs": [
        {
          "output_type": "execute_result",
          "data": {
            "text/html": [
              "<div>\n",
              "<style scoped>\n",
              "    .dataframe tbody tr th:only-of-type {\n",
              "        vertical-align: middle;\n",
              "    }\n",
              "\n",
              "    .dataframe tbody tr th {\n",
              "        vertical-align: top;\n",
              "    }\n",
              "\n",
              "    .dataframe thead th {\n",
              "        text-align: right;\n",
              "    }\n",
              "</style>\n",
              "<table border=\"1\" class=\"dataframe\">\n",
              "  <thead>\n",
              "    <tr style=\"text-align: right;\">\n",
              "      <th></th>\n",
              "      <th>accepted</th>\n",
              "      <th>customer_id</th>\n",
              "      <th>id</th>\n",
              "    </tr>\n",
              "  </thead>\n",
              "  <tbody>\n",
              "    <tr>\n",
              "      <th>344</th>\n",
              "      <td>True</td>\n",
              "      <td>698</td>\n",
              "      <td>1827</td>\n",
              "    </tr>\n",
              "    <tr>\n",
              "      <th>700</th>\n",
              "      <td>False</td>\n",
              "      <td>766</td>\n",
              "      <td>1827</td>\n",
              "    </tr>\n",
              "  </tbody>\n",
              "</table>\n",
              "</div>"
            ],
            "text/plain": [
              "     accepted  customer_id    id\n",
              "344      True          698  1827\n",
              "700     False          766  1827"
            ]
          },
          "metadata": {
            "tags": []
          },
          "execution_count": 115
        }
      ]
    },
    {
      "cell_type": "code",
      "metadata": {
        "id": "djbx5jrAlxn3"
      },
      "source": [
        "from AccountsController import AccountsController"
      ],
      "execution_count": 30,
      "outputs": []
    },
    {
      "cell_type": "code",
      "metadata": {
        "id": "oLtLYXP2lyVv"
      },
      "source": [
        "acct_ctrl1 = AccountsController()"
      ],
      "execution_count": 31,
      "outputs": []
    },
    {
      "cell_type": "code",
      "metadata": {
        "id": "LbmN2N0Pl1du",
        "outputId": "ccae96ca-cfd9-4d3a-d7d5-ee9513175b36",
        "colab": {
          "base_uri": "https://localhost:8080/",
          "height": 33
        }
      },
      "source": [
        "acct_ctrl1.daily_deposit_limit, acct_ctrl1.weekly_deposit_limit, acct_ctrl1.daily_loads"
      ],
      "execution_count": 36,
      "outputs": [
        {
          "output_type": "execute_result",
          "data": {
            "text/plain": [
              "(5000, 20000, 3)"
            ]
          },
          "metadata": {
            "tags": []
          },
          "execution_count": 36
        }
      ]
    },
    {
      "cell_type": "markdown",
      "metadata": {
        "id": "AyWNjRfemWsA"
      },
      "source": [
        "### As such, a user attempting to load $3,000 twice in one day would be declined on the second attempt"
      ]
    },
    {
      "cell_type": "code",
      "metadata": {
        "id": "q44895s7mlFZ",
        "outputId": "355088ce-c6b4-48e5-b950-a2877e50453d",
        "colab": {
          "base_uri": "https://localhost:8080/",
          "height": 33
        }
      },
      "source": [
        "acct_ctrl1.processUserLoad(input_data_list[0])"
      ],
      "execution_count": 40,
      "outputs": [
        {
          "output_type": "execute_result",
          "data": {
            "text/plain": [
              "{'accepted': True, 'customer_id': '528', 'id': '15887'}"
            ]
          },
          "metadata": {
            "tags": []
          },
          "execution_count": 40
        }
      ]
    },
    {
      "cell_type": "code",
      "metadata": {
        "id": "wr5Shiwkmphg",
        "outputId": "97f240a0-9451-4d1c-d954-3c208cc0b25b",
        "colab": {
          "base_uri": "https://localhost:8080/",
          "height": 33
        }
      },
      "source": [
        "acct_ctrl1.processUserLoad(input_data_list[0])"
      ],
      "execution_count": 41,
      "outputs": [
        {
          "output_type": "execute_result",
          "data": {
            "text/plain": [
              "{'accepted': False, 'customer_id': '528', 'id': '15887'}"
            ]
          },
          "metadata": {
            "tags": []
          },
          "execution_count": 41
        }
      ]
    },
    {
      "cell_type": "code",
      "metadata": {
        "id": "byuFFJPEmtf5",
        "outputId": "368956f1-75e0-449b-93f2-f3731f3cd604",
        "colab": {
          "base_uri": "https://localhost:8080/",
          "height": 33
        }
      },
      "source": [
        "acct_ctrl1"
      ],
      "execution_count": 46,
      "outputs": [
        {
          "output_type": "execute_result",
          "data": {
            "text/plain": [
              "<AccountsController.AccountsController at 0x7fcf19d74cc0>"
            ]
          },
          "metadata": {
            "tags": []
          },
          "execution_count": 46
        }
      ]
    },
    {
      "cell_type": "markdown",
      "metadata": {
        "id": "Ag_ViQ85m4bh"
      },
      "source": [
        " ### A user attempting to load $400 four times in a day should be declined "
      ]
    },
    {
      "cell_type": "code",
      "metadata": {
        "id": "sZeMG5vboDLu"
      },
      "source": [
        "acct_ctrl2 = AccountsController()"
      ],
      "execution_count": 47,
      "outputs": []
    },
    {
      "cell_type": "code",
      "metadata": {
        "id": "dDvL6fRVoJZB"
      },
      "source": [
        "# input_data_list"
      ],
      "execution_count": 50,
      "outputs": []
    },
    {
      "cell_type": "code",
      "metadata": {
        "id": "uK2aNo5loF7F",
        "outputId": "751c69c7-95b4-41d0-fb78-51f95bb1e1f1",
        "colab": {
          "base_uri": "https://localhost:8080/",
          "height": 33
        }
      },
      "source": [
        "loads = {'customer_id': '154',\n",
        "  'id': '404',\n",
        "  'load_amount': '$400.00',\n",
        "  'time': '2000-01-22T20:41:06Z'}\n",
        "\n",
        "acct_ctrl2.processUserLoad(load)"
      ],
      "execution_count": 51,
      "outputs": [
        {
          "output_type": "execute_result",
          "data": {
            "text/plain": [
              "{'accepted': True, 'customer_id': '154', 'id': '404'}"
            ]
          },
          "metadata": {
            "tags": []
          },
          "execution_count": 51
        }
      ]
    },
    {
      "cell_type": "code",
      "metadata": {
        "id": "OB9h_almooBx"
      },
      "source": [
        "input_file = open('input.txt', 'r')\n",
        "json_lines = input_file.readlines()"
      ],
      "execution_count": 56,
      "outputs": []
    },
    {
      "cell_type": "code",
      "metadata": {
        "id": "Bd7yeu-noo0o"
      },
      "source": [
        "# json_lines"
      ],
      "execution_count": 61,
      "outputs": []
    },
    {
      "cell_type": "code",
      "metadata": {
        "id": "v08U0Bkfo8aw"
      },
      "source": [
        "import json\n",
        "\n",
        "load_id_json = {}\n",
        "\n",
        "accounts_controller= AccountsController()\n",
        "\n",
        "#Create a write to file output_amar.txt\n",
        "with open('output_amar2.txt', 'w') as outfile:\n",
        "    for line in json_lines:\n",
        "        customer_json = json.loads(line)\n",
        "        customer_id = customer_json['customer_id']\n",
        "        load_id = customer_json['id']\n",
        "        if customer_id not in load_id_json:\n",
        "            load_id_json[customer_id] = []\n",
        "        #Do a check if load_id already exists for that specific customer\n",
        "        if load_id in load_id_json[customer_id]:         \n",
        "            continue\n",
        "        else:\n",
        "            json.dump(accounts_controller.processUserLoad(customer_json), outfile)\n",
        "            outfile.write('\\n')\n",
        "            load_id_json[customer_id].append(load_id)"
      ],
      "execution_count": 62,
      "outputs": []
    },
    {
      "cell_type": "code",
      "metadata": {
        "id": "_nt01FokpDK-",
        "outputId": "8cdc6b37-2486-4222-fe02-480fca387d07",
        "colab": {
          "base_uri": "https://localhost:8080/",
          "height": 50
        }
      },
      "source": [
        "ls"
      ],
      "execution_count": 63,
      "outputs": [
        {
          "output_type": "stream",
          "text": [
            "AccountsController.py  output_accounts.py  output_amar.txt  \u001b[0m\u001b[01;34m__pycache__\u001b[0m/\n",
            "input.txt              output_amar2.txt    output.txt       README.md\n"
          ],
          "name": "stdout"
        }
      ]
    },
    {
      "cell_type": "code",
      "metadata": {
        "id": "-HaA_8-ypO2N",
        "outputId": "0ecf7e75-ed39-45fa-99ad-9e3e76aa51fc",
        "colab": {
          "base_uri": "https://localhost:8080/",
          "height": 47
        }
      },
      "source": [
        "df[df['customer_id']==528]"
      ],
      "execution_count": 66,
      "outputs": [
        {
          "output_type": "execute_result",
          "data": {
            "text/html": [
              "<div>\n",
              "<style scoped>\n",
              "    .dataframe tbody tr th:only-of-type {\n",
              "        vertical-align: middle;\n",
              "    }\n",
              "\n",
              "    .dataframe tbody tr th {\n",
              "        vertical-align: top;\n",
              "    }\n",
              "\n",
              "    .dataframe thead th {\n",
              "        text-align: right;\n",
              "    }\n",
              "</style>\n",
              "<table border=\"1\" class=\"dataframe\">\n",
              "  <thead>\n",
              "    <tr style=\"text-align: right;\">\n",
              "      <th></th>\n",
              "      <th>id</th>\n",
              "      <th>customer_id</th>\n",
              "      <th>load_amount</th>\n",
              "      <th>time</th>\n",
              "    </tr>\n",
              "  </thead>\n",
              "  <tbody>\n",
              "  </tbody>\n",
              "</table>\n",
              "</div>"
            ],
            "text/plain": [
              "Empty DataFrame\n",
              "Columns: [id, customer_id, load_amount, time]\n",
              "Index: []"
            ]
          },
          "metadata": {
            "tags": []
          },
          "execution_count": 66
        }
      ]
    },
    {
      "cell_type": "code",
      "metadata": {
        "id": "a8Rhxlgupbr8",
        "outputId": "7ed5b0ff-c0db-47fc-a8f6-75af715c4fa8",
        "colab": {
          "base_uri": "https://localhost:8080/",
          "height": 33
        }
      },
      "source": [
        "len(df)"
      ],
      "execution_count": 70,
      "outputs": [
        {
          "output_type": "execute_result",
          "data": {
            "text/plain": [
              "1000"
            ]
          },
          "metadata": {
            "tags": []
          },
          "execution_count": 70
        }
      ]
    },
    {
      "cell_type": "code",
      "metadata": {
        "id": "5gvxBuVQpik6",
        "outputId": "fe7f6d2f-b2b3-4c0c-a183-1fb8997e0388",
        "colab": {
          "base_uri": "https://localhost:8080/",
          "height": 50
        }
      },
      "source": [
        "ls"
      ],
      "execution_count": 75,
      "outputs": [
        {
          "output_type": "stream",
          "text": [
            "AccountsController.py  output_accounts.py  output_amar.txt  \u001b[0m\u001b[01;34m__pycache__\u001b[0m/\n",
            "input.txt              output_amar2.txt    output.txt       README.md\n"
          ],
          "name": "stdout"
        }
      ]
    },
    {
      "cell_type": "code",
      "metadata": {
        "id": "AHS1PG3RpwpB",
        "outputId": "94e9e21c-cccb-480d-e33b-e01d62ce020a",
        "colab": {
          "base_uri": "https://localhost:8080/",
          "height": 391
        }
      },
      "source": [
        ""
      ],
      "execution_count": 79,
      "outputs": [
        {
          "output_type": "execute_result",
          "data": {
            "text/html": [
              "<div>\n",
              "<style scoped>\n",
              "    .dataframe tbody tr th:only-of-type {\n",
              "        vertical-align: middle;\n",
              "    }\n",
              "\n",
              "    .dataframe tbody tr th {\n",
              "        vertical-align: top;\n",
              "    }\n",
              "\n",
              "    .dataframe thead th {\n",
              "        text-align: right;\n",
              "    }\n",
              "</style>\n",
              "<table border=\"1\" class=\"dataframe\">\n",
              "  <thead>\n",
              "    <tr style=\"text-align: right;\">\n",
              "      <th></th>\n",
              "      <th>id</th>\n",
              "      <th>customer_id</th>\n",
              "      <th>load_amount</th>\n",
              "      <th>time</th>\n",
              "    </tr>\n",
              "  </thead>\n",
              "  <tbody>\n",
              "    <tr>\n",
              "      <th>0</th>\n",
              "      <td>15887</td>\n",
              "      <td>528</td>\n",
              "      <td>$3318.47</td>\n",
              "      <td>2000-01-01T00:00:00Z</td>\n",
              "    </tr>\n",
              "    <tr>\n",
              "      <th>1</th>\n",
              "      <td>30081</td>\n",
              "      <td>154</td>\n",
              "      <td>$1413.18</td>\n",
              "      <td>2000-01-01T01:01:22Z</td>\n",
              "    </tr>\n",
              "    <tr>\n",
              "      <th>2</th>\n",
              "      <td>26540</td>\n",
              "      <td>426</td>\n",
              "      <td>$404.56</td>\n",
              "      <td>2000-01-01T02:02:44Z</td>\n",
              "    </tr>\n",
              "    <tr>\n",
              "      <th>3</th>\n",
              "      <td>10694</td>\n",
              "      <td>1</td>\n",
              "      <td>$785.11</td>\n",
              "      <td>2000-01-01T03:04:06Z</td>\n",
              "    </tr>\n",
              "    <tr>\n",
              "      <th>4</th>\n",
              "      <td>15089</td>\n",
              "      <td>205</td>\n",
              "      <td>$2247.28</td>\n",
              "      <td>2000-01-01T04:05:28Z</td>\n",
              "    </tr>\n",
              "    <tr>\n",
              "      <th>...</th>\n",
              "      <td>...</td>\n",
              "      <td>...</td>\n",
              "      <td>...</td>\n",
              "      <td>...</td>\n",
              "    </tr>\n",
              "    <tr>\n",
              "      <th>995</th>\n",
              "      <td>6082</td>\n",
              "      <td>460</td>\n",
              "      <td>$4773.93</td>\n",
              "      <td>2000-02-12T09:39:50Z</td>\n",
              "    </tr>\n",
              "    <tr>\n",
              "      <th>996</th>\n",
              "      <td>17742</td>\n",
              "      <td>477</td>\n",
              "      <td>$3490.83</td>\n",
              "      <td>2000-02-12T10:41:12Z</td>\n",
              "    </tr>\n",
              "    <tr>\n",
              "      <th>997</th>\n",
              "      <td>31634</td>\n",
              "      <td>494</td>\n",
              "      <td>$5159.54</td>\n",
              "      <td>2000-02-12T11:42:34Z</td>\n",
              "    </tr>\n",
              "    <tr>\n",
              "      <th>998</th>\n",
              "      <td>1897</td>\n",
              "      <td>409</td>\n",
              "      <td>$3412.50</td>\n",
              "      <td>2000-02-12T12:43:56Z</td>\n",
              "    </tr>\n",
              "    <tr>\n",
              "      <th>999</th>\n",
              "      <td>29255</td>\n",
              "      <td>494</td>\n",
              "      <td>$4601.23</td>\n",
              "      <td>2000-02-12T13:45:18Z</td>\n",
              "    </tr>\n",
              "  </tbody>\n",
              "</table>\n",
              "<p>1000 rows × 4 columns</p>\n",
              "</div>"
            ],
            "text/plain": [
              "        id  customer_id load_amount                  time\n",
              "0    15887          528    $3318.47  2000-01-01T00:00:00Z\n",
              "1    30081          154    $1413.18  2000-01-01T01:01:22Z\n",
              "2    26540          426     $404.56  2000-01-01T02:02:44Z\n",
              "3    10694            1     $785.11  2000-01-01T03:04:06Z\n",
              "4    15089          205    $2247.28  2000-01-01T04:05:28Z\n",
              "..     ...          ...         ...                   ...\n",
              "995   6082          460    $4773.93  2000-02-12T09:39:50Z\n",
              "996  17742          477    $3490.83  2000-02-12T10:41:12Z\n",
              "997  31634          494    $5159.54  2000-02-12T11:42:34Z\n",
              "998   1897          409    $3412.50  2000-02-12T12:43:56Z\n",
              "999  29255          494    $4601.23  2000-02-12T13:45:18Z\n",
              "\n",
              "[1000 rows x 4 columns]"
            ]
          },
          "metadata": {
            "tags": []
          },
          "execution_count": 79
        }
      ]
    },
    {
      "cell_type": "code",
      "metadata": {
        "id": "6W7TX32RquRD"
      },
      "source": [
        ""
      ],
      "execution_count": null,
      "outputs": []
    }
  ]
}