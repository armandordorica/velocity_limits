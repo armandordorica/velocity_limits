{
  "nbformat": 4,
  "nbformat_minor": 0,
  "metadata": {
    "colab": {
      "name": "Velocity_limits.ipynb",
      "provenance": [],
      "collapsed_sections": [],
      "authorship_tag": "ABX9TyMf4gptT33vwzzJmFeviiXO",
      "include_colab_link": true
    },
    "kernelspec": {
      "name": "python3",
      "display_name": "Python 3"
    }
  },
  "cells": [
    {
      "cell_type": "markdown",
      "metadata": {
        "id": "view-in-github",
        "colab_type": "text"
      },
      "source": [
        "<a href=\"https://colab.research.google.com/github/armandordorica/velocity_limits/blob/main/Velocity_limits.ipynb\" target=\"_parent\"><img src=\"https://colab.research.google.com/assets/colab-badge.svg\" alt=\"Open In Colab\"/></a>"
      ]
    },
    {
      "cell_type": "code",
      "metadata": {
        "id": "bjYQbMshIpjb",
        "outputId": "6928a464-7cf1-49d6-fadf-6a6c5dfa265b",
        "colab": {
          "base_uri": "https://localhost:8080/",
          "height": 115
        }
      },
      "source": [
        "!git clone https://github.com/armandordorica/velocity_limits.git"
      ],
      "execution_count": null,
      "outputs": [
        {
          "output_type": "stream",
          "text": [
            "Cloning into 'velocity_limits'...\n",
            "remote: Enumerating objects: 17, done.\u001b[K\n",
            "remote: Counting objects: 100% (17/17), done.\u001b[K\n",
            "remote: Compressing objects: 100% (16/16), done.\u001b[K\n",
            "remote: Total 17 (delta 2), reused 0 (delta 0), pack-reused 0\u001b[K\n",
            "Unpacking objects: 100% (17/17), done.\n"
          ],
          "name": "stdout"
        }
      ]
    },
    {
      "cell_type": "code",
      "metadata": {
        "id": "_w5qJh-aL5gh",
        "outputId": "4056eb7b-12b6-43f4-9f15-4e6b28017056",
        "colab": {
          "base_uri": "https://localhost:8080/",
          "height": 33
        }
      },
      "source": [
        "cd takehome/"
      ],
      "execution_count": 19,
      "outputs": [
        {
          "output_type": "stream",
          "text": [
            "/content/velocity_limits/takehome\n"
          ],
          "name": "stdout"
        }
      ]
    },
    {
      "cell_type": "markdown",
      "metadata": {
        "id": "swrmkrSqm5Vi"
      },
      "source": [
        "In finance, it's common for accounts to have so-called \"velocity limits\". In this task, you'll write a program that accepts or declines attempts to load funds into customers' accounts in real-time.\n",
        "\n",
        "Each attempt to load funds will come as a single-line JSON payload, structured as follows:\n",
        "\n",
        "```json\n",
        "{ \"id\": \"1234\", \"customer_id\": \"1234\", \"load_amount\": \"$123.45\", \"time\": \"2018-01-01T00:00:00Z\" }\n",
        "```\n",
        "\n",
        "Each customer is subject to three limits:\n",
        "\n",
        "- A maximum of $\\$5,000$ can be loaded per day\n",
        "- A maximum of $\\$20,000$ can be loaded per week\n",
        "- A maximum of 3 loads can be performed per day, regardless of amount\n",
        "\n",
        "As such, a user attempting to load $\\$3,000$ twice in one day would be declined on the second attempt, as would a user attempting to load $400 four times in a day.\n",
        "\n",
        "For each load attempt, you should return a JSON response indicating whether the fund load was accepted based on the user's activity, with the structure:\n",
        "\n",
        "```json\n",
        "{ \"id\": \"1234\", \"customer_id\": \"1234\", \"accepted\": true }\n",
        "```\n",
        "\n",
        "You can assume that the input arrives in ascending chronological order and that if a load ID is observed more than once for a particular user, all but the first instance can be ignored. Each day is considered to end at midnight UTC, and weeks start on Monday (i.e. one second after 23:59:59 on Sunday).\n",
        "\n",
        "Your program should process lines from `input.txt` and return output in the format specified above, either to standard output or a file. Expected output given our input data can be found in `output.txt`.\n",
        "\n",
        "You're welcome to write your program in a general-purpose language of your choosing.\n",
        "\n",
        "We value well-structured, self-documenting code with sensible test coverage. Descriptive function and variable names are appreciated, as is isolating your business logic from the rest of your code.\n"
      ]
    },
    {
      "cell_type": "markdown",
      "metadata": {
        "id": "3umVGZiQMFd-"
      },
      "source": [
        "### Importing Source data"
      ]
    },
    {
      "cell_type": "code",
      "metadata": {
        "id": "dpGVUnfCI0Hv",
        "outputId": "ed765f55-da9b-4326-c8eb-7dcf676f6f48",
        "colab": {
          "base_uri": "https://localhost:8080/",
          "height": 115
        }
      },
      "source": [
        "import pandas as pd\n",
        "import matplotlib.pyplot as plt\n",
        "input_data = pd.read_json('input.txt', lines=True)\n",
        "input_data.head(), len(input_data)"
      ],
      "execution_count": 20,
      "outputs": [
        {
          "output_type": "execute_result",
          "data": {
            "text/plain": [
              "(      id  customer_id load_amount                  time\n",
              " 0  15887          528    $3318.47  2000-01-01T00:00:00Z\n",
              " 1  30081          154    $1413.18  2000-01-01T01:01:22Z\n",
              " 2  26540          426     $404.56  2000-01-01T02:02:44Z\n",
              " 3  10694            1     $785.11  2000-01-01T03:04:06Z\n",
              " 4  15089          205    $2247.28  2000-01-01T04:05:28Z, 1000)"
            ]
          },
          "metadata": {
            "tags": []
          },
          "execution_count": 20
        }
      ]
    },
    {
      "cell_type": "code",
      "metadata": {
        "id": "e0KiyatHMQ61",
        "outputId": "840c02f8-2c44-4e50-d8a7-4565ff934ada",
        "colab": {
          "base_uri": "https://localhost:8080/",
          "height": 191
        }
      },
      "source": [
        "input_data.head()"
      ],
      "execution_count": 21,
      "outputs": [
        {
          "output_type": "execute_result",
          "data": {
            "text/html": [
              "<div>\n",
              "<style scoped>\n",
              "    .dataframe tbody tr th:only-of-type {\n",
              "        vertical-align: middle;\n",
              "    }\n",
              "\n",
              "    .dataframe tbody tr th {\n",
              "        vertical-align: top;\n",
              "    }\n",
              "\n",
              "    .dataframe thead th {\n",
              "        text-align: right;\n",
              "    }\n",
              "</style>\n",
              "<table border=\"1\" class=\"dataframe\">\n",
              "  <thead>\n",
              "    <tr style=\"text-align: right;\">\n",
              "      <th></th>\n",
              "      <th>id</th>\n",
              "      <th>customer_id</th>\n",
              "      <th>load_amount</th>\n",
              "      <th>time</th>\n",
              "    </tr>\n",
              "  </thead>\n",
              "  <tbody>\n",
              "    <tr>\n",
              "      <th>0</th>\n",
              "      <td>15887</td>\n",
              "      <td>528</td>\n",
              "      <td>$3318.47</td>\n",
              "      <td>2000-01-01T00:00:00Z</td>\n",
              "    </tr>\n",
              "    <tr>\n",
              "      <th>1</th>\n",
              "      <td>30081</td>\n",
              "      <td>154</td>\n",
              "      <td>$1413.18</td>\n",
              "      <td>2000-01-01T01:01:22Z</td>\n",
              "    </tr>\n",
              "    <tr>\n",
              "      <th>2</th>\n",
              "      <td>26540</td>\n",
              "      <td>426</td>\n",
              "      <td>$404.56</td>\n",
              "      <td>2000-01-01T02:02:44Z</td>\n",
              "    </tr>\n",
              "    <tr>\n",
              "      <th>3</th>\n",
              "      <td>10694</td>\n",
              "      <td>1</td>\n",
              "      <td>$785.11</td>\n",
              "      <td>2000-01-01T03:04:06Z</td>\n",
              "    </tr>\n",
              "    <tr>\n",
              "      <th>4</th>\n",
              "      <td>15089</td>\n",
              "      <td>205</td>\n",
              "      <td>$2247.28</td>\n",
              "      <td>2000-01-01T04:05:28Z</td>\n",
              "    </tr>\n",
              "  </tbody>\n",
              "</table>\n",
              "</div>"
            ],
            "text/plain": [
              "      id  customer_id load_amount                  time\n",
              "0  15887          528    $3318.47  2000-01-01T00:00:00Z\n",
              "1  30081          154    $1413.18  2000-01-01T01:01:22Z\n",
              "2  26540          426     $404.56  2000-01-01T02:02:44Z\n",
              "3  10694            1     $785.11  2000-01-01T03:04:06Z\n",
              "4  15089          205    $2247.28  2000-01-01T04:05:28Z"
            ]
          },
          "metadata": {
            "tags": []
          },
          "execution_count": 21
        }
      ]
    },
    {
      "cell_type": "code",
      "metadata": {
        "id": "EDEe4-85MZpC",
        "outputId": "791fb4f5-d64d-4cc7-be3d-91082c657966",
        "colab": {
          "base_uri": "https://localhost:8080/",
          "height": 33
        }
      },
      "source": [
        "len(input_data['id']), len(input_data['id'].unique())"
      ],
      "execution_count": 22,
      "outputs": [
        {
          "output_type": "execute_result",
          "data": {
            "text/plain": [
              "(1000, 984)"
            ]
          },
          "metadata": {
            "tags": []
          },
          "execution_count": 22
        }
      ]
    },
    {
      "cell_type": "markdown",
      "metadata": {
        "id": "wPp7TolrMtI0"
      },
      "source": [
        "**\"If a load ID is observed more than once for a particular user, all but the first instance can be ignored.\"** \n",
        "* There are 984 unique `id`s"
      ]
    },
    {
      "cell_type": "markdown",
      "metadata": {
        "id": "1YQQQ4g3NAkV"
      },
      "source": [
        "Looking at unique combinations of load `id` and `customer_id`"
      ]
    },
    {
      "cell_type": "code",
      "metadata": {
        "id": "Icuy_JMCMrfj"
      },
      "source": [
        "input_data['unique_id']  = input_data['id'].astype(str) + \"_\" + input_data['customer_id'].astype(str)"
      ],
      "execution_count": 23,
      "outputs": []
    },
    {
      "cell_type": "code",
      "metadata": {
        "id": "v2-ntcOKNRO6",
        "outputId": "8dfe1011-1db6-41e1-f8f2-f7c461c16001",
        "colab": {
          "base_uri": "https://localhost:8080/",
          "height": 191
        }
      },
      "source": [
        "input_data.head()"
      ],
      "execution_count": 24,
      "outputs": [
        {
          "output_type": "execute_result",
          "data": {
            "text/html": [
              "<div>\n",
              "<style scoped>\n",
              "    .dataframe tbody tr th:only-of-type {\n",
              "        vertical-align: middle;\n",
              "    }\n",
              "\n",
              "    .dataframe tbody tr th {\n",
              "        vertical-align: top;\n",
              "    }\n",
              "\n",
              "    .dataframe thead th {\n",
              "        text-align: right;\n",
              "    }\n",
              "</style>\n",
              "<table border=\"1\" class=\"dataframe\">\n",
              "  <thead>\n",
              "    <tr style=\"text-align: right;\">\n",
              "      <th></th>\n",
              "      <th>id</th>\n",
              "      <th>customer_id</th>\n",
              "      <th>load_amount</th>\n",
              "      <th>time</th>\n",
              "      <th>unique_id</th>\n",
              "    </tr>\n",
              "  </thead>\n",
              "  <tbody>\n",
              "    <tr>\n",
              "      <th>0</th>\n",
              "      <td>15887</td>\n",
              "      <td>528</td>\n",
              "      <td>$3318.47</td>\n",
              "      <td>2000-01-01T00:00:00Z</td>\n",
              "      <td>15887_528</td>\n",
              "    </tr>\n",
              "    <tr>\n",
              "      <th>1</th>\n",
              "      <td>30081</td>\n",
              "      <td>154</td>\n",
              "      <td>$1413.18</td>\n",
              "      <td>2000-01-01T01:01:22Z</td>\n",
              "      <td>30081_154</td>\n",
              "    </tr>\n",
              "    <tr>\n",
              "      <th>2</th>\n",
              "      <td>26540</td>\n",
              "      <td>426</td>\n",
              "      <td>$404.56</td>\n",
              "      <td>2000-01-01T02:02:44Z</td>\n",
              "      <td>26540_426</td>\n",
              "    </tr>\n",
              "    <tr>\n",
              "      <th>3</th>\n",
              "      <td>10694</td>\n",
              "      <td>1</td>\n",
              "      <td>$785.11</td>\n",
              "      <td>2000-01-01T03:04:06Z</td>\n",
              "      <td>10694_1</td>\n",
              "    </tr>\n",
              "    <tr>\n",
              "      <th>4</th>\n",
              "      <td>15089</td>\n",
              "      <td>205</td>\n",
              "      <td>$2247.28</td>\n",
              "      <td>2000-01-01T04:05:28Z</td>\n",
              "      <td>15089_205</td>\n",
              "    </tr>\n",
              "  </tbody>\n",
              "</table>\n",
              "</div>"
            ],
            "text/plain": [
              "      id  customer_id load_amount                  time  unique_id\n",
              "0  15887          528    $3318.47  2000-01-01T00:00:00Z  15887_528\n",
              "1  30081          154    $1413.18  2000-01-01T01:01:22Z  30081_154\n",
              "2  26540          426     $404.56  2000-01-01T02:02:44Z  26540_426\n",
              "3  10694            1     $785.11  2000-01-01T03:04:06Z    10694_1\n",
              "4  15089          205    $2247.28  2000-01-01T04:05:28Z  15089_205"
            ]
          },
          "metadata": {
            "tags": []
          },
          "execution_count": 24
        }
      ]
    },
    {
      "cell_type": "code",
      "metadata": {
        "id": "Vfw1OJDVpMmg"
      },
      "source": [
        ""
      ],
      "execution_count": 24,
      "outputs": []
    },
    {
      "cell_type": "markdown",
      "metadata": {
        "id": "vHQaulE1ZJxZ"
      },
      "source": [
        "### 1. Keeping only the first instance for any combination of load id and customer id"
      ]
    },
    {
      "cell_type": "code",
      "metadata": {
        "id": "cXdLQUWwOsge"
      },
      "source": [
        "grouped_input_data = input_data.groupby([\"unique_id\"])\n",
        "input_data = grouped_input_data.first().copy(deep=True)"
      ],
      "execution_count": 25,
      "outputs": []
    },
    {
      "cell_type": "code",
      "metadata": {
        "id": "Sf8nxTsGpX4p",
        "outputId": "b9417995-1a56-4c39-a515-498424918cc7",
        "colab": {
          "base_uri": "https://localhost:8080/",
          "height": 220
        }
      },
      "source": [
        "input_data.head()"
      ],
      "execution_count": 26,
      "outputs": [
        {
          "output_type": "execute_result",
          "data": {
            "text/html": [
              "<div>\n",
              "<style scoped>\n",
              "    .dataframe tbody tr th:only-of-type {\n",
              "        vertical-align: middle;\n",
              "    }\n",
              "\n",
              "    .dataframe tbody tr th {\n",
              "        vertical-align: top;\n",
              "    }\n",
              "\n",
              "    .dataframe thead th {\n",
              "        text-align: right;\n",
              "    }\n",
              "</style>\n",
              "<table border=\"1\" class=\"dataframe\">\n",
              "  <thead>\n",
              "    <tr style=\"text-align: right;\">\n",
              "      <th></th>\n",
              "      <th>id</th>\n",
              "      <th>customer_id</th>\n",
              "      <th>load_amount</th>\n",
              "      <th>time</th>\n",
              "    </tr>\n",
              "    <tr>\n",
              "      <th>unique_id</th>\n",
              "      <th></th>\n",
              "      <th></th>\n",
              "      <th></th>\n",
              "      <th></th>\n",
              "    </tr>\n",
              "  </thead>\n",
              "  <tbody>\n",
              "    <tr>\n",
              "      <th>10002_35</th>\n",
              "      <td>10002</td>\n",
              "      <td>35</td>\n",
              "      <td>$2385.52</td>\n",
              "      <td>2000-01-20T05:16:22Z</td>\n",
              "    </tr>\n",
              "    <tr>\n",
              "      <th>10041_239</th>\n",
              "      <td>10041</td>\n",
              "      <td>239</td>\n",
              "      <td>$5455.00</td>\n",
              "      <td>2000-01-19T00:38:06Z</td>\n",
              "    </tr>\n",
              "    <tr>\n",
              "      <th>10041_596</th>\n",
              "      <td>10041</td>\n",
              "      <td>596</td>\n",
              "      <td>$162.67</td>\n",
              "      <td>2000-02-04T22:40:40Z</td>\n",
              "    </tr>\n",
              "    <tr>\n",
              "      <th>10047_137</th>\n",
              "      <td>10047</td>\n",
              "      <td>137</td>\n",
              "      <td>$3266.77</td>\n",
              "      <td>2000-01-19T13:55:52Z</td>\n",
              "    </tr>\n",
              "    <tr>\n",
              "      <th>10055_460</th>\n",
              "      <td>10055</td>\n",
              "      <td>460</td>\n",
              "      <td>$2671.07</td>\n",
              "      <td>2000-02-08T21:47:46Z</td>\n",
              "    </tr>\n",
              "  </tbody>\n",
              "</table>\n",
              "</div>"
            ],
            "text/plain": [
              "              id  customer_id load_amount                  time\n",
              "unique_id                                                      \n",
              "10002_35   10002           35    $2385.52  2000-01-20T05:16:22Z\n",
              "10041_239  10041          239    $5455.00  2000-01-19T00:38:06Z\n",
              "10041_596  10041          596     $162.67  2000-02-04T22:40:40Z\n",
              "10047_137  10047          137    $3266.77  2000-01-19T13:55:52Z\n",
              "10055_460  10055          460    $2671.07  2000-02-08T21:47:46Z"
            ]
          },
          "metadata": {
            "tags": []
          },
          "execution_count": 26
        }
      ]
    },
    {
      "cell_type": "code",
      "metadata": {
        "id": "4mgud6wHpdbF"
      },
      "source": [
        "input_data.sort_values(by=['time'], ascending=True, inplace=True)\n",
        "input_data.reset_index(inplace=True)"
      ],
      "execution_count": 27,
      "outputs": []
    },
    {
      "cell_type": "code",
      "metadata": {
        "id": "yw3EdBRHqPtT",
        "outputId": "a2743c55-5a55-46f7-8d61-eb245dd0749e",
        "colab": {
          "base_uri": "https://localhost:8080/",
          "height": 191
        }
      },
      "source": [
        "input_data.head()"
      ],
      "execution_count": 28,
      "outputs": [
        {
          "output_type": "execute_result",
          "data": {
            "text/html": [
              "<div>\n",
              "<style scoped>\n",
              "    .dataframe tbody tr th:only-of-type {\n",
              "        vertical-align: middle;\n",
              "    }\n",
              "\n",
              "    .dataframe tbody tr th {\n",
              "        vertical-align: top;\n",
              "    }\n",
              "\n",
              "    .dataframe thead th {\n",
              "        text-align: right;\n",
              "    }\n",
              "</style>\n",
              "<table border=\"1\" class=\"dataframe\">\n",
              "  <thead>\n",
              "    <tr style=\"text-align: right;\">\n",
              "      <th></th>\n",
              "      <th>unique_id</th>\n",
              "      <th>id</th>\n",
              "      <th>customer_id</th>\n",
              "      <th>load_amount</th>\n",
              "      <th>time</th>\n",
              "    </tr>\n",
              "  </thead>\n",
              "  <tbody>\n",
              "    <tr>\n",
              "      <th>0</th>\n",
              "      <td>15887_528</td>\n",
              "      <td>15887</td>\n",
              "      <td>528</td>\n",
              "      <td>$3318.47</td>\n",
              "      <td>2000-01-01T00:00:00Z</td>\n",
              "    </tr>\n",
              "    <tr>\n",
              "      <th>1</th>\n",
              "      <td>30081_154</td>\n",
              "      <td>30081</td>\n",
              "      <td>154</td>\n",
              "      <td>$1413.18</td>\n",
              "      <td>2000-01-01T01:01:22Z</td>\n",
              "    </tr>\n",
              "    <tr>\n",
              "      <th>2</th>\n",
              "      <td>26540_426</td>\n",
              "      <td>26540</td>\n",
              "      <td>426</td>\n",
              "      <td>$404.56</td>\n",
              "      <td>2000-01-01T02:02:44Z</td>\n",
              "    </tr>\n",
              "    <tr>\n",
              "      <th>3</th>\n",
              "      <td>10694_1</td>\n",
              "      <td>10694</td>\n",
              "      <td>1</td>\n",
              "      <td>$785.11</td>\n",
              "      <td>2000-01-01T03:04:06Z</td>\n",
              "    </tr>\n",
              "    <tr>\n",
              "      <th>4</th>\n",
              "      <td>15089_205</td>\n",
              "      <td>15089</td>\n",
              "      <td>205</td>\n",
              "      <td>$2247.28</td>\n",
              "      <td>2000-01-01T04:05:28Z</td>\n",
              "    </tr>\n",
              "  </tbody>\n",
              "</table>\n",
              "</div>"
            ],
            "text/plain": [
              "   unique_id     id  customer_id load_amount                  time\n",
              "0  15887_528  15887          528    $3318.47  2000-01-01T00:00:00Z\n",
              "1  30081_154  30081          154    $1413.18  2000-01-01T01:01:22Z\n",
              "2  26540_426  26540          426     $404.56  2000-01-01T02:02:44Z\n",
              "3    10694_1  10694            1     $785.11  2000-01-01T03:04:06Z\n",
              "4  15089_205  15089          205    $2247.28  2000-01-01T04:05:28Z"
            ]
          },
          "metadata": {
            "tags": []
          },
          "execution_count": 28
        }
      ]
    },
    {
      "cell_type": "code",
      "metadata": {
        "id": "p-obOaEZOzqp",
        "outputId": "cca7ba43-ffc3-440d-e548-f3f229757eb7",
        "colab": {
          "base_uri": "https://localhost:8080/",
          "height": 76
        }
      },
      "source": [
        "input_data[input_data['unique_id']=='6928_562']"
      ],
      "execution_count": 29,
      "outputs": [
        {
          "output_type": "execute_result",
          "data": {
            "text/html": [
              "<div>\n",
              "<style scoped>\n",
              "    .dataframe tbody tr th:only-of-type {\n",
              "        vertical-align: middle;\n",
              "    }\n",
              "\n",
              "    .dataframe tbody tr th {\n",
              "        vertical-align: top;\n",
              "    }\n",
              "\n",
              "    .dataframe thead th {\n",
              "        text-align: right;\n",
              "    }\n",
              "</style>\n",
              "<table border=\"1\" class=\"dataframe\">\n",
              "  <thead>\n",
              "    <tr style=\"text-align: right;\">\n",
              "      <th></th>\n",
              "      <th>unique_id</th>\n",
              "      <th>id</th>\n",
              "      <th>customer_id</th>\n",
              "      <th>load_amount</th>\n",
              "      <th>time</th>\n",
              "    </tr>\n",
              "  </thead>\n",
              "  <tbody>\n",
              "    <tr>\n",
              "      <th>108</th>\n",
              "      <td>6928_562</td>\n",
              "      <td>6928</td>\n",
              "      <td>562</td>\n",
              "      <td>$5255.16</td>\n",
              "      <td>2000-01-05T14:27:36Z</td>\n",
              "    </tr>\n",
              "  </tbody>\n",
              "</table>\n",
              "</div>"
            ],
            "text/plain": [
              "    unique_id    id  customer_id load_amount                  time\n",
              "108  6928_562  6928          562    $5255.16  2000-01-05T14:27:36Z"
            ]
          },
          "metadata": {
            "tags": []
          },
          "execution_count": 29
        }
      ]
    },
    {
      "cell_type": "markdown",
      "metadata": {
        "id": "4hA1WcPqjtKZ"
      },
      "source": [
        "* **How many users?**  50\n",
        "* **How many transactions per user per day? per week? per month?**\n",
        "* **What is the average transaction amount per user? per day? per week?**"
      ]
    },
    {
      "cell_type": "code",
      "metadata": {
        "id": "xCMyc2djY8Tg"
      },
      "source": [
        "# input_data['load_amount']= input_data.load_amount.replace('[\\$,]', '', regex=True).astype(float)\n"
      ],
      "execution_count": 30,
      "outputs": []
    },
    {
      "cell_type": "code",
      "metadata": {
        "id": "kCGfTmq3kr7X"
      },
      "source": [
        "# input_data['load_amount'].mean()"
      ],
      "execution_count": 31,
      "outputs": []
    },
    {
      "cell_type": "code",
      "metadata": {
        "id": "spNCdgnakzBX"
      },
      "source": [
        "# plt.hist(input_data.load_amount, bins = 50)"
      ],
      "execution_count": 32,
      "outputs": []
    },
    {
      "cell_type": "code",
      "metadata": {
        "id": "hwc4lhGwkzD9"
      },
      "source": [
        "# plt.scatter(input_data[input_data['customer_id']==1].time, input_data[input_data['customer_id']==1].customer_id)"
      ],
      "execution_count": 33,
      "outputs": []
    },
    {
      "cell_type": "code",
      "metadata": {
        "id": "Vu5HlBw0lexB"
      },
      "source": [
        "# input_data[input_data['customer_id']==1].count(), input_data[input_data['customer_id']==1].min(), input_data[input_data['customer_id']==1].max(), input_data[input_data['customer_id']==1].mean()"
      ],
      "execution_count": 34,
      "outputs": []
    },
    {
      "cell_type": "code",
      "metadata": {
        "id": "13Hae7Eule4G",
        "outputId": "83a66012-957a-4ad5-c1d1-cb427b519d0d",
        "colab": {
          "base_uri": "https://localhost:8080/",
          "height": 680
        }
      },
      "source": [
        "customer1_df = input_data[input_data['customer_id']==1]\n",
        "customer1_df"
      ],
      "execution_count": 35,
      "outputs": [
        {
          "output_type": "execute_result",
          "data": {
            "text/html": [
              "<div>\n",
              "<style scoped>\n",
              "    .dataframe tbody tr th:only-of-type {\n",
              "        vertical-align: middle;\n",
              "    }\n",
              "\n",
              "    .dataframe tbody tr th {\n",
              "        vertical-align: top;\n",
              "    }\n",
              "\n",
              "    .dataframe thead th {\n",
              "        text-align: right;\n",
              "    }\n",
              "</style>\n",
              "<table border=\"1\" class=\"dataframe\">\n",
              "  <thead>\n",
              "    <tr style=\"text-align: right;\">\n",
              "      <th></th>\n",
              "      <th>unique_id</th>\n",
              "      <th>id</th>\n",
              "      <th>customer_id</th>\n",
              "      <th>load_amount</th>\n",
              "      <th>time</th>\n",
              "    </tr>\n",
              "  </thead>\n",
              "  <tbody>\n",
              "    <tr>\n",
              "      <th>3</th>\n",
              "      <td>10694_1</td>\n",
              "      <td>10694</td>\n",
              "      <td>1</td>\n",
              "      <td>$785.11</td>\n",
              "      <td>2000-01-01T03:04:06Z</td>\n",
              "    </tr>\n",
              "    <tr>\n",
              "      <th>18</th>\n",
              "      <td>18705_1</td>\n",
              "      <td>18705</td>\n",
              "      <td>1</td>\n",
              "      <td>$3628.88</td>\n",
              "      <td>2000-01-01T18:24:36Z</td>\n",
              "    </tr>\n",
              "    <tr>\n",
              "      <th>66</th>\n",
              "      <td>11456_1</td>\n",
              "      <td>11456</td>\n",
              "      <td>1</td>\n",
              "      <td>$2566.29</td>\n",
              "      <td>2000-01-03T19:30:12Z</td>\n",
              "    </tr>\n",
              "    <tr>\n",
              "      <th>165</th>\n",
              "      <td>11114_1</td>\n",
              "      <td>11114</td>\n",
              "      <td>1</td>\n",
              "      <td>$2887.30</td>\n",
              "      <td>2000-01-08T00:45:30Z</td>\n",
              "    </tr>\n",
              "    <tr>\n",
              "      <th>171</th>\n",
              "      <td>7485_1</td>\n",
              "      <td>7485</td>\n",
              "      <td>1</td>\n",
              "      <td>$1920.88</td>\n",
              "      <td>2000-01-08T06:53:42Z</td>\n",
              "    </tr>\n",
              "    <tr>\n",
              "      <th>223</th>\n",
              "      <td>16907_1</td>\n",
              "      <td>16907</td>\n",
              "      <td>1</td>\n",
              "      <td>$4972.22</td>\n",
              "      <td>2000-01-10T12:04:46Z</td>\n",
              "    </tr>\n",
              "    <tr>\n",
              "      <th>229</th>\n",
              "      <td>31045_1</td>\n",
              "      <td>31045</td>\n",
              "      <td>1</td>\n",
              "      <td>$5992.27</td>\n",
              "      <td>2000-01-10T18:12:58Z</td>\n",
              "    </tr>\n",
              "    <tr>\n",
              "      <th>276</th>\n",
              "      <td>7806_1</td>\n",
              "      <td>7806</td>\n",
              "      <td>1</td>\n",
              "      <td>$4421.55</td>\n",
              "      <td>2000-01-12T18:17:12Z</td>\n",
              "    </tr>\n",
              "    <tr>\n",
              "      <th>496</th>\n",
              "      <td>10262_1</td>\n",
              "      <td>10262</td>\n",
              "      <td>1</td>\n",
              "      <td>$962.12</td>\n",
              "      <td>2000-01-22T03:17:52Z</td>\n",
              "    </tr>\n",
              "    <tr>\n",
              "      <th>498</th>\n",
              "      <td>19749_1</td>\n",
              "      <td>19749</td>\n",
              "      <td>1</td>\n",
              "      <td>$4770.96</td>\n",
              "      <td>2000-01-22T05:20:36Z</td>\n",
              "    </tr>\n",
              "    <tr>\n",
              "      <th>550</th>\n",
              "      <td>3462_1</td>\n",
              "      <td>3462</td>\n",
              "      <td>1</td>\n",
              "      <td>$4682.96</td>\n",
              "      <td>2000-01-24T10:31:40Z</td>\n",
              "    </tr>\n",
              "    <tr>\n",
              "      <th>603</th>\n",
              "      <td>4057_1</td>\n",
              "      <td>4057</td>\n",
              "      <td>1</td>\n",
              "      <td>$2936.16</td>\n",
              "      <td>2000-01-26T16:44:06Z</td>\n",
              "    </tr>\n",
              "    <tr>\n",
              "      <th>634</th>\n",
              "      <td>16449_1</td>\n",
              "      <td>16449</td>\n",
              "      <td>1</td>\n",
              "      <td>$4832.29</td>\n",
              "      <td>2000-01-28T00:26:28Z</td>\n",
              "    </tr>\n",
              "    <tr>\n",
              "      <th>657</th>\n",
              "      <td>19518_1</td>\n",
              "      <td>19518</td>\n",
              "      <td>1</td>\n",
              "      <td>$1648.34</td>\n",
              "      <td>2000-01-28T23:57:54Z</td>\n",
              "    </tr>\n",
              "    <tr>\n",
              "      <th>684</th>\n",
              "      <td>2845_1</td>\n",
              "      <td>2845</td>\n",
              "      <td>1</td>\n",
              "      <td>$3883.89</td>\n",
              "      <td>2000-01-30T03:34:48Z</td>\n",
              "    </tr>\n",
              "    <tr>\n",
              "      <th>699</th>\n",
              "      <td>31223_1</td>\n",
              "      <td>31223</td>\n",
              "      <td>1</td>\n",
              "      <td>$5997.09</td>\n",
              "      <td>2000-01-30T19:56:40Z</td>\n",
              "    </tr>\n",
              "    <tr>\n",
              "      <th>742</th>\n",
              "      <td>28278_1</td>\n",
              "      <td>28278</td>\n",
              "      <td>1</td>\n",
              "      <td>$1741.75</td>\n",
              "      <td>2000-02-01T15:55:26Z</td>\n",
              "    </tr>\n",
              "    <tr>\n",
              "      <th>767</th>\n",
              "      <td>28618_1</td>\n",
              "      <td>28618</td>\n",
              "      <td>1</td>\n",
              "      <td>$113.32</td>\n",
              "      <td>2000-02-02T17:29:36Z</td>\n",
              "    </tr>\n",
              "    <tr>\n",
              "      <th>815</th>\n",
              "      <td>1637_1</td>\n",
              "      <td>1637</td>\n",
              "      <td>1</td>\n",
              "      <td>$518.28</td>\n",
              "      <td>2000-02-04T18:35:12Z</td>\n",
              "    </tr>\n",
              "    <tr>\n",
              "      <th>885</th>\n",
              "      <td>17351_1</td>\n",
              "      <td>17351</td>\n",
              "      <td>1</td>\n",
              "      <td>$1634.27</td>\n",
              "      <td>2000-02-07T18:10:52Z</td>\n",
              "    </tr>\n",
              "    <tr>\n",
              "      <th>960</th>\n",
              "      <td>24411_1</td>\n",
              "      <td>24411</td>\n",
              "      <td>1</td>\n",
              "      <td>$3116.50</td>\n",
              "      <td>2000-02-10T22:53:22Z</td>\n",
              "    </tr>\n",
              "    <tr>\n",
              "      <th>968</th>\n",
              "      <td>25125_1</td>\n",
              "      <td>25125</td>\n",
              "      <td>1</td>\n",
              "      <td>$2071.60</td>\n",
              "      <td>2000-02-11T07:04:18Z</td>\n",
              "    </tr>\n",
              "  </tbody>\n",
              "</table>\n",
              "</div>"
            ],
            "text/plain": [
              "    unique_id     id  customer_id load_amount                  time\n",
              "3     10694_1  10694            1     $785.11  2000-01-01T03:04:06Z\n",
              "18    18705_1  18705            1    $3628.88  2000-01-01T18:24:36Z\n",
              "66    11456_1  11456            1    $2566.29  2000-01-03T19:30:12Z\n",
              "165   11114_1  11114            1    $2887.30  2000-01-08T00:45:30Z\n",
              "171    7485_1   7485            1    $1920.88  2000-01-08T06:53:42Z\n",
              "223   16907_1  16907            1    $4972.22  2000-01-10T12:04:46Z\n",
              "229   31045_1  31045            1    $5992.27  2000-01-10T18:12:58Z\n",
              "276    7806_1   7806            1    $4421.55  2000-01-12T18:17:12Z\n",
              "496   10262_1  10262            1     $962.12  2000-01-22T03:17:52Z\n",
              "498   19749_1  19749            1    $4770.96  2000-01-22T05:20:36Z\n",
              "550    3462_1   3462            1    $4682.96  2000-01-24T10:31:40Z\n",
              "603    4057_1   4057            1    $2936.16  2000-01-26T16:44:06Z\n",
              "634   16449_1  16449            1    $4832.29  2000-01-28T00:26:28Z\n",
              "657   19518_1  19518            1    $1648.34  2000-01-28T23:57:54Z\n",
              "684    2845_1   2845            1    $3883.89  2000-01-30T03:34:48Z\n",
              "699   31223_1  31223            1    $5997.09  2000-01-30T19:56:40Z\n",
              "742   28278_1  28278            1    $1741.75  2000-02-01T15:55:26Z\n",
              "767   28618_1  28618            1     $113.32  2000-02-02T17:29:36Z\n",
              "815    1637_1   1637            1     $518.28  2000-02-04T18:35:12Z\n",
              "885   17351_1  17351            1    $1634.27  2000-02-07T18:10:52Z\n",
              "960   24411_1  24411            1    $3116.50  2000-02-10T22:53:22Z\n",
              "968   25125_1  25125            1    $2071.60  2000-02-11T07:04:18Z"
            ]
          },
          "metadata": {
            "tags": []
          },
          "execution_count": 35
        }
      ]
    },
    {
      "cell_type": "markdown",
      "metadata": {
        "id": "5RP7peaAmUrJ"
      },
      "source": [
        "### Initializing Account Controller"
      ]
    },
    {
      "cell_type": "code",
      "metadata": {
        "id": "cDlJE3ufle1d"
      },
      "source": [
        "from AccountsController import AccountsController"
      ],
      "execution_count": 36,
      "outputs": []
    },
    {
      "cell_type": "code",
      "metadata": {
        "id": "soJmQ0B9ky6a",
        "outputId": "5c26e9eb-4ec0-448d-b48e-67b3e9ab9363",
        "colab": {
          "base_uri": "https://localhost:8080/",
          "height": 33
        }
      },
      "source": [
        "acct_ctrl1 = AccountsController()\n",
        "acct_ctrl1.daily_deposit_limit, acct_ctrl1.weekly_deposit_limit, acct_ctrl1.daily_loads"
      ],
      "execution_count": 37,
      "outputs": [
        {
          "output_type": "execute_result",
          "data": {
            "text/plain": [
              "(5000, 20000, 3)"
            ]
          },
          "metadata": {
            "tags": []
          },
          "execution_count": 37
        }
      ]
    },
    {
      "cell_type": "code",
      "metadata": {
        "id": "JdIbYSIpoK_7",
        "outputId": "355dc87e-4b22-4801-c97e-56efcf167e7a",
        "colab": {
          "base_uri": "https://localhost:8080/",
          "height": 212
        }
      },
      "source": [
        "customer1_df['id'] = customer1_df.id.astype(str)\n",
        "customer1_df['customer_id'] = customer1_df.customer_id.astype(str)"
      ],
      "execution_count": 38,
      "outputs": [
        {
          "output_type": "stream",
          "text": [
            "/usr/local/lib/python3.6/dist-packages/ipykernel_launcher.py:1: SettingWithCopyWarning: \n",
            "A value is trying to be set on a copy of a slice from a DataFrame.\n",
            "Try using .loc[row_indexer,col_indexer] = value instead\n",
            "\n",
            "See the caveats in the documentation: https://pandas.pydata.org/pandas-docs/stable/user_guide/indexing.html#returning-a-view-versus-a-copy\n",
            "  \"\"\"Entry point for launching an IPython kernel.\n",
            "/usr/local/lib/python3.6/dist-packages/ipykernel_launcher.py:2: SettingWithCopyWarning: \n",
            "A value is trying to be set on a copy of a slice from a DataFrame.\n",
            "Try using .loc[row_indexer,col_indexer] = value instead\n",
            "\n",
            "See the caveats in the documentation: https://pandas.pydata.org/pandas-docs/stable/user_guide/indexing.html#returning-a-view-versus-a-copy\n",
            "  \n"
          ],
          "name": "stderr"
        }
      ]
    },
    {
      "cell_type": "code",
      "metadata": {
        "id": "UYxL5h5RomGc",
        "outputId": "48a100b2-c07e-4b6b-f279-8990193232a4",
        "colab": {
          "base_uri": "https://localhost:8080/",
          "height": 98
        }
      },
      "source": [
        "customer1_df.iloc[0].to_dict()"
      ],
      "execution_count": 39,
      "outputs": [
        {
          "output_type": "execute_result",
          "data": {
            "text/plain": [
              "{'customer_id': '1',\n",
              " 'id': '10694',\n",
              " 'load_amount': '$785.11',\n",
              " 'time': '2000-01-01T03:04:06Z',\n",
              " 'unique_id': '10694_1'}"
            ]
          },
          "metadata": {
            "tags": []
          },
          "execution_count": 39
        }
      ]
    },
    {
      "cell_type": "code",
      "metadata": {
        "id": "znitZFSlnDD9",
        "outputId": "26f7c73b-9d03-440b-fb7a-0f71dd9dac92",
        "colab": {
          "base_uri": "https://localhost:8080/",
          "height": 33
        }
      },
      "source": [
        "acct_ctrl1.processUserLoad(customer1_df.iloc[0].to_dict())"
      ],
      "execution_count": 40,
      "outputs": [
        {
          "output_type": "execute_result",
          "data": {
            "text/plain": [
              "{'accepted': True, 'customer_id': '1', 'id': '10694'}"
            ]
          },
          "metadata": {
            "tags": []
          },
          "execution_count": 40
        }
      ]
    },
    {
      "cell_type": "code",
      "metadata": {
        "id": "wFXohvEGq-G1",
        "outputId": "baf5457a-45d2-41b5-8f4f-5ce7561cc203",
        "colab": {
          "base_uri": "https://localhost:8080/",
          "height": 33
        }
      },
      "source": [
        "acct_ctrl1.processUserLoad(customer1_df.iloc[1].to_dict())"
      ],
      "execution_count": 41,
      "outputs": [
        {
          "output_type": "execute_result",
          "data": {
            "text/plain": [
              "{'accepted': True, 'customer_id': '1', 'id': '18705'}"
            ]
          },
          "metadata": {
            "tags": []
          },
          "execution_count": 41
        }
      ]
    },
    {
      "cell_type": "code",
      "metadata": {
        "id": "EcyNPMHarl2e",
        "outputId": "4da2863c-ce14-4fab-bf93-6e948522eed2",
        "colab": {
          "base_uri": "https://localhost:8080/",
          "height": 33
        }
      },
      "source": [
        "acct_ctrl1.processUserLoad({'customer_id': '1',\n",
        "'id': '10694',\n",
        "'load_amount': '$7785.11',\n",
        "'time': '2000-01-01T03:04:06Z',\n",
        "'unique_id': '10694_1'})"
      ],
      "execution_count": 42,
      "outputs": [
        {
          "output_type": "execute_result",
          "data": {
            "text/plain": [
              "{'accepted': False, 'customer_id': '1', 'id': '10694'}"
            ]
          },
          "metadata": {
            "tags": []
          },
          "execution_count": 42
        }
      ]
    },
    {
      "cell_type": "markdown",
      "metadata": {
        "id": "nvs3MbFmDqLF"
      },
      "source": [
        "### Helper Functions"
      ]
    },
    {
      "cell_type": "code",
      "metadata": {
        "id": "o0Cfa5CrDr4I",
        "outputId": "ab3dc7a1-e377-40c5-89b2-4c29dcc95db0",
        "colab": {
          "base_uri": "https://localhost:8080/",
          "height": 277
        }
      },
      "source": [
        "#3 rules: \n",
        "# 1) A maximum of  $5,000  can be loaded per day\n",
        "# 2) A maximum of  $20,000  can be loaded per week\n",
        "# 3) A maximum of 3 loads can be performed per day, regardless of amount\n",
        "\n",
        "def truth_table(n): \n",
        "  return list(itertools.product([0, 1], repeat=n))\n",
        "\n",
        "\n",
        "num_rules = 3\n",
        "truth_table_output = truth_table(num_rules)\n",
        "  \n",
        "test_cases_df = pd.DataFrame(truth_table_output, columns =['rule1', 'rule2', 'rule3']) \n",
        "test_cases_df['test_case_num'] = np.arange(0, len(truth_table(num_rules)))\n",
        "test_cases_df = test_cases_df[['test_case_num', 'rule1', 'rule2', 'rule3']].copy(deep=True)\n",
        "test_cases_df"
      ],
      "execution_count": 43,
      "outputs": [
        {
          "output_type": "execute_result",
          "data": {
            "text/html": [
              "<div>\n",
              "<style scoped>\n",
              "    .dataframe tbody tr th:only-of-type {\n",
              "        vertical-align: middle;\n",
              "    }\n",
              "\n",
              "    .dataframe tbody tr th {\n",
              "        vertical-align: top;\n",
              "    }\n",
              "\n",
              "    .dataframe thead th {\n",
              "        text-align: right;\n",
              "    }\n",
              "</style>\n",
              "<table border=\"1\" class=\"dataframe\">\n",
              "  <thead>\n",
              "    <tr style=\"text-align: right;\">\n",
              "      <th></th>\n",
              "      <th>test_case_num</th>\n",
              "      <th>rule1</th>\n",
              "      <th>rule2</th>\n",
              "      <th>rule3</th>\n",
              "    </tr>\n",
              "  </thead>\n",
              "  <tbody>\n",
              "    <tr>\n",
              "      <th>0</th>\n",
              "      <td>0</td>\n",
              "      <td>0</td>\n",
              "      <td>0</td>\n",
              "      <td>0</td>\n",
              "    </tr>\n",
              "    <tr>\n",
              "      <th>1</th>\n",
              "      <td>1</td>\n",
              "      <td>0</td>\n",
              "      <td>0</td>\n",
              "      <td>1</td>\n",
              "    </tr>\n",
              "    <tr>\n",
              "      <th>2</th>\n",
              "      <td>2</td>\n",
              "      <td>0</td>\n",
              "      <td>1</td>\n",
              "      <td>0</td>\n",
              "    </tr>\n",
              "    <tr>\n",
              "      <th>3</th>\n",
              "      <td>3</td>\n",
              "      <td>0</td>\n",
              "      <td>1</td>\n",
              "      <td>1</td>\n",
              "    </tr>\n",
              "    <tr>\n",
              "      <th>4</th>\n",
              "      <td>4</td>\n",
              "      <td>1</td>\n",
              "      <td>0</td>\n",
              "      <td>0</td>\n",
              "    </tr>\n",
              "    <tr>\n",
              "      <th>5</th>\n",
              "      <td>5</td>\n",
              "      <td>1</td>\n",
              "      <td>0</td>\n",
              "      <td>1</td>\n",
              "    </tr>\n",
              "    <tr>\n",
              "      <th>6</th>\n",
              "      <td>6</td>\n",
              "      <td>1</td>\n",
              "      <td>1</td>\n",
              "      <td>0</td>\n",
              "    </tr>\n",
              "    <tr>\n",
              "      <th>7</th>\n",
              "      <td>7</td>\n",
              "      <td>1</td>\n",
              "      <td>1</td>\n",
              "      <td>1</td>\n",
              "    </tr>\n",
              "  </tbody>\n",
              "</table>\n",
              "</div>"
            ],
            "text/plain": [
              "   test_case_num  rule1  rule2  rule3\n",
              "0              0      0      0      0\n",
              "1              1      0      0      1\n",
              "2              2      0      1      0\n",
              "3              3      0      1      1\n",
              "4              4      1      0      0\n",
              "5              5      1      0      1\n",
              "6              6      1      1      0\n",
              "7              7      1      1      1"
            ]
          },
          "metadata": {
            "tags": []
          },
          "execution_count": 43
        }
      ]
    },
    {
      "cell_type": "code",
      "metadata": {
        "id": "m2jMMjVorYHX"
      },
      "source": [
        "import itertools\n",
        "import numpy as np\n",
        "from datetime import datetime, timedelta\n",
        "import pandas as pd\n",
        "\n",
        "class Customer: \n",
        "  def __init__(self, customer_id, loads=None, daily_deposit_limit=5000, weekly_deposit_limit=20000, daily_loads_limit=3, initial_bal=0, \n",
        "               current_daily_deposits=0, current_weekly_deposits=0, current_daily_loads= 0 ):\n",
        "\n",
        "    self.customer_id = customer_id\n",
        "    self.loads = []\n",
        "    self.daily_deposit_limit =  daily_deposit_limit\n",
        "    self.weekly_deposit_limit =weekly_deposit_limit \n",
        "    self.daily_loads_limit = daily_loads_limit \n",
        "    self.balance = initial_bal\n",
        "\n",
        "    self.current_daily_deposits =current_daily_deposits\n",
        "    self.current_weekly_deposits = current_daily_deposits\n",
        "    self.current_daily_loads = current_daily_loads\n",
        "\n",
        "\n",
        "    self.daily_deposits_left = daily_deposit_limit\n",
        "    self.weekly_deposits_left = weekly_deposit_limit \n",
        "    self.daily_loads_left = daily_loads_limit\n",
        "\n",
        "    self.load_hist = pd.DataFrame({'customer_id':self.customer_id, 'load_id': [], 'load_amt': [], 'load_time': [], \n",
        "                                   'load_week_num':[],\n",
        "                                   'load_day_num':[],\n",
        "                                   'approved_status':[], \n",
        "                                   'rule1':[], 'rule2':[], 'rule3':[]})\n",
        "\n",
        "\n",
        "\n",
        "  def get_daily_deposits_left(self): \n",
        "    self.daily_deposits_left = self.daily_deposit_limit - self.current_daily_deposits\n",
        "    return self.daily_deposits_left\n",
        "\n",
        "  def get_weekly_deposits_left(self): \n",
        "    self.weekly_deposits_left = self.weekly_deposit_limit - self.current_weekly_deposits\n",
        "    return self.weekly_deposits_left\n",
        "\n",
        "  def get_daily_loads_left(self): \n",
        "    self.daily_loads_left = self.daily_loads_limit - self.current_daily_loads \n",
        "    return self.daily_loads_left\n",
        "\n",
        "  def update_load_history(self, rule1, rule2, rule3): \n",
        "    \n",
        "    self.load_hist = self.load_hist.append({'customer_id': self.customer_id, \\\n",
        "                                            'load_id': self.loads[-1].load_id, \\\n",
        "                                            'load_amt':self.loads[-1].load_amt, \\\n",
        "                                            'load_time': self.loads[-1].load_time, \\\n",
        "                                            'load_week_num':self.loads[-1].load_week_num,\\\n",
        "                                            'load_day_num':self.loads[-1].load_day_num,\\\n",
        "                                            'approved_status': rule1&rule2&rule3, \n",
        "                                            'rule1': rule1, \n",
        "                                            'rule2': rule2, \n",
        "                                            'rule3': rule3\n",
        "                                            }, ignore_index=True).copy(deep=True)\n",
        "\n",
        "    self.load_hist['load_week_num'] = self.load_hist['load_week_num'].astype(int)\n",
        "    self.load_hist['load_day_num'] = self.load_hist['load_day_num'].astype(int) \n",
        "\n",
        "    self.load_hist['approved_status'] = self.load_hist['approved_status'].astype(bool)  \n",
        "    self.load_hist['rule1'] = self.load_hist['rule1'].astype(bool) \n",
        "    self.load_hist['rule2'] = self.load_hist['rule2'].astype(bool) \n",
        "    self.load_hist['rule3'] = self.load_hist['rule3'].astype(bool) \n",
        "\n",
        "\n",
        "    \n",
        "\n",
        "\n",
        "\n",
        "  def process_valid_loads(self):\n",
        "    # keeping only the valid loads (no dupes allowed)\n",
        "    self.valid_loads = self.load_hist[self.load_hist['approved_status']==True].copy(deep=True)\n",
        "\n",
        "\n",
        "    df1 = self.valid_loads.set_index('load_time').sort_index().copy(deep=True)\n",
        "\n",
        "    df2 = pd.DataFrame(df1.groupby('load_week_num')['load_amt'].transform(pd.Series.cumsum)).copy(deep=True)\n",
        "    df3 = pd.DataFrame(df1.groupby('load_day_num')['load_amt'].transform(pd.Series.cumsum)).copy(deep=True)\n",
        "\n",
        "    self.valid_loads['cum_weekly_deps'] = list(pd.merge(self.valid_loads, df2, how='left', left_on =['load_time'], right_on=['load_time'])['load_amt_y'])\n",
        "    self.valid_loads['cum_daily_deps'] = list(pd.merge(self.valid_loads, df3, how='left', left_on =['load_time'], right_on=['load_time'])['load_amt_y'])\n",
        "\n",
        "    self.valid_loads['weekly_deps_left'] = self.weekly_deposit_limit - self.valid_loads['cum_weekly_deps']\n",
        "    self.valid_loads['daily_deps_left'] = self.daily_deposit_limit - self.valid_loads['cum_daily_deps']\n",
        "\n",
        "\n",
        "\n",
        "\n",
        "  def process_load(self, load):\n",
        "    self.balance += float(load.load_amt)\n",
        "    self.loads.append(load)\n",
        "\n",
        "    #3 rules: \n",
        "    # 1) A maximum of  $5,000  can be loaded per day\n",
        "    # 2) A maximum of  $20,000  can be loaded per week\n",
        "    # 3) A maximum of 3 loads can be performed per day, regardless of amount\n",
        "\n",
        "\n",
        "    rule1 = False\n",
        "    rule2 = False\n",
        "    rule3 = False \n",
        "\n",
        "    if self.daily_deposits_left > float(load.load_amt): \n",
        "      print(\"self.daily_deposits_left:{}, float(load.load_amt):{}\".format(self.daily_deposits_left, float(load.load_amt)))\n",
        "      print(\"Rule 1 approved: Room available in daily loading amount\")\n",
        "      rule1 = True \n",
        "\n",
        "    else: \n",
        "      print(\"Rule 1 declined: No room available in daily loading amount\")\n",
        "\n",
        "  \n",
        "    if self.weekly_deposits_left > float(load.load_amt): \n",
        "      print(\"Rule 2 approved: Room available in weekly loading amount\")\n",
        "      rule2 = True\n",
        "\n",
        "    else: \n",
        "      print(\"Rule 2 declined: No room available in weekly loading amount\")\n",
        "\n",
        "\n",
        "    if self.daily_loads_left > 1: \n",
        "      print(\"Rule 3 approved: Room available in daily loading count\")\n",
        "      rule3 = True \n",
        "\n",
        "    else: \n",
        "      print(\"Rule 3 declined: No room available in daily loading count\")\n",
        "\n",
        "\n",
        "    # only update values if the load id and unique load time are not yet in the history table to avoid duplicates \n",
        "\n",
        "    if load.load_id not in list(self.load_hist.load_id) and load.load_time not in list(self.load_hist.load_time): \n",
        "      print(\"Unique values not in history table yet\")\n",
        "\n",
        "      self.update_load_history(rule1, rule2, rule3)\n",
        "      self.process_valid_loads()\n",
        "\n",
        "\n",
        "      if rule1 & rule2 & rule3: \n",
        "        self.current_daily_deposits+=float(load.load_amt)\n",
        "        self.current_weekly_deposits+=float(load.load_amt)\n",
        "        self.current_daily_loads+=1\n",
        "\n",
        "        self.get_daily_deposits_left()\n",
        "        self.get_weekly_deposits_left()\n",
        "        self.get_daily_loads_left()\n",
        "\n",
        "        self.loads[-1].approved_status = True \n",
        "        print(\"All Rules Passed ... Load Added\")\n",
        "\n",
        "    else: \n",
        "      print(\"Load Rejected\")\n",
        "\n",
        "    return None\n",
        "\n",
        "  def print_status(self): \n",
        "    print(\"Customer_id:{}\".format(self.customer_id))\n",
        "    print(\"Current Deposit Balance:{}\".format(self.balance))\n",
        "    print(\"Current Daily Deposits:{}\".format(self.current_daily_deposits))\n",
        "    print(\"Current Weekly Deposits:{}\".format(self.current_weekly_deposits))\n",
        "    print(\"Current Daily Loads:{}\".format(self.current_daily_loads))\n",
        "\n",
        "    print(\"Daily Deposits Left:{}\".format(self.daily_deposits_left))\n",
        "    print(\"Weekly Deposits Left:{}\".format(self.weekly_deposits_left))\n",
        "    print(\"Daily Loads Left:{}\".format(self.daily_loads_left))\n",
        "\n"
      ],
      "execution_count": 90,
      "outputs": []
    },
    {
      "cell_type": "code",
      "metadata": {
        "id": "MJ_PsBWXu89E"
      },
      "source": [
        "# import datetime as datetime \n",
        "class Load: \n",
        "  def __init__(self, load_id, load_amt, load_time):\n",
        "    self.load_id = load_id\n",
        "    self.load_amt = float(load_amt[1:])\n",
        "    self.load_time = load_time \n",
        "    self.approved_status = False\n",
        "\n",
        "    self.datetime_object = datetime.strptime(self.load_time, \"%Y-%m-%dT%H:%M:%SZ\")\n",
        "    self.load_week_num = self.datetime_object.year + self.datetime_object.isocalendar()[1]\n",
        "\n",
        "    import datetime as dt\n",
        "\n",
        "    self.load_day_num = self.datetime_object.year + (dt.date(self.datetime_object.year, self.datetime_object.month, self.datetime_object.day) - dt.date(self.datetime_object.year,1,1)).days + 1\n",
        "\n",
        "    # self.day_num = (datetime.date(self.datetime_object.year, self.datetime_object.month, self.datetime_object.day) - datetime.date(year,1,1)).days + 1\n",
        "\n",
        "\n",
        "\n",
        "    "
      ],
      "execution_count": 91,
      "outputs": []
    },
    {
      "cell_type": "markdown",
      "metadata": {
        "id": "fi5mGITE-sKC"
      },
      "source": [
        "### Test Case 3 \n",
        "* `customer_id=1`\n",
        "* `load =('10694', '$7785.11', '2000-01-01T03:04:06Z')`\n",
        "* \n",
        "\n"
      ]
    },
    {
      "cell_type": "code",
      "metadata": {
        "id": "ZCTQASne7E-R"
      },
      "source": [
        "def test_case3(): \n",
        "\n",
        "  cust1 = Customer(1)\n",
        "  cust1.process_load(Load('10694', '$7785.11', '2000-01-01T03:04:06Z'))\n",
        "\n",
        "  response = cust1.load_hist.iloc[0].approved_status\n",
        "  cust1.print_status()\n",
        "\n",
        "  print(cust1.load_hist)\n",
        "  print(\"Pass:{}\".format(response==False))\n",
        "\n",
        "  assert(response == False)"
      ],
      "execution_count": 92,
      "outputs": []
    },
    {
      "cell_type": "code",
      "metadata": {
        "id": "yPpydA6y7tpV",
        "outputId": "03e20ae6-a3f5-4965-b95d-0545be1758b2",
        "colab": {
          "base_uri": "https://localhost:8080/",
          "height": 293
        }
      },
      "source": [
        "test_case3()"
      ],
      "execution_count": 93,
      "outputs": [
        {
          "output_type": "stream",
          "text": [
            "Rule 1 declined: No room available in daily loading amount\n",
            "Rule 2 approved: Room available in weekly loading amount\n",
            "Rule 3 approved: Room available in daily loading count\n",
            "Unique values not in history table yet\n",
            "Customer_id:1\n",
            "Current Deposit Balance:7785.11\n",
            "Current Daily Deposits:0\n",
            "Current Weekly Deposits:0\n",
            "Current Daily Loads:0\n",
            "Daily Deposits Left:5000\n",
            "Weekly Deposits Left:20000\n",
            "Daily Loads Left:3\n",
            "   customer_id load_id  load_amt  ...  rule1  rule2  rule3\n",
            "0            1   10694   7785.11  ...  False   True   True\n",
            "\n",
            "[1 rows x 10 columns]\n",
            "Pass:True\n"
          ],
          "name": "stdout"
        }
      ]
    },
    {
      "cell_type": "code",
      "metadata": {
        "id": "JOJNQz-hBDMW"
      },
      "source": [
        "customer_id = input_data.iloc[[0]].customer_id.iloc[0]\n",
        "cust = Customer(customer_id)"
      ],
      "execution_count": 94,
      "outputs": []
    },
    {
      "cell_type": "code",
      "metadata": {
        "id": "nZNeOCnxBEjM",
        "outputId": "7d893ffd-0a82-4792-a582-fee3528a445a",
        "colab": {
          "base_uri": "https://localhost:8080/",
          "height": 47
        }
      },
      "source": [
        "cust.load_hist"
      ],
      "execution_count": 95,
      "outputs": [
        {
          "output_type": "execute_result",
          "data": {
            "text/html": [
              "<div>\n",
              "<style scoped>\n",
              "    .dataframe tbody tr th:only-of-type {\n",
              "        vertical-align: middle;\n",
              "    }\n",
              "\n",
              "    .dataframe tbody tr th {\n",
              "        vertical-align: top;\n",
              "    }\n",
              "\n",
              "    .dataframe thead th {\n",
              "        text-align: right;\n",
              "    }\n",
              "</style>\n",
              "<table border=\"1\" class=\"dataframe\">\n",
              "  <thead>\n",
              "    <tr style=\"text-align: right;\">\n",
              "      <th></th>\n",
              "      <th>customer_id</th>\n",
              "      <th>load_id</th>\n",
              "      <th>load_amt</th>\n",
              "      <th>load_time</th>\n",
              "      <th>load_week_num</th>\n",
              "      <th>load_day_num</th>\n",
              "      <th>approved_status</th>\n",
              "      <th>rule1</th>\n",
              "      <th>rule2</th>\n",
              "      <th>rule3</th>\n",
              "    </tr>\n",
              "  </thead>\n",
              "  <tbody>\n",
              "  </tbody>\n",
              "</table>\n",
              "</div>"
            ],
            "text/plain": [
              "Empty DataFrame\n",
              "Columns: [customer_id, load_id, load_amt, load_time, load_week_num, load_day_num, approved_status, rule1, rule2, rule3]\n",
              "Index: []"
            ]
          },
          "metadata": {
            "tags": []
          },
          "execution_count": 95
        }
      ]
    },
    {
      "cell_type": "code",
      "metadata": {
        "id": "DlvUL9ZQBIZN",
        "outputId": "90d3e54b-85ee-44c5-84f9-e4aef672fe46",
        "colab": {
          "base_uri": "https://localhost:8080/",
          "height": 173
        }
      },
      "source": [
        "load_id =input_data.iloc[[0]].id.iloc[0]\n",
        "load_amount = input_data.iloc[[0]].load_amount.iloc[0]\n",
        "load_time = input_data.iloc[[0]].time.iloc[0]\n",
        "\n",
        "cust.process_load(Load(load_id, load_amount, load_time))\n",
        "cust.load_hist"
      ],
      "execution_count": 96,
      "outputs": [
        {
          "output_type": "stream",
          "text": [
            "self.daily_deposits_left:5000, float(load.load_amt):3318.47\n",
            "Rule 1 approved: Room available in daily loading amount\n",
            "Rule 2 approved: Room available in weekly loading amount\n",
            "Rule 3 approved: Room available in daily loading count\n",
            "Unique values not in history table yet\n",
            "All Rules Passed ... Load Added\n"
          ],
          "name": "stdout"
        },
        {
          "output_type": "execute_result",
          "data": {
            "text/html": [
              "<div>\n",
              "<style scoped>\n",
              "    .dataframe tbody tr th:only-of-type {\n",
              "        vertical-align: middle;\n",
              "    }\n",
              "\n",
              "    .dataframe tbody tr th {\n",
              "        vertical-align: top;\n",
              "    }\n",
              "\n",
              "    .dataframe thead th {\n",
              "        text-align: right;\n",
              "    }\n",
              "</style>\n",
              "<table border=\"1\" class=\"dataframe\">\n",
              "  <thead>\n",
              "    <tr style=\"text-align: right;\">\n",
              "      <th></th>\n",
              "      <th>customer_id</th>\n",
              "      <th>load_id</th>\n",
              "      <th>load_amt</th>\n",
              "      <th>load_time</th>\n",
              "      <th>load_week_num</th>\n",
              "      <th>load_day_num</th>\n",
              "      <th>approved_status</th>\n",
              "      <th>rule1</th>\n",
              "      <th>rule2</th>\n",
              "      <th>rule3</th>\n",
              "    </tr>\n",
              "  </thead>\n",
              "  <tbody>\n",
              "    <tr>\n",
              "      <th>0</th>\n",
              "      <td>528</td>\n",
              "      <td>15887.0</td>\n",
              "      <td>3318.47</td>\n",
              "      <td>2000-01-01T00:00:00Z</td>\n",
              "      <td>2052</td>\n",
              "      <td>2001</td>\n",
              "      <td>True</td>\n",
              "      <td>True</td>\n",
              "      <td>True</td>\n",
              "      <td>True</td>\n",
              "    </tr>\n",
              "  </tbody>\n",
              "</table>\n",
              "</div>"
            ],
            "text/plain": [
              "   customer_id  load_id  load_amt  ... rule1  rule2  rule3\n",
              "0          528  15887.0   3318.47  ...  True   True   True\n",
              "\n",
              "[1 rows x 10 columns]"
            ]
          },
          "metadata": {
            "tags": []
          },
          "execution_count": 96
        }
      ]
    },
    {
      "cell_type": "code",
      "metadata": {
        "id": "m3OjwcY8BRxz",
        "outputId": "920e2524-3458-4e9f-b103-ea5b613c3b7a",
        "colab": {
          "base_uri": "https://localhost:8080/",
          "height": 170
        }
      },
      "source": [
        "load_id = '1834'\n",
        "load_amount = input_data.iloc[[0]].load_amount.iloc[0]\n",
        "load_time = '2000-02-01T00:00:00Z'\n",
        "\n",
        "cust.process_load(Load(load_id, load_amount, load_time))\n",
        "cust.load_hist"
      ],
      "execution_count": 97,
      "outputs": [
        {
          "output_type": "stream",
          "text": [
            "Rule 1 declined: No room available in daily loading amount\n",
            "Rule 2 approved: Room available in weekly loading amount\n",
            "Rule 3 approved: Room available in daily loading count\n",
            "Unique values not in history table yet\n"
          ],
          "name": "stdout"
        },
        {
          "output_type": "execute_result",
          "data": {
            "text/html": [
              "<div>\n",
              "<style scoped>\n",
              "    .dataframe tbody tr th:only-of-type {\n",
              "        vertical-align: middle;\n",
              "    }\n",
              "\n",
              "    .dataframe tbody tr th {\n",
              "        vertical-align: top;\n",
              "    }\n",
              "\n",
              "    .dataframe thead th {\n",
              "        text-align: right;\n",
              "    }\n",
              "</style>\n",
              "<table border=\"1\" class=\"dataframe\">\n",
              "  <thead>\n",
              "    <tr style=\"text-align: right;\">\n",
              "      <th></th>\n",
              "      <th>customer_id</th>\n",
              "      <th>load_id</th>\n",
              "      <th>load_amt</th>\n",
              "      <th>load_time</th>\n",
              "      <th>load_week_num</th>\n",
              "      <th>load_day_num</th>\n",
              "      <th>approved_status</th>\n",
              "      <th>rule1</th>\n",
              "      <th>rule2</th>\n",
              "      <th>rule3</th>\n",
              "    </tr>\n",
              "  </thead>\n",
              "  <tbody>\n",
              "    <tr>\n",
              "      <th>0</th>\n",
              "      <td>528</td>\n",
              "      <td>15887</td>\n",
              "      <td>3318.47</td>\n",
              "      <td>2000-01-01T00:00:00Z</td>\n",
              "      <td>2052</td>\n",
              "      <td>2001</td>\n",
              "      <td>True</td>\n",
              "      <td>True</td>\n",
              "      <td>True</td>\n",
              "      <td>True</td>\n",
              "    </tr>\n",
              "    <tr>\n",
              "      <th>1</th>\n",
              "      <td>528</td>\n",
              "      <td>1834</td>\n",
              "      <td>3318.47</td>\n",
              "      <td>2000-02-01T00:00:00Z</td>\n",
              "      <td>2005</td>\n",
              "      <td>2032</td>\n",
              "      <td>False</td>\n",
              "      <td>False</td>\n",
              "      <td>True</td>\n",
              "      <td>True</td>\n",
              "    </tr>\n",
              "  </tbody>\n",
              "</table>\n",
              "</div>"
            ],
            "text/plain": [
              "   customer_id load_id  load_amt  ...  rule1  rule2  rule3\n",
              "0          528   15887   3318.47  ...   True   True   True\n",
              "1          528    1834   3318.47  ...  False   True   True\n",
              "\n",
              "[2 rows x 10 columns]"
            ]
          },
          "metadata": {
            "tags": []
          },
          "execution_count": 97
        }
      ]
    },
    {
      "cell_type": "code",
      "metadata": {
        "id": "c92j4DEbllW-",
        "outputId": "71d6fc6a-afdc-4f22-d82a-2a841b6388f0",
        "colab": {
          "base_uri": "https://localhost:8080/",
          "height": 112
        }
      },
      "source": [
        "cust.valid_loads"
      ],
      "execution_count": 98,
      "outputs": [
        {
          "output_type": "execute_result",
          "data": {
            "text/html": [
              "<div>\n",
              "<style scoped>\n",
              "    .dataframe tbody tr th:only-of-type {\n",
              "        vertical-align: middle;\n",
              "    }\n",
              "\n",
              "    .dataframe tbody tr th {\n",
              "        vertical-align: top;\n",
              "    }\n",
              "\n",
              "    .dataframe thead th {\n",
              "        text-align: right;\n",
              "    }\n",
              "</style>\n",
              "<table border=\"1\" class=\"dataframe\">\n",
              "  <thead>\n",
              "    <tr style=\"text-align: right;\">\n",
              "      <th></th>\n",
              "      <th>customer_id</th>\n",
              "      <th>load_id</th>\n",
              "      <th>load_amt</th>\n",
              "      <th>load_time</th>\n",
              "      <th>load_week_num</th>\n",
              "      <th>load_day_num</th>\n",
              "      <th>approved_status</th>\n",
              "      <th>rule1</th>\n",
              "      <th>rule2</th>\n",
              "      <th>rule3</th>\n",
              "      <th>cum_weekly_deps</th>\n",
              "      <th>cum_daily_deps</th>\n",
              "      <th>weekly_deps_left</th>\n",
              "      <th>daily_deps_left</th>\n",
              "    </tr>\n",
              "  </thead>\n",
              "  <tbody>\n",
              "    <tr>\n",
              "      <th>0</th>\n",
              "      <td>528</td>\n",
              "      <td>15887</td>\n",
              "      <td>3318.47</td>\n",
              "      <td>2000-01-01T00:00:00Z</td>\n",
              "      <td>2052</td>\n",
              "      <td>2001</td>\n",
              "      <td>True</td>\n",
              "      <td>True</td>\n",
              "      <td>True</td>\n",
              "      <td>True</td>\n",
              "      <td>3318.47</td>\n",
              "      <td>3318.47</td>\n",
              "      <td>16681.53</td>\n",
              "      <td>1681.53</td>\n",
              "    </tr>\n",
              "  </tbody>\n",
              "</table>\n",
              "</div>"
            ],
            "text/plain": [
              "   customer_id load_id  ...  weekly_deps_left daily_deps_left\n",
              "0          528   15887  ...          16681.53         1681.53\n",
              "\n",
              "[1 rows x 14 columns]"
            ]
          },
          "metadata": {
            "tags": []
          },
          "execution_count": 98
        }
      ]
    },
    {
      "cell_type": "code",
      "metadata": {
        "id": "gpFh7i33HtTH",
        "outputId": "055bda29-fd53-4e25-c1bc-6470b2d97d14",
        "colab": {
          "base_uri": "https://localhost:8080/",
          "height": 231
        }
      },
      "source": [
        "load_id = '1835'\n",
        "load_amount = '$5'\n",
        "load_time = '2000-02-02T00:00:00Z'\n",
        "\n",
        "cust.process_load(Load(load_id, load_amount, load_time))\n",
        "cust.load_hist"
      ],
      "execution_count": 99,
      "outputs": [
        {
          "output_type": "stream",
          "text": [
            "self.daily_deposits_left:1681.5300000000002, float(load.load_amt):5.0\n",
            "Rule 1 approved: Room available in daily loading amount\n",
            "Rule 2 approved: Room available in weekly loading amount\n",
            "Rule 3 approved: Room available in daily loading count\n",
            "Unique values not in history table yet\n",
            "All Rules Passed ... Load Added\n"
          ],
          "name": "stdout"
        },
        {
          "output_type": "execute_result",
          "data": {
            "text/html": [
              "<div>\n",
              "<style scoped>\n",
              "    .dataframe tbody tr th:only-of-type {\n",
              "        vertical-align: middle;\n",
              "    }\n",
              "\n",
              "    .dataframe tbody tr th {\n",
              "        vertical-align: top;\n",
              "    }\n",
              "\n",
              "    .dataframe thead th {\n",
              "        text-align: right;\n",
              "    }\n",
              "</style>\n",
              "<table border=\"1\" class=\"dataframe\">\n",
              "  <thead>\n",
              "    <tr style=\"text-align: right;\">\n",
              "      <th></th>\n",
              "      <th>customer_id</th>\n",
              "      <th>load_id</th>\n",
              "      <th>load_amt</th>\n",
              "      <th>load_time</th>\n",
              "      <th>load_week_num</th>\n",
              "      <th>load_day_num</th>\n",
              "      <th>approved_status</th>\n",
              "      <th>rule1</th>\n",
              "      <th>rule2</th>\n",
              "      <th>rule3</th>\n",
              "    </tr>\n",
              "  </thead>\n",
              "  <tbody>\n",
              "    <tr>\n",
              "      <th>0</th>\n",
              "      <td>528</td>\n",
              "      <td>15887</td>\n",
              "      <td>3318.47</td>\n",
              "      <td>2000-01-01T00:00:00Z</td>\n",
              "      <td>2052</td>\n",
              "      <td>2001</td>\n",
              "      <td>True</td>\n",
              "      <td>True</td>\n",
              "      <td>True</td>\n",
              "      <td>True</td>\n",
              "    </tr>\n",
              "    <tr>\n",
              "      <th>1</th>\n",
              "      <td>528</td>\n",
              "      <td>1834</td>\n",
              "      <td>3318.47</td>\n",
              "      <td>2000-02-01T00:00:00Z</td>\n",
              "      <td>2005</td>\n",
              "      <td>2032</td>\n",
              "      <td>False</td>\n",
              "      <td>False</td>\n",
              "      <td>True</td>\n",
              "      <td>True</td>\n",
              "    </tr>\n",
              "    <tr>\n",
              "      <th>2</th>\n",
              "      <td>528</td>\n",
              "      <td>1835</td>\n",
              "      <td>5.00</td>\n",
              "      <td>2000-02-02T00:00:00Z</td>\n",
              "      <td>2005</td>\n",
              "      <td>2033</td>\n",
              "      <td>True</td>\n",
              "      <td>True</td>\n",
              "      <td>True</td>\n",
              "      <td>True</td>\n",
              "    </tr>\n",
              "  </tbody>\n",
              "</table>\n",
              "</div>"
            ],
            "text/plain": [
              "   customer_id load_id  load_amt  ...  rule1  rule2  rule3\n",
              "0          528   15887   3318.47  ...   True   True   True\n",
              "1          528    1834   3318.47  ...  False   True   True\n",
              "2          528    1835      5.00  ...   True   True   True\n",
              "\n",
              "[3 rows x 10 columns]"
            ]
          },
          "metadata": {
            "tags": []
          },
          "execution_count": 99
        }
      ]
    },
    {
      "cell_type": "code",
      "metadata": {
        "id": "Gnw6bW-ul3t4",
        "outputId": "c6fd5b1e-e3eb-4696-d56c-0c477ea7ca4b",
        "colab": {
          "base_uri": "https://localhost:8080/",
          "height": 157
        }
      },
      "source": [
        "cust.valid_loads"
      ],
      "execution_count": 100,
      "outputs": [
        {
          "output_type": "execute_result",
          "data": {
            "text/html": [
              "<div>\n",
              "<style scoped>\n",
              "    .dataframe tbody tr th:only-of-type {\n",
              "        vertical-align: middle;\n",
              "    }\n",
              "\n",
              "    .dataframe tbody tr th {\n",
              "        vertical-align: top;\n",
              "    }\n",
              "\n",
              "    .dataframe thead th {\n",
              "        text-align: right;\n",
              "    }\n",
              "</style>\n",
              "<table border=\"1\" class=\"dataframe\">\n",
              "  <thead>\n",
              "    <tr style=\"text-align: right;\">\n",
              "      <th></th>\n",
              "      <th>customer_id</th>\n",
              "      <th>load_id</th>\n",
              "      <th>load_amt</th>\n",
              "      <th>load_time</th>\n",
              "      <th>load_week_num</th>\n",
              "      <th>load_day_num</th>\n",
              "      <th>approved_status</th>\n",
              "      <th>rule1</th>\n",
              "      <th>rule2</th>\n",
              "      <th>rule3</th>\n",
              "      <th>cum_weekly_deps</th>\n",
              "      <th>cum_daily_deps</th>\n",
              "      <th>weekly_deps_left</th>\n",
              "      <th>daily_deps_left</th>\n",
              "    </tr>\n",
              "  </thead>\n",
              "  <tbody>\n",
              "    <tr>\n",
              "      <th>0</th>\n",
              "      <td>528</td>\n",
              "      <td>15887</td>\n",
              "      <td>3318.47</td>\n",
              "      <td>2000-01-01T00:00:00Z</td>\n",
              "      <td>2052</td>\n",
              "      <td>2001</td>\n",
              "      <td>True</td>\n",
              "      <td>True</td>\n",
              "      <td>True</td>\n",
              "      <td>True</td>\n",
              "      <td>3318.47</td>\n",
              "      <td>3318.47</td>\n",
              "      <td>16681.53</td>\n",
              "      <td>1681.53</td>\n",
              "    </tr>\n",
              "    <tr>\n",
              "      <th>2</th>\n",
              "      <td>528</td>\n",
              "      <td>1835</td>\n",
              "      <td>5.00</td>\n",
              "      <td>2000-02-02T00:00:00Z</td>\n",
              "      <td>2005</td>\n",
              "      <td>2033</td>\n",
              "      <td>True</td>\n",
              "      <td>True</td>\n",
              "      <td>True</td>\n",
              "      <td>True</td>\n",
              "      <td>5.00</td>\n",
              "      <td>5.00</td>\n",
              "      <td>19995.00</td>\n",
              "      <td>4995.00</td>\n",
              "    </tr>\n",
              "  </tbody>\n",
              "</table>\n",
              "</div>"
            ],
            "text/plain": [
              "   customer_id load_id  ...  weekly_deps_left daily_deps_left\n",
              "0          528   15887  ...          16681.53         1681.53\n",
              "2          528    1835  ...          19995.00         4995.00\n",
              "\n",
              "[2 rows x 14 columns]"
            ]
          },
          "metadata": {
            "tags": []
          },
          "execution_count": 100
        }
      ]
    },
    {
      "cell_type": "code",
      "metadata": {
        "id": "Xc0tT3O-Rnwh",
        "outputId": "5ea9eba5-57be-4209-c460-575e5e7ff33b",
        "colab": {
          "base_uri": "https://localhost:8080/",
          "height": 243
        }
      },
      "source": [
        "load_id = '1836'\n",
        "load_amount = '$80'\n",
        "load_time = '2000-02-03T00:00:00Z'\n",
        "\n",
        "cust.process_load(Load(load_id, load_amount, load_time))\n",
        "cust.load_hist"
      ],
      "execution_count": 101,
      "outputs": [
        {
          "output_type": "stream",
          "text": [
            "self.daily_deposits_left:1676.5300000000002, float(load.load_amt):80.0\n",
            "Rule 1 approved: Room available in daily loading amount\n",
            "Rule 2 approved: Room available in weekly loading amount\n",
            "Rule 3 declined: No room available in daily loading count\n",
            "Unique values not in history table yet\n"
          ],
          "name": "stdout"
        },
        {
          "output_type": "execute_result",
          "data": {
            "text/html": [
              "<div>\n",
              "<style scoped>\n",
              "    .dataframe tbody tr th:only-of-type {\n",
              "        vertical-align: middle;\n",
              "    }\n",
              "\n",
              "    .dataframe tbody tr th {\n",
              "        vertical-align: top;\n",
              "    }\n",
              "\n",
              "    .dataframe thead th {\n",
              "        text-align: right;\n",
              "    }\n",
              "</style>\n",
              "<table border=\"1\" class=\"dataframe\">\n",
              "  <thead>\n",
              "    <tr style=\"text-align: right;\">\n",
              "      <th></th>\n",
              "      <th>customer_id</th>\n",
              "      <th>load_id</th>\n",
              "      <th>load_amt</th>\n",
              "      <th>load_time</th>\n",
              "      <th>load_week_num</th>\n",
              "      <th>load_day_num</th>\n",
              "      <th>approved_status</th>\n",
              "      <th>rule1</th>\n",
              "      <th>rule2</th>\n",
              "      <th>rule3</th>\n",
              "    </tr>\n",
              "  </thead>\n",
              "  <tbody>\n",
              "    <tr>\n",
              "      <th>0</th>\n",
              "      <td>528</td>\n",
              "      <td>15887</td>\n",
              "      <td>3318.47</td>\n",
              "      <td>2000-01-01T00:00:00Z</td>\n",
              "      <td>2052</td>\n",
              "      <td>2001</td>\n",
              "      <td>True</td>\n",
              "      <td>True</td>\n",
              "      <td>True</td>\n",
              "      <td>True</td>\n",
              "    </tr>\n",
              "    <tr>\n",
              "      <th>1</th>\n",
              "      <td>528</td>\n",
              "      <td>1834</td>\n",
              "      <td>3318.47</td>\n",
              "      <td>2000-02-01T00:00:00Z</td>\n",
              "      <td>2005</td>\n",
              "      <td>2032</td>\n",
              "      <td>False</td>\n",
              "      <td>False</td>\n",
              "      <td>True</td>\n",
              "      <td>True</td>\n",
              "    </tr>\n",
              "    <tr>\n",
              "      <th>2</th>\n",
              "      <td>528</td>\n",
              "      <td>1835</td>\n",
              "      <td>5.00</td>\n",
              "      <td>2000-02-02T00:00:00Z</td>\n",
              "      <td>2005</td>\n",
              "      <td>2033</td>\n",
              "      <td>True</td>\n",
              "      <td>True</td>\n",
              "      <td>True</td>\n",
              "      <td>True</td>\n",
              "    </tr>\n",
              "    <tr>\n",
              "      <th>3</th>\n",
              "      <td>528</td>\n",
              "      <td>1836</td>\n",
              "      <td>80.00</td>\n",
              "      <td>2000-02-03T00:00:00Z</td>\n",
              "      <td>2005</td>\n",
              "      <td>2034</td>\n",
              "      <td>False</td>\n",
              "      <td>True</td>\n",
              "      <td>True</td>\n",
              "      <td>False</td>\n",
              "    </tr>\n",
              "  </tbody>\n",
              "</table>\n",
              "</div>"
            ],
            "text/plain": [
              "   customer_id load_id  load_amt  ...  rule1  rule2  rule3\n",
              "0          528   15887   3318.47  ...   True   True   True\n",
              "1          528    1834   3318.47  ...  False   True   True\n",
              "2          528    1835      5.00  ...   True   True   True\n",
              "3          528    1836     80.00  ...   True   True  False\n",
              "\n",
              "[4 rows x 10 columns]"
            ]
          },
          "metadata": {
            "tags": []
          },
          "execution_count": 101
        }
      ]
    },
    {
      "cell_type": "code",
      "metadata": {
        "id": "f8jsGm7mLxp5",
        "outputId": "ef7389eb-60b1-4e7c-9706-9c96afcd74b1",
        "colab": {
          "base_uri": "https://localhost:8080/",
          "height": 272
        }
      },
      "source": [
        "load_id = '1837'\n",
        "load_amount = '$100'\n",
        "\n",
        "load_time = '2000-02-04T00:00:00Z'\n",
        "cust.process_load(Load(load_id, load_amount, load_time))\n",
        "cust.load_hist"
      ],
      "execution_count": 102,
      "outputs": [
        {
          "output_type": "stream",
          "text": [
            "self.daily_deposits_left:1676.5300000000002, float(load.load_amt):100.0\n",
            "Rule 1 approved: Room available in daily loading amount\n",
            "Rule 2 approved: Room available in weekly loading amount\n",
            "Rule 3 declined: No room available in daily loading count\n",
            "Unique values not in history table yet\n"
          ],
          "name": "stdout"
        },
        {
          "output_type": "execute_result",
          "data": {
            "text/html": [
              "<div>\n",
              "<style scoped>\n",
              "    .dataframe tbody tr th:only-of-type {\n",
              "        vertical-align: middle;\n",
              "    }\n",
              "\n",
              "    .dataframe tbody tr th {\n",
              "        vertical-align: top;\n",
              "    }\n",
              "\n",
              "    .dataframe thead th {\n",
              "        text-align: right;\n",
              "    }\n",
              "</style>\n",
              "<table border=\"1\" class=\"dataframe\">\n",
              "  <thead>\n",
              "    <tr style=\"text-align: right;\">\n",
              "      <th></th>\n",
              "      <th>customer_id</th>\n",
              "      <th>load_id</th>\n",
              "      <th>load_amt</th>\n",
              "      <th>load_time</th>\n",
              "      <th>load_week_num</th>\n",
              "      <th>load_day_num</th>\n",
              "      <th>approved_status</th>\n",
              "      <th>rule1</th>\n",
              "      <th>rule2</th>\n",
              "      <th>rule3</th>\n",
              "    </tr>\n",
              "  </thead>\n",
              "  <tbody>\n",
              "    <tr>\n",
              "      <th>0</th>\n",
              "      <td>528</td>\n",
              "      <td>15887</td>\n",
              "      <td>3318.47</td>\n",
              "      <td>2000-01-01T00:00:00Z</td>\n",
              "      <td>2052</td>\n",
              "      <td>2001</td>\n",
              "      <td>True</td>\n",
              "      <td>True</td>\n",
              "      <td>True</td>\n",
              "      <td>True</td>\n",
              "    </tr>\n",
              "    <tr>\n",
              "      <th>1</th>\n",
              "      <td>528</td>\n",
              "      <td>1834</td>\n",
              "      <td>3318.47</td>\n",
              "      <td>2000-02-01T00:00:00Z</td>\n",
              "      <td>2005</td>\n",
              "      <td>2032</td>\n",
              "      <td>False</td>\n",
              "      <td>False</td>\n",
              "      <td>True</td>\n",
              "      <td>True</td>\n",
              "    </tr>\n",
              "    <tr>\n",
              "      <th>2</th>\n",
              "      <td>528</td>\n",
              "      <td>1835</td>\n",
              "      <td>5.00</td>\n",
              "      <td>2000-02-02T00:00:00Z</td>\n",
              "      <td>2005</td>\n",
              "      <td>2033</td>\n",
              "      <td>True</td>\n",
              "      <td>True</td>\n",
              "      <td>True</td>\n",
              "      <td>True</td>\n",
              "    </tr>\n",
              "    <tr>\n",
              "      <th>3</th>\n",
              "      <td>528</td>\n",
              "      <td>1836</td>\n",
              "      <td>80.00</td>\n",
              "      <td>2000-02-03T00:00:00Z</td>\n",
              "      <td>2005</td>\n",
              "      <td>2034</td>\n",
              "      <td>False</td>\n",
              "      <td>True</td>\n",
              "      <td>True</td>\n",
              "      <td>False</td>\n",
              "    </tr>\n",
              "    <tr>\n",
              "      <th>4</th>\n",
              "      <td>528</td>\n",
              "      <td>1837</td>\n",
              "      <td>100.00</td>\n",
              "      <td>2000-02-04T00:00:00Z</td>\n",
              "      <td>2005</td>\n",
              "      <td>2035</td>\n",
              "      <td>False</td>\n",
              "      <td>True</td>\n",
              "      <td>True</td>\n",
              "      <td>False</td>\n",
              "    </tr>\n",
              "  </tbody>\n",
              "</table>\n",
              "</div>"
            ],
            "text/plain": [
              "   customer_id load_id  load_amt  ...  rule1  rule2  rule3\n",
              "0          528   15887   3318.47  ...   True   True   True\n",
              "1          528    1834   3318.47  ...  False   True   True\n",
              "2          528    1835      5.00  ...   True   True   True\n",
              "3          528    1836     80.00  ...   True   True  False\n",
              "4          528    1837    100.00  ...   True   True  False\n",
              "\n",
              "[5 rows x 10 columns]"
            ]
          },
          "metadata": {
            "tags": []
          },
          "execution_count": 102
        }
      ]
    },
    {
      "cell_type": "code",
      "metadata": {
        "id": "RBSfqd67WXYW",
        "outputId": "9640bdc2-07bf-4c0c-c368-d53048c1c9e7",
        "colab": {
          "base_uri": "https://localhost:8080/",
          "height": 157
        }
      },
      "source": [
        "cust.valid_loads"
      ],
      "execution_count": 103,
      "outputs": [
        {
          "output_type": "execute_result",
          "data": {
            "text/html": [
              "<div>\n",
              "<style scoped>\n",
              "    .dataframe tbody tr th:only-of-type {\n",
              "        vertical-align: middle;\n",
              "    }\n",
              "\n",
              "    .dataframe tbody tr th {\n",
              "        vertical-align: top;\n",
              "    }\n",
              "\n",
              "    .dataframe thead th {\n",
              "        text-align: right;\n",
              "    }\n",
              "</style>\n",
              "<table border=\"1\" class=\"dataframe\">\n",
              "  <thead>\n",
              "    <tr style=\"text-align: right;\">\n",
              "      <th></th>\n",
              "      <th>customer_id</th>\n",
              "      <th>load_id</th>\n",
              "      <th>load_amt</th>\n",
              "      <th>load_time</th>\n",
              "      <th>load_week_num</th>\n",
              "      <th>load_day_num</th>\n",
              "      <th>approved_status</th>\n",
              "      <th>rule1</th>\n",
              "      <th>rule2</th>\n",
              "      <th>rule3</th>\n",
              "      <th>cum_weekly_deps</th>\n",
              "      <th>cum_daily_deps</th>\n",
              "      <th>weekly_deps_left</th>\n",
              "      <th>daily_deps_left</th>\n",
              "    </tr>\n",
              "  </thead>\n",
              "  <tbody>\n",
              "    <tr>\n",
              "      <th>0</th>\n",
              "      <td>528</td>\n",
              "      <td>15887</td>\n",
              "      <td>3318.47</td>\n",
              "      <td>2000-01-01T00:00:00Z</td>\n",
              "      <td>2052</td>\n",
              "      <td>2001</td>\n",
              "      <td>True</td>\n",
              "      <td>True</td>\n",
              "      <td>True</td>\n",
              "      <td>True</td>\n",
              "      <td>3318.47</td>\n",
              "      <td>3318.47</td>\n",
              "      <td>16681.53</td>\n",
              "      <td>1681.53</td>\n",
              "    </tr>\n",
              "    <tr>\n",
              "      <th>2</th>\n",
              "      <td>528</td>\n",
              "      <td>1835</td>\n",
              "      <td>5.00</td>\n",
              "      <td>2000-02-02T00:00:00Z</td>\n",
              "      <td>2005</td>\n",
              "      <td>2033</td>\n",
              "      <td>True</td>\n",
              "      <td>True</td>\n",
              "      <td>True</td>\n",
              "      <td>True</td>\n",
              "      <td>5.00</td>\n",
              "      <td>5.00</td>\n",
              "      <td>19995.00</td>\n",
              "      <td>4995.00</td>\n",
              "    </tr>\n",
              "  </tbody>\n",
              "</table>\n",
              "</div>"
            ],
            "text/plain": [
              "   customer_id load_id  ...  weekly_deps_left daily_deps_left\n",
              "0          528   15887  ...          16681.53         1681.53\n",
              "2          528    1835  ...          19995.00         4995.00\n",
              "\n",
              "[2 rows x 14 columns]"
            ]
          },
          "metadata": {
            "tags": []
          },
          "execution_count": 103
        }
      ]
    },
    {
      "cell_type": "code",
      "metadata": {
        "id": "MuYaz1Hmmqs9",
        "outputId": "689d81d2-cdf6-42a9-a014-e2a022a36504",
        "colab": {
          "base_uri": "https://localhost:8080/",
          "height": 105
        }
      },
      "source": [
        "cust.valid_loads.sort_values(by=['load_time'], ascending = False)"
      ],
      "execution_count": 82,
      "outputs": [
        {
          "output_type": "execute_result",
          "data": {
            "text/html": [
              "<div>\n",
              "<style scoped>\n",
              "    .dataframe tbody tr th:only-of-type {\n",
              "        vertical-align: middle;\n",
              "    }\n",
              "\n",
              "    .dataframe tbody tr th {\n",
              "        vertical-align: top;\n",
              "    }\n",
              "\n",
              "    .dataframe thead th {\n",
              "        text-align: right;\n",
              "    }\n",
              "</style>\n",
              "<table border=\"1\" class=\"dataframe\">\n",
              "  <thead>\n",
              "    <tr style=\"text-align: right;\">\n",
              "      <th></th>\n",
              "      <th>customer_id</th>\n",
              "      <th>load_id</th>\n",
              "      <th>load_amt</th>\n",
              "      <th>load_time</th>\n",
              "      <th>load_week_num</th>\n",
              "      <th>load_day_num</th>\n",
              "      <th>approved_status</th>\n",
              "      <th>rule1</th>\n",
              "      <th>rule2</th>\n",
              "      <th>rule3</th>\n",
              "      <th>cum_weekly_deps</th>\n",
              "      <th>weekly_deps_left</th>\n",
              "    </tr>\n",
              "  </thead>\n",
              "  <tbody>\n",
              "    <tr>\n",
              "      <th>2</th>\n",
              "      <td>528</td>\n",
              "      <td>1835</td>\n",
              "      <td>5.00</td>\n",
              "      <td>2000-02-02T00:00:00Z</td>\n",
              "      <td>2005</td>\n",
              "      <td>2033</td>\n",
              "      <td>True</td>\n",
              "      <td>True</td>\n",
              "      <td>True</td>\n",
              "      <td>True</td>\n",
              "      <td>5.00</td>\n",
              "      <td>19995.00</td>\n",
              "    </tr>\n",
              "    <tr>\n",
              "      <th>0</th>\n",
              "      <td>528</td>\n",
              "      <td>15887</td>\n",
              "      <td>3318.47</td>\n",
              "      <td>2000-01-01T00:00:00Z</td>\n",
              "      <td>2052</td>\n",
              "      <td>2001</td>\n",
              "      <td>True</td>\n",
              "      <td>True</td>\n",
              "      <td>True</td>\n",
              "      <td>True</td>\n",
              "      <td>3318.47</td>\n",
              "      <td>16681.53</td>\n",
              "    </tr>\n",
              "  </tbody>\n",
              "</table>\n",
              "</div>"
            ],
            "text/plain": [
              "   customer_id load_id  load_amt  ... rule3  cum_weekly_deps  weekly_deps_left\n",
              "2          528    1835      5.00  ...  True             5.00          19995.00\n",
              "0          528   15887   3318.47  ...  True          3318.47          16681.53\n",
              "\n",
              "[2 rows x 12 columns]"
            ]
          },
          "metadata": {
            "tags": []
          },
          "execution_count": 82
        }
      ]
    },
    {
      "cell_type": "code",
      "metadata": {
        "id": "t1veyjxrHtmC"
      },
      "source": [
        "cust.valid_loads = cust.load_hist[cust.load_hist['approved_status']==True].copy(deep=True)\n",
        "\n",
        "df1 = cust.valid_loads.set_index('load_time').sort_index().copy(deep=True)\n",
        "\n",
        "\n",
        "df2 = pd.DataFrame(df1.groupby('load_week_num')['load_amt'].transform(pd.Series.cumsum)).copy(deep=True)\n",
        "\n",
        "df3 = pd.DataFrame(df1.groupby('load_day_num')['load_amt'].transform(pd.Series.cumsum)).copy(deep=True)\n",
        "\n",
        "\n",
        "\n",
        "cust.valid_loads['cum_weekly_deps'] = list(pd.merge(cust.valid_loads, df2, how='left', left_on =['load_time'], right_on=['load_time'])['load_amt_y'])\n",
        "\n",
        "\n",
        "cust.valid_loads['cum_daily_deps'] = list(pd.merge(cust.valid_loads, df3, how='left', left_on =['load_time'], right_on=['load_time'])['load_amt_y'])\n",
        "\n",
        "\n",
        "cust.valid_loads['weekly_deps_left'] = cust.weekly_deposit_limit - cust.valid_loads['cum_weekly_deps']\n",
        "\n",
        "cust.valid_loads['daily_deps_left'] = cust.daily_deposit_limit - cust.valid_loads['cum_daily_deps']\n",
        "\n",
        "\n"
      ],
      "execution_count": 87,
      "outputs": []
    },
    {
      "cell_type": "code",
      "metadata": {
        "id": "JoOtUlovHtkH",
        "outputId": "6856cfaa-6115-4303-d37f-b53df60ba71c",
        "colab": {
          "base_uri": "https://localhost:8080/",
          "height": 157
        }
      },
      "source": [
        "cust.valid_loads"
      ],
      "execution_count": 89,
      "outputs": [
        {
          "output_type": "execute_result",
          "data": {
            "text/html": [
              "<div>\n",
              "<style scoped>\n",
              "    .dataframe tbody tr th:only-of-type {\n",
              "        vertical-align: middle;\n",
              "    }\n",
              "\n",
              "    .dataframe tbody tr th {\n",
              "        vertical-align: top;\n",
              "    }\n",
              "\n",
              "    .dataframe thead th {\n",
              "        text-align: right;\n",
              "    }\n",
              "</style>\n",
              "<table border=\"1\" class=\"dataframe\">\n",
              "  <thead>\n",
              "    <tr style=\"text-align: right;\">\n",
              "      <th></th>\n",
              "      <th>customer_id</th>\n",
              "      <th>load_id</th>\n",
              "      <th>load_amt</th>\n",
              "      <th>load_time</th>\n",
              "      <th>load_week_num</th>\n",
              "      <th>load_day_num</th>\n",
              "      <th>approved_status</th>\n",
              "      <th>rule1</th>\n",
              "      <th>rule2</th>\n",
              "      <th>rule3</th>\n",
              "      <th>cum_weekly_deps</th>\n",
              "      <th>cum_daily_deps</th>\n",
              "      <th>weekly_deps_left</th>\n",
              "      <th>daily_deps_left</th>\n",
              "    </tr>\n",
              "  </thead>\n",
              "  <tbody>\n",
              "    <tr>\n",
              "      <th>0</th>\n",
              "      <td>528</td>\n",
              "      <td>15887</td>\n",
              "      <td>3318.47</td>\n",
              "      <td>2000-01-01T00:00:00Z</td>\n",
              "      <td>2052</td>\n",
              "      <td>2001</td>\n",
              "      <td>True</td>\n",
              "      <td>True</td>\n",
              "      <td>True</td>\n",
              "      <td>True</td>\n",
              "      <td>3318.47</td>\n",
              "      <td>3318.47</td>\n",
              "      <td>16681.53</td>\n",
              "      <td>1681.53</td>\n",
              "    </tr>\n",
              "    <tr>\n",
              "      <th>2</th>\n",
              "      <td>528</td>\n",
              "      <td>1835</td>\n",
              "      <td>5.00</td>\n",
              "      <td>2000-02-02T00:00:00Z</td>\n",
              "      <td>2005</td>\n",
              "      <td>2033</td>\n",
              "      <td>True</td>\n",
              "      <td>True</td>\n",
              "      <td>True</td>\n",
              "      <td>True</td>\n",
              "      <td>5.00</td>\n",
              "      <td>5.00</td>\n",
              "      <td>19995.00</td>\n",
              "      <td>4995.00</td>\n",
              "    </tr>\n",
              "  </tbody>\n",
              "</table>\n",
              "</div>"
            ],
            "text/plain": [
              "   customer_id load_id  ...  weekly_deps_left daily_deps_left\n",
              "0          528   15887  ...          16681.53         1681.53\n",
              "2          528    1835  ...          19995.00         4995.00\n",
              "\n",
              "[2 rows x 14 columns]"
            ]
          },
          "metadata": {
            "tags": []
          },
          "execution_count": 89
        }
      ]
    },
    {
      "cell_type": "code",
      "metadata": {
        "id": "lfnfxrRUHteE"
      },
      "source": [
        ""
      ],
      "execution_count": null,
      "outputs": []
    },
    {
      "cell_type": "code",
      "metadata": {
        "id": "bYP5yaATHtcu"
      },
      "source": [
        ""
      ],
      "execution_count": null,
      "outputs": []
    },
    {
      "cell_type": "code",
      "metadata": {
        "id": "YGmLUhVhHtad"
      },
      "source": [
        ""
      ],
      "execution_count": null,
      "outputs": []
    },
    {
      "cell_type": "code",
      "metadata": {
        "id": "SWDXXIeQHtY0"
      },
      "source": [
        ""
      ],
      "execution_count": null,
      "outputs": []
    },
    {
      "cell_type": "code",
      "metadata": {
        "id": "XxZaD4emHtXm"
      },
      "source": [
        ""
      ],
      "execution_count": null,
      "outputs": []
    },
    {
      "cell_type": "code",
      "metadata": {
        "id": "d7N-GiyzHtWX"
      },
      "source": [
        ""
      ],
      "execution_count": null,
      "outputs": []
    },
    {
      "cell_type": "code",
      "metadata": {
        "id": "6cSDsFgOHtRN"
      },
      "source": [
        ""
      ],
      "execution_count": null,
      "outputs": []
    },
    {
      "cell_type": "code",
      "metadata": {
        "id": "3S84pd5ZHtPN"
      },
      "source": [
        ""
      ],
      "execution_count": null,
      "outputs": []
    },
    {
      "cell_type": "code",
      "metadata": {
        "id": "Ejr5lKxJHtM3"
      },
      "source": [
        ""
      ],
      "execution_count": null,
      "outputs": []
    },
    {
      "cell_type": "code",
      "metadata": {
        "id": "iqGj7GL9nDM2"
      },
      "source": [
        "import pytest"
      ],
      "execution_count": null,
      "outputs": []
    },
    {
      "cell_type": "code",
      "metadata": {
        "id": "DPVsbnH1nDKI"
      },
      "source": [
        "def inc(x):\n",
        "    return x + 1\n",
        "\n",
        "\n",
        "def test_answer():\n",
        "    assert inc(3) == 5"
      ],
      "execution_count": null,
      "outputs": []
    },
    {
      "cell_type": "code",
      "metadata": {
        "id": "KhrLzcvQnDBa",
        "outputId": "8b06767c-19ce-42bd-fe36-5ce20c477554",
        "colab": {
          "base_uri": "https://localhost:8080/",
          "height": 115
        }
      },
      "source": [
        "!pytest"
      ],
      "execution_count": null,
      "outputs": [
        {
          "output_type": "stream",
          "text": [
            "\u001b[1m============================= test session starts ==============================\u001b[0m\n",
            "platform linux2 -- Python 2.7.17, pytest-3.6.4, py-1.8.0, pluggy-0.7.1\n",
            "rootdir: /content/velocity_limits/takehome, inifile:\n",
            "\u001b[1m\rcollecting 0 items                                                             \u001b[0m\u001b[1m\rcollected 0 items                                                              \u001b[0m\n",
            "\n",
            "\u001b[1m\u001b[33m========================= no tests ran in 0.00 seconds =========================\u001b[0m\n"
          ],
          "name": "stdout"
        }
      ]
    },
    {
      "cell_type": "code",
      "metadata": {
        "id": "A5oVRKpdrQAE",
        "outputId": "c1d9fcff-30ed-452f-a337-0ab423f73f3a",
        "colab": {
          "base_uri": "https://localhost:8080/",
          "height": 115
        }
      },
      "source": [
        "output_data = pd.read_json(\"output.txt\", lines=True)\n",
        "output_data.head(), len(output_data)"
      ],
      "execution_count": null,
      "outputs": [
        {
          "output_type": "execute_result",
          "data": {
            "text/plain": [
              "(      id  customer_id  accepted\n",
              " 0  15887          528      True\n",
              " 1  30081          154      True\n",
              " 2  26540          426      True\n",
              " 3  10694            1      True\n",
              " 4  15089          205      True, 999)"
            ]
          },
          "metadata": {
            "tags": []
          },
          "execution_count": 10
        }
      ]
    },
    {
      "cell_type": "code",
      "metadata": {
        "id": "6QCZPQ3FutPf",
        "outputId": "53f3c84d-9310-4824-8b7c-036386a2c26c",
        "colab": {
          "base_uri": "https://localhost:8080/",
          "height": 115
        }
      },
      "source": [
        "output_amar_data = pd.read_json(\"output_amar.txt\", lines=True)\n",
        "output_amar_data.head(), len(output_amar_data)"
      ],
      "execution_count": null,
      "outputs": [
        {
          "output_type": "execute_result",
          "data": {
            "text/plain": [
              "(   accepted  customer_id     id\n",
              " 0      True          528  15887\n",
              " 1      True          154  30081\n",
              " 2      True          426  26540\n",
              " 3      True            1  10694\n",
              " 4      True          205  15089, 999)"
            ]
          },
          "metadata": {
            "tags": []
          },
          "execution_count": 112
        }
      ]
    },
    {
      "cell_type": "code",
      "metadata": {
        "id": "O4cG-t3mrdbm"
      },
      "source": [
        "common_df= pd.merge(input_data, output_data, how='inner' ,left_on=['id', 'customer_id'], right_on=['id', 'customer_id'])"
      ],
      "execution_count": null,
      "outputs": []
    },
    {
      "cell_type": "code",
      "metadata": {
        "id": "lU4cwXrNs5nH",
        "outputId": "e638066f-593c-469c-ea20-025ee24bf804",
        "colab": {
          "base_uri": "https://localhost:8080/",
          "height": 191
        }
      },
      "source": [
        "common_df.head()"
      ],
      "execution_count": null,
      "outputs": [
        {
          "output_type": "execute_result",
          "data": {
            "text/html": [
              "<div>\n",
              "<style scoped>\n",
              "    .dataframe tbody tr th:only-of-type {\n",
              "        vertical-align: middle;\n",
              "    }\n",
              "\n",
              "    .dataframe tbody tr th {\n",
              "        vertical-align: top;\n",
              "    }\n",
              "\n",
              "    .dataframe thead th {\n",
              "        text-align: right;\n",
              "    }\n",
              "</style>\n",
              "<table border=\"1\" class=\"dataframe\">\n",
              "  <thead>\n",
              "    <tr style=\"text-align: right;\">\n",
              "      <th></th>\n",
              "      <th>id</th>\n",
              "      <th>customer_id</th>\n",
              "      <th>load_amount</th>\n",
              "      <th>time</th>\n",
              "      <th>accepted</th>\n",
              "    </tr>\n",
              "  </thead>\n",
              "  <tbody>\n",
              "    <tr>\n",
              "      <th>0</th>\n",
              "      <td>15887</td>\n",
              "      <td>528</td>\n",
              "      <td>$3318.47</td>\n",
              "      <td>2000-01-01T00:00:00Z</td>\n",
              "      <td>True</td>\n",
              "    </tr>\n",
              "    <tr>\n",
              "      <th>1</th>\n",
              "      <td>30081</td>\n",
              "      <td>154</td>\n",
              "      <td>$1413.18</td>\n",
              "      <td>2000-01-01T01:01:22Z</td>\n",
              "      <td>True</td>\n",
              "    </tr>\n",
              "    <tr>\n",
              "      <th>2</th>\n",
              "      <td>26540</td>\n",
              "      <td>426</td>\n",
              "      <td>$404.56</td>\n",
              "      <td>2000-01-01T02:02:44Z</td>\n",
              "      <td>True</td>\n",
              "    </tr>\n",
              "    <tr>\n",
              "      <th>3</th>\n",
              "      <td>10694</td>\n",
              "      <td>1</td>\n",
              "      <td>$785.11</td>\n",
              "      <td>2000-01-01T03:04:06Z</td>\n",
              "      <td>True</td>\n",
              "    </tr>\n",
              "    <tr>\n",
              "      <th>4</th>\n",
              "      <td>15089</td>\n",
              "      <td>205</td>\n",
              "      <td>$2247.28</td>\n",
              "      <td>2000-01-01T04:05:28Z</td>\n",
              "      <td>True</td>\n",
              "    </tr>\n",
              "  </tbody>\n",
              "</table>\n",
              "</div>"
            ],
            "text/plain": [
              "      id  customer_id load_amount                  time  accepted\n",
              "0  15887          528    $3318.47  2000-01-01T00:00:00Z      True\n",
              "1  30081          154    $1413.18  2000-01-01T01:01:22Z      True\n",
              "2  26540          426     $404.56  2000-01-01T02:02:44Z      True\n",
              "3  10694            1     $785.11  2000-01-01T03:04:06Z      True\n",
              "4  15089          205    $2247.28  2000-01-01T04:05:28Z      True"
            ]
          },
          "metadata": {
            "tags": []
          },
          "execution_count": 100
        }
      ]
    },
    {
      "cell_type": "code",
      "metadata": {
        "id": "yVge9arhtS4s"
      },
      "source": [
        "id_counts = common_df.groupby(['id']).count()"
      ],
      "execution_count": null,
      "outputs": []
    },
    {
      "cell_type": "code",
      "metadata": {
        "id": "rRDm5xvhtbma",
        "outputId": "155484f6-8f28-4075-cb08-40a4660ee866",
        "colab": {
          "base_uri": "https://localhost:8080/",
          "height": 536
        }
      },
      "source": [
        "id_counts[id_counts['customer_id']>1]"
      ],
      "execution_count": null,
      "outputs": [
        {
          "output_type": "execute_result",
          "data": {
            "text/html": [
              "<div>\n",
              "<style scoped>\n",
              "    .dataframe tbody tr th:only-of-type {\n",
              "        vertical-align: middle;\n",
              "    }\n",
              "\n",
              "    .dataframe tbody tr th {\n",
              "        vertical-align: top;\n",
              "    }\n",
              "\n",
              "    .dataframe thead th {\n",
              "        text-align: right;\n",
              "    }\n",
              "</style>\n",
              "<table border=\"1\" class=\"dataframe\">\n",
              "  <thead>\n",
              "    <tr style=\"text-align: right;\">\n",
              "      <th></th>\n",
              "      <th>customer_id</th>\n",
              "      <th>load_amount</th>\n",
              "      <th>time</th>\n",
              "      <th>accepted</th>\n",
              "    </tr>\n",
              "    <tr>\n",
              "      <th>id</th>\n",
              "      <th></th>\n",
              "      <th></th>\n",
              "      <th></th>\n",
              "      <th></th>\n",
              "    </tr>\n",
              "  </thead>\n",
              "  <tbody>\n",
              "    <tr>\n",
              "      <th>1827</th>\n",
              "      <td>2</td>\n",
              "      <td>2</td>\n",
              "      <td>2</td>\n",
              "      <td>2</td>\n",
              "    </tr>\n",
              "    <tr>\n",
              "      <th>5330</th>\n",
              "      <td>2</td>\n",
              "      <td>2</td>\n",
              "      <td>2</td>\n",
              "      <td>2</td>\n",
              "    </tr>\n",
              "    <tr>\n",
              "      <th>5472</th>\n",
              "      <td>2</td>\n",
              "      <td>2</td>\n",
              "      <td>2</td>\n",
              "      <td>2</td>\n",
              "    </tr>\n",
              "    <tr>\n",
              "      <th>6591</th>\n",
              "      <td>2</td>\n",
              "      <td>2</td>\n",
              "      <td>2</td>\n",
              "      <td>2</td>\n",
              "    </tr>\n",
              "    <tr>\n",
              "      <th>6928</th>\n",
              "      <td>2</td>\n",
              "      <td>2</td>\n",
              "      <td>2</td>\n",
              "      <td>2</td>\n",
              "    </tr>\n",
              "    <tr>\n",
              "      <th>7185</th>\n",
              "      <td>2</td>\n",
              "      <td>2</td>\n",
              "      <td>2</td>\n",
              "      <td>2</td>\n",
              "    </tr>\n",
              "    <tr>\n",
              "      <th>7518</th>\n",
              "      <td>2</td>\n",
              "      <td>2</td>\n",
              "      <td>2</td>\n",
              "      <td>2</td>\n",
              "    </tr>\n",
              "    <tr>\n",
              "      <th>10041</th>\n",
              "      <td>2</td>\n",
              "      <td>2</td>\n",
              "      <td>2</td>\n",
              "      <td>2</td>\n",
              "    </tr>\n",
              "    <tr>\n",
              "      <th>13812</th>\n",
              "      <td>2</td>\n",
              "      <td>2</td>\n",
              "      <td>2</td>\n",
              "      <td>2</td>\n",
              "    </tr>\n",
              "    <tr>\n",
              "      <th>19254</th>\n",
              "      <td>2</td>\n",
              "      <td>2</td>\n",
              "      <td>2</td>\n",
              "      <td>2</td>\n",
              "    </tr>\n",
              "    <tr>\n",
              "      <th>19518</th>\n",
              "      <td>2</td>\n",
              "      <td>2</td>\n",
              "      <td>2</td>\n",
              "      <td>2</td>\n",
              "    </tr>\n",
              "    <tr>\n",
              "      <th>29417</th>\n",
              "      <td>2</td>\n",
              "      <td>2</td>\n",
              "      <td>2</td>\n",
              "      <td>2</td>\n",
              "    </tr>\n",
              "    <tr>\n",
              "      <th>29513</th>\n",
              "      <td>2</td>\n",
              "      <td>2</td>\n",
              "      <td>2</td>\n",
              "      <td>2</td>\n",
              "    </tr>\n",
              "    <tr>\n",
              "      <th>30123</th>\n",
              "      <td>2</td>\n",
              "      <td>2</td>\n",
              "      <td>2</td>\n",
              "      <td>2</td>\n",
              "    </tr>\n",
              "    <tr>\n",
              "      <th>30675</th>\n",
              "      <td>2</td>\n",
              "      <td>2</td>\n",
              "      <td>2</td>\n",
              "      <td>2</td>\n",
              "    </tr>\n",
              "    <tr>\n",
              "      <th>30826</th>\n",
              "      <td>2</td>\n",
              "      <td>2</td>\n",
              "      <td>2</td>\n",
              "      <td>2</td>\n",
              "    </tr>\n",
              "  </tbody>\n",
              "</table>\n",
              "</div>"
            ],
            "text/plain": [
              "       customer_id  load_amount  time  accepted\n",
              "id                                             \n",
              "1827             2            2     2         2\n",
              "5330             2            2     2         2\n",
              "5472             2            2     2         2\n",
              "6591             2            2     2         2\n",
              "6928             2            2     2         2\n",
              "7185             2            2     2         2\n",
              "7518             2            2     2         2\n",
              "10041            2            2     2         2\n",
              "13812            2            2     2         2\n",
              "19254            2            2     2         2\n",
              "19518            2            2     2         2\n",
              "29417            2            2     2         2\n",
              "29513            2            2     2         2\n",
              "30123            2            2     2         2\n",
              "30675            2            2     2         2\n",
              "30826            2            2     2         2"
            ]
          },
          "metadata": {
            "tags": []
          },
          "execution_count": 108
        }
      ]
    },
    {
      "cell_type": "code",
      "metadata": {
        "id": "RowbWyJOtgyL",
        "outputId": "df84a912-2d4a-41cd-883f-7c8fb25099b9",
        "colab": {
          "base_uri": "https://localhost:8080/",
          "height": 105
        }
      },
      "source": [
        "common_df[common_df['id']==1827]"
      ],
      "execution_count": null,
      "outputs": [
        {
          "output_type": "execute_result",
          "data": {
            "text/html": [
              "<div>\n",
              "<style scoped>\n",
              "    .dataframe tbody tr th:only-of-type {\n",
              "        vertical-align: middle;\n",
              "    }\n",
              "\n",
              "    .dataframe tbody tr th {\n",
              "        vertical-align: top;\n",
              "    }\n",
              "\n",
              "    .dataframe thead th {\n",
              "        text-align: right;\n",
              "    }\n",
              "</style>\n",
              "<table border=\"1\" class=\"dataframe\">\n",
              "  <thead>\n",
              "    <tr style=\"text-align: right;\">\n",
              "      <th></th>\n",
              "      <th>id</th>\n",
              "      <th>customer_id</th>\n",
              "      <th>load_amount</th>\n",
              "      <th>time</th>\n",
              "      <th>accepted</th>\n",
              "    </tr>\n",
              "  </thead>\n",
              "  <tbody>\n",
              "    <tr>\n",
              "      <th>345</th>\n",
              "      <td>1827</td>\n",
              "      <td>698</td>\n",
              "      <td>$971.86</td>\n",
              "      <td>2000-01-15T15:50:08Z</td>\n",
              "      <td>True</td>\n",
              "    </tr>\n",
              "    <tr>\n",
              "      <th>701</th>\n",
              "      <td>1827</td>\n",
              "      <td>766</td>\n",
              "      <td>$4522.88</td>\n",
              "      <td>2000-01-30T20:58:02Z</td>\n",
              "      <td>False</td>\n",
              "    </tr>\n",
              "  </tbody>\n",
              "</table>\n",
              "</div>"
            ],
            "text/plain": [
              "       id  customer_id load_amount                  time  accepted\n",
              "345  1827          698     $971.86  2000-01-15T15:50:08Z      True\n",
              "701  1827          766    $4522.88  2000-01-30T20:58:02Z     False"
            ]
          },
          "metadata": {
            "tags": []
          },
          "execution_count": 111
        }
      ]
    },
    {
      "cell_type": "code",
      "metadata": {
        "id": "X8de_dmju0sd",
        "outputId": "8b12d70f-8ea4-42cc-9b1e-1bdb17c2a057",
        "colab": {
          "base_uri": "https://localhost:8080/",
          "height": 105
        }
      },
      "source": [
        "output_amar_data[output_amar_data['id']==1827]"
      ],
      "execution_count": null,
      "outputs": [
        {
          "output_type": "execute_result",
          "data": {
            "text/html": [
              "<div>\n",
              "<style scoped>\n",
              "    .dataframe tbody tr th:only-of-type {\n",
              "        vertical-align: middle;\n",
              "    }\n",
              "\n",
              "    .dataframe tbody tr th {\n",
              "        vertical-align: top;\n",
              "    }\n",
              "\n",
              "    .dataframe thead th {\n",
              "        text-align: right;\n",
              "    }\n",
              "</style>\n",
              "<table border=\"1\" class=\"dataframe\">\n",
              "  <thead>\n",
              "    <tr style=\"text-align: right;\">\n",
              "      <th></th>\n",
              "      <th>accepted</th>\n",
              "      <th>customer_id</th>\n",
              "      <th>id</th>\n",
              "    </tr>\n",
              "  </thead>\n",
              "  <tbody>\n",
              "    <tr>\n",
              "      <th>344</th>\n",
              "      <td>True</td>\n",
              "      <td>698</td>\n",
              "      <td>1827</td>\n",
              "    </tr>\n",
              "    <tr>\n",
              "      <th>700</th>\n",
              "      <td>False</td>\n",
              "      <td>766</td>\n",
              "      <td>1827</td>\n",
              "    </tr>\n",
              "  </tbody>\n",
              "</table>\n",
              "</div>"
            ],
            "text/plain": [
              "     accepted  customer_id    id\n",
              "344      True          698  1827\n",
              "700     False          766  1827"
            ]
          },
          "metadata": {
            "tags": []
          },
          "execution_count": 115
        }
      ]
    },
    {
      "cell_type": "code",
      "metadata": {
        "id": "bFvhG_PsvefT",
        "outputId": "36a26949-5e48-4b4f-ad83-707bb01587f2",
        "colab": {
          "base_uri": "https://localhost:8080/",
          "height": 295
        }
      },
      "source": [
        "import matplotlib.pyplot as plt\n",
        "plt.plot(input_data['time'], input_data['load_amount'])\n",
        "plt.xlabel(\"Time\")\n",
        "plt.ylabel(\"Load Amount\")"
      ],
      "execution_count": null,
      "outputs": [
        {
          "output_type": "execute_result",
          "data": {
            "text/plain": [
              "Text(0, 0.5, 'Load Amount')"
            ]
          },
          "metadata": {
            "tags": []
          },
          "execution_count": 124
        },
        {
          "output_type": "display_data",
          "data": {
            "image/png": "[encoded data removed]",
            "text/plain": [
              "<Figure size 432x288 with 1 Axes>"
            ]
          },
          "metadata": {
            "tags": [],
            "needs_background": "light"
          }
        }
      ]
    },
    {
      "cell_type": "code",
      "metadata": {
        "id": "oxvOwkL0wggy"
      },
      "source": [
        ""
      ],
      "execution_count": null,
      "outputs": []
    },
    {
      "cell_type": "markdown",
      "metadata": {
        "id": "8lMSWr3-whKD"
      },
      "source": [
        "There are 984 unique load ids, 50 unique customer_ids. \n"
      ]
    },
    {
      "cell_type": "code",
      "metadata": {
        "id": "88zBKTY_veiC",
        "outputId": "acb4051d-60c0-4639-d258-83027226ef74",
        "colab": {
          "base_uri": "https://localhost:8080/",
          "height": 33
        }
      },
      "source": [
        "num_unique_ids = len(input_data['id'].unique())\n",
        "num_unique_customer_ids = len(input_data['customer_id'].unique())\n",
        "num_unique_ids, num_unique_customer_ids "
      ],
      "execution_count": null,
      "outputs": [
        {
          "output_type": "execute_result",
          "data": {
            "text/plain": [
              "(984, 50)"
            ]
          },
          "metadata": {
            "tags": []
          },
          "execution_count": 128
        }
      ]
    },
    {
      "cell_type": "code",
      "metadata": {
        "id": "Ge3MWs-Xvekb",
        "outputId": "8afe82ea-131d-4e76-ab4d-d10d4213165f",
        "colab": {
          "base_uri": "https://localhost:8080/",
          "height": 330
        }
      },
      "source": [
        "plt.hist(input_data['time'])"
      ],
      "execution_count": null,
      "outputs": [
        {
          "output_type": "execute_result",
          "data": {
            "text/plain": [
              "(array([100., 100., 100., 100., 100., 100., 100., 100., 100., 100.]),\n",
              " array([  0. ,  99.9, 199.8, 299.7, 399.6, 499.5, 599.4, 699.3, 799.2,\n",
              "        899.1, 999. ]),\n",
              " <a list of 10 Patch objects>)"
            ]
          },
          "metadata": {
            "tags": []
          },
          "execution_count": 136
        },
        {
          "output_type": "display_data",
          "data": {
            "image/png": "[encoded data removed]",
            "text/plain": [
              "<Figure size 432x288 with 1 Axes>"
            ]
          },
          "metadata": {
            "tags": [],
            "needs_background": "light"
          }
        }
      ]
    },
    {
      "cell_type": "code",
      "metadata": {
        "id": "PciDJ02hvema"
      },
      "source": [
        ""
      ],
      "execution_count": null,
      "outputs": []
    },
    {
      "cell_type": "code",
      "metadata": {
        "id": "djbx5jrAlxn3"
      },
      "source": [
        ""
      ],
      "execution_count": null,
      "outputs": []
    },
    {
      "cell_type": "code",
      "metadata": {
        "id": "oLtLYXP2lyVv"
      },
      "source": [
        ""
      ],
      "execution_count": null,
      "outputs": []
    },
    {
      "cell_type": "code",
      "metadata": {
        "id": "LbmN2N0Pl1du",
        "outputId": "ccae96ca-cfd9-4d3a-d7d5-ee9513175b36",
        "colab": {
          "base_uri": "https://localhost:8080/",
          "height": 33
        }
      },
      "source": [
        ""
      ],
      "execution_count": null,
      "outputs": [
        {
          "output_type": "execute_result",
          "data": {
            "text/plain": [
              "(5000, 20000, 3)"
            ]
          },
          "metadata": {
            "tags": []
          },
          "execution_count": 36
        }
      ]
    },
    {
      "cell_type": "markdown",
      "metadata": {
        "id": "AyWNjRfemWsA"
      },
      "source": [
        "### As such, a user attempting to load $3,000 twice in one day would be declined on the second attempt"
      ]
    },
    {
      "cell_type": "code",
      "metadata": {
        "id": "q44895s7mlFZ",
        "outputId": "355088ce-c6b4-48e5-b950-a2877e50453d",
        "colab": {
          "base_uri": "https://localhost:8080/",
          "height": 33
        }
      },
      "source": [
        "acct_ctrl1.processUserLoad(input_data_list[0])"
      ],
      "execution_count": null,
      "outputs": [
        {
          "output_type": "execute_result",
          "data": {
            "text/plain": [
              "{'accepted': True, 'customer_id': '528', 'id': '15887'}"
            ]
          },
          "metadata": {
            "tags": []
          },
          "execution_count": 40
        }
      ]
    },
    {
      "cell_type": "code",
      "metadata": {
        "id": "wr5Shiwkmphg",
        "outputId": "97f240a0-9451-4d1c-d954-3c208cc0b25b",
        "colab": {
          "base_uri": "https://localhost:8080/",
          "height": 33
        }
      },
      "source": [
        "acct_ctrl1.processUserLoad(input_data_list[0])"
      ],
      "execution_count": null,
      "outputs": [
        {
          "output_type": "execute_result",
          "data": {
            "text/plain": [
              "{'accepted': False, 'customer_id': '528', 'id': '15887'}"
            ]
          },
          "metadata": {
            "tags": []
          },
          "execution_count": 41
        }
      ]
    },
    {
      "cell_type": "code",
      "metadata": {
        "id": "byuFFJPEmtf5",
        "outputId": "368956f1-75e0-449b-93f2-f3731f3cd604",
        "colab": {
          "base_uri": "https://localhost:8080/",
          "height": 33
        }
      },
      "source": [
        "acct_ctrl1"
      ],
      "execution_count": null,
      "outputs": [
        {
          "output_type": "execute_result",
          "data": {
            "text/plain": [
              "<AccountsController.AccountsController at 0x7fcf19d74cc0>"
            ]
          },
          "metadata": {
            "tags": []
          },
          "execution_count": 46
        }
      ]
    },
    {
      "cell_type": "markdown",
      "metadata": {
        "id": "Ag_ViQ85m4bh"
      },
      "source": [
        " ### A user attempting to load $400 four times in a day should be declined "
      ]
    },
    {
      "cell_type": "code",
      "metadata": {
        "id": "sZeMG5vboDLu"
      },
      "source": [
        "acct_ctrl2 = AccountsController()"
      ],
      "execution_count": null,
      "outputs": []
    },
    {
      "cell_type": "code",
      "metadata": {
        "id": "dDvL6fRVoJZB"
      },
      "source": [
        "# input_data_list"
      ],
      "execution_count": null,
      "outputs": []
    },
    {
      "cell_type": "code",
      "metadata": {
        "id": "uK2aNo5loF7F",
        "outputId": "751c69c7-95b4-41d0-fb78-51f95bb1e1f1",
        "colab": {
          "base_uri": "https://localhost:8080/",
          "height": 33
        }
      },
      "source": [
        "loads = {'customer_id': '154',\n",
        "  'id': '404',\n",
        "  'load_amount': '$400.00',\n",
        "  'time': '2000-01-22T20:41:06Z'}\n",
        "\n",
        "acct_ctrl2.processUserLoad(load)"
      ],
      "execution_count": null,
      "outputs": [
        {
          "output_type": "execute_result",
          "data": {
            "text/plain": [
              "{'accepted': True, 'customer_id': '154', 'id': '404'}"
            ]
          },
          "metadata": {
            "tags": []
          },
          "execution_count": 51
        }
      ]
    },
    {
      "cell_type": "code",
      "metadata": {
        "id": "OB9h_almooBx"
      },
      "source": [
        "input_file = open('input.txt', 'r')\n",
        "json_lines = input_file.readlines()"
      ],
      "execution_count": null,
      "outputs": []
    },
    {
      "cell_type": "code",
      "metadata": {
        "id": "Bd7yeu-noo0o"
      },
      "source": [
        "# json_lines"
      ],
      "execution_count": null,
      "outputs": []
    },
    {
      "cell_type": "code",
      "metadata": {
        "id": "v08U0Bkfo8aw"
      },
      "source": [
        "import json\n",
        "\n",
        "load_id_json = {}\n",
        "\n",
        "accounts_controller= AccountsController()\n",
        "\n",
        "#Create a write to file output_amar.txt\n",
        "with open('output_amar2.txt', 'w') as outfile:\n",
        "    for line in json_lines:\n",
        "        customer_json = json.loads(line)\n",
        "        customer_id = customer_json['customer_id']\n",
        "        load_id = customer_json['id']\n",
        "        if customer_id not in load_id_json:\n",
        "            load_id_json[customer_id] = []\n",
        "        #Do a check if load_id already exists for that specific customer\n",
        "        if load_id in load_id_json[customer_id]:         \n",
        "            continue\n",
        "        else:\n",
        "            json.dump(accounts_controller.processUserLoad(customer_json), outfile)\n",
        "            outfile.write('\\n')\n",
        "            load_id_json[customer_id].append(load_id)"
      ],
      "execution_count": null,
      "outputs": []
    },
    {
      "cell_type": "code",
      "metadata": {
        "id": "_nt01FokpDK-",
        "outputId": "8cdc6b37-2486-4222-fe02-480fca387d07",
        "colab": {
          "base_uri": "https://localhost:8080/",
          "height": 50
        }
      },
      "source": [
        "ls"
      ],
      "execution_count": null,
      "outputs": [
        {
          "output_type": "stream",
          "text": [
            "AccountsController.py  output_accounts.py  output_amar.txt  \u001b[0m\u001b[01;34m__pycache__\u001b[0m/\n",
            "input.txt              output_amar2.txt    output.txt       README.md\n"
          ],
          "name": "stdout"
        }
      ]
    },
    {
      "cell_type": "code",
      "metadata": {
        "id": "-HaA_8-ypO2N",
        "outputId": "0ecf7e75-ed39-45fa-99ad-9e3e76aa51fc",
        "colab": {
          "base_uri": "https://localhost:8080/",
          "height": 47
        }
      },
      "source": [
        "df[df['customer_id']==528]"
      ],
      "execution_count": null,
      "outputs": [
        {
          "output_type": "execute_result",
          "data": {
            "text/html": [
              "<div>\n",
              "<style scoped>\n",
              "    .dataframe tbody tr th:only-of-type {\n",
              "        vertical-align: middle;\n",
              "    }\n",
              "\n",
              "    .dataframe tbody tr th {\n",
              "        vertical-align: top;\n",
              "    }\n",
              "\n",
              "    .dataframe thead th {\n",
              "        text-align: right;\n",
              "    }\n",
              "</style>\n",
              "<table border=\"1\" class=\"dataframe\">\n",
              "  <thead>\n",
              "    <tr style=\"text-align: right;\">\n",
              "      <th></th>\n",
              "      <th>id</th>\n",
              "      <th>customer_id</th>\n",
              "      <th>load_amount</th>\n",
              "      <th>time</th>\n",
              "    </tr>\n",
              "  </thead>\n",
              "  <tbody>\n",
              "  </tbody>\n",
              "</table>\n",
              "</div>"
            ],
            "text/plain": [
              "Empty DataFrame\n",
              "Columns: [id, customer_id, load_amount, time]\n",
              "Index: []"
            ]
          },
          "metadata": {
            "tags": []
          },
          "execution_count": 66
        }
      ]
    },
    {
      "cell_type": "code",
      "metadata": {
        "id": "a8Rhxlgupbr8",
        "outputId": "7ed5b0ff-c0db-47fc-a8f6-75af715c4fa8",
        "colab": {
          "base_uri": "https://localhost:8080/",
          "height": 33
        }
      },
      "source": [
        "len(df)"
      ],
      "execution_count": null,
      "outputs": [
        {
          "output_type": "execute_result",
          "data": {
            "text/plain": [
              "1000"
            ]
          },
          "metadata": {
            "tags": []
          },
          "execution_count": 70
        }
      ]
    },
    {
      "cell_type": "code",
      "metadata": {
        "id": "5gvxBuVQpik6",
        "outputId": "fe7f6d2f-b2b3-4c0c-a183-1fb8997e0388",
        "colab": {
          "base_uri": "https://localhost:8080/",
          "height": 50
        }
      },
      "source": [
        "ls"
      ],
      "execution_count": null,
      "outputs": [
        {
          "output_type": "stream",
          "text": [
            "AccountsController.py  output_accounts.py  output_amar.txt  \u001b[0m\u001b[01;34m__pycache__\u001b[0m/\n",
            "input.txt              output_amar2.txt    output.txt       README.md\n"
          ],
          "name": "stdout"
        }
      ]
    },
    {
      "cell_type": "code",
      "metadata": {
        "id": "AHS1PG3RpwpB",
        "outputId": "94e9e21c-cccb-480d-e33b-e01d62ce020a",
        "colab": {
          "base_uri": "https://localhost:8080/",
          "height": 391
        }
      },
      "source": [
        ""
      ],
      "execution_count": null,
      "outputs": [
        {
          "output_type": "execute_result",
          "data": {
            "text/html": [
              "<div>\n",
              "<style scoped>\n",
              "    .dataframe tbody tr th:only-of-type {\n",
              "        vertical-align: middle;\n",
              "    }\n",
              "\n",
              "    .dataframe tbody tr th {\n",
              "        vertical-align: top;\n",
              "    }\n",
              "\n",
              "    .dataframe thead th {\n",
              "        text-align: right;\n",
              "    }\n",
              "</style>\n",
              "<table border=\"1\" class=\"dataframe\">\n",
              "  <thead>\n",
              "    <tr style=\"text-align: right;\">\n",
              "      <th></th>\n",
              "      <th>id</th>\n",
              "      <th>customer_id</th>\n",
              "      <th>load_amount</th>\n",
              "      <th>time</th>\n",
              "    </tr>\n",
              "  </thead>\n",
              "  <tbody>\n",
              "    <tr>\n",
              "      <th>0</th>\n",
              "      <td>15887</td>\n",
              "      <td>528</td>\n",
              "      <td>$3318.47</td>\n",
              "      <td>2000-01-01T00:00:00Z</td>\n",
              "    </tr>\n",
              "    <tr>\n",
              "      <th>1</th>\n",
              "      <td>30081</td>\n",
              "      <td>154</td>\n",
              "      <td>$1413.18</td>\n",
              "      <td>2000-01-01T01:01:22Z</td>\n",
              "    </tr>\n",
              "    <tr>\n",
              "      <th>2</th>\n",
              "      <td>26540</td>\n",
              "      <td>426</td>\n",
              "      <td>$404.56</td>\n",
              "      <td>2000-01-01T02:02:44Z</td>\n",
              "    </tr>\n",
              "    <tr>\n",
              "      <th>3</th>\n",
              "      <td>10694</td>\n",
              "      <td>1</td>\n",
              "      <td>$785.11</td>\n",
              "      <td>2000-01-01T03:04:06Z</td>\n",
              "    </tr>\n",
              "    <tr>\n",
              "      <th>4</th>\n",
              "      <td>15089</td>\n",
              "      <td>205</td>\n",
              "      <td>$2247.28</td>\n",
              "      <td>2000-01-01T04:05:28Z</td>\n",
              "    </tr>\n",
              "    <tr>\n",
              "      <th>...</th>\n",
              "      <td>...</td>\n",
              "      <td>...</td>\n",
              "      <td>...</td>\n",
              "      <td>...</td>\n",
              "    </tr>\n",
              "    <tr>\n",
              "      <th>995</th>\n",
              "      <td>6082</td>\n",
              "      <td>460</td>\n",
              "      <td>$4773.93</td>\n",
              "      <td>2000-02-12T09:39:50Z</td>\n",
              "    </tr>\n",
              "    <tr>\n",
              "      <th>996</th>\n",
              "      <td>17742</td>\n",
              "      <td>477</td>\n",
              "      <td>$3490.83</td>\n",
              "      <td>2000-02-12T10:41:12Z</td>\n",
              "    </tr>\n",
              "    <tr>\n",
              "      <th>997</th>\n",
              "      <td>31634</td>\n",
              "      <td>494</td>\n",
              "      <td>$5159.54</td>\n",
              "      <td>2000-02-12T11:42:34Z</td>\n",
              "    </tr>\n",
              "    <tr>\n",
              "      <th>998</th>\n",
              "      <td>1897</td>\n",
              "      <td>409</td>\n",
              "      <td>$3412.50</td>\n",
              "      <td>2000-02-12T12:43:56Z</td>\n",
              "    </tr>\n",
              "    <tr>\n",
              "      <th>999</th>\n",
              "      <td>29255</td>\n",
              "      <td>494</td>\n",
              "      <td>$4601.23</td>\n",
              "      <td>2000-02-12T13:45:18Z</td>\n",
              "    </tr>\n",
              "  </tbody>\n",
              "</table>\n",
              "<p>1000 rows × 4 columns</p>\n",
              "</div>"
            ],
            "text/plain": [
              "        id  customer_id load_amount                  time\n",
              "0    15887          528    $3318.47  2000-01-01T00:00:00Z\n",
              "1    30081          154    $1413.18  2000-01-01T01:01:22Z\n",
              "2    26540          426     $404.56  2000-01-01T02:02:44Z\n",
              "3    10694            1     $785.11  2000-01-01T03:04:06Z\n",
              "4    15089          205    $2247.28  2000-01-01T04:05:28Z\n",
              "..     ...          ...         ...                   ...\n",
              "995   6082          460    $4773.93  2000-02-12T09:39:50Z\n",
              "996  17742          477    $3490.83  2000-02-12T10:41:12Z\n",
              "997  31634          494    $5159.54  2000-02-12T11:42:34Z\n",
              "998   1897          409    $3412.50  2000-02-12T12:43:56Z\n",
              "999  29255          494    $4601.23  2000-02-12T13:45:18Z\n",
              "\n",
              "[1000 rows x 4 columns]"
            ]
          },
          "metadata": {
            "tags": []
          },
          "execution_count": 79
        }
      ]
    },
    {
      "cell_type": "code",
      "metadata": {
        "id": "6W7TX32RquRD"
      },
      "source": [
        ""
      ],
      "execution_count": null,
      "outputs": []
    }
  ]
}