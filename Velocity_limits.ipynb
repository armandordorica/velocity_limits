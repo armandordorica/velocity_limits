{
  "nbformat": 4,
  "nbformat_minor": 0,
  "metadata": {
    "colab": {
      "name": "Velocity_limits.ipynb",
      "provenance": [],
      "collapsed_sections": [],
      "authorship_tag": "ABX9TyOBdKXplbKUbt7/n9GKG6Nc",
      "include_colab_link": true
    },
    "kernelspec": {
      "name": "python3",
      "display_name": "Python 3"
    }
  },
  "cells": [
    {
      "cell_type": "markdown",
      "metadata": {
        "id": "view-in-github",
        "colab_type": "text"
      },
      "source": [
        "<a href=\"https://colab.research.google.com/github/armandordorica/velocity_limits/blob/main/Velocity_limits.ipynb\" target=\"_parent\"><img src=\"https://colab.research.google.com/assets/colab-badge.svg\" alt=\"Open In Colab\"/></a>"
      ]
    },
    {
      "cell_type": "code",
      "metadata": {
        "id": "bjYQbMshIpjb",
        "outputId": "c55fc3cc-c608-410a-f436-09081d46c4cc",
        "colab": {
          "base_uri": "https://localhost:8080/"
        }
      },
      "source": [
        "!git clone https://github.com/armandordorica/velocity_limits.git"
      ],
      "execution_count": 1,
      "outputs": [
        {
          "output_type": "stream",
          "text": [
            "Cloning into 'velocity_limits'...\n",
            "remote: Enumerating objects: 32, done.\u001b[K\n",
            "remote: Counting objects: 100% (32/32), done.\u001b[K\n",
            "remote: Compressing objects: 100% (31/31), done.\u001b[K\n",
            "remote: Total 32 (delta 6), reused 0 (delta 0), pack-reused 0\u001b[K\n",
            "Unpacking objects: 100% (32/32), done.\n"
          ],
          "name": "stdout"
        }
      ]
    },
    {
      "cell_type": "code",
      "metadata": {
        "id": "_w5qJh-aL5gh",
        "outputId": "fd688774-cbf7-401b-be31-df82f57935b4",
        "colab": {
          "base_uri": "https://localhost:8080/"
        }
      },
      "source": [
        "cd velocity_limits/takehome/"
      ],
      "execution_count": 2,
      "outputs": [
        {
          "output_type": "stream",
          "text": [
            "/content/velocity_limits/takehome\n"
          ],
          "name": "stdout"
        }
      ]
    },
    {
      "cell_type": "markdown",
      "metadata": {
        "id": "swrmkrSqm5Vi"
      },
      "source": [
        "In finance, it's common for accounts to have so-called \"velocity limits\". In this task, you'll write a program that accepts or declines attempts to load funds into customers' accounts in real-time.\n",
        "\n",
        "Each attempt to load funds will come as a single-line JSON payload, structured as follows:\n",
        "\n",
        "```json\n",
        "{ \"id\": \"1234\", \"customer_id\": \"1234\", \"load_amount\": \"$123.45\", \"time\": \"2018-01-01T00:00:00Z\" }\n",
        "```\n",
        "\n",
        "Each customer is subject to three limits:\n",
        "\n",
        "- A maximum of $\\$5,000$ can be loaded per day\n",
        "- A maximum of $\\$20,000$ can be loaded per week\n",
        "- A maximum of 3 loads can be performed per day, regardless of amount\n",
        "\n",
        "As such, a user attempting to load $\\$3,000$ twice in one day would be declined on the second attempt, as would a user attempting to load $400 four times in a day.\n",
        "\n",
        "For each load attempt, you should return a JSON response indicating whether the fund load was accepted based on the user's activity, with the structure:\n",
        "\n",
        "```json\n",
        "{ \"id\": \"1234\", \"customer_id\": \"1234\", \"accepted\": true }\n",
        "```\n",
        "\n",
        "You can assume that the input arrives in ascending chronological order and that if a load ID is observed more than once for a particular user, all but the first instance can be ignored. Each day is considered to end at midnight UTC, and weeks start on Monday (i.e. one second after 23:59:59 on Sunday).\n",
        "\n",
        "Your program should process lines from `input.txt` and return output in the format specified above, either to standard output or a file. Expected output given our input data can be found in `output.txt`.\n",
        "\n",
        "You're welcome to write your program in a general-purpose language of your choosing.\n",
        "\n",
        "We value well-structured, self-documenting code with sensible test coverage. Descriptive function and variable names are appreciated, as is isolating your business logic from the rest of your code.\n"
      ]
    },
    {
      "cell_type": "markdown",
      "metadata": {
        "id": "3umVGZiQMFd-"
      },
      "source": [
        "### Importing Source data"
      ]
    },
    {
      "cell_type": "code",
      "metadata": {
        "id": "dpGVUnfCI0Hv",
        "outputId": "be68d08b-8e75-4931-baa4-4ddc4e89c880",
        "colab": {
          "base_uri": "https://localhost:8080/"
        }
      },
      "source": [
        "import pandas as pd\n",
        "import matplotlib.pyplot as plt\n",
        "import itertools\n",
        "import numpy as np\n",
        "from datetime import datetime, timedelta\n",
        "import pandas as pd\n",
        "\n",
        "input_data = pd.read_json('input.txt', lines=True)\n",
        "input_data.head(), len(input_data)"
      ],
      "execution_count": 3,
      "outputs": [
        {
          "output_type": "execute_result",
          "data": {
            "text/plain": [
              "(      id  customer_id load_amount                  time\n",
              " 0  15887          528    $3318.47  2000-01-01T00:00:00Z\n",
              " 1  30081          154    $1413.18  2000-01-01T01:01:22Z\n",
              " 2  26540          426     $404.56  2000-01-01T02:02:44Z\n",
              " 3  10694            1     $785.11  2000-01-01T03:04:06Z\n",
              " 4  15089          205    $2247.28  2000-01-01T04:05:28Z, 1000)"
            ]
          },
          "metadata": {
            "tags": []
          },
          "execution_count": 3
        }
      ]
    },
    {
      "cell_type": "code",
      "metadata": {
        "id": "e0KiyatHMQ61",
        "outputId": "8412225a-ead1-43c2-db6b-65f6e18e6143",
        "colab": {
          "base_uri": "https://localhost:8080/",
          "height": 191
        }
      },
      "source": [
        "input_data.head()"
      ],
      "execution_count": 4,
      "outputs": [
        {
          "output_type": "execute_result",
          "data": {
            "text/html": [
              "<div>\n",
              "<style scoped>\n",
              "    .dataframe tbody tr th:only-of-type {\n",
              "        vertical-align: middle;\n",
              "    }\n",
              "\n",
              "    .dataframe tbody tr th {\n",
              "        vertical-align: top;\n",
              "    }\n",
              "\n",
              "    .dataframe thead th {\n",
              "        text-align: right;\n",
              "    }\n",
              "</style>\n",
              "<table border=\"1\" class=\"dataframe\">\n",
              "  <thead>\n",
              "    <tr style=\"text-align: right;\">\n",
              "      <th></th>\n",
              "      <th>id</th>\n",
              "      <th>customer_id</th>\n",
              "      <th>load_amount</th>\n",
              "      <th>time</th>\n",
              "    </tr>\n",
              "  </thead>\n",
              "  <tbody>\n",
              "    <tr>\n",
              "      <th>0</th>\n",
              "      <td>15887</td>\n",
              "      <td>528</td>\n",
              "      <td>$3318.47</td>\n",
              "      <td>2000-01-01T00:00:00Z</td>\n",
              "    </tr>\n",
              "    <tr>\n",
              "      <th>1</th>\n",
              "      <td>30081</td>\n",
              "      <td>154</td>\n",
              "      <td>$1413.18</td>\n",
              "      <td>2000-01-01T01:01:22Z</td>\n",
              "    </tr>\n",
              "    <tr>\n",
              "      <th>2</th>\n",
              "      <td>26540</td>\n",
              "      <td>426</td>\n",
              "      <td>$404.56</td>\n",
              "      <td>2000-01-01T02:02:44Z</td>\n",
              "    </tr>\n",
              "    <tr>\n",
              "      <th>3</th>\n",
              "      <td>10694</td>\n",
              "      <td>1</td>\n",
              "      <td>$785.11</td>\n",
              "      <td>2000-01-01T03:04:06Z</td>\n",
              "    </tr>\n",
              "    <tr>\n",
              "      <th>4</th>\n",
              "      <td>15089</td>\n",
              "      <td>205</td>\n",
              "      <td>$2247.28</td>\n",
              "      <td>2000-01-01T04:05:28Z</td>\n",
              "    </tr>\n",
              "  </tbody>\n",
              "</table>\n",
              "</div>"
            ],
            "text/plain": [
              "      id  customer_id load_amount                  time\n",
              "0  15887          528    $3318.47  2000-01-01T00:00:00Z\n",
              "1  30081          154    $1413.18  2000-01-01T01:01:22Z\n",
              "2  26540          426     $404.56  2000-01-01T02:02:44Z\n",
              "3  10694            1     $785.11  2000-01-01T03:04:06Z\n",
              "4  15089          205    $2247.28  2000-01-01T04:05:28Z"
            ]
          },
          "metadata": {
            "tags": []
          },
          "execution_count": 4
        }
      ]
    },
    {
      "cell_type": "code",
      "metadata": {
        "id": "EDEe4-85MZpC",
        "outputId": "f65100a7-4f46-4e8d-9bf4-53b0aeb2bc17",
        "colab": {
          "base_uri": "https://localhost:8080/"
        }
      },
      "source": [
        "len(input_data['id']), len(input_data['id'].unique())"
      ],
      "execution_count": 5,
      "outputs": [
        {
          "output_type": "execute_result",
          "data": {
            "text/plain": [
              "(1000, 984)"
            ]
          },
          "metadata": {
            "tags": []
          },
          "execution_count": 5
        }
      ]
    },
    {
      "cell_type": "markdown",
      "metadata": {
        "id": "wPp7TolrMtI0"
      },
      "source": [
        "**\"If a load ID is observed more than once for a particular user, all but the first instance can be ignored.\"** \n",
        "* There are 984 unique `id`s"
      ]
    },
    {
      "cell_type": "markdown",
      "metadata": {
        "id": "1YQQQ4g3NAkV"
      },
      "source": [
        "Looking at unique combinations of load `id` and `customer_id`"
      ]
    },
    {
      "cell_type": "code",
      "metadata": {
        "id": "Icuy_JMCMrfj"
      },
      "source": [
        "input_data['unique_id']  = input_data['id'].astype(str) + \"_\" + input_data['customer_id'].astype(str)"
      ],
      "execution_count": 6,
      "outputs": []
    },
    {
      "cell_type": "code",
      "metadata": {
        "id": "v2-ntcOKNRO6",
        "outputId": "d63c20a3-1a4c-463d-edff-9f704c27dafc",
        "colab": {
          "base_uri": "https://localhost:8080/",
          "height": 191
        }
      },
      "source": [
        "input_data.head()"
      ],
      "execution_count": 7,
      "outputs": [
        {
          "output_type": "execute_result",
          "data": {
            "text/html": [
              "<div>\n",
              "<style scoped>\n",
              "    .dataframe tbody tr th:only-of-type {\n",
              "        vertical-align: middle;\n",
              "    }\n",
              "\n",
              "    .dataframe tbody tr th {\n",
              "        vertical-align: top;\n",
              "    }\n",
              "\n",
              "    .dataframe thead th {\n",
              "        text-align: right;\n",
              "    }\n",
              "</style>\n",
              "<table border=\"1\" class=\"dataframe\">\n",
              "  <thead>\n",
              "    <tr style=\"text-align: right;\">\n",
              "      <th></th>\n",
              "      <th>id</th>\n",
              "      <th>customer_id</th>\n",
              "      <th>load_amount</th>\n",
              "      <th>time</th>\n",
              "      <th>unique_id</th>\n",
              "    </tr>\n",
              "  </thead>\n",
              "  <tbody>\n",
              "    <tr>\n",
              "      <th>0</th>\n",
              "      <td>15887</td>\n",
              "      <td>528</td>\n",
              "      <td>$3318.47</td>\n",
              "      <td>2000-01-01T00:00:00Z</td>\n",
              "      <td>15887_528</td>\n",
              "    </tr>\n",
              "    <tr>\n",
              "      <th>1</th>\n",
              "      <td>30081</td>\n",
              "      <td>154</td>\n",
              "      <td>$1413.18</td>\n",
              "      <td>2000-01-01T01:01:22Z</td>\n",
              "      <td>30081_154</td>\n",
              "    </tr>\n",
              "    <tr>\n",
              "      <th>2</th>\n",
              "      <td>26540</td>\n",
              "      <td>426</td>\n",
              "      <td>$404.56</td>\n",
              "      <td>2000-01-01T02:02:44Z</td>\n",
              "      <td>26540_426</td>\n",
              "    </tr>\n",
              "    <tr>\n",
              "      <th>3</th>\n",
              "      <td>10694</td>\n",
              "      <td>1</td>\n",
              "      <td>$785.11</td>\n",
              "      <td>2000-01-01T03:04:06Z</td>\n",
              "      <td>10694_1</td>\n",
              "    </tr>\n",
              "    <tr>\n",
              "      <th>4</th>\n",
              "      <td>15089</td>\n",
              "      <td>205</td>\n",
              "      <td>$2247.28</td>\n",
              "      <td>2000-01-01T04:05:28Z</td>\n",
              "      <td>15089_205</td>\n",
              "    </tr>\n",
              "  </tbody>\n",
              "</table>\n",
              "</div>"
            ],
            "text/plain": [
              "      id  customer_id load_amount                  time  unique_id\n",
              "0  15887          528    $3318.47  2000-01-01T00:00:00Z  15887_528\n",
              "1  30081          154    $1413.18  2000-01-01T01:01:22Z  30081_154\n",
              "2  26540          426     $404.56  2000-01-01T02:02:44Z  26540_426\n",
              "3  10694            1     $785.11  2000-01-01T03:04:06Z    10694_1\n",
              "4  15089          205    $2247.28  2000-01-01T04:05:28Z  15089_205"
            ]
          },
          "metadata": {
            "tags": []
          },
          "execution_count": 7
        }
      ]
    },
    {
      "cell_type": "code",
      "metadata": {
        "id": "Vfw1OJDVpMmg"
      },
      "source": [
        ""
      ],
      "execution_count": 7,
      "outputs": []
    },
    {
      "cell_type": "markdown",
      "metadata": {
        "id": "vHQaulE1ZJxZ"
      },
      "source": [
        "### 1. Keeping only the first instance for any combination of load id and customer id"
      ]
    },
    {
      "cell_type": "code",
      "metadata": {
        "id": "cXdLQUWwOsge"
      },
      "source": [
        "grouped_input_data = input_data.groupby([\"unique_id\"])\n",
        "input_data = grouped_input_data.first().copy(deep=True)"
      ],
      "execution_count": 8,
      "outputs": []
    },
    {
      "cell_type": "code",
      "metadata": {
        "id": "Sf8nxTsGpX4p",
        "outputId": "fa08c970-9722-4bb6-fa34-2117769343ad",
        "colab": {
          "base_uri": "https://localhost:8080/",
          "height": 220
        }
      },
      "source": [
        "input_data.head()"
      ],
      "execution_count": 9,
      "outputs": [
        {
          "output_type": "execute_result",
          "data": {
            "text/html": [
              "<div>\n",
              "<style scoped>\n",
              "    .dataframe tbody tr th:only-of-type {\n",
              "        vertical-align: middle;\n",
              "    }\n",
              "\n",
              "    .dataframe tbody tr th {\n",
              "        vertical-align: top;\n",
              "    }\n",
              "\n",
              "    .dataframe thead th {\n",
              "        text-align: right;\n",
              "    }\n",
              "</style>\n",
              "<table border=\"1\" class=\"dataframe\">\n",
              "  <thead>\n",
              "    <tr style=\"text-align: right;\">\n",
              "      <th></th>\n",
              "      <th>id</th>\n",
              "      <th>customer_id</th>\n",
              "      <th>load_amount</th>\n",
              "      <th>time</th>\n",
              "    </tr>\n",
              "    <tr>\n",
              "      <th>unique_id</th>\n",
              "      <th></th>\n",
              "      <th></th>\n",
              "      <th></th>\n",
              "      <th></th>\n",
              "    </tr>\n",
              "  </thead>\n",
              "  <tbody>\n",
              "    <tr>\n",
              "      <th>10002_35</th>\n",
              "      <td>10002</td>\n",
              "      <td>35</td>\n",
              "      <td>$2385.52</td>\n",
              "      <td>2000-01-20T05:16:22Z</td>\n",
              "    </tr>\n",
              "    <tr>\n",
              "      <th>10041_239</th>\n",
              "      <td>10041</td>\n",
              "      <td>239</td>\n",
              "      <td>$5455.00</td>\n",
              "      <td>2000-01-19T00:38:06Z</td>\n",
              "    </tr>\n",
              "    <tr>\n",
              "      <th>10041_596</th>\n",
              "      <td>10041</td>\n",
              "      <td>596</td>\n",
              "      <td>$162.67</td>\n",
              "      <td>2000-02-04T22:40:40Z</td>\n",
              "    </tr>\n",
              "    <tr>\n",
              "      <th>10047_137</th>\n",
              "      <td>10047</td>\n",
              "      <td>137</td>\n",
              "      <td>$3266.77</td>\n",
              "      <td>2000-01-19T13:55:52Z</td>\n",
              "    </tr>\n",
              "    <tr>\n",
              "      <th>10055_460</th>\n",
              "      <td>10055</td>\n",
              "      <td>460</td>\n",
              "      <td>$2671.07</td>\n",
              "      <td>2000-02-08T21:47:46Z</td>\n",
              "    </tr>\n",
              "  </tbody>\n",
              "</table>\n",
              "</div>"
            ],
            "text/plain": [
              "              id  customer_id load_amount                  time\n",
              "unique_id                                                      \n",
              "10002_35   10002           35    $2385.52  2000-01-20T05:16:22Z\n",
              "10041_239  10041          239    $5455.00  2000-01-19T00:38:06Z\n",
              "10041_596  10041          596     $162.67  2000-02-04T22:40:40Z\n",
              "10047_137  10047          137    $3266.77  2000-01-19T13:55:52Z\n",
              "10055_460  10055          460    $2671.07  2000-02-08T21:47:46Z"
            ]
          },
          "metadata": {
            "tags": []
          },
          "execution_count": 9
        }
      ]
    },
    {
      "cell_type": "code",
      "metadata": {
        "id": "4mgud6wHpdbF"
      },
      "source": [
        "input_data.sort_values(by=['time'], ascending=True, inplace=True)\n",
        "input_data.reset_index(inplace=True)"
      ],
      "execution_count": 10,
      "outputs": []
    },
    {
      "cell_type": "code",
      "metadata": {
        "id": "yw3EdBRHqPtT",
        "outputId": "6f4956f9-265e-483c-8d48-8e6b56c8cb80",
        "colab": {
          "base_uri": "https://localhost:8080/",
          "height": 191
        }
      },
      "source": [
        "input_data.head()"
      ],
      "execution_count": 11,
      "outputs": [
        {
          "output_type": "execute_result",
          "data": {
            "text/html": [
              "<div>\n",
              "<style scoped>\n",
              "    .dataframe tbody tr th:only-of-type {\n",
              "        vertical-align: middle;\n",
              "    }\n",
              "\n",
              "    .dataframe tbody tr th {\n",
              "        vertical-align: top;\n",
              "    }\n",
              "\n",
              "    .dataframe thead th {\n",
              "        text-align: right;\n",
              "    }\n",
              "</style>\n",
              "<table border=\"1\" class=\"dataframe\">\n",
              "  <thead>\n",
              "    <tr style=\"text-align: right;\">\n",
              "      <th></th>\n",
              "      <th>unique_id</th>\n",
              "      <th>id</th>\n",
              "      <th>customer_id</th>\n",
              "      <th>load_amount</th>\n",
              "      <th>time</th>\n",
              "    </tr>\n",
              "  </thead>\n",
              "  <tbody>\n",
              "    <tr>\n",
              "      <th>0</th>\n",
              "      <td>15887_528</td>\n",
              "      <td>15887</td>\n",
              "      <td>528</td>\n",
              "      <td>$3318.47</td>\n",
              "      <td>2000-01-01T00:00:00Z</td>\n",
              "    </tr>\n",
              "    <tr>\n",
              "      <th>1</th>\n",
              "      <td>30081_154</td>\n",
              "      <td>30081</td>\n",
              "      <td>154</td>\n",
              "      <td>$1413.18</td>\n",
              "      <td>2000-01-01T01:01:22Z</td>\n",
              "    </tr>\n",
              "    <tr>\n",
              "      <th>2</th>\n",
              "      <td>26540_426</td>\n",
              "      <td>26540</td>\n",
              "      <td>426</td>\n",
              "      <td>$404.56</td>\n",
              "      <td>2000-01-01T02:02:44Z</td>\n",
              "    </tr>\n",
              "    <tr>\n",
              "      <th>3</th>\n",
              "      <td>10694_1</td>\n",
              "      <td>10694</td>\n",
              "      <td>1</td>\n",
              "      <td>$785.11</td>\n",
              "      <td>2000-01-01T03:04:06Z</td>\n",
              "    </tr>\n",
              "    <tr>\n",
              "      <th>4</th>\n",
              "      <td>15089_205</td>\n",
              "      <td>15089</td>\n",
              "      <td>205</td>\n",
              "      <td>$2247.28</td>\n",
              "      <td>2000-01-01T04:05:28Z</td>\n",
              "    </tr>\n",
              "  </tbody>\n",
              "</table>\n",
              "</div>"
            ],
            "text/plain": [
              "   unique_id     id  customer_id load_amount                  time\n",
              "0  15887_528  15887          528    $3318.47  2000-01-01T00:00:00Z\n",
              "1  30081_154  30081          154    $1413.18  2000-01-01T01:01:22Z\n",
              "2  26540_426  26540          426     $404.56  2000-01-01T02:02:44Z\n",
              "3    10694_1  10694            1     $785.11  2000-01-01T03:04:06Z\n",
              "4  15089_205  15089          205    $2247.28  2000-01-01T04:05:28Z"
            ]
          },
          "metadata": {
            "tags": []
          },
          "execution_count": 11
        }
      ]
    },
    {
      "cell_type": "code",
      "metadata": {
        "id": "p-obOaEZOzqp",
        "outputId": "fb4ba184-3cdf-4751-ac82-5e072cfcfe77",
        "colab": {
          "base_uri": "https://localhost:8080/",
          "height": 76
        }
      },
      "source": [
        "input_data[input_data['unique_id']=='6928_562']"
      ],
      "execution_count": 12,
      "outputs": [
        {
          "output_type": "execute_result",
          "data": {
            "text/html": [
              "<div>\n",
              "<style scoped>\n",
              "    .dataframe tbody tr th:only-of-type {\n",
              "        vertical-align: middle;\n",
              "    }\n",
              "\n",
              "    .dataframe tbody tr th {\n",
              "        vertical-align: top;\n",
              "    }\n",
              "\n",
              "    .dataframe thead th {\n",
              "        text-align: right;\n",
              "    }\n",
              "</style>\n",
              "<table border=\"1\" class=\"dataframe\">\n",
              "  <thead>\n",
              "    <tr style=\"text-align: right;\">\n",
              "      <th></th>\n",
              "      <th>unique_id</th>\n",
              "      <th>id</th>\n",
              "      <th>customer_id</th>\n",
              "      <th>load_amount</th>\n",
              "      <th>time</th>\n",
              "    </tr>\n",
              "  </thead>\n",
              "  <tbody>\n",
              "    <tr>\n",
              "      <th>108</th>\n",
              "      <td>6928_562</td>\n",
              "      <td>6928</td>\n",
              "      <td>562</td>\n",
              "      <td>$5255.16</td>\n",
              "      <td>2000-01-05T14:27:36Z</td>\n",
              "    </tr>\n",
              "  </tbody>\n",
              "</table>\n",
              "</div>"
            ],
            "text/plain": [
              "    unique_id    id  customer_id load_amount                  time\n",
              "108  6928_562  6928          562    $5255.16  2000-01-05T14:27:36Z"
            ]
          },
          "metadata": {
            "tags": []
          },
          "execution_count": 12
        }
      ]
    },
    {
      "cell_type": "markdown",
      "metadata": {
        "id": "4hA1WcPqjtKZ"
      },
      "source": [
        "* **How many users?**  50\n",
        "* **How many transactions per user per day? per week? per month?**\n",
        "* **What is the average transaction amount per user? per day? per week?**"
      ]
    },
    {
      "cell_type": "code",
      "metadata": {
        "id": "xCMyc2djY8Tg"
      },
      "source": [
        "# input_data['load_amount']= input_data.load_amount.replace('[\\$,]', '', regex=True).astype(float)\n"
      ],
      "execution_count": 13,
      "outputs": []
    },
    {
      "cell_type": "code",
      "metadata": {
        "id": "kCGfTmq3kr7X"
      },
      "source": [
        "# input_data['load_amount'].mean()"
      ],
      "execution_count": 14,
      "outputs": []
    },
    {
      "cell_type": "code",
      "metadata": {
        "id": "spNCdgnakzBX"
      },
      "source": [
        "# plt.hist(input_data.load_amount, bins = 50)"
      ],
      "execution_count": 15,
      "outputs": []
    },
    {
      "cell_type": "code",
      "metadata": {
        "id": "hwc4lhGwkzD9"
      },
      "source": [
        "# plt.scatter(input_data[input_data['customer_id']==1].time, input_data[input_data['customer_id']==1].customer_id)"
      ],
      "execution_count": 16,
      "outputs": []
    },
    {
      "cell_type": "code",
      "metadata": {
        "id": "Vu5HlBw0lexB"
      },
      "source": [
        "# input_data[input_data['customer_id']==1].count(), input_data[input_data['customer_id']==1].min(), input_data[input_data['customer_id']==1].max(), input_data[input_data['customer_id']==1].mean()"
      ],
      "execution_count": 17,
      "outputs": []
    },
    {
      "cell_type": "code",
      "metadata": {
        "id": "13Hae7Eule4G",
        "outputId": "2ff38eff-5ab0-41a0-c747-05d949d9edcc",
        "colab": {
          "base_uri": "https://localhost:8080/",
          "height": 680
        }
      },
      "source": [
        "customer1_df = input_data[input_data['customer_id']==1]\n",
        "customer1_df"
      ],
      "execution_count": 18,
      "outputs": [
        {
          "output_type": "execute_result",
          "data": {
            "text/html": [
              "<div>\n",
              "<style scoped>\n",
              "    .dataframe tbody tr th:only-of-type {\n",
              "        vertical-align: middle;\n",
              "    }\n",
              "\n",
              "    .dataframe tbody tr th {\n",
              "        vertical-align: top;\n",
              "    }\n",
              "\n",
              "    .dataframe thead th {\n",
              "        text-align: right;\n",
              "    }\n",
              "</style>\n",
              "<table border=\"1\" class=\"dataframe\">\n",
              "  <thead>\n",
              "    <tr style=\"text-align: right;\">\n",
              "      <th></th>\n",
              "      <th>unique_id</th>\n",
              "      <th>id</th>\n",
              "      <th>customer_id</th>\n",
              "      <th>load_amount</th>\n",
              "      <th>time</th>\n",
              "    </tr>\n",
              "  </thead>\n",
              "  <tbody>\n",
              "    <tr>\n",
              "      <th>3</th>\n",
              "      <td>10694_1</td>\n",
              "      <td>10694</td>\n",
              "      <td>1</td>\n",
              "      <td>$785.11</td>\n",
              "      <td>2000-01-01T03:04:06Z</td>\n",
              "    </tr>\n",
              "    <tr>\n",
              "      <th>18</th>\n",
              "      <td>18705_1</td>\n",
              "      <td>18705</td>\n",
              "      <td>1</td>\n",
              "      <td>$3628.88</td>\n",
              "      <td>2000-01-01T18:24:36Z</td>\n",
              "    </tr>\n",
              "    <tr>\n",
              "      <th>66</th>\n",
              "      <td>11456_1</td>\n",
              "      <td>11456</td>\n",
              "      <td>1</td>\n",
              "      <td>$2566.29</td>\n",
              "      <td>2000-01-03T19:30:12Z</td>\n",
              "    </tr>\n",
              "    <tr>\n",
              "      <th>165</th>\n",
              "      <td>11114_1</td>\n",
              "      <td>11114</td>\n",
              "      <td>1</td>\n",
              "      <td>$2887.30</td>\n",
              "      <td>2000-01-08T00:45:30Z</td>\n",
              "    </tr>\n",
              "    <tr>\n",
              "      <th>171</th>\n",
              "      <td>7485_1</td>\n",
              "      <td>7485</td>\n",
              "      <td>1</td>\n",
              "      <td>$1920.88</td>\n",
              "      <td>2000-01-08T06:53:42Z</td>\n",
              "    </tr>\n",
              "    <tr>\n",
              "      <th>223</th>\n",
              "      <td>16907_1</td>\n",
              "      <td>16907</td>\n",
              "      <td>1</td>\n",
              "      <td>$4972.22</td>\n",
              "      <td>2000-01-10T12:04:46Z</td>\n",
              "    </tr>\n",
              "    <tr>\n",
              "      <th>229</th>\n",
              "      <td>31045_1</td>\n",
              "      <td>31045</td>\n",
              "      <td>1</td>\n",
              "      <td>$5992.27</td>\n",
              "      <td>2000-01-10T18:12:58Z</td>\n",
              "    </tr>\n",
              "    <tr>\n",
              "      <th>276</th>\n",
              "      <td>7806_1</td>\n",
              "      <td>7806</td>\n",
              "      <td>1</td>\n",
              "      <td>$4421.55</td>\n",
              "      <td>2000-01-12T18:17:12Z</td>\n",
              "    </tr>\n",
              "    <tr>\n",
              "      <th>496</th>\n",
              "      <td>10262_1</td>\n",
              "      <td>10262</td>\n",
              "      <td>1</td>\n",
              "      <td>$962.12</td>\n",
              "      <td>2000-01-22T03:17:52Z</td>\n",
              "    </tr>\n",
              "    <tr>\n",
              "      <th>498</th>\n",
              "      <td>19749_1</td>\n",
              "      <td>19749</td>\n",
              "      <td>1</td>\n",
              "      <td>$4770.96</td>\n",
              "      <td>2000-01-22T05:20:36Z</td>\n",
              "    </tr>\n",
              "    <tr>\n",
              "      <th>550</th>\n",
              "      <td>3462_1</td>\n",
              "      <td>3462</td>\n",
              "      <td>1</td>\n",
              "      <td>$4682.96</td>\n",
              "      <td>2000-01-24T10:31:40Z</td>\n",
              "    </tr>\n",
              "    <tr>\n",
              "      <th>603</th>\n",
              "      <td>4057_1</td>\n",
              "      <td>4057</td>\n",
              "      <td>1</td>\n",
              "      <td>$2936.16</td>\n",
              "      <td>2000-01-26T16:44:06Z</td>\n",
              "    </tr>\n",
              "    <tr>\n",
              "      <th>634</th>\n",
              "      <td>16449_1</td>\n",
              "      <td>16449</td>\n",
              "      <td>1</td>\n",
              "      <td>$4832.29</td>\n",
              "      <td>2000-01-28T00:26:28Z</td>\n",
              "    </tr>\n",
              "    <tr>\n",
              "      <th>657</th>\n",
              "      <td>19518_1</td>\n",
              "      <td>19518</td>\n",
              "      <td>1</td>\n",
              "      <td>$1648.34</td>\n",
              "      <td>2000-01-28T23:57:54Z</td>\n",
              "    </tr>\n",
              "    <tr>\n",
              "      <th>684</th>\n",
              "      <td>2845_1</td>\n",
              "      <td>2845</td>\n",
              "      <td>1</td>\n",
              "      <td>$3883.89</td>\n",
              "      <td>2000-01-30T03:34:48Z</td>\n",
              "    </tr>\n",
              "    <tr>\n",
              "      <th>699</th>\n",
              "      <td>31223_1</td>\n",
              "      <td>31223</td>\n",
              "      <td>1</td>\n",
              "      <td>$5997.09</td>\n",
              "      <td>2000-01-30T19:56:40Z</td>\n",
              "    </tr>\n",
              "    <tr>\n",
              "      <th>742</th>\n",
              "      <td>28278_1</td>\n",
              "      <td>28278</td>\n",
              "      <td>1</td>\n",
              "      <td>$1741.75</td>\n",
              "      <td>2000-02-01T15:55:26Z</td>\n",
              "    </tr>\n",
              "    <tr>\n",
              "      <th>767</th>\n",
              "      <td>28618_1</td>\n",
              "      <td>28618</td>\n",
              "      <td>1</td>\n",
              "      <td>$113.32</td>\n",
              "      <td>2000-02-02T17:29:36Z</td>\n",
              "    </tr>\n",
              "    <tr>\n",
              "      <th>815</th>\n",
              "      <td>1637_1</td>\n",
              "      <td>1637</td>\n",
              "      <td>1</td>\n",
              "      <td>$518.28</td>\n",
              "      <td>2000-02-04T18:35:12Z</td>\n",
              "    </tr>\n",
              "    <tr>\n",
              "      <th>885</th>\n",
              "      <td>17351_1</td>\n",
              "      <td>17351</td>\n",
              "      <td>1</td>\n",
              "      <td>$1634.27</td>\n",
              "      <td>2000-02-07T18:10:52Z</td>\n",
              "    </tr>\n",
              "    <tr>\n",
              "      <th>960</th>\n",
              "      <td>24411_1</td>\n",
              "      <td>24411</td>\n",
              "      <td>1</td>\n",
              "      <td>$3116.50</td>\n",
              "      <td>2000-02-10T22:53:22Z</td>\n",
              "    </tr>\n",
              "    <tr>\n",
              "      <th>968</th>\n",
              "      <td>25125_1</td>\n",
              "      <td>25125</td>\n",
              "      <td>1</td>\n",
              "      <td>$2071.60</td>\n",
              "      <td>2000-02-11T07:04:18Z</td>\n",
              "    </tr>\n",
              "  </tbody>\n",
              "</table>\n",
              "</div>"
            ],
            "text/plain": [
              "    unique_id     id  customer_id load_amount                  time\n",
              "3     10694_1  10694            1     $785.11  2000-01-01T03:04:06Z\n",
              "18    18705_1  18705            1    $3628.88  2000-01-01T18:24:36Z\n",
              "66    11456_1  11456            1    $2566.29  2000-01-03T19:30:12Z\n",
              "165   11114_1  11114            1    $2887.30  2000-01-08T00:45:30Z\n",
              "171    7485_1   7485            1    $1920.88  2000-01-08T06:53:42Z\n",
              "223   16907_1  16907            1    $4972.22  2000-01-10T12:04:46Z\n",
              "229   31045_1  31045            1    $5992.27  2000-01-10T18:12:58Z\n",
              "276    7806_1   7806            1    $4421.55  2000-01-12T18:17:12Z\n",
              "496   10262_1  10262            1     $962.12  2000-01-22T03:17:52Z\n",
              "498   19749_1  19749            1    $4770.96  2000-01-22T05:20:36Z\n",
              "550    3462_1   3462            1    $4682.96  2000-01-24T10:31:40Z\n",
              "603    4057_1   4057            1    $2936.16  2000-01-26T16:44:06Z\n",
              "634   16449_1  16449            1    $4832.29  2000-01-28T00:26:28Z\n",
              "657   19518_1  19518            1    $1648.34  2000-01-28T23:57:54Z\n",
              "684    2845_1   2845            1    $3883.89  2000-01-30T03:34:48Z\n",
              "699   31223_1  31223            1    $5997.09  2000-01-30T19:56:40Z\n",
              "742   28278_1  28278            1    $1741.75  2000-02-01T15:55:26Z\n",
              "767   28618_1  28618            1     $113.32  2000-02-02T17:29:36Z\n",
              "815    1637_1   1637            1     $518.28  2000-02-04T18:35:12Z\n",
              "885   17351_1  17351            1    $1634.27  2000-02-07T18:10:52Z\n",
              "960   24411_1  24411            1    $3116.50  2000-02-10T22:53:22Z\n",
              "968   25125_1  25125            1    $2071.60  2000-02-11T07:04:18Z"
            ]
          },
          "metadata": {
            "tags": []
          },
          "execution_count": 18
        }
      ]
    },
    {
      "cell_type": "markdown",
      "metadata": {
        "id": "5RP7peaAmUrJ"
      },
      "source": [
        "### Initializing Account Controller"
      ]
    },
    {
      "cell_type": "code",
      "metadata": {
        "id": "cDlJE3ufle1d"
      },
      "source": [
        "from AccountsController import AccountsController"
      ],
      "execution_count": 19,
      "outputs": []
    },
    {
      "cell_type": "code",
      "metadata": {
        "id": "soJmQ0B9ky6a",
        "outputId": "cc857b55-43f6-4f2c-c6a7-d9868a380f5b",
        "colab": {
          "base_uri": "https://localhost:8080/"
        }
      },
      "source": [
        "acct_ctrl1 = AccountsController()\n",
        "acct_ctrl1.daily_deposit_limit, acct_ctrl1.weekly_deposit_limit, acct_ctrl1.daily_loads"
      ],
      "execution_count": 20,
      "outputs": [
        {
          "output_type": "execute_result",
          "data": {
            "text/plain": [
              "(5000, 20000, 3)"
            ]
          },
          "metadata": {
            "tags": []
          },
          "execution_count": 20
        }
      ]
    },
    {
      "cell_type": "code",
      "metadata": {
        "id": "JdIbYSIpoK_7",
        "outputId": "bc1ff8e3-b686-4528-ee7a-217395d3112f",
        "colab": {
          "base_uri": "https://localhost:8080/"
        }
      },
      "source": [
        "customer1_df['id'] = customer1_df.id.astype(str)\n",
        "customer1_df['customer_id'] = customer1_df.customer_id.astype(str)"
      ],
      "execution_count": 21,
      "outputs": [
        {
          "output_type": "stream",
          "text": [
            "/usr/local/lib/python3.6/dist-packages/ipykernel_launcher.py:1: SettingWithCopyWarning: \n",
            "A value is trying to be set on a copy of a slice from a DataFrame.\n",
            "Try using .loc[row_indexer,col_indexer] = value instead\n",
            "\n",
            "See the caveats in the documentation: https://pandas.pydata.org/pandas-docs/stable/user_guide/indexing.html#returning-a-view-versus-a-copy\n",
            "  \"\"\"Entry point for launching an IPython kernel.\n",
            "/usr/local/lib/python3.6/dist-packages/ipykernel_launcher.py:2: SettingWithCopyWarning: \n",
            "A value is trying to be set on a copy of a slice from a DataFrame.\n",
            "Try using .loc[row_indexer,col_indexer] = value instead\n",
            "\n",
            "See the caveats in the documentation: https://pandas.pydata.org/pandas-docs/stable/user_guide/indexing.html#returning-a-view-versus-a-copy\n",
            "  \n"
          ],
          "name": "stderr"
        }
      ]
    },
    {
      "cell_type": "code",
      "metadata": {
        "id": "UYxL5h5RomGc",
        "outputId": "75cb5009-5470-4645-e453-2856cd4bbd40",
        "colab": {
          "base_uri": "https://localhost:8080/"
        }
      },
      "source": [
        "customer1_df.iloc[0].to_dict()"
      ],
      "execution_count": 22,
      "outputs": [
        {
          "output_type": "execute_result",
          "data": {
            "text/plain": [
              "{'customer_id': '1',\n",
              " 'id': '10694',\n",
              " 'load_amount': '$785.11',\n",
              " 'time': '2000-01-01T03:04:06Z',\n",
              " 'unique_id': '10694_1'}"
            ]
          },
          "metadata": {
            "tags": []
          },
          "execution_count": 22
        }
      ]
    },
    {
      "cell_type": "code",
      "metadata": {
        "id": "znitZFSlnDD9",
        "outputId": "2f3bf391-9554-4802-d82b-b0af3eb534ac",
        "colab": {
          "base_uri": "https://localhost:8080/"
        }
      },
      "source": [
        "acct_ctrl1.processUserLoad(customer1_df.iloc[0].to_dict())"
      ],
      "execution_count": 23,
      "outputs": [
        {
          "output_type": "execute_result",
          "data": {
            "text/plain": [
              "{'accepted': True, 'customer_id': '1', 'id': '10694'}"
            ]
          },
          "metadata": {
            "tags": []
          },
          "execution_count": 23
        }
      ]
    },
    {
      "cell_type": "code",
      "metadata": {
        "id": "wFXohvEGq-G1",
        "outputId": "ad9fd069-ab78-4002-d4de-7ef67cc9e014",
        "colab": {
          "base_uri": "https://localhost:8080/"
        }
      },
      "source": [
        "acct_ctrl1.processUserLoad(customer1_df.iloc[1].to_dict())"
      ],
      "execution_count": 24,
      "outputs": [
        {
          "output_type": "execute_result",
          "data": {
            "text/plain": [
              "{'accepted': True, 'customer_id': '1', 'id': '18705'}"
            ]
          },
          "metadata": {
            "tags": []
          },
          "execution_count": 24
        }
      ]
    },
    {
      "cell_type": "code",
      "metadata": {
        "id": "EcyNPMHarl2e",
        "outputId": "a9c56ba7-78fc-4ecb-ac9d-d00192e96931",
        "colab": {
          "base_uri": "https://localhost:8080/"
        }
      },
      "source": [
        "acct_ctrl1.processUserLoad({'customer_id': '1',\n",
        "'id': '10694',\n",
        "'load_amount': '$7785.11',\n",
        "'time': '2000-01-01T03:04:06Z',\n",
        "'unique_id': '10694_1'})"
      ],
      "execution_count": 25,
      "outputs": [
        {
          "output_type": "execute_result",
          "data": {
            "text/plain": [
              "{'accepted': False, 'customer_id': '1', 'id': '10694'}"
            ]
          },
          "metadata": {
            "tags": []
          },
          "execution_count": 25
        }
      ]
    },
    {
      "cell_type": "markdown",
      "metadata": {
        "id": "nvs3MbFmDqLF"
      },
      "source": [
        "### Exhaustive Rules\n"
      ]
    },
    {
      "cell_type": "code",
      "metadata": {
        "id": "O2-VDXI9ky35",
        "outputId": "48fdb158-e30b-483a-f6bb-d6cb0e8a7df0",
        "colab": {
          "base_uri": "https://localhost:8080/"
        }
      },
      "source": [
        "ls"
      ],
      "execution_count": 29,
      "outputs": [
        {
          "output_type": "stream",
          "text": [
            "rules.csv  \u001b[0m\u001b[01;34mtakehome\u001b[0m/  Velocity_limits.ipynb\n"
          ],
          "name": "stdout"
        }
      ]
    },
    {
      "cell_type": "code",
      "metadata": {
        "id": "eSkaayHlfqfO",
        "outputId": "05d0b296-3473-4bbf-8a78-1fd917b0222b",
        "colab": {
          "base_uri": "https://localhost:8080/",
          "height": 967
        }
      },
      "source": [
        "rules_df = pd.read_csv(\"rules.csv\")\n",
        "rules_df"
      ],
      "execution_count": 30,
      "outputs": [
        {
          "output_type": "execute_result",
          "data": {
            "text/html": [
              "<div>\n",
              "<style scoped>\n",
              "    .dataframe tbody tr th:only-of-type {\n",
              "        vertical-align: middle;\n",
              "    }\n",
              "\n",
              "    .dataframe tbody tr th {\n",
              "        vertical-align: top;\n",
              "    }\n",
              "\n",
              "    .dataframe thead th {\n",
              "        text-align: right;\n",
              "    }\n",
              "</style>\n",
              "<table border=\"1\" class=\"dataframe\">\n",
              "  <thead>\n",
              "    <tr style=\"text-align: right;\">\n",
              "      <th></th>\n",
              "      <th>Rule Number</th>\n",
              "      <th>Load ID is unique</th>\n",
              "      <th>time stamp is unique</th>\n",
              "      <th>daily_deps_left &gt; load.amt</th>\n",
              "      <th>daily_loads_left &gt;= 0</th>\n",
              "      <th>weekly_deps_left &gt; load.amt</th>\n",
              "      <th>System Response</th>\n",
              "    </tr>\n",
              "  </thead>\n",
              "  <tbody>\n",
              "    <tr>\n",
              "      <th>0</th>\n",
              "      <td>1</td>\n",
              "      <td>0</td>\n",
              "      <td>d</td>\n",
              "      <td>d</td>\n",
              "      <td>d</td>\n",
              "      <td>d</td>\n",
              "      <td>Decline - load ID not unique 1</td>\n",
              "    </tr>\n",
              "    <tr>\n",
              "      <th>1</th>\n",
              "      <td>2</td>\n",
              "      <td>0</td>\n",
              "      <td>d</td>\n",
              "      <td>d</td>\n",
              "      <td>d</td>\n",
              "      <td>d</td>\n",
              "      <td>Decline - load ID not unique 2</td>\n",
              "    </tr>\n",
              "    <tr>\n",
              "      <th>2</th>\n",
              "      <td>3</td>\n",
              "      <td>0</td>\n",
              "      <td>d</td>\n",
              "      <td>d</td>\n",
              "      <td>d</td>\n",
              "      <td>d</td>\n",
              "      <td>Decline - load ID not unique 3</td>\n",
              "    </tr>\n",
              "    <tr>\n",
              "      <th>3</th>\n",
              "      <td>4</td>\n",
              "      <td>0</td>\n",
              "      <td>d</td>\n",
              "      <td>d</td>\n",
              "      <td>d</td>\n",
              "      <td>d</td>\n",
              "      <td>Decline - load ID not unique 4</td>\n",
              "    </tr>\n",
              "    <tr>\n",
              "      <th>4</th>\n",
              "      <td>5</td>\n",
              "      <td>0</td>\n",
              "      <td>d</td>\n",
              "      <td>d</td>\n",
              "      <td>d</td>\n",
              "      <td>d</td>\n",
              "      <td>Decline - load ID not unique 5</td>\n",
              "    </tr>\n",
              "    <tr>\n",
              "      <th>5</th>\n",
              "      <td>6</td>\n",
              "      <td>0</td>\n",
              "      <td>d</td>\n",
              "      <td>d</td>\n",
              "      <td>d</td>\n",
              "      <td>d</td>\n",
              "      <td>Decline - load ID not unique 6</td>\n",
              "    </tr>\n",
              "    <tr>\n",
              "      <th>6</th>\n",
              "      <td>7</td>\n",
              "      <td>0</td>\n",
              "      <td>d</td>\n",
              "      <td>d</td>\n",
              "      <td>d</td>\n",
              "      <td>d</td>\n",
              "      <td>Decline - load ID not unique 7</td>\n",
              "    </tr>\n",
              "    <tr>\n",
              "      <th>7</th>\n",
              "      <td>8</td>\n",
              "      <td>0</td>\n",
              "      <td>d</td>\n",
              "      <td>d</td>\n",
              "      <td>d</td>\n",
              "      <td>d</td>\n",
              "      <td>Decline - load ID not unique 8</td>\n",
              "    </tr>\n",
              "    <tr>\n",
              "      <th>8</th>\n",
              "      <td>9</td>\n",
              "      <td>0</td>\n",
              "      <td>d</td>\n",
              "      <td>d</td>\n",
              "      <td>d</td>\n",
              "      <td>d</td>\n",
              "      <td>Decline - load ID not unique 9</td>\n",
              "    </tr>\n",
              "    <tr>\n",
              "      <th>9</th>\n",
              "      <td>10</td>\n",
              "      <td>0</td>\n",
              "      <td>d</td>\n",
              "      <td>d</td>\n",
              "      <td>d</td>\n",
              "      <td>d</td>\n",
              "      <td>Decline - load ID not unique 10</td>\n",
              "    </tr>\n",
              "    <tr>\n",
              "      <th>10</th>\n",
              "      <td>11</td>\n",
              "      <td>0</td>\n",
              "      <td>d</td>\n",
              "      <td>d</td>\n",
              "      <td>d</td>\n",
              "      <td>d</td>\n",
              "      <td>Decline - load ID not unique 11</td>\n",
              "    </tr>\n",
              "    <tr>\n",
              "      <th>11</th>\n",
              "      <td>12</td>\n",
              "      <td>0</td>\n",
              "      <td>d</td>\n",
              "      <td>d</td>\n",
              "      <td>d</td>\n",
              "      <td>d</td>\n",
              "      <td>Decline - load ID not unique 12</td>\n",
              "    </tr>\n",
              "    <tr>\n",
              "      <th>12</th>\n",
              "      <td>13</td>\n",
              "      <td>0</td>\n",
              "      <td>d</td>\n",
              "      <td>d</td>\n",
              "      <td>d</td>\n",
              "      <td>d</td>\n",
              "      <td>Decline - load ID not unique 13</td>\n",
              "    </tr>\n",
              "    <tr>\n",
              "      <th>13</th>\n",
              "      <td>14</td>\n",
              "      <td>0</td>\n",
              "      <td>d</td>\n",
              "      <td>d</td>\n",
              "      <td>d</td>\n",
              "      <td>d</td>\n",
              "      <td>Decline - load ID not unique 14</td>\n",
              "    </tr>\n",
              "    <tr>\n",
              "      <th>14</th>\n",
              "      <td>15</td>\n",
              "      <td>0</td>\n",
              "      <td>d</td>\n",
              "      <td>d</td>\n",
              "      <td>d</td>\n",
              "      <td>d</td>\n",
              "      <td>Decline - load ID not unique 15</td>\n",
              "    </tr>\n",
              "    <tr>\n",
              "      <th>15</th>\n",
              "      <td>16</td>\n",
              "      <td>0</td>\n",
              "      <td>d</td>\n",
              "      <td>d</td>\n",
              "      <td>d</td>\n",
              "      <td>d</td>\n",
              "      <td>Decline - load ID not unique 16</td>\n",
              "    </tr>\n",
              "    <tr>\n",
              "      <th>16</th>\n",
              "      <td>17</td>\n",
              "      <td>1</td>\n",
              "      <td>0</td>\n",
              "      <td>0</td>\n",
              "      <td>0</td>\n",
              "      <td>0</td>\n",
              "      <td>Decline - time stamp not unique 1</td>\n",
              "    </tr>\n",
              "    <tr>\n",
              "      <th>17</th>\n",
              "      <td>18</td>\n",
              "      <td>1</td>\n",
              "      <td>0</td>\n",
              "      <td>0</td>\n",
              "      <td>0</td>\n",
              "      <td>1</td>\n",
              "      <td>Decline - time stamp not unique 2</td>\n",
              "    </tr>\n",
              "    <tr>\n",
              "      <th>18</th>\n",
              "      <td>19</td>\n",
              "      <td>1</td>\n",
              "      <td>0</td>\n",
              "      <td>0</td>\n",
              "      <td>1</td>\n",
              "      <td>0</td>\n",
              "      <td>Decline - time stamp not unique 3</td>\n",
              "    </tr>\n",
              "    <tr>\n",
              "      <th>19</th>\n",
              "      <td>20</td>\n",
              "      <td>1</td>\n",
              "      <td>0</td>\n",
              "      <td>0</td>\n",
              "      <td>1</td>\n",
              "      <td>1</td>\n",
              "      <td>Decline - time stamp not unique 4</td>\n",
              "    </tr>\n",
              "    <tr>\n",
              "      <th>20</th>\n",
              "      <td>21</td>\n",
              "      <td>1</td>\n",
              "      <td>0</td>\n",
              "      <td>1</td>\n",
              "      <td>0</td>\n",
              "      <td>0</td>\n",
              "      <td>Decline - time stamp not unique 5</td>\n",
              "    </tr>\n",
              "    <tr>\n",
              "      <th>21</th>\n",
              "      <td>22</td>\n",
              "      <td>1</td>\n",
              "      <td>0</td>\n",
              "      <td>1</td>\n",
              "      <td>0</td>\n",
              "      <td>1</td>\n",
              "      <td>Decline - time stamp not unique 6</td>\n",
              "    </tr>\n",
              "    <tr>\n",
              "      <th>22</th>\n",
              "      <td>23</td>\n",
              "      <td>1</td>\n",
              "      <td>0</td>\n",
              "      <td>1</td>\n",
              "      <td>1</td>\n",
              "      <td>0</td>\n",
              "      <td>Decline - time stamp not unique 7</td>\n",
              "    </tr>\n",
              "    <tr>\n",
              "      <th>23</th>\n",
              "      <td>24</td>\n",
              "      <td>1</td>\n",
              "      <td>0</td>\n",
              "      <td>1</td>\n",
              "      <td>1</td>\n",
              "      <td>1</td>\n",
              "      <td>Decline - time stamp not unique 8</td>\n",
              "    </tr>\n",
              "    <tr>\n",
              "      <th>24</th>\n",
              "      <td>25</td>\n",
              "      <td>1</td>\n",
              "      <td>1</td>\n",
              "      <td>0</td>\n",
              "      <td>d</td>\n",
              "      <td>d</td>\n",
              "      <td>Decline - Daily Deps left limit exceeded 1</td>\n",
              "    </tr>\n",
              "    <tr>\n",
              "      <th>25</th>\n",
              "      <td>26</td>\n",
              "      <td>1</td>\n",
              "      <td>1</td>\n",
              "      <td>0</td>\n",
              "      <td>d</td>\n",
              "      <td>d</td>\n",
              "      <td>Decline - Daily Deps left limit exceeded 2</td>\n",
              "    </tr>\n",
              "    <tr>\n",
              "      <th>26</th>\n",
              "      <td>27</td>\n",
              "      <td>1</td>\n",
              "      <td>1</td>\n",
              "      <td>0</td>\n",
              "      <td>d</td>\n",
              "      <td>d</td>\n",
              "      <td>Decline - Daily Deps left limit exceeded 3</td>\n",
              "    </tr>\n",
              "    <tr>\n",
              "      <th>27</th>\n",
              "      <td>28</td>\n",
              "      <td>1</td>\n",
              "      <td>1</td>\n",
              "      <td>0</td>\n",
              "      <td>d</td>\n",
              "      <td>d</td>\n",
              "      <td>Decline - Daily Deps left limit exceeded 4</td>\n",
              "    </tr>\n",
              "    <tr>\n",
              "      <th>28</th>\n",
              "      <td>29</td>\n",
              "      <td>1</td>\n",
              "      <td>1</td>\n",
              "      <td>1</td>\n",
              "      <td>0</td>\n",
              "      <td>d</td>\n",
              "      <td>Decline - Daily loads left limit exceeded 1</td>\n",
              "    </tr>\n",
              "    <tr>\n",
              "      <th>29</th>\n",
              "      <td>30</td>\n",
              "      <td>1</td>\n",
              "      <td>1</td>\n",
              "      <td>1</td>\n",
              "      <td>0</td>\n",
              "      <td>d</td>\n",
              "      <td>Decline - Daily loads left limit exceeded 2</td>\n",
              "    </tr>\n",
              "    <tr>\n",
              "      <th>30</th>\n",
              "      <td>31</td>\n",
              "      <td>1</td>\n",
              "      <td>1</td>\n",
              "      <td>1</td>\n",
              "      <td>1</td>\n",
              "      <td>0</td>\n",
              "      <td>Decline - Weekly deps left limit exceeded 1</td>\n",
              "    </tr>\n",
              "    <tr>\n",
              "      <th>31</th>\n",
              "      <td>32</td>\n",
              "      <td>1</td>\n",
              "      <td>1</td>\n",
              "      <td>1</td>\n",
              "      <td>1</td>\n",
              "      <td>1</td>\n",
              "      <td>Approve</td>\n",
              "    </tr>\n",
              "  </tbody>\n",
              "</table>\n",
              "</div>"
            ],
            "text/plain": [
              "    Rule Number  ...                             System Response \n",
              "0             1  ...               Decline - load ID not unique 1\n",
              "1             2  ...               Decline - load ID not unique 2\n",
              "2             3  ...               Decline - load ID not unique 3\n",
              "3             4  ...               Decline - load ID not unique 4\n",
              "4             5  ...               Decline - load ID not unique 5\n",
              "5             6  ...               Decline - load ID not unique 6\n",
              "6             7  ...               Decline - load ID not unique 7\n",
              "7             8  ...               Decline - load ID not unique 8\n",
              "8             9  ...               Decline - load ID not unique 9\n",
              "9            10  ...              Decline - load ID not unique 10\n",
              "10           11  ...              Decline - load ID not unique 11\n",
              "11           12  ...              Decline - load ID not unique 12\n",
              "12           13  ...              Decline - load ID not unique 13\n",
              "13           14  ...              Decline - load ID not unique 14\n",
              "14           15  ...              Decline - load ID not unique 15\n",
              "15           16  ...              Decline - load ID not unique 16\n",
              "16           17  ...            Decline - time stamp not unique 1\n",
              "17           18  ...            Decline - time stamp not unique 2\n",
              "18           19  ...            Decline - time stamp not unique 3\n",
              "19           20  ...            Decline - time stamp not unique 4\n",
              "20           21  ...            Decline - time stamp not unique 5\n",
              "21           22  ...            Decline - time stamp not unique 6\n",
              "22           23  ...            Decline - time stamp not unique 7\n",
              "23           24  ...            Decline - time stamp not unique 8\n",
              "24           25  ...  Decline - Daily Deps left limit exceeded 1 \n",
              "25           26  ...   Decline - Daily Deps left limit exceeded 2\n",
              "26           27  ...   Decline - Daily Deps left limit exceeded 3\n",
              "27           28  ...   Decline - Daily Deps left limit exceeded 4\n",
              "28           29  ...  Decline - Daily loads left limit exceeded 1\n",
              "29           30  ...  Decline - Daily loads left limit exceeded 2\n",
              "30           31  ...  Decline - Weekly deps left limit exceeded 1\n",
              "31           32  ...                                     Approve \n",
              "\n",
              "[32 rows x 7 columns]"
            ]
          },
          "metadata": {
            "tags": []
          },
          "execution_count": 30
        }
      ]
    },
    {
      "cell_type": "code",
      "metadata": {
        "id": "m2jMMjVorYHX"
      },
      "source": [
        "\n",
        "class Customer: \n",
        "  def __init__(self, customer_id, loads=None, daily_deposit_limit=5000, weekly_deposit_limit=20000, daily_loads_limit=3, initial_bal=0, \n",
        "               current_daily_deposits=0, current_weekly_deposits=0, current_daily_loads= 0 ):\n",
        "\n",
        "    self.customer_id = customer_id\n",
        "    self.loads = []\n",
        "    self.daily_deposit_limit =  daily_deposit_limit\n",
        "    self.weekly_deposit_limit =weekly_deposit_limit \n",
        "    self.daily_loads_limit = daily_loads_limit \n",
        "    self.balance = initial_bal\n",
        "\n",
        "    self.current_daily_deposits =current_daily_deposits\n",
        "    self.current_weekly_deposits = current_daily_deposits\n",
        "    self.current_daily_loads = current_daily_loads\n",
        "\n",
        "\n",
        "    self.daily_deposits_left = daily_deposit_limit\n",
        "    self.weekly_deposits_left = weekly_deposit_limit \n",
        "    self.daily_loads_left = daily_loads_limit\n",
        "\n",
        "    self.load_hist = pd.DataFrame({'customer_id':self.customer_id, \n",
        "                                   'load_id': [], \n",
        "                                   'load_amt': [], \n",
        "                                   'load_time': [], \n",
        "                                   'load_week_num':[],\n",
        "                                   'load_day_num':[],\n",
        "                                   'approved_status':[], \n",
        "                                   'ruleA':[],\n",
        "                                   'ruleB':[],\n",
        "                                   'rule1':[], \n",
        "                                   'rule2':[], \n",
        "                                   'rule3':[]})\n",
        "\n",
        "\n",
        "\n",
        "  def get_daily_deposits_left(self): \n",
        "    if hasattr(self, 'valid_loads') and len(self.valid_loads)>0:\n",
        "      self.daily_deposits_left = self.valid_loads[self.valid_loads.load_day_num ==self.valid_loads.iloc[-1].load_day_num].daily_deps_left.iloc[-1]\n",
        "\n",
        "  def get_weekly_deposits_left(self): \n",
        "    print(\"inside get weekly deps left function\")\n",
        "    if hasattr(self, 'valid_loads') and len(self.valid_loads)>0:\n",
        "      print(\"arg is truueeee\")\n",
        "      self.weekly_deposits_left = self.valid_loads[self.valid_loads.load_week_num ==self.valid_loads.iloc[-1].load_week_num].weekly_deps_left.iloc[-1]\n",
        "\n",
        "  def get_daily_loads_left(self): \n",
        "    if hasattr(self, 'valid_loads') and len(self.valid_loads)>0:\n",
        "      self.daily_loads_left = self.valid_loads[self.valid_loads['load_day_num']==self.loads[-1].load_day_num]['num_daily_deps_left'].iloc[-1]\n",
        "\n",
        "\n",
        "  def update_load_history(self): \n",
        "    \n",
        "    self.load_hist = self.load_hist.append({'customer_id': self.customer_id, \\\n",
        "                                            'load_id': self.loads[-1].load_id, \\\n",
        "                                            'load_amt':self.loads[-1].load_amt, \\\n",
        "                                            'load_time': self.loads[-1].load_time, \\\n",
        "                                            'load_week_num':self.loads[-1].load_week_num,\\\n",
        "                                            'load_day_num':self.loads[-1].load_day_num,\\\n",
        "                                            'approved_status': self.ruleA&self.ruleB&self.rule1&self.rule2&self.rule3, \n",
        "                                            'ruleA': self.ruleA, \n",
        "                                            'ruleB': self.ruleB,\n",
        "                                            'rule1': self.rule1, \n",
        "                                            'rule2': self.rule2, \n",
        "                                            'rule3': self.rule3\n",
        "                                            }, ignore_index=True).copy(deep=True)\n",
        "\n",
        "    self.load_hist['load_week_num'] = self.load_hist['load_week_num'].astype(int)\n",
        "    self.load_hist['load_day_num'] = self.load_hist['load_day_num'].astype(int) \n",
        "\n",
        "    self.load_hist['approved_status'] = self.load_hist['approved_status'].astype(bool)  \n",
        "    self.load_hist['ruleA'] = self.load_hist['ruleA'].astype(bool) \n",
        "    self.load_hist['ruleB'] = self.load_hist['ruleB'].astype(bool) \n",
        "    self.load_hist['rule1'] = self.load_hist['rule1'].astype(bool) \n",
        "    self.load_hist['rule2'] = self.load_hist['rule2'].astype(bool) \n",
        "    self.load_hist['rule3'] = self.load_hist['rule3'].astype(bool) \n",
        "\n",
        "\n",
        "    \n",
        "\n",
        "  def process_valid_loads(self):\n",
        "    # keeping only the valid loads (no dupes allowed)\n",
        "    self.valid_loads = self.load_hist[self.load_hist['approved_status']==True].copy(deep=True)\n",
        "\n",
        "    df1 = self.valid_loads.set_index('load_time').sort_index().copy(deep=True)\n",
        "\n",
        "    df2 = pd.DataFrame(df1.groupby('load_week_num')['load_amt'].transform(pd.Series.cumsum)).copy(deep=True)\n",
        "    df3 = pd.DataFrame(df1.groupby('load_day_num')['load_amt'].transform(pd.Series.cumsum)).copy(deep=True)\n",
        "    df4 = pd.DataFrame(df1.groupby(['load_day_num']).cumcount()+1).copy(deep=True)\n",
        "    df4.columns=['num_daily_deps']\n",
        "\n",
        "\n",
        "    self.valid_loads['cum_weekly_deps'] = list(pd.merge(self.valid_loads, df2, how='left', left_on =['load_time'], right_on=['load_time'])['load_amt_y'])\n",
        "    self.valid_loads['cum_daily_deps'] = list(pd.merge(self.valid_loads, df3, how='left', left_on =['load_time'], right_on=['load_time'])['load_amt_y'])\n",
        "    self.valid_loads['num_daily_deps'] = list(pd.merge(self.valid_loads, df4, how='left', left_on =['load_time'], right_on=['load_time'])['num_daily_deps'])\n",
        "\n",
        "\n",
        "    self.valid_loads['weekly_deps_left'] = self.weekly_deposit_limit - self.valid_loads['cum_weekly_deps']\n",
        "    self.valid_loads['daily_deps_left'] = self.daily_deposit_limit - self.valid_loads['cum_daily_deps']\n",
        "    self.valid_loads['num_daily_deps_left'] = self.daily_loads_limit - self.valid_loads['num_daily_deps']\n",
        "\n",
        "\n",
        "\n",
        "\n",
        "  def process_load(self, load):\n",
        "    self.balance += float(load.load_amt)\n",
        "    self.loads.append(load)\n",
        "\n",
        "    if hasattr(self, 'valid_loads') and len(self.valid_loads)>0:\n",
        "      if load.load_day_num not in list(self.valid_loads.load_day_num): \n",
        "        self.daily_deposits_left = self.daily_deposit_limit\n",
        "        self.daily_loads_left = self.daily_loads_limit\n",
        "\n",
        "      if load.load_week_num not in list(self.valid_loads.load_week_num): \n",
        "        print (\"load.load_week_num not in list(self.valid_loads.load_week_num): is true\")\n",
        "        self.weekly_deposits_left = self.weekly_deposit_limit\n",
        "\n",
        "\n",
        "    \n",
        "\n",
        "    #3 rules: \n",
        "    # 1) A maximum of  $5,000  can be loaded per day\n",
        "    # 2) A maximum of  $20,000  can be loaded per week\n",
        "    # 3) A maximum of 3 loads can be performed per day, regardless of amount\n",
        "\n",
        "\n",
        "    self.ruleA = load.load_id not in list(self.load_hist.load_id)\n",
        "    self.ruleB = load.load_time not in list(self.load_hist.load_time) \n",
        "    self.rule1 = self.daily_deposits_left > float(load.load_amt)\n",
        "    self.rule2 = self.daily_loads_left >= 1 \n",
        "    self.rule3 = self.weekly_deposits_left > float(load.load_amt) \n",
        "\n",
        "    self.rule_status = str(self.ruleA) + \" \" + str(self.ruleB) + \" \" + str(self.rule1) +  \" \" + str(self.rule2) + \" \" + str(self.rule3)\n",
        "\n",
        "    if not self.ruleA:\n",
        "      print(\"ERROR: Load ID already exists\")\n",
        "\n",
        "    if not self.ruleB: \n",
        "      print(\"ERROR: Time stamp already exists for same customer\")\n",
        "\n",
        "    if not self.rule1: \n",
        "      print(\"ERROR: No room for daily deposits left\")\n",
        "\n",
        "    if not self.rule2: \n",
        "      print(\"ERROR: Number of allowed daily deposits exceeded\")\n",
        "\n",
        "    if not self.rule3: \n",
        "      print(\"ERROR: No room for weekly deposits left\")\n",
        "\n",
        "\n",
        "    self.update_load_history()\n",
        "    self.process_valid_loads()\n",
        "\n",
        "\n",
        "    if self.ruleA & self.ruleB & self.rule1 & self.rule2 & self.rule3 : \n",
        "      self.current_daily_deposits+=float(load.load_amt)\n",
        "      self.current_weekly_deposits+=float(load.load_amt)\n",
        "      self.current_daily_loads+=1\n",
        "\n",
        "      self.get_daily_deposits_left()\n",
        "      \n",
        "      print(\"before status:....\")\n",
        "      self.print_status()\n",
        "      self.get_weekly_deposits_left()\n",
        "\n",
        "      print(\"after status:....\")\n",
        "      self.print_status()\n",
        "\n",
        "      self.get_daily_loads_left()\n",
        "\n",
        "      self.loads[-1].approved_status = True \n",
        "      print(\"All Rules Passed ... Load Added\")\n",
        "\n",
        "    else: \n",
        "      print(\"Load Rejected\")\n",
        "\n",
        "    return None\n",
        "\n",
        "  def print_status(self): \n",
        "    print(\"Customer_id:{}\".format(self.customer_id))\n",
        "    print(\"Current Deposit Balance:{}\".format(self.balance))\n",
        "    print(\"Current Daily Deposits:{}\".format(self.current_daily_deposits))\n",
        "    print(\"Current Weekly Deposits:{}\".format(self.current_weekly_deposits))\n",
        "    print(\"Current Daily Loads:{}\".format(self.current_daily_loads))\n",
        "\n",
        "    print(\"Daily Deposits Left:{}\".format(self.daily_deposits_left))\n",
        "    print(\"Weekly Deposits Left:{}\".format(self.weekly_deposits_left))\n",
        "    print(\"Daily Loads Left:{}\".format(self.daily_loads_left))\n",
        "\n"
      ],
      "execution_count": 411,
      "outputs": []
    },
    {
      "cell_type": "code",
      "metadata": {
        "id": "MJ_PsBWXu89E"
      },
      "source": [
        "\n",
        "# import datetime as datetime \n",
        "class Load: \n",
        "  def __init__(self, load_id, load_amt, load_time):\n",
        "    self.load_id = load_id\n",
        "    self.load_amt = float(load_amt[1:])\n",
        "    self.load_time = load_time \n",
        "    self.approved_status = False\n",
        "\n",
        "    self.datetime_object = datetime.strptime(self.load_time, \"%Y-%m-%dT%H:%M:%SZ\")\n",
        "    self.load_week_num = self.datetime_object.year + self.datetime_object.isocalendar()[1]\n",
        "\n",
        "    import datetime as dt\n",
        "\n",
        "    self.load_day_num = self.datetime_object.year + (dt.date(self.datetime_object.year, self.datetime_object.month, self.datetime_object.day) - dt.date(self.datetime_object.year,1,1)).days + 1\n",
        "\n",
        "    # self.day_num = (datetime.date(self.datetime_object.year, self.datetime_object.month, self.datetime_object.day) - datetime.date(year,1,1)).days + 1\n",
        "\n",
        "\n",
        "\n",
        "    "
      ],
      "execution_count": 412,
      "outputs": []
    },
    {
      "cell_type": "markdown",
      "metadata": {
        "id": "m_GSYIuEfTmJ"
      },
      "source": [
        "Test 28: "
      ]
    },
    {
      "cell_type": "code",
      "metadata": {
        "id": "JqDHOXJffSwL",
        "outputId": "4fd47dab-4476-4983-aeaa-9465252b85b4",
        "colab": {
          "base_uri": "https://localhost:8080/",
          "height": 76
        }
      },
      "source": [
        "rules_df.iloc[[27]]"
      ],
      "execution_count": 330,
      "outputs": [
        {
          "output_type": "execute_result",
          "data": {
            "text/html": [
              "<div>\n",
              "<style scoped>\n",
              "    .dataframe tbody tr th:only-of-type {\n",
              "        vertical-align: middle;\n",
              "    }\n",
              "\n",
              "    .dataframe tbody tr th {\n",
              "        vertical-align: top;\n",
              "    }\n",
              "\n",
              "    .dataframe thead th {\n",
              "        text-align: right;\n",
              "    }\n",
              "</style>\n",
              "<table border=\"1\" class=\"dataframe\">\n",
              "  <thead>\n",
              "    <tr style=\"text-align: right;\">\n",
              "      <th></th>\n",
              "      <th>Rule Number</th>\n",
              "      <th>Load ID is unique</th>\n",
              "      <th>time stamp is unique</th>\n",
              "      <th>daily_deps_left &gt; load.amt</th>\n",
              "      <th>daily_loads_left &gt;= 0</th>\n",
              "      <th>weekly_deps_left &gt; load.amt</th>\n",
              "      <th>System Response</th>\n",
              "    </tr>\n",
              "  </thead>\n",
              "  <tbody>\n",
              "    <tr>\n",
              "      <th>27</th>\n",
              "      <td>28</td>\n",
              "      <td>1</td>\n",
              "      <td>1</td>\n",
              "      <td>0</td>\n",
              "      <td>d</td>\n",
              "      <td>d</td>\n",
              "      <td>Decline - Daily Deps left limit exceeded 4</td>\n",
              "    </tr>\n",
              "  </tbody>\n",
              "</table>\n",
              "</div>"
            ],
            "text/plain": [
              "    Rule Number  ...                            System Response \n",
              "27           28  ...  Decline - Daily Deps left limit exceeded 4\n",
              "\n",
              "[1 rows x 7 columns]"
            ]
          },
          "metadata": {
            "tags": []
          },
          "execution_count": 330
        }
      ]
    },
    {
      "cell_type": "code",
      "metadata": {
        "id": "eVCqipy8gW1v",
        "outputId": "1dfdfe83-e734-426a-9f10-fe4b9415e1ba",
        "colab": {
          "base_uri": "https://localhost:8080/"
        }
      },
      "source": [
        "cust1 = Customer(1)\n",
        "cust1.process_load(Load('10694', '$7785.11', '2000-01-01T03:04:06Z'))"
      ],
      "execution_count": 331,
      "outputs": [
        {
          "output_type": "stream",
          "text": [
            "ERROR: No room for daily deposits left\n",
            "Load Rejected\n"
          ],
          "name": "stdout"
        }
      ]
    },
    {
      "cell_type": "code",
      "metadata": {
        "id": "CuVXJ9-MhIHV",
        "outputId": "376638a3-113a-411b-8744-51192c996053",
        "colab": {
          "base_uri": "https://localhost:8080/",
          "height": 76
        }
      },
      "source": [
        "cust1.load_hist"
      ],
      "execution_count": 332,
      "outputs": [
        {
          "output_type": "execute_result",
          "data": {
            "text/html": [
              "<div>\n",
              "<style scoped>\n",
              "    .dataframe tbody tr th:only-of-type {\n",
              "        vertical-align: middle;\n",
              "    }\n",
              "\n",
              "    .dataframe tbody tr th {\n",
              "        vertical-align: top;\n",
              "    }\n",
              "\n",
              "    .dataframe thead th {\n",
              "        text-align: right;\n",
              "    }\n",
              "</style>\n",
              "<table border=\"1\" class=\"dataframe\">\n",
              "  <thead>\n",
              "    <tr style=\"text-align: right;\">\n",
              "      <th></th>\n",
              "      <th>customer_id</th>\n",
              "      <th>load_id</th>\n",
              "      <th>load_amt</th>\n",
              "      <th>load_time</th>\n",
              "      <th>load_week_num</th>\n",
              "      <th>load_day_num</th>\n",
              "      <th>approved_status</th>\n",
              "      <th>ruleA</th>\n",
              "      <th>ruleB</th>\n",
              "      <th>rule1</th>\n",
              "      <th>rule2</th>\n",
              "      <th>rule3</th>\n",
              "    </tr>\n",
              "  </thead>\n",
              "  <tbody>\n",
              "    <tr>\n",
              "      <th>0</th>\n",
              "      <td>1</td>\n",
              "      <td>10694</td>\n",
              "      <td>7785.11</td>\n",
              "      <td>2000-01-01T03:04:06Z</td>\n",
              "      <td>2052</td>\n",
              "      <td>2001</td>\n",
              "      <td>False</td>\n",
              "      <td>True</td>\n",
              "      <td>True</td>\n",
              "      <td>False</td>\n",
              "      <td>True</td>\n",
              "      <td>True</td>\n",
              "    </tr>\n",
              "  </tbody>\n",
              "</table>\n",
              "</div>"
            ],
            "text/plain": [
              "   customer_id load_id  load_amt  ...  rule1  rule2  rule3\n",
              "0            1   10694   7785.11  ...  False   True   True\n",
              "\n",
              "[1 rows x 12 columns]"
            ]
          },
          "metadata": {
            "tags": []
          },
          "execution_count": 332
        }
      ]
    },
    {
      "cell_type": "code",
      "metadata": {
        "id": "oZLzLZjig_lH",
        "outputId": "6beb0bc7-63a3-443a-e085-64464d617f8b",
        "colab": {
          "base_uri": "https://localhost:8080/",
          "height": 67
        }
      },
      "source": [
        "cust1.valid_loads"
      ],
      "execution_count": 333,
      "outputs": [
        {
          "output_type": "execute_result",
          "data": {
            "text/html": [
              "<div>\n",
              "<style scoped>\n",
              "    .dataframe tbody tr th:only-of-type {\n",
              "        vertical-align: middle;\n",
              "    }\n",
              "\n",
              "    .dataframe tbody tr th {\n",
              "        vertical-align: top;\n",
              "    }\n",
              "\n",
              "    .dataframe thead th {\n",
              "        text-align: right;\n",
              "    }\n",
              "</style>\n",
              "<table border=\"1\" class=\"dataframe\">\n",
              "  <thead>\n",
              "    <tr style=\"text-align: right;\">\n",
              "      <th></th>\n",
              "      <th>customer_id</th>\n",
              "      <th>load_id</th>\n",
              "      <th>load_amt</th>\n",
              "      <th>load_time</th>\n",
              "      <th>load_week_num</th>\n",
              "      <th>load_day_num</th>\n",
              "      <th>approved_status</th>\n",
              "      <th>ruleA</th>\n",
              "      <th>ruleB</th>\n",
              "      <th>rule1</th>\n",
              "      <th>rule2</th>\n",
              "      <th>rule3</th>\n",
              "      <th>cum_weekly_deps</th>\n",
              "      <th>cum_daily_deps</th>\n",
              "      <th>num_daily_deps</th>\n",
              "      <th>weekly_deps_left</th>\n",
              "      <th>daily_deps_left</th>\n",
              "      <th>num_daily_deps_left</th>\n",
              "    </tr>\n",
              "  </thead>\n",
              "  <tbody>\n",
              "  </tbody>\n",
              "</table>\n",
              "</div>"
            ],
            "text/plain": [
              "Empty DataFrame\n",
              "Columns: [customer_id, load_id, load_amt, load_time, load_week_num, load_day_num, approved_status, ruleA, ruleB, rule1, rule2, rule3, cum_weekly_deps, cum_daily_deps, num_daily_deps, weekly_deps_left, daily_deps_left, num_daily_deps_left]\n",
              "Index: []"
            ]
          },
          "metadata": {
            "tags": []
          },
          "execution_count": 333
        }
      ]
    },
    {
      "cell_type": "code",
      "metadata": {
        "id": "yxbxfm2ehK0f",
        "outputId": "6d028344-137b-47fe-caa7-422c4f4d417a",
        "colab": {
          "base_uri": "https://localhost:8080/",
          "height": 35
        }
      },
      "source": [
        "cust1.rule_status"
      ],
      "execution_count": 334,
      "outputs": [
        {
          "output_type": "execute_result",
          "data": {
            "application/vnd.google.colaboratory.intrinsic+json": {
              "type": "string"
            },
            "text/plain": [
              "'True True False True True'"
            ]
          },
          "metadata": {
            "tags": []
          },
          "execution_count": 334
        }
      ]
    },
    {
      "cell_type": "markdown",
      "metadata": {
        "id": "mf11s0e7h2Mc"
      },
      "source": [
        "Test 32: "
      ]
    },
    {
      "cell_type": "code",
      "metadata": {
        "id": "vqmi_jm3iQO_",
        "outputId": "603675e3-63bb-4361-f541-8ef552365795",
        "colab": {
          "base_uri": "https://localhost:8080/",
          "height": 76
        }
      },
      "source": [
        "rules_df.iloc[[31]]"
      ],
      "execution_count": 335,
      "outputs": [
        {
          "output_type": "execute_result",
          "data": {
            "text/html": [
              "<div>\n",
              "<style scoped>\n",
              "    .dataframe tbody tr th:only-of-type {\n",
              "        vertical-align: middle;\n",
              "    }\n",
              "\n",
              "    .dataframe tbody tr th {\n",
              "        vertical-align: top;\n",
              "    }\n",
              "\n",
              "    .dataframe thead th {\n",
              "        text-align: right;\n",
              "    }\n",
              "</style>\n",
              "<table border=\"1\" class=\"dataframe\">\n",
              "  <thead>\n",
              "    <tr style=\"text-align: right;\">\n",
              "      <th></th>\n",
              "      <th>Rule Number</th>\n",
              "      <th>Load ID is unique</th>\n",
              "      <th>time stamp is unique</th>\n",
              "      <th>daily_deps_left &gt; load.amt</th>\n",
              "      <th>daily_loads_left &gt;= 0</th>\n",
              "      <th>weekly_deps_left &gt; load.amt</th>\n",
              "      <th>System Response</th>\n",
              "    </tr>\n",
              "  </thead>\n",
              "  <tbody>\n",
              "    <tr>\n",
              "      <th>31</th>\n",
              "      <td>32</td>\n",
              "      <td>1</td>\n",
              "      <td>1</td>\n",
              "      <td>1</td>\n",
              "      <td>1</td>\n",
              "      <td>1</td>\n",
              "      <td>Approve</td>\n",
              "    </tr>\n",
              "  </tbody>\n",
              "</table>\n",
              "</div>"
            ],
            "text/plain": [
              "    Rule Number  ...  System Response \n",
              "31           32  ...          Approve \n",
              "\n",
              "[1 rows x 7 columns]"
            ]
          },
          "metadata": {
            "tags": []
          },
          "execution_count": 335
        }
      ]
    },
    {
      "cell_type": "code",
      "metadata": {
        "id": "-MGCVNzOh5NA",
        "outputId": "68e89176-04af-43d1-e177-f923f50fc4a5",
        "colab": {
          "base_uri": "https://localhost:8080/"
        }
      },
      "source": [
        "cust1 = Customer(1)\n",
        "cust1.process_load(Load('10694', '$3785.11', '2000-01-01T03:04:06Z'))"
      ],
      "execution_count": 336,
      "outputs": [
        {
          "output_type": "stream",
          "text": [
            "All Rules Passed ... Load Added\n"
          ],
          "name": "stdout"
        }
      ]
    },
    {
      "cell_type": "code",
      "metadata": {
        "id": "RL8sZdDIh5SL",
        "outputId": "e395e39e-ac42-4b11-8fb5-92131a28ea36",
        "colab": {
          "base_uri": "https://localhost:8080/",
          "height": 76
        }
      },
      "source": [
        "cust1.load_hist"
      ],
      "execution_count": 337,
      "outputs": [
        {
          "output_type": "execute_result",
          "data": {
            "text/html": [
              "<div>\n",
              "<style scoped>\n",
              "    .dataframe tbody tr th:only-of-type {\n",
              "        vertical-align: middle;\n",
              "    }\n",
              "\n",
              "    .dataframe tbody tr th {\n",
              "        vertical-align: top;\n",
              "    }\n",
              "\n",
              "    .dataframe thead th {\n",
              "        text-align: right;\n",
              "    }\n",
              "</style>\n",
              "<table border=\"1\" class=\"dataframe\">\n",
              "  <thead>\n",
              "    <tr style=\"text-align: right;\">\n",
              "      <th></th>\n",
              "      <th>customer_id</th>\n",
              "      <th>load_id</th>\n",
              "      <th>load_amt</th>\n",
              "      <th>load_time</th>\n",
              "      <th>load_week_num</th>\n",
              "      <th>load_day_num</th>\n",
              "      <th>approved_status</th>\n",
              "      <th>ruleA</th>\n",
              "      <th>ruleB</th>\n",
              "      <th>rule1</th>\n",
              "      <th>rule2</th>\n",
              "      <th>rule3</th>\n",
              "    </tr>\n",
              "  </thead>\n",
              "  <tbody>\n",
              "    <tr>\n",
              "      <th>0</th>\n",
              "      <td>1</td>\n",
              "      <td>10694</td>\n",
              "      <td>3785.11</td>\n",
              "      <td>2000-01-01T03:04:06Z</td>\n",
              "      <td>2052</td>\n",
              "      <td>2001</td>\n",
              "      <td>True</td>\n",
              "      <td>True</td>\n",
              "      <td>True</td>\n",
              "      <td>True</td>\n",
              "      <td>True</td>\n",
              "      <td>True</td>\n",
              "    </tr>\n",
              "  </tbody>\n",
              "</table>\n",
              "</div>"
            ],
            "text/plain": [
              "   customer_id load_id  load_amt  ... rule1  rule2  rule3\n",
              "0            1   10694   3785.11  ...  True   True   True\n",
              "\n",
              "[1 rows x 12 columns]"
            ]
          },
          "metadata": {
            "tags": []
          },
          "execution_count": 337
        }
      ]
    },
    {
      "cell_type": "code",
      "metadata": {
        "id": "c_GNxl3Zh5Pj",
        "outputId": "a0083766-0ff9-4ac8-da06-ccb21757056f",
        "colab": {
          "base_uri": "https://localhost:8080/",
          "height": 112
        }
      },
      "source": [
        "cust1.valid_loads"
      ],
      "execution_count": 338,
      "outputs": [
        {
          "output_type": "execute_result",
          "data": {
            "text/html": [
              "<div>\n",
              "<style scoped>\n",
              "    .dataframe tbody tr th:only-of-type {\n",
              "        vertical-align: middle;\n",
              "    }\n",
              "\n",
              "    .dataframe tbody tr th {\n",
              "        vertical-align: top;\n",
              "    }\n",
              "\n",
              "    .dataframe thead th {\n",
              "        text-align: right;\n",
              "    }\n",
              "</style>\n",
              "<table border=\"1\" class=\"dataframe\">\n",
              "  <thead>\n",
              "    <tr style=\"text-align: right;\">\n",
              "      <th></th>\n",
              "      <th>customer_id</th>\n",
              "      <th>load_id</th>\n",
              "      <th>load_amt</th>\n",
              "      <th>load_time</th>\n",
              "      <th>load_week_num</th>\n",
              "      <th>load_day_num</th>\n",
              "      <th>approved_status</th>\n",
              "      <th>ruleA</th>\n",
              "      <th>ruleB</th>\n",
              "      <th>rule1</th>\n",
              "      <th>rule2</th>\n",
              "      <th>rule3</th>\n",
              "      <th>cum_weekly_deps</th>\n",
              "      <th>cum_daily_deps</th>\n",
              "      <th>num_daily_deps</th>\n",
              "      <th>weekly_deps_left</th>\n",
              "      <th>daily_deps_left</th>\n",
              "      <th>num_daily_deps_left</th>\n",
              "    </tr>\n",
              "  </thead>\n",
              "  <tbody>\n",
              "    <tr>\n",
              "      <th>0</th>\n",
              "      <td>1</td>\n",
              "      <td>10694</td>\n",
              "      <td>3785.11</td>\n",
              "      <td>2000-01-01T03:04:06Z</td>\n",
              "      <td>2052</td>\n",
              "      <td>2001</td>\n",
              "      <td>True</td>\n",
              "      <td>True</td>\n",
              "      <td>True</td>\n",
              "      <td>True</td>\n",
              "      <td>True</td>\n",
              "      <td>True</td>\n",
              "      <td>3785.11</td>\n",
              "      <td>3785.11</td>\n",
              "      <td>1</td>\n",
              "      <td>16214.89</td>\n",
              "      <td>1214.89</td>\n",
              "      <td>2</td>\n",
              "    </tr>\n",
              "  </tbody>\n",
              "</table>\n",
              "</div>"
            ],
            "text/plain": [
              "   customer_id load_id  ...  daily_deps_left num_daily_deps_left\n",
              "0            1   10694  ...          1214.89                   2\n",
              "\n",
              "[1 rows x 18 columns]"
            ]
          },
          "metadata": {
            "tags": []
          },
          "execution_count": 338
        }
      ]
    },
    {
      "cell_type": "markdown",
      "metadata": {
        "id": "vuh5Mk3diWKT"
      },
      "source": [
        "### Tests 1 - 15: Load ID is not unique"
      ]
    },
    {
      "cell_type": "code",
      "metadata": {
        "id": "L4mMhoX-jg2U",
        "outputId": "b4a27c4d-e808-4099-d8f8-18d3e952c3de",
        "colab": {
          "base_uri": "https://localhost:8080/",
          "height": 478
        }
      },
      "source": [
        "rules_df.iloc[0:15]"
      ],
      "execution_count": 339,
      "outputs": [
        {
          "output_type": "execute_result",
          "data": {
            "text/html": [
              "<div>\n",
              "<style scoped>\n",
              "    .dataframe tbody tr th:only-of-type {\n",
              "        vertical-align: middle;\n",
              "    }\n",
              "\n",
              "    .dataframe tbody tr th {\n",
              "        vertical-align: top;\n",
              "    }\n",
              "\n",
              "    .dataframe thead th {\n",
              "        text-align: right;\n",
              "    }\n",
              "</style>\n",
              "<table border=\"1\" class=\"dataframe\">\n",
              "  <thead>\n",
              "    <tr style=\"text-align: right;\">\n",
              "      <th></th>\n",
              "      <th>Rule Number</th>\n",
              "      <th>Load ID is unique</th>\n",
              "      <th>time stamp is unique</th>\n",
              "      <th>daily_deps_left &gt; load.amt</th>\n",
              "      <th>daily_loads_left &gt;= 0</th>\n",
              "      <th>weekly_deps_left &gt; load.amt</th>\n",
              "      <th>System Response</th>\n",
              "    </tr>\n",
              "  </thead>\n",
              "  <tbody>\n",
              "    <tr>\n",
              "      <th>0</th>\n",
              "      <td>1</td>\n",
              "      <td>0</td>\n",
              "      <td>d</td>\n",
              "      <td>d</td>\n",
              "      <td>d</td>\n",
              "      <td>d</td>\n",
              "      <td>Decline - load ID not unique 1</td>\n",
              "    </tr>\n",
              "    <tr>\n",
              "      <th>1</th>\n",
              "      <td>2</td>\n",
              "      <td>0</td>\n",
              "      <td>d</td>\n",
              "      <td>d</td>\n",
              "      <td>d</td>\n",
              "      <td>d</td>\n",
              "      <td>Decline - load ID not unique 2</td>\n",
              "    </tr>\n",
              "    <tr>\n",
              "      <th>2</th>\n",
              "      <td>3</td>\n",
              "      <td>0</td>\n",
              "      <td>d</td>\n",
              "      <td>d</td>\n",
              "      <td>d</td>\n",
              "      <td>d</td>\n",
              "      <td>Decline - load ID not unique 3</td>\n",
              "    </tr>\n",
              "    <tr>\n",
              "      <th>3</th>\n",
              "      <td>4</td>\n",
              "      <td>0</td>\n",
              "      <td>d</td>\n",
              "      <td>d</td>\n",
              "      <td>d</td>\n",
              "      <td>d</td>\n",
              "      <td>Decline - load ID not unique 4</td>\n",
              "    </tr>\n",
              "    <tr>\n",
              "      <th>4</th>\n",
              "      <td>5</td>\n",
              "      <td>0</td>\n",
              "      <td>d</td>\n",
              "      <td>d</td>\n",
              "      <td>d</td>\n",
              "      <td>d</td>\n",
              "      <td>Decline - load ID not unique 5</td>\n",
              "    </tr>\n",
              "    <tr>\n",
              "      <th>5</th>\n",
              "      <td>6</td>\n",
              "      <td>0</td>\n",
              "      <td>d</td>\n",
              "      <td>d</td>\n",
              "      <td>d</td>\n",
              "      <td>d</td>\n",
              "      <td>Decline - load ID not unique 6</td>\n",
              "    </tr>\n",
              "    <tr>\n",
              "      <th>6</th>\n",
              "      <td>7</td>\n",
              "      <td>0</td>\n",
              "      <td>d</td>\n",
              "      <td>d</td>\n",
              "      <td>d</td>\n",
              "      <td>d</td>\n",
              "      <td>Decline - load ID not unique 7</td>\n",
              "    </tr>\n",
              "    <tr>\n",
              "      <th>7</th>\n",
              "      <td>8</td>\n",
              "      <td>0</td>\n",
              "      <td>d</td>\n",
              "      <td>d</td>\n",
              "      <td>d</td>\n",
              "      <td>d</td>\n",
              "      <td>Decline - load ID not unique 8</td>\n",
              "    </tr>\n",
              "    <tr>\n",
              "      <th>8</th>\n",
              "      <td>9</td>\n",
              "      <td>0</td>\n",
              "      <td>d</td>\n",
              "      <td>d</td>\n",
              "      <td>d</td>\n",
              "      <td>d</td>\n",
              "      <td>Decline - load ID not unique 9</td>\n",
              "    </tr>\n",
              "    <tr>\n",
              "      <th>9</th>\n",
              "      <td>10</td>\n",
              "      <td>0</td>\n",
              "      <td>d</td>\n",
              "      <td>d</td>\n",
              "      <td>d</td>\n",
              "      <td>d</td>\n",
              "      <td>Decline - load ID not unique 10</td>\n",
              "    </tr>\n",
              "    <tr>\n",
              "      <th>10</th>\n",
              "      <td>11</td>\n",
              "      <td>0</td>\n",
              "      <td>d</td>\n",
              "      <td>d</td>\n",
              "      <td>d</td>\n",
              "      <td>d</td>\n",
              "      <td>Decline - load ID not unique 11</td>\n",
              "    </tr>\n",
              "    <tr>\n",
              "      <th>11</th>\n",
              "      <td>12</td>\n",
              "      <td>0</td>\n",
              "      <td>d</td>\n",
              "      <td>d</td>\n",
              "      <td>d</td>\n",
              "      <td>d</td>\n",
              "      <td>Decline - load ID not unique 12</td>\n",
              "    </tr>\n",
              "    <tr>\n",
              "      <th>12</th>\n",
              "      <td>13</td>\n",
              "      <td>0</td>\n",
              "      <td>d</td>\n",
              "      <td>d</td>\n",
              "      <td>d</td>\n",
              "      <td>d</td>\n",
              "      <td>Decline - load ID not unique 13</td>\n",
              "    </tr>\n",
              "    <tr>\n",
              "      <th>13</th>\n",
              "      <td>14</td>\n",
              "      <td>0</td>\n",
              "      <td>d</td>\n",
              "      <td>d</td>\n",
              "      <td>d</td>\n",
              "      <td>d</td>\n",
              "      <td>Decline - load ID not unique 14</td>\n",
              "    </tr>\n",
              "    <tr>\n",
              "      <th>14</th>\n",
              "      <td>15</td>\n",
              "      <td>0</td>\n",
              "      <td>d</td>\n",
              "      <td>d</td>\n",
              "      <td>d</td>\n",
              "      <td>d</td>\n",
              "      <td>Decline - load ID not unique 15</td>\n",
              "    </tr>\n",
              "  </tbody>\n",
              "</table>\n",
              "</div>"
            ],
            "text/plain": [
              "    Rule Number  ...                 System Response \n",
              "0             1  ...   Decline - load ID not unique 1\n",
              "1             2  ...   Decline - load ID not unique 2\n",
              "2             3  ...   Decline - load ID not unique 3\n",
              "3             4  ...   Decline - load ID not unique 4\n",
              "4             5  ...   Decline - load ID not unique 5\n",
              "5             6  ...   Decline - load ID not unique 6\n",
              "6             7  ...   Decline - load ID not unique 7\n",
              "7             8  ...   Decline - load ID not unique 8\n",
              "8             9  ...   Decline - load ID not unique 9\n",
              "9            10  ...  Decline - load ID not unique 10\n",
              "10           11  ...  Decline - load ID not unique 11\n",
              "11           12  ...  Decline - load ID not unique 12\n",
              "12           13  ...  Decline - load ID not unique 13\n",
              "13           14  ...  Decline - load ID not unique 14\n",
              "14           15  ...  Decline - load ID not unique 15\n",
              "\n",
              "[15 rows x 7 columns]"
            ]
          },
          "metadata": {
            "tags": []
          },
          "execution_count": 339
        }
      ]
    },
    {
      "cell_type": "code",
      "metadata": {
        "id": "N-frKB4ah5Ky",
        "outputId": "737dc554-ec17-4071-94cd-50943c3d9e66",
        "colab": {
          "base_uri": "https://localhost:8080/"
        }
      },
      "source": [
        "cust1 = Customer(1)\n",
        "cust1.process_load(Load('10694', '$385.11', '2000-01-01T03:04:06Z'))"
      ],
      "execution_count": 340,
      "outputs": [
        {
          "output_type": "stream",
          "text": [
            "All Rules Passed ... Load Added\n"
          ],
          "name": "stdout"
        }
      ]
    },
    {
      "cell_type": "code",
      "metadata": {
        "id": "9ceBF2wDiehI",
        "outputId": "b9fe70df-0b6c-4581-9e0a-6799707b95b2",
        "colab": {
          "base_uri": "https://localhost:8080/",
          "height": 76
        }
      },
      "source": [
        "cust1.load_hist"
      ],
      "execution_count": 341,
      "outputs": [
        {
          "output_type": "execute_result",
          "data": {
            "text/html": [
              "<div>\n",
              "<style scoped>\n",
              "    .dataframe tbody tr th:only-of-type {\n",
              "        vertical-align: middle;\n",
              "    }\n",
              "\n",
              "    .dataframe tbody tr th {\n",
              "        vertical-align: top;\n",
              "    }\n",
              "\n",
              "    .dataframe thead th {\n",
              "        text-align: right;\n",
              "    }\n",
              "</style>\n",
              "<table border=\"1\" class=\"dataframe\">\n",
              "  <thead>\n",
              "    <tr style=\"text-align: right;\">\n",
              "      <th></th>\n",
              "      <th>customer_id</th>\n",
              "      <th>load_id</th>\n",
              "      <th>load_amt</th>\n",
              "      <th>load_time</th>\n",
              "      <th>load_week_num</th>\n",
              "      <th>load_day_num</th>\n",
              "      <th>approved_status</th>\n",
              "      <th>ruleA</th>\n",
              "      <th>ruleB</th>\n",
              "      <th>rule1</th>\n",
              "      <th>rule2</th>\n",
              "      <th>rule3</th>\n",
              "    </tr>\n",
              "  </thead>\n",
              "  <tbody>\n",
              "    <tr>\n",
              "      <th>0</th>\n",
              "      <td>1</td>\n",
              "      <td>10694</td>\n",
              "      <td>385.11</td>\n",
              "      <td>2000-01-01T03:04:06Z</td>\n",
              "      <td>2052</td>\n",
              "      <td>2001</td>\n",
              "      <td>True</td>\n",
              "      <td>True</td>\n",
              "      <td>True</td>\n",
              "      <td>True</td>\n",
              "      <td>True</td>\n",
              "      <td>True</td>\n",
              "    </tr>\n",
              "  </tbody>\n",
              "</table>\n",
              "</div>"
            ],
            "text/plain": [
              "   customer_id load_id  load_amt  ... rule1  rule2  rule3\n",
              "0            1   10694    385.11  ...  True   True   True\n",
              "\n",
              "[1 rows x 12 columns]"
            ]
          },
          "metadata": {
            "tags": []
          },
          "execution_count": 341
        }
      ]
    },
    {
      "cell_type": "code",
      "metadata": {
        "id": "jsfbWZU-ifBV",
        "outputId": "4d96367e-518f-4b13-fd27-26b05d59aa41",
        "colab": {
          "base_uri": "https://localhost:8080/",
          "height": 112
        }
      },
      "source": [
        "cust1.valid_loads"
      ],
      "execution_count": 342,
      "outputs": [
        {
          "output_type": "execute_result",
          "data": {
            "text/html": [
              "<div>\n",
              "<style scoped>\n",
              "    .dataframe tbody tr th:only-of-type {\n",
              "        vertical-align: middle;\n",
              "    }\n",
              "\n",
              "    .dataframe tbody tr th {\n",
              "        vertical-align: top;\n",
              "    }\n",
              "\n",
              "    .dataframe thead th {\n",
              "        text-align: right;\n",
              "    }\n",
              "</style>\n",
              "<table border=\"1\" class=\"dataframe\">\n",
              "  <thead>\n",
              "    <tr style=\"text-align: right;\">\n",
              "      <th></th>\n",
              "      <th>customer_id</th>\n",
              "      <th>load_id</th>\n",
              "      <th>load_amt</th>\n",
              "      <th>load_time</th>\n",
              "      <th>load_week_num</th>\n",
              "      <th>load_day_num</th>\n",
              "      <th>approved_status</th>\n",
              "      <th>ruleA</th>\n",
              "      <th>ruleB</th>\n",
              "      <th>rule1</th>\n",
              "      <th>rule2</th>\n",
              "      <th>rule3</th>\n",
              "      <th>cum_weekly_deps</th>\n",
              "      <th>cum_daily_deps</th>\n",
              "      <th>num_daily_deps</th>\n",
              "      <th>weekly_deps_left</th>\n",
              "      <th>daily_deps_left</th>\n",
              "      <th>num_daily_deps_left</th>\n",
              "    </tr>\n",
              "  </thead>\n",
              "  <tbody>\n",
              "    <tr>\n",
              "      <th>0</th>\n",
              "      <td>1</td>\n",
              "      <td>10694</td>\n",
              "      <td>385.11</td>\n",
              "      <td>2000-01-01T03:04:06Z</td>\n",
              "      <td>2052</td>\n",
              "      <td>2001</td>\n",
              "      <td>True</td>\n",
              "      <td>True</td>\n",
              "      <td>True</td>\n",
              "      <td>True</td>\n",
              "      <td>True</td>\n",
              "      <td>True</td>\n",
              "      <td>385.11</td>\n",
              "      <td>385.11</td>\n",
              "      <td>1</td>\n",
              "      <td>19614.89</td>\n",
              "      <td>4614.89</td>\n",
              "      <td>2</td>\n",
              "    </tr>\n",
              "  </tbody>\n",
              "</table>\n",
              "</div>"
            ],
            "text/plain": [
              "   customer_id load_id  ...  daily_deps_left num_daily_deps_left\n",
              "0            1   10694  ...          4614.89                   2\n",
              "\n",
              "[1 rows x 18 columns]"
            ]
          },
          "metadata": {
            "tags": []
          },
          "execution_count": 342
        }
      ]
    },
    {
      "cell_type": "code",
      "metadata": {
        "id": "mZedLkpfi8Lx",
        "outputId": "aedc69bf-957c-4b5d-f8dc-8d9abbc20dc3",
        "colab": {
          "base_uri": "https://localhost:8080/"
        }
      },
      "source": [
        "cust1.process_load(Load('10694', '$385.11', '2000-01-01T03:05:06Z'))"
      ],
      "execution_count": 343,
      "outputs": [
        {
          "output_type": "stream",
          "text": [
            "ERROR: Load ID already exists\n",
            "Load Rejected\n"
          ],
          "name": "stdout"
        }
      ]
    },
    {
      "cell_type": "markdown",
      "metadata": {
        "id": "u7RJ5Np1j4FN"
      },
      "source": [
        "### Time stamp is not unique"
      ]
    },
    {
      "cell_type": "code",
      "metadata": {
        "id": "AMvdvbdjkKW5",
        "outputId": "589547bb-1da8-4a79-856a-be84123336d5",
        "colab": {
          "base_uri": "https://localhost:8080/",
          "height": 248
        }
      },
      "source": [
        "rules_df.iloc[16:23]"
      ],
      "execution_count": 344,
      "outputs": [
        {
          "output_type": "execute_result",
          "data": {
            "text/html": [
              "<div>\n",
              "<style scoped>\n",
              "    .dataframe tbody tr th:only-of-type {\n",
              "        vertical-align: middle;\n",
              "    }\n",
              "\n",
              "    .dataframe tbody tr th {\n",
              "        vertical-align: top;\n",
              "    }\n",
              "\n",
              "    .dataframe thead th {\n",
              "        text-align: right;\n",
              "    }\n",
              "</style>\n",
              "<table border=\"1\" class=\"dataframe\">\n",
              "  <thead>\n",
              "    <tr style=\"text-align: right;\">\n",
              "      <th></th>\n",
              "      <th>Rule Number</th>\n",
              "      <th>Load ID is unique</th>\n",
              "      <th>time stamp is unique</th>\n",
              "      <th>daily_deps_left &gt; load.amt</th>\n",
              "      <th>daily_loads_left &gt;= 0</th>\n",
              "      <th>weekly_deps_left &gt; load.amt</th>\n",
              "      <th>System Response</th>\n",
              "    </tr>\n",
              "  </thead>\n",
              "  <tbody>\n",
              "    <tr>\n",
              "      <th>16</th>\n",
              "      <td>17</td>\n",
              "      <td>1</td>\n",
              "      <td>0</td>\n",
              "      <td>0</td>\n",
              "      <td>0</td>\n",
              "      <td>0</td>\n",
              "      <td>Decline - time stamp not unique 1</td>\n",
              "    </tr>\n",
              "    <tr>\n",
              "      <th>17</th>\n",
              "      <td>18</td>\n",
              "      <td>1</td>\n",
              "      <td>0</td>\n",
              "      <td>0</td>\n",
              "      <td>0</td>\n",
              "      <td>1</td>\n",
              "      <td>Decline - time stamp not unique 2</td>\n",
              "    </tr>\n",
              "    <tr>\n",
              "      <th>18</th>\n",
              "      <td>19</td>\n",
              "      <td>1</td>\n",
              "      <td>0</td>\n",
              "      <td>0</td>\n",
              "      <td>1</td>\n",
              "      <td>0</td>\n",
              "      <td>Decline - time stamp not unique 3</td>\n",
              "    </tr>\n",
              "    <tr>\n",
              "      <th>19</th>\n",
              "      <td>20</td>\n",
              "      <td>1</td>\n",
              "      <td>0</td>\n",
              "      <td>0</td>\n",
              "      <td>1</td>\n",
              "      <td>1</td>\n",
              "      <td>Decline - time stamp not unique 4</td>\n",
              "    </tr>\n",
              "    <tr>\n",
              "      <th>20</th>\n",
              "      <td>21</td>\n",
              "      <td>1</td>\n",
              "      <td>0</td>\n",
              "      <td>1</td>\n",
              "      <td>0</td>\n",
              "      <td>0</td>\n",
              "      <td>Decline - time stamp not unique 5</td>\n",
              "    </tr>\n",
              "    <tr>\n",
              "      <th>21</th>\n",
              "      <td>22</td>\n",
              "      <td>1</td>\n",
              "      <td>0</td>\n",
              "      <td>1</td>\n",
              "      <td>0</td>\n",
              "      <td>1</td>\n",
              "      <td>Decline - time stamp not unique 6</td>\n",
              "    </tr>\n",
              "    <tr>\n",
              "      <th>22</th>\n",
              "      <td>23</td>\n",
              "      <td>1</td>\n",
              "      <td>0</td>\n",
              "      <td>1</td>\n",
              "      <td>1</td>\n",
              "      <td>0</td>\n",
              "      <td>Decline - time stamp not unique 7</td>\n",
              "    </tr>\n",
              "  </tbody>\n",
              "</table>\n",
              "</div>"
            ],
            "text/plain": [
              "    Rule Number  ...                   System Response \n",
              "16           17  ...  Decline - time stamp not unique 1\n",
              "17           18  ...  Decline - time stamp not unique 2\n",
              "18           19  ...  Decline - time stamp not unique 3\n",
              "19           20  ...  Decline - time stamp not unique 4\n",
              "20           21  ...  Decline - time stamp not unique 5\n",
              "21           22  ...  Decline - time stamp not unique 6\n",
              "22           23  ...  Decline - time stamp not unique 7\n",
              "\n",
              "[7 rows x 7 columns]"
            ]
          },
          "metadata": {
            "tags": []
          },
          "execution_count": 344
        }
      ]
    },
    {
      "cell_type": "code",
      "metadata": {
        "id": "WdrVapNej6VV",
        "outputId": "e2a7258e-5bc7-4e7f-b30f-9d9dbab732dc",
        "colab": {
          "base_uri": "https://localhost:8080/"
        }
      },
      "source": [
        "cust1 = Customer(1)\n",
        "cust1.process_load(Load('10694', '$385.11', '2000-01-01T03:04:06Z'))"
      ],
      "execution_count": 345,
      "outputs": [
        {
          "output_type": "stream",
          "text": [
            "All Rules Passed ... Load Added\n"
          ],
          "name": "stdout"
        }
      ]
    },
    {
      "cell_type": "code",
      "metadata": {
        "id": "mX4so3bLj_lK",
        "outputId": "f4ace3f1-1529-4ee0-cf57-ccd3f9347c11",
        "colab": {
          "base_uri": "https://localhost:8080/",
          "height": 76
        }
      },
      "source": [
        "cust1.load_hist"
      ],
      "execution_count": 346,
      "outputs": [
        {
          "output_type": "execute_result",
          "data": {
            "text/html": [
              "<div>\n",
              "<style scoped>\n",
              "    .dataframe tbody tr th:only-of-type {\n",
              "        vertical-align: middle;\n",
              "    }\n",
              "\n",
              "    .dataframe tbody tr th {\n",
              "        vertical-align: top;\n",
              "    }\n",
              "\n",
              "    .dataframe thead th {\n",
              "        text-align: right;\n",
              "    }\n",
              "</style>\n",
              "<table border=\"1\" class=\"dataframe\">\n",
              "  <thead>\n",
              "    <tr style=\"text-align: right;\">\n",
              "      <th></th>\n",
              "      <th>customer_id</th>\n",
              "      <th>load_id</th>\n",
              "      <th>load_amt</th>\n",
              "      <th>load_time</th>\n",
              "      <th>load_week_num</th>\n",
              "      <th>load_day_num</th>\n",
              "      <th>approved_status</th>\n",
              "      <th>ruleA</th>\n",
              "      <th>ruleB</th>\n",
              "      <th>rule1</th>\n",
              "      <th>rule2</th>\n",
              "      <th>rule3</th>\n",
              "    </tr>\n",
              "  </thead>\n",
              "  <tbody>\n",
              "    <tr>\n",
              "      <th>0</th>\n",
              "      <td>1</td>\n",
              "      <td>10694</td>\n",
              "      <td>385.11</td>\n",
              "      <td>2000-01-01T03:04:06Z</td>\n",
              "      <td>2052</td>\n",
              "      <td>2001</td>\n",
              "      <td>True</td>\n",
              "      <td>True</td>\n",
              "      <td>True</td>\n",
              "      <td>True</td>\n",
              "      <td>True</td>\n",
              "      <td>True</td>\n",
              "    </tr>\n",
              "  </tbody>\n",
              "</table>\n",
              "</div>"
            ],
            "text/plain": [
              "   customer_id load_id  load_amt  ... rule1  rule2  rule3\n",
              "0            1   10694    385.11  ...  True   True   True\n",
              "\n",
              "[1 rows x 12 columns]"
            ]
          },
          "metadata": {
            "tags": []
          },
          "execution_count": 346
        }
      ]
    },
    {
      "cell_type": "code",
      "metadata": {
        "id": "j9C_-L5ckAyF",
        "outputId": "39b777ae-9a46-4f27-e78c-ae4334bfa93d",
        "colab": {
          "base_uri": "https://localhost:8080/",
          "height": 112
        }
      },
      "source": [
        "cust1.valid_loads"
      ],
      "execution_count": 347,
      "outputs": [
        {
          "output_type": "execute_result",
          "data": {
            "text/html": [
              "<div>\n",
              "<style scoped>\n",
              "    .dataframe tbody tr th:only-of-type {\n",
              "        vertical-align: middle;\n",
              "    }\n",
              "\n",
              "    .dataframe tbody tr th {\n",
              "        vertical-align: top;\n",
              "    }\n",
              "\n",
              "    .dataframe thead th {\n",
              "        text-align: right;\n",
              "    }\n",
              "</style>\n",
              "<table border=\"1\" class=\"dataframe\">\n",
              "  <thead>\n",
              "    <tr style=\"text-align: right;\">\n",
              "      <th></th>\n",
              "      <th>customer_id</th>\n",
              "      <th>load_id</th>\n",
              "      <th>load_amt</th>\n",
              "      <th>load_time</th>\n",
              "      <th>load_week_num</th>\n",
              "      <th>load_day_num</th>\n",
              "      <th>approved_status</th>\n",
              "      <th>ruleA</th>\n",
              "      <th>ruleB</th>\n",
              "      <th>rule1</th>\n",
              "      <th>rule2</th>\n",
              "      <th>rule3</th>\n",
              "      <th>cum_weekly_deps</th>\n",
              "      <th>cum_daily_deps</th>\n",
              "      <th>num_daily_deps</th>\n",
              "      <th>weekly_deps_left</th>\n",
              "      <th>daily_deps_left</th>\n",
              "      <th>num_daily_deps_left</th>\n",
              "    </tr>\n",
              "  </thead>\n",
              "  <tbody>\n",
              "    <tr>\n",
              "      <th>0</th>\n",
              "      <td>1</td>\n",
              "      <td>10694</td>\n",
              "      <td>385.11</td>\n",
              "      <td>2000-01-01T03:04:06Z</td>\n",
              "      <td>2052</td>\n",
              "      <td>2001</td>\n",
              "      <td>True</td>\n",
              "      <td>True</td>\n",
              "      <td>True</td>\n",
              "      <td>True</td>\n",
              "      <td>True</td>\n",
              "      <td>True</td>\n",
              "      <td>385.11</td>\n",
              "      <td>385.11</td>\n",
              "      <td>1</td>\n",
              "      <td>19614.89</td>\n",
              "      <td>4614.89</td>\n",
              "      <td>2</td>\n",
              "    </tr>\n",
              "  </tbody>\n",
              "</table>\n",
              "</div>"
            ],
            "text/plain": [
              "   customer_id load_id  ...  daily_deps_left num_daily_deps_left\n",
              "0            1   10694  ...          4614.89                   2\n",
              "\n",
              "[1 rows x 18 columns]"
            ]
          },
          "metadata": {
            "tags": []
          },
          "execution_count": 347
        }
      ]
    },
    {
      "cell_type": "code",
      "metadata": {
        "id": "N44T6t9KkCxY",
        "outputId": "1530ae8b-79f9-465e-bbf0-e1dd9c6cd80a",
        "colab": {
          "base_uri": "https://localhost:8080/"
        }
      },
      "source": [
        "cust1.process_load(Load('10695', '$3.11', '2000-01-01T03:04:06Z'))"
      ],
      "execution_count": 348,
      "outputs": [
        {
          "output_type": "stream",
          "text": [
            "ERROR: Time stamp already exists for same customer\n",
            "Load Rejected\n"
          ],
          "name": "stdout"
        }
      ]
    },
    {
      "cell_type": "markdown",
      "metadata": {
        "id": "PJktPbDAkTry"
      },
      "source": [
        "### Daily Deposit Amount Is Exceeded"
      ]
    },
    {
      "cell_type": "code",
      "metadata": {
        "id": "ys8O7dhOkm_p",
        "outputId": "c04e091c-4705-4e41-bcf1-38fac2fcb1f2",
        "colab": {
          "base_uri": "https://localhost:8080/",
          "height": 162
        }
      },
      "source": [
        "rules_df.iloc[24:28]"
      ],
      "execution_count": 349,
      "outputs": [
        {
          "output_type": "execute_result",
          "data": {
            "text/html": [
              "<div>\n",
              "<style scoped>\n",
              "    .dataframe tbody tr th:only-of-type {\n",
              "        vertical-align: middle;\n",
              "    }\n",
              "\n",
              "    .dataframe tbody tr th {\n",
              "        vertical-align: top;\n",
              "    }\n",
              "\n",
              "    .dataframe thead th {\n",
              "        text-align: right;\n",
              "    }\n",
              "</style>\n",
              "<table border=\"1\" class=\"dataframe\">\n",
              "  <thead>\n",
              "    <tr style=\"text-align: right;\">\n",
              "      <th></th>\n",
              "      <th>Rule Number</th>\n",
              "      <th>Load ID is unique</th>\n",
              "      <th>time stamp is unique</th>\n",
              "      <th>daily_deps_left &gt; load.amt</th>\n",
              "      <th>daily_loads_left &gt;= 0</th>\n",
              "      <th>weekly_deps_left &gt; load.amt</th>\n",
              "      <th>System Response</th>\n",
              "    </tr>\n",
              "  </thead>\n",
              "  <tbody>\n",
              "    <tr>\n",
              "      <th>24</th>\n",
              "      <td>25</td>\n",
              "      <td>1</td>\n",
              "      <td>1</td>\n",
              "      <td>0</td>\n",
              "      <td>d</td>\n",
              "      <td>d</td>\n",
              "      <td>Decline - Daily Deps left limit exceeded 1</td>\n",
              "    </tr>\n",
              "    <tr>\n",
              "      <th>25</th>\n",
              "      <td>26</td>\n",
              "      <td>1</td>\n",
              "      <td>1</td>\n",
              "      <td>0</td>\n",
              "      <td>d</td>\n",
              "      <td>d</td>\n",
              "      <td>Decline - Daily Deps left limit exceeded 2</td>\n",
              "    </tr>\n",
              "    <tr>\n",
              "      <th>26</th>\n",
              "      <td>27</td>\n",
              "      <td>1</td>\n",
              "      <td>1</td>\n",
              "      <td>0</td>\n",
              "      <td>d</td>\n",
              "      <td>d</td>\n",
              "      <td>Decline - Daily Deps left limit exceeded 3</td>\n",
              "    </tr>\n",
              "    <tr>\n",
              "      <th>27</th>\n",
              "      <td>28</td>\n",
              "      <td>1</td>\n",
              "      <td>1</td>\n",
              "      <td>0</td>\n",
              "      <td>d</td>\n",
              "      <td>d</td>\n",
              "      <td>Decline - Daily Deps left limit exceeded 4</td>\n",
              "    </tr>\n",
              "  </tbody>\n",
              "</table>\n",
              "</div>"
            ],
            "text/plain": [
              "    Rule Number  ...                             System Response \n",
              "24           25  ...  Decline - Daily Deps left limit exceeded 1 \n",
              "25           26  ...   Decline - Daily Deps left limit exceeded 2\n",
              "26           27  ...   Decline - Daily Deps left limit exceeded 3\n",
              "27           28  ...   Decline - Daily Deps left limit exceeded 4\n",
              "\n",
              "[4 rows x 7 columns]"
            ]
          },
          "metadata": {
            "tags": []
          },
          "execution_count": 349
        }
      ]
    },
    {
      "cell_type": "code",
      "metadata": {
        "id": "V7uFh-YzkWr-",
        "outputId": "40d7b66d-4a96-4ed2-8017-4234d81fb741",
        "colab": {
          "base_uri": "https://localhost:8080/"
        }
      },
      "source": [
        "cust1 = Customer(1)\n",
        "cust1.process_load(Load('10694', '$6000.11', '2000-01-01T03:04:06Z'))"
      ],
      "execution_count": 350,
      "outputs": [
        {
          "output_type": "stream",
          "text": [
            "ERROR: No room for daily deposits left\n",
            "Load Rejected\n"
          ],
          "name": "stdout"
        }
      ]
    },
    {
      "cell_type": "code",
      "metadata": {
        "id": "AgUE2PGNkgD4",
        "outputId": "e2394a07-5d9c-428c-e032-c11377be6cc1",
        "colab": {
          "base_uri": "https://localhost:8080/",
          "height": 76
        }
      },
      "source": [
        "cust1.load_hist"
      ],
      "execution_count": 351,
      "outputs": [
        {
          "output_type": "execute_result",
          "data": {
            "text/html": [
              "<div>\n",
              "<style scoped>\n",
              "    .dataframe tbody tr th:only-of-type {\n",
              "        vertical-align: middle;\n",
              "    }\n",
              "\n",
              "    .dataframe tbody tr th {\n",
              "        vertical-align: top;\n",
              "    }\n",
              "\n",
              "    .dataframe thead th {\n",
              "        text-align: right;\n",
              "    }\n",
              "</style>\n",
              "<table border=\"1\" class=\"dataframe\">\n",
              "  <thead>\n",
              "    <tr style=\"text-align: right;\">\n",
              "      <th></th>\n",
              "      <th>customer_id</th>\n",
              "      <th>load_id</th>\n",
              "      <th>load_amt</th>\n",
              "      <th>load_time</th>\n",
              "      <th>load_week_num</th>\n",
              "      <th>load_day_num</th>\n",
              "      <th>approved_status</th>\n",
              "      <th>ruleA</th>\n",
              "      <th>ruleB</th>\n",
              "      <th>rule1</th>\n",
              "      <th>rule2</th>\n",
              "      <th>rule3</th>\n",
              "    </tr>\n",
              "  </thead>\n",
              "  <tbody>\n",
              "    <tr>\n",
              "      <th>0</th>\n",
              "      <td>1</td>\n",
              "      <td>10694</td>\n",
              "      <td>6000.11</td>\n",
              "      <td>2000-01-01T03:04:06Z</td>\n",
              "      <td>2052</td>\n",
              "      <td>2001</td>\n",
              "      <td>False</td>\n",
              "      <td>True</td>\n",
              "      <td>True</td>\n",
              "      <td>False</td>\n",
              "      <td>True</td>\n",
              "      <td>True</td>\n",
              "    </tr>\n",
              "  </tbody>\n",
              "</table>\n",
              "</div>"
            ],
            "text/plain": [
              "   customer_id load_id  load_amt  ...  rule1  rule2  rule3\n",
              "0            1   10694   6000.11  ...  False   True   True\n",
              "\n",
              "[1 rows x 12 columns]"
            ]
          },
          "metadata": {
            "tags": []
          },
          "execution_count": 351
        }
      ]
    },
    {
      "cell_type": "code",
      "metadata": {
        "id": "g6YU_9J4khr-",
        "outputId": "6a9191db-7da6-47a3-fa14-55cc2dd7de26",
        "colab": {
          "base_uri": "https://localhost:8080/",
          "height": 67
        }
      },
      "source": [
        "cust1.valid_loads"
      ],
      "execution_count": 352,
      "outputs": [
        {
          "output_type": "execute_result",
          "data": {
            "text/html": [
              "<div>\n",
              "<style scoped>\n",
              "    .dataframe tbody tr th:only-of-type {\n",
              "        vertical-align: middle;\n",
              "    }\n",
              "\n",
              "    .dataframe tbody tr th {\n",
              "        vertical-align: top;\n",
              "    }\n",
              "\n",
              "    .dataframe thead th {\n",
              "        text-align: right;\n",
              "    }\n",
              "</style>\n",
              "<table border=\"1\" class=\"dataframe\">\n",
              "  <thead>\n",
              "    <tr style=\"text-align: right;\">\n",
              "      <th></th>\n",
              "      <th>customer_id</th>\n",
              "      <th>load_id</th>\n",
              "      <th>load_amt</th>\n",
              "      <th>load_time</th>\n",
              "      <th>load_week_num</th>\n",
              "      <th>load_day_num</th>\n",
              "      <th>approved_status</th>\n",
              "      <th>ruleA</th>\n",
              "      <th>ruleB</th>\n",
              "      <th>rule1</th>\n",
              "      <th>rule2</th>\n",
              "      <th>rule3</th>\n",
              "      <th>cum_weekly_deps</th>\n",
              "      <th>cum_daily_deps</th>\n",
              "      <th>num_daily_deps</th>\n",
              "      <th>weekly_deps_left</th>\n",
              "      <th>daily_deps_left</th>\n",
              "      <th>num_daily_deps_left</th>\n",
              "    </tr>\n",
              "  </thead>\n",
              "  <tbody>\n",
              "  </tbody>\n",
              "</table>\n",
              "</div>"
            ],
            "text/plain": [
              "Empty DataFrame\n",
              "Columns: [customer_id, load_id, load_amt, load_time, load_week_num, load_day_num, approved_status, ruleA, ruleB, rule1, rule2, rule3, cum_weekly_deps, cum_daily_deps, num_daily_deps, weekly_deps_left, daily_deps_left, num_daily_deps_left]\n",
              "Index: []"
            ]
          },
          "metadata": {
            "tags": []
          },
          "execution_count": 352
        }
      ]
    },
    {
      "cell_type": "markdown",
      "metadata": {
        "id": "dwpROWIokjdr"
      },
      "source": [
        "### Number of daily loads is exceeded - same day"
      ]
    },
    {
      "cell_type": "code",
      "metadata": {
        "id": "iyZniF9mldQF",
        "outputId": "a0daef0f-5c3c-4467-f21c-a641ea3236b2",
        "colab": {
          "base_uri": "https://localhost:8080/",
          "height": 105
        }
      },
      "source": [
        "rules_df.iloc[28:30]"
      ],
      "execution_count": 353,
      "outputs": [
        {
          "output_type": "execute_result",
          "data": {
            "text/html": [
              "<div>\n",
              "<style scoped>\n",
              "    .dataframe tbody tr th:only-of-type {\n",
              "        vertical-align: middle;\n",
              "    }\n",
              "\n",
              "    .dataframe tbody tr th {\n",
              "        vertical-align: top;\n",
              "    }\n",
              "\n",
              "    .dataframe thead th {\n",
              "        text-align: right;\n",
              "    }\n",
              "</style>\n",
              "<table border=\"1\" class=\"dataframe\">\n",
              "  <thead>\n",
              "    <tr style=\"text-align: right;\">\n",
              "      <th></th>\n",
              "      <th>Rule Number</th>\n",
              "      <th>Load ID is unique</th>\n",
              "      <th>time stamp is unique</th>\n",
              "      <th>daily_deps_left &gt; load.amt</th>\n",
              "      <th>daily_loads_left &gt;= 0</th>\n",
              "      <th>weekly_deps_left &gt; load.amt</th>\n",
              "      <th>System Response</th>\n",
              "    </tr>\n",
              "  </thead>\n",
              "  <tbody>\n",
              "    <tr>\n",
              "      <th>28</th>\n",
              "      <td>29</td>\n",
              "      <td>1</td>\n",
              "      <td>1</td>\n",
              "      <td>1</td>\n",
              "      <td>0</td>\n",
              "      <td>d</td>\n",
              "      <td>Decline - Daily loads left limit exceeded 1</td>\n",
              "    </tr>\n",
              "    <tr>\n",
              "      <th>29</th>\n",
              "      <td>30</td>\n",
              "      <td>1</td>\n",
              "      <td>1</td>\n",
              "      <td>1</td>\n",
              "      <td>0</td>\n",
              "      <td>d</td>\n",
              "      <td>Decline - Daily loads left limit exceeded 2</td>\n",
              "    </tr>\n",
              "  </tbody>\n",
              "</table>\n",
              "</div>"
            ],
            "text/plain": [
              "    Rule Number  ...                             System Response \n",
              "28           29  ...  Decline - Daily loads left limit exceeded 1\n",
              "29           30  ...  Decline - Daily loads left limit exceeded 2\n",
              "\n",
              "[2 rows x 7 columns]"
            ]
          },
          "metadata": {
            "tags": []
          },
          "execution_count": 353
        }
      ]
    },
    {
      "cell_type": "code",
      "metadata": {
        "id": "eEk-hWMmk4Pk",
        "outputId": "dc430290-10b3-4ecf-cf23-2ff66cfcce3b",
        "colab": {
          "base_uri": "https://localhost:8080/"
        }
      },
      "source": [
        "cust1 = Customer(1)\n",
        "cust1.process_load(Load('10694', '$600.11', '2000-01-01T03:04:06Z'))"
      ],
      "execution_count": 354,
      "outputs": [
        {
          "output_type": "stream",
          "text": [
            "All Rules Passed ... Load Added\n"
          ],
          "name": "stdout"
        }
      ]
    },
    {
      "cell_type": "code",
      "metadata": {
        "id": "Pnwqp6S1k86t",
        "outputId": "cea9c7a0-656c-459c-a64b-1ac151feca49",
        "colab": {
          "base_uri": "https://localhost:8080/",
          "height": 76
        }
      },
      "source": [
        "cust1.load_hist"
      ],
      "execution_count": 355,
      "outputs": [
        {
          "output_type": "execute_result",
          "data": {
            "text/html": [
              "<div>\n",
              "<style scoped>\n",
              "    .dataframe tbody tr th:only-of-type {\n",
              "        vertical-align: middle;\n",
              "    }\n",
              "\n",
              "    .dataframe tbody tr th {\n",
              "        vertical-align: top;\n",
              "    }\n",
              "\n",
              "    .dataframe thead th {\n",
              "        text-align: right;\n",
              "    }\n",
              "</style>\n",
              "<table border=\"1\" class=\"dataframe\">\n",
              "  <thead>\n",
              "    <tr style=\"text-align: right;\">\n",
              "      <th></th>\n",
              "      <th>customer_id</th>\n",
              "      <th>load_id</th>\n",
              "      <th>load_amt</th>\n",
              "      <th>load_time</th>\n",
              "      <th>load_week_num</th>\n",
              "      <th>load_day_num</th>\n",
              "      <th>approved_status</th>\n",
              "      <th>ruleA</th>\n",
              "      <th>ruleB</th>\n",
              "      <th>rule1</th>\n",
              "      <th>rule2</th>\n",
              "      <th>rule3</th>\n",
              "    </tr>\n",
              "  </thead>\n",
              "  <tbody>\n",
              "    <tr>\n",
              "      <th>0</th>\n",
              "      <td>1</td>\n",
              "      <td>10694</td>\n",
              "      <td>600.11</td>\n",
              "      <td>2000-01-01T03:04:06Z</td>\n",
              "      <td>2052</td>\n",
              "      <td>2001</td>\n",
              "      <td>True</td>\n",
              "      <td>True</td>\n",
              "      <td>True</td>\n",
              "      <td>True</td>\n",
              "      <td>True</td>\n",
              "      <td>True</td>\n",
              "    </tr>\n",
              "  </tbody>\n",
              "</table>\n",
              "</div>"
            ],
            "text/plain": [
              "   customer_id load_id  load_amt  ... rule1  rule2  rule3\n",
              "0            1   10694    600.11  ...  True   True   True\n",
              "\n",
              "[1 rows x 12 columns]"
            ]
          },
          "metadata": {
            "tags": []
          },
          "execution_count": 355
        }
      ]
    },
    {
      "cell_type": "code",
      "metadata": {
        "id": "3kvgOiC7lA3O",
        "outputId": "f019fe59-71c3-4ae4-81af-608058333de5",
        "colab": {
          "base_uri": "https://localhost:8080/"
        }
      },
      "source": [
        "cust1.process_load(Load('10695', '$600.11', '2000-01-01T03:05:06Z'))"
      ],
      "execution_count": 356,
      "outputs": [
        {
          "output_type": "stream",
          "text": [
            "All Rules Passed ... Load Added\n"
          ],
          "name": "stdout"
        }
      ]
    },
    {
      "cell_type": "code",
      "metadata": {
        "id": "U3LfkG6klF0y",
        "outputId": "98eb89b9-80bc-437d-ecb8-782f78e6240d",
        "colab": {
          "base_uri": "https://localhost:8080/",
          "height": 105
        }
      },
      "source": [
        "cust1.load_hist"
      ],
      "execution_count": 357,
      "outputs": [
        {
          "output_type": "execute_result",
          "data": {
            "text/html": [
              "<div>\n",
              "<style scoped>\n",
              "    .dataframe tbody tr th:only-of-type {\n",
              "        vertical-align: middle;\n",
              "    }\n",
              "\n",
              "    .dataframe tbody tr th {\n",
              "        vertical-align: top;\n",
              "    }\n",
              "\n",
              "    .dataframe thead th {\n",
              "        text-align: right;\n",
              "    }\n",
              "</style>\n",
              "<table border=\"1\" class=\"dataframe\">\n",
              "  <thead>\n",
              "    <tr style=\"text-align: right;\">\n",
              "      <th></th>\n",
              "      <th>customer_id</th>\n",
              "      <th>load_id</th>\n",
              "      <th>load_amt</th>\n",
              "      <th>load_time</th>\n",
              "      <th>load_week_num</th>\n",
              "      <th>load_day_num</th>\n",
              "      <th>approved_status</th>\n",
              "      <th>ruleA</th>\n",
              "      <th>ruleB</th>\n",
              "      <th>rule1</th>\n",
              "      <th>rule2</th>\n",
              "      <th>rule3</th>\n",
              "    </tr>\n",
              "  </thead>\n",
              "  <tbody>\n",
              "    <tr>\n",
              "      <th>0</th>\n",
              "      <td>1</td>\n",
              "      <td>10694</td>\n",
              "      <td>600.11</td>\n",
              "      <td>2000-01-01T03:04:06Z</td>\n",
              "      <td>2052</td>\n",
              "      <td>2001</td>\n",
              "      <td>True</td>\n",
              "      <td>True</td>\n",
              "      <td>True</td>\n",
              "      <td>True</td>\n",
              "      <td>True</td>\n",
              "      <td>True</td>\n",
              "    </tr>\n",
              "    <tr>\n",
              "      <th>1</th>\n",
              "      <td>1</td>\n",
              "      <td>10695</td>\n",
              "      <td>600.11</td>\n",
              "      <td>2000-01-01T03:05:06Z</td>\n",
              "      <td>2052</td>\n",
              "      <td>2001</td>\n",
              "      <td>True</td>\n",
              "      <td>True</td>\n",
              "      <td>True</td>\n",
              "      <td>True</td>\n",
              "      <td>True</td>\n",
              "      <td>True</td>\n",
              "    </tr>\n",
              "  </tbody>\n",
              "</table>\n",
              "</div>"
            ],
            "text/plain": [
              "   customer_id load_id  load_amt  ... rule1  rule2  rule3\n",
              "0            1   10694    600.11  ...  True   True   True\n",
              "1            1   10695    600.11  ...  True   True   True\n",
              "\n",
              "[2 rows x 12 columns]"
            ]
          },
          "metadata": {
            "tags": []
          },
          "execution_count": 357
        }
      ]
    },
    {
      "cell_type": "code",
      "metadata": {
        "id": "1FND06bclG58",
        "outputId": "4e71be0e-2145-46bc-94af-faf80c898003",
        "colab": {
          "base_uri": "https://localhost:8080/",
          "height": 157
        }
      },
      "source": [
        "cust1.valid_loads"
      ],
      "execution_count": 358,
      "outputs": [
        {
          "output_type": "execute_result",
          "data": {
            "text/html": [
              "<div>\n",
              "<style scoped>\n",
              "    .dataframe tbody tr th:only-of-type {\n",
              "        vertical-align: middle;\n",
              "    }\n",
              "\n",
              "    .dataframe tbody tr th {\n",
              "        vertical-align: top;\n",
              "    }\n",
              "\n",
              "    .dataframe thead th {\n",
              "        text-align: right;\n",
              "    }\n",
              "</style>\n",
              "<table border=\"1\" class=\"dataframe\">\n",
              "  <thead>\n",
              "    <tr style=\"text-align: right;\">\n",
              "      <th></th>\n",
              "      <th>customer_id</th>\n",
              "      <th>load_id</th>\n",
              "      <th>load_amt</th>\n",
              "      <th>load_time</th>\n",
              "      <th>load_week_num</th>\n",
              "      <th>load_day_num</th>\n",
              "      <th>approved_status</th>\n",
              "      <th>ruleA</th>\n",
              "      <th>ruleB</th>\n",
              "      <th>rule1</th>\n",
              "      <th>rule2</th>\n",
              "      <th>rule3</th>\n",
              "      <th>cum_weekly_deps</th>\n",
              "      <th>cum_daily_deps</th>\n",
              "      <th>num_daily_deps</th>\n",
              "      <th>weekly_deps_left</th>\n",
              "      <th>daily_deps_left</th>\n",
              "      <th>num_daily_deps_left</th>\n",
              "    </tr>\n",
              "  </thead>\n",
              "  <tbody>\n",
              "    <tr>\n",
              "      <th>0</th>\n",
              "      <td>1</td>\n",
              "      <td>10694</td>\n",
              "      <td>600.11</td>\n",
              "      <td>2000-01-01T03:04:06Z</td>\n",
              "      <td>2052</td>\n",
              "      <td>2001</td>\n",
              "      <td>True</td>\n",
              "      <td>True</td>\n",
              "      <td>True</td>\n",
              "      <td>True</td>\n",
              "      <td>True</td>\n",
              "      <td>True</td>\n",
              "      <td>600.11</td>\n",
              "      <td>600.11</td>\n",
              "      <td>1</td>\n",
              "      <td>19399.89</td>\n",
              "      <td>4399.89</td>\n",
              "      <td>2</td>\n",
              "    </tr>\n",
              "    <tr>\n",
              "      <th>1</th>\n",
              "      <td>1</td>\n",
              "      <td>10695</td>\n",
              "      <td>600.11</td>\n",
              "      <td>2000-01-01T03:05:06Z</td>\n",
              "      <td>2052</td>\n",
              "      <td>2001</td>\n",
              "      <td>True</td>\n",
              "      <td>True</td>\n",
              "      <td>True</td>\n",
              "      <td>True</td>\n",
              "      <td>True</td>\n",
              "      <td>True</td>\n",
              "      <td>1200.22</td>\n",
              "      <td>1200.22</td>\n",
              "      <td>2</td>\n",
              "      <td>18799.78</td>\n",
              "      <td>3799.78</td>\n",
              "      <td>1</td>\n",
              "    </tr>\n",
              "  </tbody>\n",
              "</table>\n",
              "</div>"
            ],
            "text/plain": [
              "   customer_id load_id  ...  daily_deps_left num_daily_deps_left\n",
              "0            1   10694  ...          4399.89                   2\n",
              "1            1   10695  ...          3799.78                   1\n",
              "\n",
              "[2 rows x 18 columns]"
            ]
          },
          "metadata": {
            "tags": []
          },
          "execution_count": 358
        }
      ]
    },
    {
      "cell_type": "code",
      "metadata": {
        "id": "WEy1g3bOlKMM",
        "outputId": "8cee39f7-8c32-4465-9d3f-c28a62aa207f",
        "colab": {
          "base_uri": "https://localhost:8080/"
        }
      },
      "source": [
        "cust1.process_load(Load('10696', '$600.11', '2000-01-01T03:06:06Z'))"
      ],
      "execution_count": 359,
      "outputs": [
        {
          "output_type": "stream",
          "text": [
            "All Rules Passed ... Load Added\n"
          ],
          "name": "stdout"
        }
      ]
    },
    {
      "cell_type": "code",
      "metadata": {
        "id": "RAbgQbKjlN5q",
        "outputId": "24d63cab-d18a-42d1-e7d5-2cb68e88214a",
        "colab": {
          "base_uri": "https://localhost:8080/",
          "height": 133
        }
      },
      "source": [
        "cust1.load_hist"
      ],
      "execution_count": 360,
      "outputs": [
        {
          "output_type": "execute_result",
          "data": {
            "text/html": [
              "<div>\n",
              "<style scoped>\n",
              "    .dataframe tbody tr th:only-of-type {\n",
              "        vertical-align: middle;\n",
              "    }\n",
              "\n",
              "    .dataframe tbody tr th {\n",
              "        vertical-align: top;\n",
              "    }\n",
              "\n",
              "    .dataframe thead th {\n",
              "        text-align: right;\n",
              "    }\n",
              "</style>\n",
              "<table border=\"1\" class=\"dataframe\">\n",
              "  <thead>\n",
              "    <tr style=\"text-align: right;\">\n",
              "      <th></th>\n",
              "      <th>customer_id</th>\n",
              "      <th>load_id</th>\n",
              "      <th>load_amt</th>\n",
              "      <th>load_time</th>\n",
              "      <th>load_week_num</th>\n",
              "      <th>load_day_num</th>\n",
              "      <th>approved_status</th>\n",
              "      <th>ruleA</th>\n",
              "      <th>ruleB</th>\n",
              "      <th>rule1</th>\n",
              "      <th>rule2</th>\n",
              "      <th>rule3</th>\n",
              "    </tr>\n",
              "  </thead>\n",
              "  <tbody>\n",
              "    <tr>\n",
              "      <th>0</th>\n",
              "      <td>1</td>\n",
              "      <td>10694</td>\n",
              "      <td>600.11</td>\n",
              "      <td>2000-01-01T03:04:06Z</td>\n",
              "      <td>2052</td>\n",
              "      <td>2001</td>\n",
              "      <td>True</td>\n",
              "      <td>True</td>\n",
              "      <td>True</td>\n",
              "      <td>True</td>\n",
              "      <td>True</td>\n",
              "      <td>True</td>\n",
              "    </tr>\n",
              "    <tr>\n",
              "      <th>1</th>\n",
              "      <td>1</td>\n",
              "      <td>10695</td>\n",
              "      <td>600.11</td>\n",
              "      <td>2000-01-01T03:05:06Z</td>\n",
              "      <td>2052</td>\n",
              "      <td>2001</td>\n",
              "      <td>True</td>\n",
              "      <td>True</td>\n",
              "      <td>True</td>\n",
              "      <td>True</td>\n",
              "      <td>True</td>\n",
              "      <td>True</td>\n",
              "    </tr>\n",
              "    <tr>\n",
              "      <th>2</th>\n",
              "      <td>1</td>\n",
              "      <td>10696</td>\n",
              "      <td>600.11</td>\n",
              "      <td>2000-01-01T03:06:06Z</td>\n",
              "      <td>2052</td>\n",
              "      <td>2001</td>\n",
              "      <td>True</td>\n",
              "      <td>True</td>\n",
              "      <td>True</td>\n",
              "      <td>True</td>\n",
              "      <td>True</td>\n",
              "      <td>True</td>\n",
              "    </tr>\n",
              "  </tbody>\n",
              "</table>\n",
              "</div>"
            ],
            "text/plain": [
              "   customer_id load_id  load_amt  ... rule1  rule2  rule3\n",
              "0            1   10694    600.11  ...  True   True   True\n",
              "1            1   10695    600.11  ...  True   True   True\n",
              "2            1   10696    600.11  ...  True   True   True\n",
              "\n",
              "[3 rows x 12 columns]"
            ]
          },
          "metadata": {
            "tags": []
          },
          "execution_count": 360
        }
      ]
    },
    {
      "cell_type": "code",
      "metadata": {
        "id": "YG4-NuNRlPFc",
        "outputId": "4e676485-57f5-4b02-fc2a-66f2300db8d3",
        "colab": {
          "base_uri": "https://localhost:8080/",
          "height": 202
        }
      },
      "source": [
        "cust1.valid_loads"
      ],
      "execution_count": 361,
      "outputs": [
        {
          "output_type": "execute_result",
          "data": {
            "text/html": [
              "<div>\n",
              "<style scoped>\n",
              "    .dataframe tbody tr th:only-of-type {\n",
              "        vertical-align: middle;\n",
              "    }\n",
              "\n",
              "    .dataframe tbody tr th {\n",
              "        vertical-align: top;\n",
              "    }\n",
              "\n",
              "    .dataframe thead th {\n",
              "        text-align: right;\n",
              "    }\n",
              "</style>\n",
              "<table border=\"1\" class=\"dataframe\">\n",
              "  <thead>\n",
              "    <tr style=\"text-align: right;\">\n",
              "      <th></th>\n",
              "      <th>customer_id</th>\n",
              "      <th>load_id</th>\n",
              "      <th>load_amt</th>\n",
              "      <th>load_time</th>\n",
              "      <th>load_week_num</th>\n",
              "      <th>load_day_num</th>\n",
              "      <th>approved_status</th>\n",
              "      <th>ruleA</th>\n",
              "      <th>ruleB</th>\n",
              "      <th>rule1</th>\n",
              "      <th>rule2</th>\n",
              "      <th>rule3</th>\n",
              "      <th>cum_weekly_deps</th>\n",
              "      <th>cum_daily_deps</th>\n",
              "      <th>num_daily_deps</th>\n",
              "      <th>weekly_deps_left</th>\n",
              "      <th>daily_deps_left</th>\n",
              "      <th>num_daily_deps_left</th>\n",
              "    </tr>\n",
              "  </thead>\n",
              "  <tbody>\n",
              "    <tr>\n",
              "      <th>0</th>\n",
              "      <td>1</td>\n",
              "      <td>10694</td>\n",
              "      <td>600.11</td>\n",
              "      <td>2000-01-01T03:04:06Z</td>\n",
              "      <td>2052</td>\n",
              "      <td>2001</td>\n",
              "      <td>True</td>\n",
              "      <td>True</td>\n",
              "      <td>True</td>\n",
              "      <td>True</td>\n",
              "      <td>True</td>\n",
              "      <td>True</td>\n",
              "      <td>600.11</td>\n",
              "      <td>600.11</td>\n",
              "      <td>1</td>\n",
              "      <td>19399.89</td>\n",
              "      <td>4399.89</td>\n",
              "      <td>2</td>\n",
              "    </tr>\n",
              "    <tr>\n",
              "      <th>1</th>\n",
              "      <td>1</td>\n",
              "      <td>10695</td>\n",
              "      <td>600.11</td>\n",
              "      <td>2000-01-01T03:05:06Z</td>\n",
              "      <td>2052</td>\n",
              "      <td>2001</td>\n",
              "      <td>True</td>\n",
              "      <td>True</td>\n",
              "      <td>True</td>\n",
              "      <td>True</td>\n",
              "      <td>True</td>\n",
              "      <td>True</td>\n",
              "      <td>1200.22</td>\n",
              "      <td>1200.22</td>\n",
              "      <td>2</td>\n",
              "      <td>18799.78</td>\n",
              "      <td>3799.78</td>\n",
              "      <td>1</td>\n",
              "    </tr>\n",
              "    <tr>\n",
              "      <th>2</th>\n",
              "      <td>1</td>\n",
              "      <td>10696</td>\n",
              "      <td>600.11</td>\n",
              "      <td>2000-01-01T03:06:06Z</td>\n",
              "      <td>2052</td>\n",
              "      <td>2001</td>\n",
              "      <td>True</td>\n",
              "      <td>True</td>\n",
              "      <td>True</td>\n",
              "      <td>True</td>\n",
              "      <td>True</td>\n",
              "      <td>True</td>\n",
              "      <td>1800.33</td>\n",
              "      <td>1800.33</td>\n",
              "      <td>3</td>\n",
              "      <td>18199.67</td>\n",
              "      <td>3199.67</td>\n",
              "      <td>0</td>\n",
              "    </tr>\n",
              "  </tbody>\n",
              "</table>\n",
              "</div>"
            ],
            "text/plain": [
              "   customer_id load_id  ...  daily_deps_left num_daily_deps_left\n",
              "0            1   10694  ...          4399.89                   2\n",
              "1            1   10695  ...          3799.78                   1\n",
              "2            1   10696  ...          3199.67                   0\n",
              "\n",
              "[3 rows x 18 columns]"
            ]
          },
          "metadata": {
            "tags": []
          },
          "execution_count": 361
        }
      ]
    },
    {
      "cell_type": "code",
      "metadata": {
        "id": "H2s4s2I6lQfB",
        "outputId": "3d71d530-25fc-4f45-86bd-6339c04d7caf",
        "colab": {
          "base_uri": "https://localhost:8080/"
        }
      },
      "source": [
        "cust1.process_load(Load('10697', '$600.11', '2000-01-01T03:09:06Z'))"
      ],
      "execution_count": 362,
      "outputs": [
        {
          "output_type": "stream",
          "text": [
            "ERROR: Number of allowed daily deposits exceeded\n",
            "Load Rejected\n"
          ],
          "name": "stdout"
        }
      ]
    },
    {
      "cell_type": "markdown",
      "metadata": {
        "id": "gG3OWqIIliAU"
      },
      "source": [
        "### Number of Daily loads is exceeded - multiple days "
      ]
    },
    {
      "cell_type": "code",
      "metadata": {
        "id": "IBDBo74Rlr9O",
        "outputId": "af43b261-8f84-4c06-950a-c0703ee3c17a",
        "colab": {
          "base_uri": "https://localhost:8080/",
          "height": 92
        }
      },
      "source": [
        "cust1 = Customer(1)\n",
        "cust1.process_load(Load('10694', '$600.11', '2000-01-01T03:04:06Z'))\n",
        "cust1.load_hist"
      ],
      "execution_count": 363,
      "outputs": [
        {
          "output_type": "stream",
          "text": [
            "All Rules Passed ... Load Added\n"
          ],
          "name": "stdout"
        },
        {
          "output_type": "execute_result",
          "data": {
            "text/html": [
              "<div>\n",
              "<style scoped>\n",
              "    .dataframe tbody tr th:only-of-type {\n",
              "        vertical-align: middle;\n",
              "    }\n",
              "\n",
              "    .dataframe tbody tr th {\n",
              "        vertical-align: top;\n",
              "    }\n",
              "\n",
              "    .dataframe thead th {\n",
              "        text-align: right;\n",
              "    }\n",
              "</style>\n",
              "<table border=\"1\" class=\"dataframe\">\n",
              "  <thead>\n",
              "    <tr style=\"text-align: right;\">\n",
              "      <th></th>\n",
              "      <th>customer_id</th>\n",
              "      <th>load_id</th>\n",
              "      <th>load_amt</th>\n",
              "      <th>load_time</th>\n",
              "      <th>load_week_num</th>\n",
              "      <th>load_day_num</th>\n",
              "      <th>approved_status</th>\n",
              "      <th>ruleA</th>\n",
              "      <th>ruleB</th>\n",
              "      <th>rule1</th>\n",
              "      <th>rule2</th>\n",
              "      <th>rule3</th>\n",
              "    </tr>\n",
              "  </thead>\n",
              "  <tbody>\n",
              "    <tr>\n",
              "      <th>0</th>\n",
              "      <td>1</td>\n",
              "      <td>10694</td>\n",
              "      <td>600.11</td>\n",
              "      <td>2000-01-01T03:04:06Z</td>\n",
              "      <td>2052</td>\n",
              "      <td>2001</td>\n",
              "      <td>True</td>\n",
              "      <td>True</td>\n",
              "      <td>True</td>\n",
              "      <td>True</td>\n",
              "      <td>True</td>\n",
              "      <td>True</td>\n",
              "    </tr>\n",
              "  </tbody>\n",
              "</table>\n",
              "</div>"
            ],
            "text/plain": [
              "   customer_id load_id  load_amt  ... rule1  rule2  rule3\n",
              "0            1   10694    600.11  ...  True   True   True\n",
              "\n",
              "[1 rows x 12 columns]"
            ]
          },
          "metadata": {
            "tags": []
          },
          "execution_count": 363
        }
      ]
    },
    {
      "cell_type": "code",
      "metadata": {
        "id": "_G251pEkmBb9",
        "outputId": "e6a31f32-712c-4a8a-f567-1b13b526fcfc",
        "colab": {
          "base_uri": "https://localhost:8080/",
          "height": 121
        }
      },
      "source": [
        "cust1.process_load(Load('10695', '$600.11', '2000-01-01T03:05:06Z'))\n",
        "cust1.load_hist"
      ],
      "execution_count": 364,
      "outputs": [
        {
          "output_type": "stream",
          "text": [
            "All Rules Passed ... Load Added\n"
          ],
          "name": "stdout"
        },
        {
          "output_type": "execute_result",
          "data": {
            "text/html": [
              "<div>\n",
              "<style scoped>\n",
              "    .dataframe tbody tr th:only-of-type {\n",
              "        vertical-align: middle;\n",
              "    }\n",
              "\n",
              "    .dataframe tbody tr th {\n",
              "        vertical-align: top;\n",
              "    }\n",
              "\n",
              "    .dataframe thead th {\n",
              "        text-align: right;\n",
              "    }\n",
              "</style>\n",
              "<table border=\"1\" class=\"dataframe\">\n",
              "  <thead>\n",
              "    <tr style=\"text-align: right;\">\n",
              "      <th></th>\n",
              "      <th>customer_id</th>\n",
              "      <th>load_id</th>\n",
              "      <th>load_amt</th>\n",
              "      <th>load_time</th>\n",
              "      <th>load_week_num</th>\n",
              "      <th>load_day_num</th>\n",
              "      <th>approved_status</th>\n",
              "      <th>ruleA</th>\n",
              "      <th>ruleB</th>\n",
              "      <th>rule1</th>\n",
              "      <th>rule2</th>\n",
              "      <th>rule3</th>\n",
              "    </tr>\n",
              "  </thead>\n",
              "  <tbody>\n",
              "    <tr>\n",
              "      <th>0</th>\n",
              "      <td>1</td>\n",
              "      <td>10694</td>\n",
              "      <td>600.11</td>\n",
              "      <td>2000-01-01T03:04:06Z</td>\n",
              "      <td>2052</td>\n",
              "      <td>2001</td>\n",
              "      <td>True</td>\n",
              "      <td>True</td>\n",
              "      <td>True</td>\n",
              "      <td>True</td>\n",
              "      <td>True</td>\n",
              "      <td>True</td>\n",
              "    </tr>\n",
              "    <tr>\n",
              "      <th>1</th>\n",
              "      <td>1</td>\n",
              "      <td>10695</td>\n",
              "      <td>600.11</td>\n",
              "      <td>2000-01-01T03:05:06Z</td>\n",
              "      <td>2052</td>\n",
              "      <td>2001</td>\n",
              "      <td>True</td>\n",
              "      <td>True</td>\n",
              "      <td>True</td>\n",
              "      <td>True</td>\n",
              "      <td>True</td>\n",
              "      <td>True</td>\n",
              "    </tr>\n",
              "  </tbody>\n",
              "</table>\n",
              "</div>"
            ],
            "text/plain": [
              "   customer_id load_id  load_amt  ... rule1  rule2  rule3\n",
              "0            1   10694    600.11  ...  True   True   True\n",
              "1            1   10695    600.11  ...  True   True   True\n",
              "\n",
              "[2 rows x 12 columns]"
            ]
          },
          "metadata": {
            "tags": []
          },
          "execution_count": 364
        }
      ]
    },
    {
      "cell_type": "code",
      "metadata": {
        "id": "lCi2DP9rmM5I",
        "outputId": "239449d6-cc52-4a8e-d02e-6aaeeb31b48a",
        "colab": {
          "base_uri": "https://localhost:8080/",
          "height": 150
        }
      },
      "source": [
        "cust1.process_load(Load('10696', '$600.11', '2000-01-01T03:06:06Z'))\n",
        "cust1.load_hist"
      ],
      "execution_count": 365,
      "outputs": [
        {
          "output_type": "stream",
          "text": [
            "All Rules Passed ... Load Added\n"
          ],
          "name": "stdout"
        },
        {
          "output_type": "execute_result",
          "data": {
            "text/html": [
              "<div>\n",
              "<style scoped>\n",
              "    .dataframe tbody tr th:only-of-type {\n",
              "        vertical-align: middle;\n",
              "    }\n",
              "\n",
              "    .dataframe tbody tr th {\n",
              "        vertical-align: top;\n",
              "    }\n",
              "\n",
              "    .dataframe thead th {\n",
              "        text-align: right;\n",
              "    }\n",
              "</style>\n",
              "<table border=\"1\" class=\"dataframe\">\n",
              "  <thead>\n",
              "    <tr style=\"text-align: right;\">\n",
              "      <th></th>\n",
              "      <th>customer_id</th>\n",
              "      <th>load_id</th>\n",
              "      <th>load_amt</th>\n",
              "      <th>load_time</th>\n",
              "      <th>load_week_num</th>\n",
              "      <th>load_day_num</th>\n",
              "      <th>approved_status</th>\n",
              "      <th>ruleA</th>\n",
              "      <th>ruleB</th>\n",
              "      <th>rule1</th>\n",
              "      <th>rule2</th>\n",
              "      <th>rule3</th>\n",
              "    </tr>\n",
              "  </thead>\n",
              "  <tbody>\n",
              "    <tr>\n",
              "      <th>0</th>\n",
              "      <td>1</td>\n",
              "      <td>10694</td>\n",
              "      <td>600.11</td>\n",
              "      <td>2000-01-01T03:04:06Z</td>\n",
              "      <td>2052</td>\n",
              "      <td>2001</td>\n",
              "      <td>True</td>\n",
              "      <td>True</td>\n",
              "      <td>True</td>\n",
              "      <td>True</td>\n",
              "      <td>True</td>\n",
              "      <td>True</td>\n",
              "    </tr>\n",
              "    <tr>\n",
              "      <th>1</th>\n",
              "      <td>1</td>\n",
              "      <td>10695</td>\n",
              "      <td>600.11</td>\n",
              "      <td>2000-01-01T03:05:06Z</td>\n",
              "      <td>2052</td>\n",
              "      <td>2001</td>\n",
              "      <td>True</td>\n",
              "      <td>True</td>\n",
              "      <td>True</td>\n",
              "      <td>True</td>\n",
              "      <td>True</td>\n",
              "      <td>True</td>\n",
              "    </tr>\n",
              "    <tr>\n",
              "      <th>2</th>\n",
              "      <td>1</td>\n",
              "      <td>10696</td>\n",
              "      <td>600.11</td>\n",
              "      <td>2000-01-01T03:06:06Z</td>\n",
              "      <td>2052</td>\n",
              "      <td>2001</td>\n",
              "      <td>True</td>\n",
              "      <td>True</td>\n",
              "      <td>True</td>\n",
              "      <td>True</td>\n",
              "      <td>True</td>\n",
              "      <td>True</td>\n",
              "    </tr>\n",
              "  </tbody>\n",
              "</table>\n",
              "</div>"
            ],
            "text/plain": [
              "   customer_id load_id  load_amt  ... rule1  rule2  rule3\n",
              "0            1   10694    600.11  ...  True   True   True\n",
              "1            1   10695    600.11  ...  True   True   True\n",
              "2            1   10696    600.11  ...  True   True   True\n",
              "\n",
              "[3 rows x 12 columns]"
            ]
          },
          "metadata": {
            "tags": []
          },
          "execution_count": 365
        }
      ]
    },
    {
      "cell_type": "code",
      "metadata": {
        "id": "Vh-q_MiomQVU",
        "outputId": "22449900-4e2a-4cdf-bfd8-be2f41f41874",
        "colab": {
          "base_uri": "https://localhost:8080/",
          "height": 195
        }
      },
      "source": [
        "cust1.process_load(Load('10702', '$600.11', '2000-01-01T03:11:06Z'))\n",
        "cust1.load_hist"
      ],
      "execution_count": 366,
      "outputs": [
        {
          "output_type": "stream",
          "text": [
            "ERROR: Number of allowed daily deposits exceeded\n",
            "Load Rejected\n"
          ],
          "name": "stdout"
        },
        {
          "output_type": "execute_result",
          "data": {
            "text/html": [
              "<div>\n",
              "<style scoped>\n",
              "    .dataframe tbody tr th:only-of-type {\n",
              "        vertical-align: middle;\n",
              "    }\n",
              "\n",
              "    .dataframe tbody tr th {\n",
              "        vertical-align: top;\n",
              "    }\n",
              "\n",
              "    .dataframe thead th {\n",
              "        text-align: right;\n",
              "    }\n",
              "</style>\n",
              "<table border=\"1\" class=\"dataframe\">\n",
              "  <thead>\n",
              "    <tr style=\"text-align: right;\">\n",
              "      <th></th>\n",
              "      <th>customer_id</th>\n",
              "      <th>load_id</th>\n",
              "      <th>load_amt</th>\n",
              "      <th>load_time</th>\n",
              "      <th>load_week_num</th>\n",
              "      <th>load_day_num</th>\n",
              "      <th>approved_status</th>\n",
              "      <th>ruleA</th>\n",
              "      <th>ruleB</th>\n",
              "      <th>rule1</th>\n",
              "      <th>rule2</th>\n",
              "      <th>rule3</th>\n",
              "    </tr>\n",
              "  </thead>\n",
              "  <tbody>\n",
              "    <tr>\n",
              "      <th>0</th>\n",
              "      <td>1</td>\n",
              "      <td>10694</td>\n",
              "      <td>600.11</td>\n",
              "      <td>2000-01-01T03:04:06Z</td>\n",
              "      <td>2052</td>\n",
              "      <td>2001</td>\n",
              "      <td>True</td>\n",
              "      <td>True</td>\n",
              "      <td>True</td>\n",
              "      <td>True</td>\n",
              "      <td>True</td>\n",
              "      <td>True</td>\n",
              "    </tr>\n",
              "    <tr>\n",
              "      <th>1</th>\n",
              "      <td>1</td>\n",
              "      <td>10695</td>\n",
              "      <td>600.11</td>\n",
              "      <td>2000-01-01T03:05:06Z</td>\n",
              "      <td>2052</td>\n",
              "      <td>2001</td>\n",
              "      <td>True</td>\n",
              "      <td>True</td>\n",
              "      <td>True</td>\n",
              "      <td>True</td>\n",
              "      <td>True</td>\n",
              "      <td>True</td>\n",
              "    </tr>\n",
              "    <tr>\n",
              "      <th>2</th>\n",
              "      <td>1</td>\n",
              "      <td>10696</td>\n",
              "      <td>600.11</td>\n",
              "      <td>2000-01-01T03:06:06Z</td>\n",
              "      <td>2052</td>\n",
              "      <td>2001</td>\n",
              "      <td>True</td>\n",
              "      <td>True</td>\n",
              "      <td>True</td>\n",
              "      <td>True</td>\n",
              "      <td>True</td>\n",
              "      <td>True</td>\n",
              "    </tr>\n",
              "    <tr>\n",
              "      <th>3</th>\n",
              "      <td>1</td>\n",
              "      <td>10702</td>\n",
              "      <td>600.11</td>\n",
              "      <td>2000-01-01T03:11:06Z</td>\n",
              "      <td>2052</td>\n",
              "      <td>2001</td>\n",
              "      <td>False</td>\n",
              "      <td>True</td>\n",
              "      <td>True</td>\n",
              "      <td>True</td>\n",
              "      <td>False</td>\n",
              "      <td>True</td>\n",
              "    </tr>\n",
              "  </tbody>\n",
              "</table>\n",
              "</div>"
            ],
            "text/plain": [
              "   customer_id load_id  load_amt  ... rule1  rule2  rule3\n",
              "0            1   10694    600.11  ...  True   True   True\n",
              "1            1   10695    600.11  ...  True   True   True\n",
              "2            1   10696    600.11  ...  True   True   True\n",
              "3            1   10702    600.11  ...  True  False   True\n",
              "\n",
              "[4 rows x 12 columns]"
            ]
          },
          "metadata": {
            "tags": []
          },
          "execution_count": 366
        }
      ]
    },
    {
      "cell_type": "code",
      "metadata": {
        "id": "JAjqCGsPuTtF",
        "outputId": "2b3a928e-7a26-49c5-faf1-7b75c0423a29",
        "colab": {
          "base_uri": "https://localhost:8080/",
          "height": 207
        }
      },
      "source": [
        "cust1.process_load(Load('10704', '$600.11', '2000-01-02T03:12:06Z'))\n",
        "cust1.load_hist"
      ],
      "execution_count": 367,
      "outputs": [
        {
          "output_type": "stream",
          "text": [
            "All Rules Passed ... Load Added\n"
          ],
          "name": "stdout"
        },
        {
          "output_type": "execute_result",
          "data": {
            "text/html": [
              "<div>\n",
              "<style scoped>\n",
              "    .dataframe tbody tr th:only-of-type {\n",
              "        vertical-align: middle;\n",
              "    }\n",
              "\n",
              "    .dataframe tbody tr th {\n",
              "        vertical-align: top;\n",
              "    }\n",
              "\n",
              "    .dataframe thead th {\n",
              "        text-align: right;\n",
              "    }\n",
              "</style>\n",
              "<table border=\"1\" class=\"dataframe\">\n",
              "  <thead>\n",
              "    <tr style=\"text-align: right;\">\n",
              "      <th></th>\n",
              "      <th>customer_id</th>\n",
              "      <th>load_id</th>\n",
              "      <th>load_amt</th>\n",
              "      <th>load_time</th>\n",
              "      <th>load_week_num</th>\n",
              "      <th>load_day_num</th>\n",
              "      <th>approved_status</th>\n",
              "      <th>ruleA</th>\n",
              "      <th>ruleB</th>\n",
              "      <th>rule1</th>\n",
              "      <th>rule2</th>\n",
              "      <th>rule3</th>\n",
              "    </tr>\n",
              "  </thead>\n",
              "  <tbody>\n",
              "    <tr>\n",
              "      <th>0</th>\n",
              "      <td>1</td>\n",
              "      <td>10694</td>\n",
              "      <td>600.11</td>\n",
              "      <td>2000-01-01T03:04:06Z</td>\n",
              "      <td>2052</td>\n",
              "      <td>2001</td>\n",
              "      <td>True</td>\n",
              "      <td>True</td>\n",
              "      <td>True</td>\n",
              "      <td>True</td>\n",
              "      <td>True</td>\n",
              "      <td>True</td>\n",
              "    </tr>\n",
              "    <tr>\n",
              "      <th>1</th>\n",
              "      <td>1</td>\n",
              "      <td>10695</td>\n",
              "      <td>600.11</td>\n",
              "      <td>2000-01-01T03:05:06Z</td>\n",
              "      <td>2052</td>\n",
              "      <td>2001</td>\n",
              "      <td>True</td>\n",
              "      <td>True</td>\n",
              "      <td>True</td>\n",
              "      <td>True</td>\n",
              "      <td>True</td>\n",
              "      <td>True</td>\n",
              "    </tr>\n",
              "    <tr>\n",
              "      <th>2</th>\n",
              "      <td>1</td>\n",
              "      <td>10696</td>\n",
              "      <td>600.11</td>\n",
              "      <td>2000-01-01T03:06:06Z</td>\n",
              "      <td>2052</td>\n",
              "      <td>2001</td>\n",
              "      <td>True</td>\n",
              "      <td>True</td>\n",
              "      <td>True</td>\n",
              "      <td>True</td>\n",
              "      <td>True</td>\n",
              "      <td>True</td>\n",
              "    </tr>\n",
              "    <tr>\n",
              "      <th>3</th>\n",
              "      <td>1</td>\n",
              "      <td>10702</td>\n",
              "      <td>600.11</td>\n",
              "      <td>2000-01-01T03:11:06Z</td>\n",
              "      <td>2052</td>\n",
              "      <td>2001</td>\n",
              "      <td>False</td>\n",
              "      <td>True</td>\n",
              "      <td>True</td>\n",
              "      <td>True</td>\n",
              "      <td>False</td>\n",
              "      <td>True</td>\n",
              "    </tr>\n",
              "    <tr>\n",
              "      <th>4</th>\n",
              "      <td>1</td>\n",
              "      <td>10704</td>\n",
              "      <td>600.11</td>\n",
              "      <td>2000-01-02T03:12:06Z</td>\n",
              "      <td>2052</td>\n",
              "      <td>2002</td>\n",
              "      <td>True</td>\n",
              "      <td>True</td>\n",
              "      <td>True</td>\n",
              "      <td>True</td>\n",
              "      <td>True</td>\n",
              "      <td>True</td>\n",
              "    </tr>\n",
              "  </tbody>\n",
              "</table>\n",
              "</div>"
            ],
            "text/plain": [
              "   customer_id load_id  load_amt  ... rule1  rule2  rule3\n",
              "0            1   10694    600.11  ...  True   True   True\n",
              "1            1   10695    600.11  ...  True   True   True\n",
              "2            1   10696    600.11  ...  True   True   True\n",
              "3            1   10702    600.11  ...  True  False   True\n",
              "4            1   10704    600.11  ...  True   True   True\n",
              "\n",
              "[5 rows x 12 columns]"
            ]
          },
          "metadata": {
            "tags": []
          },
          "execution_count": 367
        }
      ]
    },
    {
      "cell_type": "code",
      "metadata": {
        "id": "E7PMvYR1uWL7",
        "outputId": "d4e0cbea-463c-448a-ad46-3d45d2ebba6f",
        "colab": {
          "base_uri": "https://localhost:8080/"
        }
      },
      "source": [
        "len(cust1.valid_loads)>0"
      ],
      "execution_count": 368,
      "outputs": [
        {
          "output_type": "execute_result",
          "data": {
            "text/plain": [
              "True"
            ]
          },
          "metadata": {
            "tags": []
          },
          "execution_count": 368
        }
      ]
    },
    {
      "cell_type": "code",
      "metadata": {
        "id": "F9LZBpqOuZEr",
        "outputId": "5b7178af-2a0c-48e1-d02d-c9eebf9c70fe",
        "colab": {
          "base_uri": "https://localhost:8080/",
          "height": 112
        }
      },
      "source": [
        "cust1.valid_loads[cust1.valid_loads['load_day_num']==cust1.loads[-1].load_day_num]"
      ],
      "execution_count": 369,
      "outputs": [
        {
          "output_type": "execute_result",
          "data": {
            "text/html": [
              "<div>\n",
              "<style scoped>\n",
              "    .dataframe tbody tr th:only-of-type {\n",
              "        vertical-align: middle;\n",
              "    }\n",
              "\n",
              "    .dataframe tbody tr th {\n",
              "        vertical-align: top;\n",
              "    }\n",
              "\n",
              "    .dataframe thead th {\n",
              "        text-align: right;\n",
              "    }\n",
              "</style>\n",
              "<table border=\"1\" class=\"dataframe\">\n",
              "  <thead>\n",
              "    <tr style=\"text-align: right;\">\n",
              "      <th></th>\n",
              "      <th>customer_id</th>\n",
              "      <th>load_id</th>\n",
              "      <th>load_amt</th>\n",
              "      <th>load_time</th>\n",
              "      <th>load_week_num</th>\n",
              "      <th>load_day_num</th>\n",
              "      <th>approved_status</th>\n",
              "      <th>ruleA</th>\n",
              "      <th>ruleB</th>\n",
              "      <th>rule1</th>\n",
              "      <th>rule2</th>\n",
              "      <th>rule3</th>\n",
              "      <th>cum_weekly_deps</th>\n",
              "      <th>cum_daily_deps</th>\n",
              "      <th>num_daily_deps</th>\n",
              "      <th>weekly_deps_left</th>\n",
              "      <th>daily_deps_left</th>\n",
              "      <th>num_daily_deps_left</th>\n",
              "    </tr>\n",
              "  </thead>\n",
              "  <tbody>\n",
              "    <tr>\n",
              "      <th>4</th>\n",
              "      <td>1</td>\n",
              "      <td>10704</td>\n",
              "      <td>600.11</td>\n",
              "      <td>2000-01-02T03:12:06Z</td>\n",
              "      <td>2052</td>\n",
              "      <td>2002</td>\n",
              "      <td>True</td>\n",
              "      <td>True</td>\n",
              "      <td>True</td>\n",
              "      <td>True</td>\n",
              "      <td>True</td>\n",
              "      <td>True</td>\n",
              "      <td>2400.44</td>\n",
              "      <td>600.11</td>\n",
              "      <td>1</td>\n",
              "      <td>17599.56</td>\n",
              "      <td>4399.89</td>\n",
              "      <td>2</td>\n",
              "    </tr>\n",
              "  </tbody>\n",
              "</table>\n",
              "</div>"
            ],
            "text/plain": [
              "   customer_id load_id  ...  daily_deps_left num_daily_deps_left\n",
              "4            1   10704  ...          4399.89                   2\n",
              "\n",
              "[1 rows x 18 columns]"
            ]
          },
          "metadata": {
            "tags": []
          },
          "execution_count": 369
        }
      ]
    },
    {
      "cell_type": "markdown",
      "metadata": {
        "id": "J8AA6rVEmTzR"
      },
      "source": [
        "#### Daily loads over multiple days "
      ]
    },
    {
      "cell_type": "code",
      "metadata": {
        "id": "3Dr8Sq0DuhJJ",
        "outputId": "f87521ad-79fb-40c0-c137-3a11100fe076",
        "colab": {
          "base_uri": "https://localhost:8080/",
          "height": 141
        }
      },
      "source": [
        "cust1 = Customer(1)\n",
        "cust1.process_load(Load('10694', '$600.11', '2000-01-01T03:04:06Z'))\n",
        "cust1.load_hist"
      ],
      "execution_count": 290,
      "outputs": [
        {
          "output_type": "stream",
          "text": [
            "self.daily_loads_left before:3\n",
            "Get daily loads left function\n",
            "self.daily_loads_left after:2\n",
            "All Rules Passed ... Load Added\n"
          ],
          "name": "stdout"
        },
        {
          "output_type": "execute_result",
          "data": {
            "text/html": [
              "<div>\n",
              "<style scoped>\n",
              "    .dataframe tbody tr th:only-of-type {\n",
              "        vertical-align: middle;\n",
              "    }\n",
              "\n",
              "    .dataframe tbody tr th {\n",
              "        vertical-align: top;\n",
              "    }\n",
              "\n",
              "    .dataframe thead th {\n",
              "        text-align: right;\n",
              "    }\n",
              "</style>\n",
              "<table border=\"1\" class=\"dataframe\">\n",
              "  <thead>\n",
              "    <tr style=\"text-align: right;\">\n",
              "      <th></th>\n",
              "      <th>customer_id</th>\n",
              "      <th>load_id</th>\n",
              "      <th>load_amt</th>\n",
              "      <th>load_time</th>\n",
              "      <th>load_week_num</th>\n",
              "      <th>load_day_num</th>\n",
              "      <th>approved_status</th>\n",
              "      <th>ruleA</th>\n",
              "      <th>ruleB</th>\n",
              "      <th>rule1</th>\n",
              "      <th>rule2</th>\n",
              "      <th>rule3</th>\n",
              "    </tr>\n",
              "  </thead>\n",
              "  <tbody>\n",
              "    <tr>\n",
              "      <th>0</th>\n",
              "      <td>1</td>\n",
              "      <td>10694</td>\n",
              "      <td>600.11</td>\n",
              "      <td>2000-01-01T03:04:06Z</td>\n",
              "      <td>2052</td>\n",
              "      <td>2001</td>\n",
              "      <td>True</td>\n",
              "      <td>True</td>\n",
              "      <td>True</td>\n",
              "      <td>True</td>\n",
              "      <td>True</td>\n",
              "      <td>True</td>\n",
              "    </tr>\n",
              "  </tbody>\n",
              "</table>\n",
              "</div>"
            ],
            "text/plain": [
              "   customer_id load_id  load_amt  ... rule1  rule2  rule3\n",
              "0            1   10694    600.11  ...  True   True   True\n",
              "\n",
              "[1 rows x 12 columns]"
            ]
          },
          "metadata": {
            "tags": []
          },
          "execution_count": 290
        }
      ]
    },
    {
      "cell_type": "code",
      "metadata": {
        "id": "cTxpNRECmYk_",
        "outputId": "acdf0e26-0d73-421b-e759-c63a6f336033",
        "colab": {
          "base_uri": "https://localhost:8080/",
          "height": 112
        }
      },
      "source": [
        "cust1.valid_loads"
      ],
      "execution_count": 291,
      "outputs": [
        {
          "output_type": "execute_result",
          "data": {
            "text/html": [
              "<div>\n",
              "<style scoped>\n",
              "    .dataframe tbody tr th:only-of-type {\n",
              "        vertical-align: middle;\n",
              "    }\n",
              "\n",
              "    .dataframe tbody tr th {\n",
              "        vertical-align: top;\n",
              "    }\n",
              "\n",
              "    .dataframe thead th {\n",
              "        text-align: right;\n",
              "    }\n",
              "</style>\n",
              "<table border=\"1\" class=\"dataframe\">\n",
              "  <thead>\n",
              "    <tr style=\"text-align: right;\">\n",
              "      <th></th>\n",
              "      <th>customer_id</th>\n",
              "      <th>load_id</th>\n",
              "      <th>load_amt</th>\n",
              "      <th>load_time</th>\n",
              "      <th>load_week_num</th>\n",
              "      <th>load_day_num</th>\n",
              "      <th>approved_status</th>\n",
              "      <th>ruleA</th>\n",
              "      <th>ruleB</th>\n",
              "      <th>rule1</th>\n",
              "      <th>rule2</th>\n",
              "      <th>rule3</th>\n",
              "      <th>cum_weekly_deps</th>\n",
              "      <th>cum_daily_deps</th>\n",
              "      <th>num_daily_deps</th>\n",
              "      <th>weekly_deps_left</th>\n",
              "      <th>daily_deps_left</th>\n",
              "      <th>num_daily_deps_left</th>\n",
              "    </tr>\n",
              "  </thead>\n",
              "  <tbody>\n",
              "    <tr>\n",
              "      <th>0</th>\n",
              "      <td>1</td>\n",
              "      <td>10694</td>\n",
              "      <td>600.11</td>\n",
              "      <td>2000-01-01T03:04:06Z</td>\n",
              "      <td>2052</td>\n",
              "      <td>2001</td>\n",
              "      <td>True</td>\n",
              "      <td>True</td>\n",
              "      <td>True</td>\n",
              "      <td>True</td>\n",
              "      <td>True</td>\n",
              "      <td>True</td>\n",
              "      <td>600.11</td>\n",
              "      <td>600.11</td>\n",
              "      <td>1</td>\n",
              "      <td>19399.89</td>\n",
              "      <td>4399.89</td>\n",
              "      <td>2</td>\n",
              "    </tr>\n",
              "  </tbody>\n",
              "</table>\n",
              "</div>"
            ],
            "text/plain": [
              "   customer_id load_id  ...  daily_deps_left num_daily_deps_left\n",
              "0            1   10694  ...          4399.89                   2\n",
              "\n",
              "[1 rows x 18 columns]"
            ]
          },
          "metadata": {
            "tags": []
          },
          "execution_count": 291
        }
      ]
    },
    {
      "cell_type": "code",
      "metadata": {
        "id": "S_idscLPmaT5",
        "outputId": "4a9708d2-edd0-433b-f5c7-159bf9893822",
        "colab": {
          "base_uri": "https://localhost:8080/",
          "height": 170
        }
      },
      "source": [
        "cust1.process_load(Load('10695', '$600.11', '2000-01-02T03:04:06Z'))\n",
        "cust1.load_hist"
      ],
      "execution_count": 292,
      "outputs": [
        {
          "output_type": "stream",
          "text": [
            "self.daily_loads_left before:3\n",
            "Get daily loads left function\n",
            "self.daily_loads_left after:2\n",
            "All Rules Passed ... Load Added\n"
          ],
          "name": "stdout"
        },
        {
          "output_type": "execute_result",
          "data": {
            "text/html": [
              "<div>\n",
              "<style scoped>\n",
              "    .dataframe tbody tr th:only-of-type {\n",
              "        vertical-align: middle;\n",
              "    }\n",
              "\n",
              "    .dataframe tbody tr th {\n",
              "        vertical-align: top;\n",
              "    }\n",
              "\n",
              "    .dataframe thead th {\n",
              "        text-align: right;\n",
              "    }\n",
              "</style>\n",
              "<table border=\"1\" class=\"dataframe\">\n",
              "  <thead>\n",
              "    <tr style=\"text-align: right;\">\n",
              "      <th></th>\n",
              "      <th>customer_id</th>\n",
              "      <th>load_id</th>\n",
              "      <th>load_amt</th>\n",
              "      <th>load_time</th>\n",
              "      <th>load_week_num</th>\n",
              "      <th>load_day_num</th>\n",
              "      <th>approved_status</th>\n",
              "      <th>ruleA</th>\n",
              "      <th>ruleB</th>\n",
              "      <th>rule1</th>\n",
              "      <th>rule2</th>\n",
              "      <th>rule3</th>\n",
              "    </tr>\n",
              "  </thead>\n",
              "  <tbody>\n",
              "    <tr>\n",
              "      <th>0</th>\n",
              "      <td>1</td>\n",
              "      <td>10694</td>\n",
              "      <td>600.11</td>\n",
              "      <td>2000-01-01T03:04:06Z</td>\n",
              "      <td>2052</td>\n",
              "      <td>2001</td>\n",
              "      <td>True</td>\n",
              "      <td>True</td>\n",
              "      <td>True</td>\n",
              "      <td>True</td>\n",
              "      <td>True</td>\n",
              "      <td>True</td>\n",
              "    </tr>\n",
              "    <tr>\n",
              "      <th>1</th>\n",
              "      <td>1</td>\n",
              "      <td>10695</td>\n",
              "      <td>600.11</td>\n",
              "      <td>2000-01-02T03:04:06Z</td>\n",
              "      <td>2052</td>\n",
              "      <td>2002</td>\n",
              "      <td>True</td>\n",
              "      <td>True</td>\n",
              "      <td>True</td>\n",
              "      <td>True</td>\n",
              "      <td>True</td>\n",
              "      <td>True</td>\n",
              "    </tr>\n",
              "  </tbody>\n",
              "</table>\n",
              "</div>"
            ],
            "text/plain": [
              "   customer_id load_id  load_amt  ... rule1  rule2  rule3\n",
              "0            1   10694    600.11  ...  True   True   True\n",
              "1            1   10695    600.11  ...  True   True   True\n",
              "\n",
              "[2 rows x 12 columns]"
            ]
          },
          "metadata": {
            "tags": []
          },
          "execution_count": 292
        }
      ]
    },
    {
      "cell_type": "code",
      "metadata": {
        "id": "_5mihkrSmeAh",
        "outputId": "886286ad-7979-45af-cabd-273478d48628",
        "colab": {
          "base_uri": "https://localhost:8080/",
          "height": 157
        }
      },
      "source": [
        "cust1.valid_loads"
      ],
      "execution_count": 293,
      "outputs": [
        {
          "output_type": "execute_result",
          "data": {
            "text/html": [
              "<div>\n",
              "<style scoped>\n",
              "    .dataframe tbody tr th:only-of-type {\n",
              "        vertical-align: middle;\n",
              "    }\n",
              "\n",
              "    .dataframe tbody tr th {\n",
              "        vertical-align: top;\n",
              "    }\n",
              "\n",
              "    .dataframe thead th {\n",
              "        text-align: right;\n",
              "    }\n",
              "</style>\n",
              "<table border=\"1\" class=\"dataframe\">\n",
              "  <thead>\n",
              "    <tr style=\"text-align: right;\">\n",
              "      <th></th>\n",
              "      <th>customer_id</th>\n",
              "      <th>load_id</th>\n",
              "      <th>load_amt</th>\n",
              "      <th>load_time</th>\n",
              "      <th>load_week_num</th>\n",
              "      <th>load_day_num</th>\n",
              "      <th>approved_status</th>\n",
              "      <th>ruleA</th>\n",
              "      <th>ruleB</th>\n",
              "      <th>rule1</th>\n",
              "      <th>rule2</th>\n",
              "      <th>rule3</th>\n",
              "      <th>cum_weekly_deps</th>\n",
              "      <th>cum_daily_deps</th>\n",
              "      <th>num_daily_deps</th>\n",
              "      <th>weekly_deps_left</th>\n",
              "      <th>daily_deps_left</th>\n",
              "      <th>num_daily_deps_left</th>\n",
              "    </tr>\n",
              "  </thead>\n",
              "  <tbody>\n",
              "    <tr>\n",
              "      <th>0</th>\n",
              "      <td>1</td>\n",
              "      <td>10694</td>\n",
              "      <td>600.11</td>\n",
              "      <td>2000-01-01T03:04:06Z</td>\n",
              "      <td>2052</td>\n",
              "      <td>2001</td>\n",
              "      <td>True</td>\n",
              "      <td>True</td>\n",
              "      <td>True</td>\n",
              "      <td>True</td>\n",
              "      <td>True</td>\n",
              "      <td>True</td>\n",
              "      <td>600.11</td>\n",
              "      <td>600.11</td>\n",
              "      <td>1</td>\n",
              "      <td>19399.89</td>\n",
              "      <td>4399.89</td>\n",
              "      <td>2</td>\n",
              "    </tr>\n",
              "    <tr>\n",
              "      <th>1</th>\n",
              "      <td>1</td>\n",
              "      <td>10695</td>\n",
              "      <td>600.11</td>\n",
              "      <td>2000-01-02T03:04:06Z</td>\n",
              "      <td>2052</td>\n",
              "      <td>2002</td>\n",
              "      <td>True</td>\n",
              "      <td>True</td>\n",
              "      <td>True</td>\n",
              "      <td>True</td>\n",
              "      <td>True</td>\n",
              "      <td>True</td>\n",
              "      <td>1200.22</td>\n",
              "      <td>600.11</td>\n",
              "      <td>1</td>\n",
              "      <td>18799.78</td>\n",
              "      <td>4399.89</td>\n",
              "      <td>2</td>\n",
              "    </tr>\n",
              "  </tbody>\n",
              "</table>\n",
              "</div>"
            ],
            "text/plain": [
              "   customer_id load_id  ...  daily_deps_left num_daily_deps_left\n",
              "0            1   10694  ...          4399.89                   2\n",
              "1            1   10695  ...          4399.89                   2\n",
              "\n",
              "[2 rows x 18 columns]"
            ]
          },
          "metadata": {
            "tags": []
          },
          "execution_count": 293
        }
      ]
    },
    {
      "cell_type": "code",
      "metadata": {
        "id": "ZNWiEAATmfTn",
        "outputId": "b63cbf64-750e-4a3a-860d-cbfa87604ea3",
        "colab": {
          "base_uri": "https://localhost:8080/",
          "height": 198
        }
      },
      "source": [
        "cust1.process_load(Load('10696', '$600.11', '2000-01-02T03:05:06Z'))\n",
        "cust1.load_hist"
      ],
      "execution_count": 294,
      "outputs": [
        {
          "output_type": "stream",
          "text": [
            "self.daily_loads_left before:2\n",
            "Get daily loads left function\n",
            "self.daily_loads_left after:1\n",
            "All Rules Passed ... Load Added\n"
          ],
          "name": "stdout"
        },
        {
          "output_type": "execute_result",
          "data": {
            "text/html": [
              "<div>\n",
              "<style scoped>\n",
              "    .dataframe tbody tr th:only-of-type {\n",
              "        vertical-align: middle;\n",
              "    }\n",
              "\n",
              "    .dataframe tbody tr th {\n",
              "        vertical-align: top;\n",
              "    }\n",
              "\n",
              "    .dataframe thead th {\n",
              "        text-align: right;\n",
              "    }\n",
              "</style>\n",
              "<table border=\"1\" class=\"dataframe\">\n",
              "  <thead>\n",
              "    <tr style=\"text-align: right;\">\n",
              "      <th></th>\n",
              "      <th>customer_id</th>\n",
              "      <th>load_id</th>\n",
              "      <th>load_amt</th>\n",
              "      <th>load_time</th>\n",
              "      <th>load_week_num</th>\n",
              "      <th>load_day_num</th>\n",
              "      <th>approved_status</th>\n",
              "      <th>ruleA</th>\n",
              "      <th>ruleB</th>\n",
              "      <th>rule1</th>\n",
              "      <th>rule2</th>\n",
              "      <th>rule3</th>\n",
              "    </tr>\n",
              "  </thead>\n",
              "  <tbody>\n",
              "    <tr>\n",
              "      <th>0</th>\n",
              "      <td>1</td>\n",
              "      <td>10694</td>\n",
              "      <td>600.11</td>\n",
              "      <td>2000-01-01T03:04:06Z</td>\n",
              "      <td>2052</td>\n",
              "      <td>2001</td>\n",
              "      <td>True</td>\n",
              "      <td>True</td>\n",
              "      <td>True</td>\n",
              "      <td>True</td>\n",
              "      <td>True</td>\n",
              "      <td>True</td>\n",
              "    </tr>\n",
              "    <tr>\n",
              "      <th>1</th>\n",
              "      <td>1</td>\n",
              "      <td>10695</td>\n",
              "      <td>600.11</td>\n",
              "      <td>2000-01-02T03:04:06Z</td>\n",
              "      <td>2052</td>\n",
              "      <td>2002</td>\n",
              "      <td>True</td>\n",
              "      <td>True</td>\n",
              "      <td>True</td>\n",
              "      <td>True</td>\n",
              "      <td>True</td>\n",
              "      <td>True</td>\n",
              "    </tr>\n",
              "    <tr>\n",
              "      <th>2</th>\n",
              "      <td>1</td>\n",
              "      <td>10696</td>\n",
              "      <td>600.11</td>\n",
              "      <td>2000-01-02T03:05:06Z</td>\n",
              "      <td>2052</td>\n",
              "      <td>2002</td>\n",
              "      <td>True</td>\n",
              "      <td>True</td>\n",
              "      <td>True</td>\n",
              "      <td>True</td>\n",
              "      <td>True</td>\n",
              "      <td>True</td>\n",
              "    </tr>\n",
              "  </tbody>\n",
              "</table>\n",
              "</div>"
            ],
            "text/plain": [
              "   customer_id load_id  load_amt  ... rule1  rule2  rule3\n",
              "0            1   10694    600.11  ...  True   True   True\n",
              "1            1   10695    600.11  ...  True   True   True\n",
              "2            1   10696    600.11  ...  True   True   True\n",
              "\n",
              "[3 rows x 12 columns]"
            ]
          },
          "metadata": {
            "tags": []
          },
          "execution_count": 294
        }
      ]
    },
    {
      "cell_type": "code",
      "metadata": {
        "id": "i7hNtQQrmqhQ",
        "outputId": "38c453c5-080f-4b5f-b2cd-e1f1c7d17c47",
        "colab": {
          "base_uri": "https://localhost:8080/",
          "height": 202
        }
      },
      "source": [
        "cust1.valid_loads"
      ],
      "execution_count": 295,
      "outputs": [
        {
          "output_type": "execute_result",
          "data": {
            "text/html": [
              "<div>\n",
              "<style scoped>\n",
              "    .dataframe tbody tr th:only-of-type {\n",
              "        vertical-align: middle;\n",
              "    }\n",
              "\n",
              "    .dataframe tbody tr th {\n",
              "        vertical-align: top;\n",
              "    }\n",
              "\n",
              "    .dataframe thead th {\n",
              "        text-align: right;\n",
              "    }\n",
              "</style>\n",
              "<table border=\"1\" class=\"dataframe\">\n",
              "  <thead>\n",
              "    <tr style=\"text-align: right;\">\n",
              "      <th></th>\n",
              "      <th>customer_id</th>\n",
              "      <th>load_id</th>\n",
              "      <th>load_amt</th>\n",
              "      <th>load_time</th>\n",
              "      <th>load_week_num</th>\n",
              "      <th>load_day_num</th>\n",
              "      <th>approved_status</th>\n",
              "      <th>ruleA</th>\n",
              "      <th>ruleB</th>\n",
              "      <th>rule1</th>\n",
              "      <th>rule2</th>\n",
              "      <th>rule3</th>\n",
              "      <th>cum_weekly_deps</th>\n",
              "      <th>cum_daily_deps</th>\n",
              "      <th>num_daily_deps</th>\n",
              "      <th>weekly_deps_left</th>\n",
              "      <th>daily_deps_left</th>\n",
              "      <th>num_daily_deps_left</th>\n",
              "    </tr>\n",
              "  </thead>\n",
              "  <tbody>\n",
              "    <tr>\n",
              "      <th>0</th>\n",
              "      <td>1</td>\n",
              "      <td>10694</td>\n",
              "      <td>600.11</td>\n",
              "      <td>2000-01-01T03:04:06Z</td>\n",
              "      <td>2052</td>\n",
              "      <td>2001</td>\n",
              "      <td>True</td>\n",
              "      <td>True</td>\n",
              "      <td>True</td>\n",
              "      <td>True</td>\n",
              "      <td>True</td>\n",
              "      <td>True</td>\n",
              "      <td>600.11</td>\n",
              "      <td>600.11</td>\n",
              "      <td>1</td>\n",
              "      <td>19399.89</td>\n",
              "      <td>4399.89</td>\n",
              "      <td>2</td>\n",
              "    </tr>\n",
              "    <tr>\n",
              "      <th>1</th>\n",
              "      <td>1</td>\n",
              "      <td>10695</td>\n",
              "      <td>600.11</td>\n",
              "      <td>2000-01-02T03:04:06Z</td>\n",
              "      <td>2052</td>\n",
              "      <td>2002</td>\n",
              "      <td>True</td>\n",
              "      <td>True</td>\n",
              "      <td>True</td>\n",
              "      <td>True</td>\n",
              "      <td>True</td>\n",
              "      <td>True</td>\n",
              "      <td>1200.22</td>\n",
              "      <td>600.11</td>\n",
              "      <td>1</td>\n",
              "      <td>18799.78</td>\n",
              "      <td>4399.89</td>\n",
              "      <td>2</td>\n",
              "    </tr>\n",
              "    <tr>\n",
              "      <th>2</th>\n",
              "      <td>1</td>\n",
              "      <td>10696</td>\n",
              "      <td>600.11</td>\n",
              "      <td>2000-01-02T03:05:06Z</td>\n",
              "      <td>2052</td>\n",
              "      <td>2002</td>\n",
              "      <td>True</td>\n",
              "      <td>True</td>\n",
              "      <td>True</td>\n",
              "      <td>True</td>\n",
              "      <td>True</td>\n",
              "      <td>True</td>\n",
              "      <td>1800.33</td>\n",
              "      <td>1200.22</td>\n",
              "      <td>2</td>\n",
              "      <td>18199.67</td>\n",
              "      <td>3799.78</td>\n",
              "      <td>1</td>\n",
              "    </tr>\n",
              "  </tbody>\n",
              "</table>\n",
              "</div>"
            ],
            "text/plain": [
              "   customer_id load_id  ...  daily_deps_left num_daily_deps_left\n",
              "0            1   10694  ...          4399.89                   2\n",
              "1            1   10695  ...          4399.89                   2\n",
              "2            1   10696  ...          3799.78                   1\n",
              "\n",
              "[3 rows x 18 columns]"
            ]
          },
          "metadata": {
            "tags": []
          },
          "execution_count": 295
        }
      ]
    },
    {
      "cell_type": "code",
      "metadata": {
        "id": "7Ptxwnjpmrn_",
        "outputId": "bf403172-28c8-4850-bf85-8a0fa451b8e9",
        "colab": {
          "base_uri": "https://localhost:8080/",
          "height": 227
        }
      },
      "source": [
        "cust1.process_load(Load('10697', '$600.11', '2000-01-02T03:06:06Z'))\n",
        "cust1.load_hist"
      ],
      "execution_count": 296,
      "outputs": [
        {
          "output_type": "stream",
          "text": [
            "self.daily_loads_left before:1\n",
            "Get daily loads left function\n",
            "self.daily_loads_left after:0\n",
            "All Rules Passed ... Load Added\n"
          ],
          "name": "stdout"
        },
        {
          "output_type": "execute_result",
          "data": {
            "text/html": [
              "<div>\n",
              "<style scoped>\n",
              "    .dataframe tbody tr th:only-of-type {\n",
              "        vertical-align: middle;\n",
              "    }\n",
              "\n",
              "    .dataframe tbody tr th {\n",
              "        vertical-align: top;\n",
              "    }\n",
              "\n",
              "    .dataframe thead th {\n",
              "        text-align: right;\n",
              "    }\n",
              "</style>\n",
              "<table border=\"1\" class=\"dataframe\">\n",
              "  <thead>\n",
              "    <tr style=\"text-align: right;\">\n",
              "      <th></th>\n",
              "      <th>customer_id</th>\n",
              "      <th>load_id</th>\n",
              "      <th>load_amt</th>\n",
              "      <th>load_time</th>\n",
              "      <th>load_week_num</th>\n",
              "      <th>load_day_num</th>\n",
              "      <th>approved_status</th>\n",
              "      <th>ruleA</th>\n",
              "      <th>ruleB</th>\n",
              "      <th>rule1</th>\n",
              "      <th>rule2</th>\n",
              "      <th>rule3</th>\n",
              "    </tr>\n",
              "  </thead>\n",
              "  <tbody>\n",
              "    <tr>\n",
              "      <th>0</th>\n",
              "      <td>1</td>\n",
              "      <td>10694</td>\n",
              "      <td>600.11</td>\n",
              "      <td>2000-01-01T03:04:06Z</td>\n",
              "      <td>2052</td>\n",
              "      <td>2001</td>\n",
              "      <td>True</td>\n",
              "      <td>True</td>\n",
              "      <td>True</td>\n",
              "      <td>True</td>\n",
              "      <td>True</td>\n",
              "      <td>True</td>\n",
              "    </tr>\n",
              "    <tr>\n",
              "      <th>1</th>\n",
              "      <td>1</td>\n",
              "      <td>10695</td>\n",
              "      <td>600.11</td>\n",
              "      <td>2000-01-02T03:04:06Z</td>\n",
              "      <td>2052</td>\n",
              "      <td>2002</td>\n",
              "      <td>True</td>\n",
              "      <td>True</td>\n",
              "      <td>True</td>\n",
              "      <td>True</td>\n",
              "      <td>True</td>\n",
              "      <td>True</td>\n",
              "    </tr>\n",
              "    <tr>\n",
              "      <th>2</th>\n",
              "      <td>1</td>\n",
              "      <td>10696</td>\n",
              "      <td>600.11</td>\n",
              "      <td>2000-01-02T03:05:06Z</td>\n",
              "      <td>2052</td>\n",
              "      <td>2002</td>\n",
              "      <td>True</td>\n",
              "      <td>True</td>\n",
              "      <td>True</td>\n",
              "      <td>True</td>\n",
              "      <td>True</td>\n",
              "      <td>True</td>\n",
              "    </tr>\n",
              "    <tr>\n",
              "      <th>3</th>\n",
              "      <td>1</td>\n",
              "      <td>10697</td>\n",
              "      <td>600.11</td>\n",
              "      <td>2000-01-02T03:06:06Z</td>\n",
              "      <td>2052</td>\n",
              "      <td>2002</td>\n",
              "      <td>True</td>\n",
              "      <td>True</td>\n",
              "      <td>True</td>\n",
              "      <td>True</td>\n",
              "      <td>True</td>\n",
              "      <td>True</td>\n",
              "    </tr>\n",
              "  </tbody>\n",
              "</table>\n",
              "</div>"
            ],
            "text/plain": [
              "   customer_id load_id  load_amt  ... rule1  rule2  rule3\n",
              "0            1   10694    600.11  ...  True   True   True\n",
              "1            1   10695    600.11  ...  True   True   True\n",
              "2            1   10696    600.11  ...  True   True   True\n",
              "3            1   10697    600.11  ...  True   True   True\n",
              "\n",
              "[4 rows x 12 columns]"
            ]
          },
          "metadata": {
            "tags": []
          },
          "execution_count": 296
        }
      ]
    },
    {
      "cell_type": "code",
      "metadata": {
        "id": "20BqJzTjmuUf",
        "outputId": "eb39fede-2f24-4df7-8472-097bf3aeef0d",
        "colab": {
          "base_uri": "https://localhost:8080/",
          "height": 247
        }
      },
      "source": [
        "cust1.valid_loads"
      ],
      "execution_count": 297,
      "outputs": [
        {
          "output_type": "execute_result",
          "data": {
            "text/html": [
              "<div>\n",
              "<style scoped>\n",
              "    .dataframe tbody tr th:only-of-type {\n",
              "        vertical-align: middle;\n",
              "    }\n",
              "\n",
              "    .dataframe tbody tr th {\n",
              "        vertical-align: top;\n",
              "    }\n",
              "\n",
              "    .dataframe thead th {\n",
              "        text-align: right;\n",
              "    }\n",
              "</style>\n",
              "<table border=\"1\" class=\"dataframe\">\n",
              "  <thead>\n",
              "    <tr style=\"text-align: right;\">\n",
              "      <th></th>\n",
              "      <th>customer_id</th>\n",
              "      <th>load_id</th>\n",
              "      <th>load_amt</th>\n",
              "      <th>load_time</th>\n",
              "      <th>load_week_num</th>\n",
              "      <th>load_day_num</th>\n",
              "      <th>approved_status</th>\n",
              "      <th>ruleA</th>\n",
              "      <th>ruleB</th>\n",
              "      <th>rule1</th>\n",
              "      <th>rule2</th>\n",
              "      <th>rule3</th>\n",
              "      <th>cum_weekly_deps</th>\n",
              "      <th>cum_daily_deps</th>\n",
              "      <th>num_daily_deps</th>\n",
              "      <th>weekly_deps_left</th>\n",
              "      <th>daily_deps_left</th>\n",
              "      <th>num_daily_deps_left</th>\n",
              "    </tr>\n",
              "  </thead>\n",
              "  <tbody>\n",
              "    <tr>\n",
              "      <th>0</th>\n",
              "      <td>1</td>\n",
              "      <td>10694</td>\n",
              "      <td>600.11</td>\n",
              "      <td>2000-01-01T03:04:06Z</td>\n",
              "      <td>2052</td>\n",
              "      <td>2001</td>\n",
              "      <td>True</td>\n",
              "      <td>True</td>\n",
              "      <td>True</td>\n",
              "      <td>True</td>\n",
              "      <td>True</td>\n",
              "      <td>True</td>\n",
              "      <td>600.11</td>\n",
              "      <td>600.11</td>\n",
              "      <td>1</td>\n",
              "      <td>19399.89</td>\n",
              "      <td>4399.89</td>\n",
              "      <td>2</td>\n",
              "    </tr>\n",
              "    <tr>\n",
              "      <th>1</th>\n",
              "      <td>1</td>\n",
              "      <td>10695</td>\n",
              "      <td>600.11</td>\n",
              "      <td>2000-01-02T03:04:06Z</td>\n",
              "      <td>2052</td>\n",
              "      <td>2002</td>\n",
              "      <td>True</td>\n",
              "      <td>True</td>\n",
              "      <td>True</td>\n",
              "      <td>True</td>\n",
              "      <td>True</td>\n",
              "      <td>True</td>\n",
              "      <td>1200.22</td>\n",
              "      <td>600.11</td>\n",
              "      <td>1</td>\n",
              "      <td>18799.78</td>\n",
              "      <td>4399.89</td>\n",
              "      <td>2</td>\n",
              "    </tr>\n",
              "    <tr>\n",
              "      <th>2</th>\n",
              "      <td>1</td>\n",
              "      <td>10696</td>\n",
              "      <td>600.11</td>\n",
              "      <td>2000-01-02T03:05:06Z</td>\n",
              "      <td>2052</td>\n",
              "      <td>2002</td>\n",
              "      <td>True</td>\n",
              "      <td>True</td>\n",
              "      <td>True</td>\n",
              "      <td>True</td>\n",
              "      <td>True</td>\n",
              "      <td>True</td>\n",
              "      <td>1800.33</td>\n",
              "      <td>1200.22</td>\n",
              "      <td>2</td>\n",
              "      <td>18199.67</td>\n",
              "      <td>3799.78</td>\n",
              "      <td>1</td>\n",
              "    </tr>\n",
              "    <tr>\n",
              "      <th>3</th>\n",
              "      <td>1</td>\n",
              "      <td>10697</td>\n",
              "      <td>600.11</td>\n",
              "      <td>2000-01-02T03:06:06Z</td>\n",
              "      <td>2052</td>\n",
              "      <td>2002</td>\n",
              "      <td>True</td>\n",
              "      <td>True</td>\n",
              "      <td>True</td>\n",
              "      <td>True</td>\n",
              "      <td>True</td>\n",
              "      <td>True</td>\n",
              "      <td>2400.44</td>\n",
              "      <td>1800.33</td>\n",
              "      <td>3</td>\n",
              "      <td>17599.56</td>\n",
              "      <td>3199.67</td>\n",
              "      <td>0</td>\n",
              "    </tr>\n",
              "  </tbody>\n",
              "</table>\n",
              "</div>"
            ],
            "text/plain": [
              "   customer_id load_id  ...  daily_deps_left num_daily_deps_left\n",
              "0            1   10694  ...          4399.89                   2\n",
              "1            1   10695  ...          4399.89                   2\n",
              "2            1   10696  ...          3799.78                   1\n",
              "3            1   10697  ...          3199.67                   0\n",
              "\n",
              "[4 rows x 18 columns]"
            ]
          },
          "metadata": {
            "tags": []
          },
          "execution_count": 297
        }
      ]
    },
    {
      "cell_type": "code",
      "metadata": {
        "id": "53FvQE60mxE4",
        "outputId": "96c5e66d-51fc-4845-d34e-e206bc88d399",
        "colab": {
          "base_uri": "https://localhost:8080/",
          "height": 223
        }
      },
      "source": [
        "cust1.process_load(Load('10698', '$600.11', '2000-01-02T03:07:06Z'))\n",
        "cust1.load_hist"
      ],
      "execution_count": 298,
      "outputs": [
        {
          "output_type": "stream",
          "text": [
            "ERROR: Number of allowed daily deposits exceeded\n",
            "Load Rejected\n"
          ],
          "name": "stdout"
        },
        {
          "output_type": "execute_result",
          "data": {
            "text/html": [
              "<div>\n",
              "<style scoped>\n",
              "    .dataframe tbody tr th:only-of-type {\n",
              "        vertical-align: middle;\n",
              "    }\n",
              "\n",
              "    .dataframe tbody tr th {\n",
              "        vertical-align: top;\n",
              "    }\n",
              "\n",
              "    .dataframe thead th {\n",
              "        text-align: right;\n",
              "    }\n",
              "</style>\n",
              "<table border=\"1\" class=\"dataframe\">\n",
              "  <thead>\n",
              "    <tr style=\"text-align: right;\">\n",
              "      <th></th>\n",
              "      <th>customer_id</th>\n",
              "      <th>load_id</th>\n",
              "      <th>load_amt</th>\n",
              "      <th>load_time</th>\n",
              "      <th>load_week_num</th>\n",
              "      <th>load_day_num</th>\n",
              "      <th>approved_status</th>\n",
              "      <th>ruleA</th>\n",
              "      <th>ruleB</th>\n",
              "      <th>rule1</th>\n",
              "      <th>rule2</th>\n",
              "      <th>rule3</th>\n",
              "    </tr>\n",
              "  </thead>\n",
              "  <tbody>\n",
              "    <tr>\n",
              "      <th>0</th>\n",
              "      <td>1</td>\n",
              "      <td>10694</td>\n",
              "      <td>600.11</td>\n",
              "      <td>2000-01-01T03:04:06Z</td>\n",
              "      <td>2052</td>\n",
              "      <td>2001</td>\n",
              "      <td>True</td>\n",
              "      <td>True</td>\n",
              "      <td>True</td>\n",
              "      <td>True</td>\n",
              "      <td>True</td>\n",
              "      <td>True</td>\n",
              "    </tr>\n",
              "    <tr>\n",
              "      <th>1</th>\n",
              "      <td>1</td>\n",
              "      <td>10695</td>\n",
              "      <td>600.11</td>\n",
              "      <td>2000-01-02T03:04:06Z</td>\n",
              "      <td>2052</td>\n",
              "      <td>2002</td>\n",
              "      <td>True</td>\n",
              "      <td>True</td>\n",
              "      <td>True</td>\n",
              "      <td>True</td>\n",
              "      <td>True</td>\n",
              "      <td>True</td>\n",
              "    </tr>\n",
              "    <tr>\n",
              "      <th>2</th>\n",
              "      <td>1</td>\n",
              "      <td>10696</td>\n",
              "      <td>600.11</td>\n",
              "      <td>2000-01-02T03:05:06Z</td>\n",
              "      <td>2052</td>\n",
              "      <td>2002</td>\n",
              "      <td>True</td>\n",
              "      <td>True</td>\n",
              "      <td>True</td>\n",
              "      <td>True</td>\n",
              "      <td>True</td>\n",
              "      <td>True</td>\n",
              "    </tr>\n",
              "    <tr>\n",
              "      <th>3</th>\n",
              "      <td>1</td>\n",
              "      <td>10697</td>\n",
              "      <td>600.11</td>\n",
              "      <td>2000-01-02T03:06:06Z</td>\n",
              "      <td>2052</td>\n",
              "      <td>2002</td>\n",
              "      <td>True</td>\n",
              "      <td>True</td>\n",
              "      <td>True</td>\n",
              "      <td>True</td>\n",
              "      <td>True</td>\n",
              "      <td>True</td>\n",
              "    </tr>\n",
              "    <tr>\n",
              "      <th>4</th>\n",
              "      <td>1</td>\n",
              "      <td>10698</td>\n",
              "      <td>600.11</td>\n",
              "      <td>2000-01-02T03:07:06Z</td>\n",
              "      <td>2052</td>\n",
              "      <td>2002</td>\n",
              "      <td>False</td>\n",
              "      <td>True</td>\n",
              "      <td>True</td>\n",
              "      <td>True</td>\n",
              "      <td>False</td>\n",
              "      <td>True</td>\n",
              "    </tr>\n",
              "  </tbody>\n",
              "</table>\n",
              "</div>"
            ],
            "text/plain": [
              "   customer_id load_id  load_amt  ... rule1  rule2  rule3\n",
              "0            1   10694    600.11  ...  True   True   True\n",
              "1            1   10695    600.11  ...  True   True   True\n",
              "2            1   10696    600.11  ...  True   True   True\n",
              "3            1   10697    600.11  ...  True   True   True\n",
              "4            1   10698    600.11  ...  True  False   True\n",
              "\n",
              "[5 rows x 12 columns]"
            ]
          },
          "metadata": {
            "tags": []
          },
          "execution_count": 298
        }
      ]
    },
    {
      "cell_type": "markdown",
      "metadata": {
        "id": "DJtd7um9nHFW"
      },
      "source": [
        "### Daily Deposit Amount over multiple days "
      ]
    },
    {
      "cell_type": "code",
      "metadata": {
        "id": "zhgY5ajrm2BP",
        "outputId": "7f10138e-7dfb-40cf-e811-fb5c9e622079",
        "colab": {
          "base_uri": "https://localhost:8080/",
          "height": 141
        }
      },
      "source": [
        "cust1 = Customer(1)\n",
        "cust1.process_load(Load('10694', '$300.11', '2000-01-01T03:04:06Z'))\n",
        "cust1.load_hist"
      ],
      "execution_count": 299,
      "outputs": [
        {
          "output_type": "stream",
          "text": [
            "self.daily_loads_left before:3\n",
            "Get daily loads left function\n",
            "self.daily_loads_left after:2\n",
            "All Rules Passed ... Load Added\n"
          ],
          "name": "stdout"
        },
        {
          "output_type": "execute_result",
          "data": {
            "text/html": [
              "<div>\n",
              "<style scoped>\n",
              "    .dataframe tbody tr th:only-of-type {\n",
              "        vertical-align: middle;\n",
              "    }\n",
              "\n",
              "    .dataframe tbody tr th {\n",
              "        vertical-align: top;\n",
              "    }\n",
              "\n",
              "    .dataframe thead th {\n",
              "        text-align: right;\n",
              "    }\n",
              "</style>\n",
              "<table border=\"1\" class=\"dataframe\">\n",
              "  <thead>\n",
              "    <tr style=\"text-align: right;\">\n",
              "      <th></th>\n",
              "      <th>customer_id</th>\n",
              "      <th>load_id</th>\n",
              "      <th>load_amt</th>\n",
              "      <th>load_time</th>\n",
              "      <th>load_week_num</th>\n",
              "      <th>load_day_num</th>\n",
              "      <th>approved_status</th>\n",
              "      <th>ruleA</th>\n",
              "      <th>ruleB</th>\n",
              "      <th>rule1</th>\n",
              "      <th>rule2</th>\n",
              "      <th>rule3</th>\n",
              "    </tr>\n",
              "  </thead>\n",
              "  <tbody>\n",
              "    <tr>\n",
              "      <th>0</th>\n",
              "      <td>1</td>\n",
              "      <td>10694</td>\n",
              "      <td>300.11</td>\n",
              "      <td>2000-01-01T03:04:06Z</td>\n",
              "      <td>2052</td>\n",
              "      <td>2001</td>\n",
              "      <td>True</td>\n",
              "      <td>True</td>\n",
              "      <td>True</td>\n",
              "      <td>True</td>\n",
              "      <td>True</td>\n",
              "      <td>True</td>\n",
              "    </tr>\n",
              "  </tbody>\n",
              "</table>\n",
              "</div>"
            ],
            "text/plain": [
              "   customer_id load_id  load_amt  ... rule1  rule2  rule3\n",
              "0            1   10694    300.11  ...  True   True   True\n",
              "\n",
              "[1 rows x 12 columns]"
            ]
          },
          "metadata": {
            "tags": []
          },
          "execution_count": 299
        }
      ]
    },
    {
      "cell_type": "code",
      "metadata": {
        "id": "V42E_y6qnKmV",
        "outputId": "4b80bca8-fdd4-4fac-b6fa-0317f2dac939",
        "colab": {
          "base_uri": "https://localhost:8080/",
          "height": 170
        }
      },
      "source": [
        "cust1.process_load(Load('10695', '$3000.11', '2000-01-02T03:04:06Z'))\n",
        "cust1.load_hist"
      ],
      "execution_count": 300,
      "outputs": [
        {
          "output_type": "stream",
          "text": [
            "self.daily_loads_left before:3\n",
            "Get daily loads left function\n",
            "self.daily_loads_left after:2\n",
            "All Rules Passed ... Load Added\n"
          ],
          "name": "stdout"
        },
        {
          "output_type": "execute_result",
          "data": {
            "text/html": [
              "<div>\n",
              "<style scoped>\n",
              "    .dataframe tbody tr th:only-of-type {\n",
              "        vertical-align: middle;\n",
              "    }\n",
              "\n",
              "    .dataframe tbody tr th {\n",
              "        vertical-align: top;\n",
              "    }\n",
              "\n",
              "    .dataframe thead th {\n",
              "        text-align: right;\n",
              "    }\n",
              "</style>\n",
              "<table border=\"1\" class=\"dataframe\">\n",
              "  <thead>\n",
              "    <tr style=\"text-align: right;\">\n",
              "      <th></th>\n",
              "      <th>customer_id</th>\n",
              "      <th>load_id</th>\n",
              "      <th>load_amt</th>\n",
              "      <th>load_time</th>\n",
              "      <th>load_week_num</th>\n",
              "      <th>load_day_num</th>\n",
              "      <th>approved_status</th>\n",
              "      <th>ruleA</th>\n",
              "      <th>ruleB</th>\n",
              "      <th>rule1</th>\n",
              "      <th>rule2</th>\n",
              "      <th>rule3</th>\n",
              "    </tr>\n",
              "  </thead>\n",
              "  <tbody>\n",
              "    <tr>\n",
              "      <th>0</th>\n",
              "      <td>1</td>\n",
              "      <td>10694</td>\n",
              "      <td>300.11</td>\n",
              "      <td>2000-01-01T03:04:06Z</td>\n",
              "      <td>2052</td>\n",
              "      <td>2001</td>\n",
              "      <td>True</td>\n",
              "      <td>True</td>\n",
              "      <td>True</td>\n",
              "      <td>True</td>\n",
              "      <td>True</td>\n",
              "      <td>True</td>\n",
              "    </tr>\n",
              "    <tr>\n",
              "      <th>1</th>\n",
              "      <td>1</td>\n",
              "      <td>10695</td>\n",
              "      <td>3000.11</td>\n",
              "      <td>2000-01-02T03:04:06Z</td>\n",
              "      <td>2052</td>\n",
              "      <td>2002</td>\n",
              "      <td>True</td>\n",
              "      <td>True</td>\n",
              "      <td>True</td>\n",
              "      <td>True</td>\n",
              "      <td>True</td>\n",
              "      <td>True</td>\n",
              "    </tr>\n",
              "  </tbody>\n",
              "</table>\n",
              "</div>"
            ],
            "text/plain": [
              "   customer_id load_id  load_amt  ... rule1  rule2  rule3\n",
              "0            1   10694    300.11  ...  True   True   True\n",
              "1            1   10695   3000.11  ...  True   True   True\n",
              "\n",
              "[2 rows x 12 columns]"
            ]
          },
          "metadata": {
            "tags": []
          },
          "execution_count": 300
        }
      ]
    },
    {
      "cell_type": "code",
      "metadata": {
        "id": "4BjJp3punQig",
        "outputId": "197b2f8d-19c1-4dd8-bca0-0f3c68894cb4",
        "colab": {
          "base_uri": "https://localhost:8080/",
          "height": 157
        }
      },
      "source": [
        "cust1.valid_loads"
      ],
      "execution_count": 301,
      "outputs": [
        {
          "output_type": "execute_result",
          "data": {
            "text/html": [
              "<div>\n",
              "<style scoped>\n",
              "    .dataframe tbody tr th:only-of-type {\n",
              "        vertical-align: middle;\n",
              "    }\n",
              "\n",
              "    .dataframe tbody tr th {\n",
              "        vertical-align: top;\n",
              "    }\n",
              "\n",
              "    .dataframe thead th {\n",
              "        text-align: right;\n",
              "    }\n",
              "</style>\n",
              "<table border=\"1\" class=\"dataframe\">\n",
              "  <thead>\n",
              "    <tr style=\"text-align: right;\">\n",
              "      <th></th>\n",
              "      <th>customer_id</th>\n",
              "      <th>load_id</th>\n",
              "      <th>load_amt</th>\n",
              "      <th>load_time</th>\n",
              "      <th>load_week_num</th>\n",
              "      <th>load_day_num</th>\n",
              "      <th>approved_status</th>\n",
              "      <th>ruleA</th>\n",
              "      <th>ruleB</th>\n",
              "      <th>rule1</th>\n",
              "      <th>rule2</th>\n",
              "      <th>rule3</th>\n",
              "      <th>cum_weekly_deps</th>\n",
              "      <th>cum_daily_deps</th>\n",
              "      <th>num_daily_deps</th>\n",
              "      <th>weekly_deps_left</th>\n",
              "      <th>daily_deps_left</th>\n",
              "      <th>num_daily_deps_left</th>\n",
              "    </tr>\n",
              "  </thead>\n",
              "  <tbody>\n",
              "    <tr>\n",
              "      <th>0</th>\n",
              "      <td>1</td>\n",
              "      <td>10694</td>\n",
              "      <td>300.11</td>\n",
              "      <td>2000-01-01T03:04:06Z</td>\n",
              "      <td>2052</td>\n",
              "      <td>2001</td>\n",
              "      <td>True</td>\n",
              "      <td>True</td>\n",
              "      <td>True</td>\n",
              "      <td>True</td>\n",
              "      <td>True</td>\n",
              "      <td>True</td>\n",
              "      <td>300.11</td>\n",
              "      <td>300.11</td>\n",
              "      <td>1</td>\n",
              "      <td>19699.89</td>\n",
              "      <td>4699.89</td>\n",
              "      <td>2</td>\n",
              "    </tr>\n",
              "    <tr>\n",
              "      <th>1</th>\n",
              "      <td>1</td>\n",
              "      <td>10695</td>\n",
              "      <td>3000.11</td>\n",
              "      <td>2000-01-02T03:04:06Z</td>\n",
              "      <td>2052</td>\n",
              "      <td>2002</td>\n",
              "      <td>True</td>\n",
              "      <td>True</td>\n",
              "      <td>True</td>\n",
              "      <td>True</td>\n",
              "      <td>True</td>\n",
              "      <td>True</td>\n",
              "      <td>3300.22</td>\n",
              "      <td>3000.11</td>\n",
              "      <td>1</td>\n",
              "      <td>16699.78</td>\n",
              "      <td>1999.89</td>\n",
              "      <td>2</td>\n",
              "    </tr>\n",
              "  </tbody>\n",
              "</table>\n",
              "</div>"
            ],
            "text/plain": [
              "   customer_id load_id  ...  daily_deps_left num_daily_deps_left\n",
              "0            1   10694  ...          4699.89                   2\n",
              "1            1   10695  ...          1999.89                   2\n",
              "\n",
              "[2 rows x 18 columns]"
            ]
          },
          "metadata": {
            "tags": []
          },
          "execution_count": 301
        }
      ]
    },
    {
      "cell_type": "code",
      "metadata": {
        "id": "RYHJSUSknScV",
        "outputId": "e6051d3c-6f86-4eda-de17-6c64025fb59e",
        "colab": {
          "base_uri": "https://localhost:8080/",
          "height": 166
        }
      },
      "source": [
        "cust1.process_load(Load('10696', '$3000.11', '2000-01-02T03:05:06Z'))\n",
        "cust1.load_hist"
      ],
      "execution_count": 302,
      "outputs": [
        {
          "output_type": "stream",
          "text": [
            "ERROR: No room for daily deposits left\n",
            "Load Rejected\n"
          ],
          "name": "stdout"
        },
        {
          "output_type": "execute_result",
          "data": {
            "text/html": [
              "<div>\n",
              "<style scoped>\n",
              "    .dataframe tbody tr th:only-of-type {\n",
              "        vertical-align: middle;\n",
              "    }\n",
              "\n",
              "    .dataframe tbody tr th {\n",
              "        vertical-align: top;\n",
              "    }\n",
              "\n",
              "    .dataframe thead th {\n",
              "        text-align: right;\n",
              "    }\n",
              "</style>\n",
              "<table border=\"1\" class=\"dataframe\">\n",
              "  <thead>\n",
              "    <tr style=\"text-align: right;\">\n",
              "      <th></th>\n",
              "      <th>customer_id</th>\n",
              "      <th>load_id</th>\n",
              "      <th>load_amt</th>\n",
              "      <th>load_time</th>\n",
              "      <th>load_week_num</th>\n",
              "      <th>load_day_num</th>\n",
              "      <th>approved_status</th>\n",
              "      <th>ruleA</th>\n",
              "      <th>ruleB</th>\n",
              "      <th>rule1</th>\n",
              "      <th>rule2</th>\n",
              "      <th>rule3</th>\n",
              "    </tr>\n",
              "  </thead>\n",
              "  <tbody>\n",
              "    <tr>\n",
              "      <th>0</th>\n",
              "      <td>1</td>\n",
              "      <td>10694</td>\n",
              "      <td>300.11</td>\n",
              "      <td>2000-01-01T03:04:06Z</td>\n",
              "      <td>2052</td>\n",
              "      <td>2001</td>\n",
              "      <td>True</td>\n",
              "      <td>True</td>\n",
              "      <td>True</td>\n",
              "      <td>True</td>\n",
              "      <td>True</td>\n",
              "      <td>True</td>\n",
              "    </tr>\n",
              "    <tr>\n",
              "      <th>1</th>\n",
              "      <td>1</td>\n",
              "      <td>10695</td>\n",
              "      <td>3000.11</td>\n",
              "      <td>2000-01-02T03:04:06Z</td>\n",
              "      <td>2052</td>\n",
              "      <td>2002</td>\n",
              "      <td>True</td>\n",
              "      <td>True</td>\n",
              "      <td>True</td>\n",
              "      <td>True</td>\n",
              "      <td>True</td>\n",
              "      <td>True</td>\n",
              "    </tr>\n",
              "    <tr>\n",
              "      <th>2</th>\n",
              "      <td>1</td>\n",
              "      <td>10696</td>\n",
              "      <td>3000.11</td>\n",
              "      <td>2000-01-02T03:05:06Z</td>\n",
              "      <td>2052</td>\n",
              "      <td>2002</td>\n",
              "      <td>False</td>\n",
              "      <td>True</td>\n",
              "      <td>True</td>\n",
              "      <td>False</td>\n",
              "      <td>True</td>\n",
              "      <td>True</td>\n",
              "    </tr>\n",
              "  </tbody>\n",
              "</table>\n",
              "</div>"
            ],
            "text/plain": [
              "   customer_id load_id  load_amt  ...  rule1  rule2  rule3\n",
              "0            1   10694    300.11  ...   True   True   True\n",
              "1            1   10695   3000.11  ...   True   True   True\n",
              "2            1   10696   3000.11  ...  False   True   True\n",
              "\n",
              "[3 rows x 12 columns]"
            ]
          },
          "metadata": {
            "tags": []
          },
          "execution_count": 302
        }
      ]
    },
    {
      "cell_type": "code",
      "metadata": {
        "id": "p7MC-ydpoLIA",
        "outputId": "0463593b-f67a-47a9-fc31-903c12b5ba69",
        "colab": {
          "base_uri": "https://localhost:8080/",
          "height": 227
        }
      },
      "source": [
        "cust1.process_load(Load('10697', '$300.11', '2000-01-02T03:06:06Z'))\n",
        "cust1.load_hist"
      ],
      "execution_count": 303,
      "outputs": [
        {
          "output_type": "stream",
          "text": [
            "self.daily_loads_left before:2\n",
            "Get daily loads left function\n",
            "self.daily_loads_left after:1\n",
            "All Rules Passed ... Load Added\n"
          ],
          "name": "stdout"
        },
        {
          "output_type": "execute_result",
          "data": {
            "text/html": [
              "<div>\n",
              "<style scoped>\n",
              "    .dataframe tbody tr th:only-of-type {\n",
              "        vertical-align: middle;\n",
              "    }\n",
              "\n",
              "    .dataframe tbody tr th {\n",
              "        vertical-align: top;\n",
              "    }\n",
              "\n",
              "    .dataframe thead th {\n",
              "        text-align: right;\n",
              "    }\n",
              "</style>\n",
              "<table border=\"1\" class=\"dataframe\">\n",
              "  <thead>\n",
              "    <tr style=\"text-align: right;\">\n",
              "      <th></th>\n",
              "      <th>customer_id</th>\n",
              "      <th>load_id</th>\n",
              "      <th>load_amt</th>\n",
              "      <th>load_time</th>\n",
              "      <th>load_week_num</th>\n",
              "      <th>load_day_num</th>\n",
              "      <th>approved_status</th>\n",
              "      <th>ruleA</th>\n",
              "      <th>ruleB</th>\n",
              "      <th>rule1</th>\n",
              "      <th>rule2</th>\n",
              "      <th>rule3</th>\n",
              "    </tr>\n",
              "  </thead>\n",
              "  <tbody>\n",
              "    <tr>\n",
              "      <th>0</th>\n",
              "      <td>1</td>\n",
              "      <td>10694</td>\n",
              "      <td>300.11</td>\n",
              "      <td>2000-01-01T03:04:06Z</td>\n",
              "      <td>2052</td>\n",
              "      <td>2001</td>\n",
              "      <td>True</td>\n",
              "      <td>True</td>\n",
              "      <td>True</td>\n",
              "      <td>True</td>\n",
              "      <td>True</td>\n",
              "      <td>True</td>\n",
              "    </tr>\n",
              "    <tr>\n",
              "      <th>1</th>\n",
              "      <td>1</td>\n",
              "      <td>10695</td>\n",
              "      <td>3000.11</td>\n",
              "      <td>2000-01-02T03:04:06Z</td>\n",
              "      <td>2052</td>\n",
              "      <td>2002</td>\n",
              "      <td>True</td>\n",
              "      <td>True</td>\n",
              "      <td>True</td>\n",
              "      <td>True</td>\n",
              "      <td>True</td>\n",
              "      <td>True</td>\n",
              "    </tr>\n",
              "    <tr>\n",
              "      <th>2</th>\n",
              "      <td>1</td>\n",
              "      <td>10696</td>\n",
              "      <td>3000.11</td>\n",
              "      <td>2000-01-02T03:05:06Z</td>\n",
              "      <td>2052</td>\n",
              "      <td>2002</td>\n",
              "      <td>False</td>\n",
              "      <td>True</td>\n",
              "      <td>True</td>\n",
              "      <td>False</td>\n",
              "      <td>True</td>\n",
              "      <td>True</td>\n",
              "    </tr>\n",
              "    <tr>\n",
              "      <th>3</th>\n",
              "      <td>1</td>\n",
              "      <td>10697</td>\n",
              "      <td>300.11</td>\n",
              "      <td>2000-01-02T03:06:06Z</td>\n",
              "      <td>2052</td>\n",
              "      <td>2002</td>\n",
              "      <td>True</td>\n",
              "      <td>True</td>\n",
              "      <td>True</td>\n",
              "      <td>True</td>\n",
              "      <td>True</td>\n",
              "      <td>True</td>\n",
              "    </tr>\n",
              "  </tbody>\n",
              "</table>\n",
              "</div>"
            ],
            "text/plain": [
              "   customer_id load_id  load_amt  ...  rule1  rule2  rule3\n",
              "0            1   10694    300.11  ...   True   True   True\n",
              "1            1   10695   3000.11  ...   True   True   True\n",
              "2            1   10696   3000.11  ...  False   True   True\n",
              "3            1   10697    300.11  ...   True   True   True\n",
              "\n",
              "[4 rows x 12 columns]"
            ]
          },
          "metadata": {
            "tags": []
          },
          "execution_count": 303
        }
      ]
    },
    {
      "cell_type": "code",
      "metadata": {
        "id": "TLrg-L9TnWz-",
        "outputId": "15495dd9-8357-4de5-eab2-4d97390644c6",
        "colab": {
          "base_uri": "https://localhost:8080/",
          "height": 256
        }
      },
      "source": [
        "cust1.process_load(Load('10698', '$300.11', '2000-01-04T03:05:06Z'))\n",
        "cust1.load_hist"
      ],
      "execution_count": 304,
      "outputs": [
        {
          "output_type": "stream",
          "text": [
            "self.daily_loads_left before:3\n",
            "Get daily loads left function\n",
            "self.daily_loads_left after:2\n",
            "All Rules Passed ... Load Added\n"
          ],
          "name": "stdout"
        },
        {
          "output_type": "execute_result",
          "data": {
            "text/html": [
              "<div>\n",
              "<style scoped>\n",
              "    .dataframe tbody tr th:only-of-type {\n",
              "        vertical-align: middle;\n",
              "    }\n",
              "\n",
              "    .dataframe tbody tr th {\n",
              "        vertical-align: top;\n",
              "    }\n",
              "\n",
              "    .dataframe thead th {\n",
              "        text-align: right;\n",
              "    }\n",
              "</style>\n",
              "<table border=\"1\" class=\"dataframe\">\n",
              "  <thead>\n",
              "    <tr style=\"text-align: right;\">\n",
              "      <th></th>\n",
              "      <th>customer_id</th>\n",
              "      <th>load_id</th>\n",
              "      <th>load_amt</th>\n",
              "      <th>load_time</th>\n",
              "      <th>load_week_num</th>\n",
              "      <th>load_day_num</th>\n",
              "      <th>approved_status</th>\n",
              "      <th>ruleA</th>\n",
              "      <th>ruleB</th>\n",
              "      <th>rule1</th>\n",
              "      <th>rule2</th>\n",
              "      <th>rule3</th>\n",
              "    </tr>\n",
              "  </thead>\n",
              "  <tbody>\n",
              "    <tr>\n",
              "      <th>0</th>\n",
              "      <td>1</td>\n",
              "      <td>10694</td>\n",
              "      <td>300.11</td>\n",
              "      <td>2000-01-01T03:04:06Z</td>\n",
              "      <td>2052</td>\n",
              "      <td>2001</td>\n",
              "      <td>True</td>\n",
              "      <td>True</td>\n",
              "      <td>True</td>\n",
              "      <td>True</td>\n",
              "      <td>True</td>\n",
              "      <td>True</td>\n",
              "    </tr>\n",
              "    <tr>\n",
              "      <th>1</th>\n",
              "      <td>1</td>\n",
              "      <td>10695</td>\n",
              "      <td>3000.11</td>\n",
              "      <td>2000-01-02T03:04:06Z</td>\n",
              "      <td>2052</td>\n",
              "      <td>2002</td>\n",
              "      <td>True</td>\n",
              "      <td>True</td>\n",
              "      <td>True</td>\n",
              "      <td>True</td>\n",
              "      <td>True</td>\n",
              "      <td>True</td>\n",
              "    </tr>\n",
              "    <tr>\n",
              "      <th>2</th>\n",
              "      <td>1</td>\n",
              "      <td>10696</td>\n",
              "      <td>3000.11</td>\n",
              "      <td>2000-01-02T03:05:06Z</td>\n",
              "      <td>2052</td>\n",
              "      <td>2002</td>\n",
              "      <td>False</td>\n",
              "      <td>True</td>\n",
              "      <td>True</td>\n",
              "      <td>False</td>\n",
              "      <td>True</td>\n",
              "      <td>True</td>\n",
              "    </tr>\n",
              "    <tr>\n",
              "      <th>3</th>\n",
              "      <td>1</td>\n",
              "      <td>10697</td>\n",
              "      <td>300.11</td>\n",
              "      <td>2000-01-02T03:06:06Z</td>\n",
              "      <td>2052</td>\n",
              "      <td>2002</td>\n",
              "      <td>True</td>\n",
              "      <td>True</td>\n",
              "      <td>True</td>\n",
              "      <td>True</td>\n",
              "      <td>True</td>\n",
              "      <td>True</td>\n",
              "    </tr>\n",
              "    <tr>\n",
              "      <th>4</th>\n",
              "      <td>1</td>\n",
              "      <td>10698</td>\n",
              "      <td>300.11</td>\n",
              "      <td>2000-01-04T03:05:06Z</td>\n",
              "      <td>2001</td>\n",
              "      <td>2004</td>\n",
              "      <td>True</td>\n",
              "      <td>True</td>\n",
              "      <td>True</td>\n",
              "      <td>True</td>\n",
              "      <td>True</td>\n",
              "      <td>True</td>\n",
              "    </tr>\n",
              "  </tbody>\n",
              "</table>\n",
              "</div>"
            ],
            "text/plain": [
              "   customer_id load_id  load_amt  ...  rule1  rule2  rule3\n",
              "0            1   10694    300.11  ...   True   True   True\n",
              "1            1   10695   3000.11  ...   True   True   True\n",
              "2            1   10696   3000.11  ...  False   True   True\n",
              "3            1   10697    300.11  ...   True   True   True\n",
              "4            1   10698    300.11  ...   True   True   True\n",
              "\n",
              "[5 rows x 12 columns]"
            ]
          },
          "metadata": {
            "tags": []
          },
          "execution_count": 304
        }
      ]
    },
    {
      "cell_type": "code",
      "metadata": {
        "id": "oegwIJplnYeN",
        "outputId": "2ffc8f2a-d62b-4f75-c96d-257c76564787",
        "colab": {
          "base_uri": "https://localhost:8080/",
          "height": 247
        }
      },
      "source": [
        "cust1.valid_loads"
      ],
      "execution_count": 305,
      "outputs": [
        {
          "output_type": "execute_result",
          "data": {
            "text/html": [
              "<div>\n",
              "<style scoped>\n",
              "    .dataframe tbody tr th:only-of-type {\n",
              "        vertical-align: middle;\n",
              "    }\n",
              "\n",
              "    .dataframe tbody tr th {\n",
              "        vertical-align: top;\n",
              "    }\n",
              "\n",
              "    .dataframe thead th {\n",
              "        text-align: right;\n",
              "    }\n",
              "</style>\n",
              "<table border=\"1\" class=\"dataframe\">\n",
              "  <thead>\n",
              "    <tr style=\"text-align: right;\">\n",
              "      <th></th>\n",
              "      <th>customer_id</th>\n",
              "      <th>load_id</th>\n",
              "      <th>load_amt</th>\n",
              "      <th>load_time</th>\n",
              "      <th>load_week_num</th>\n",
              "      <th>load_day_num</th>\n",
              "      <th>approved_status</th>\n",
              "      <th>ruleA</th>\n",
              "      <th>ruleB</th>\n",
              "      <th>rule1</th>\n",
              "      <th>rule2</th>\n",
              "      <th>rule3</th>\n",
              "      <th>cum_weekly_deps</th>\n",
              "      <th>cum_daily_deps</th>\n",
              "      <th>num_daily_deps</th>\n",
              "      <th>weekly_deps_left</th>\n",
              "      <th>daily_deps_left</th>\n",
              "      <th>num_daily_deps_left</th>\n",
              "    </tr>\n",
              "  </thead>\n",
              "  <tbody>\n",
              "    <tr>\n",
              "      <th>0</th>\n",
              "      <td>1</td>\n",
              "      <td>10694</td>\n",
              "      <td>300.11</td>\n",
              "      <td>2000-01-01T03:04:06Z</td>\n",
              "      <td>2052</td>\n",
              "      <td>2001</td>\n",
              "      <td>True</td>\n",
              "      <td>True</td>\n",
              "      <td>True</td>\n",
              "      <td>True</td>\n",
              "      <td>True</td>\n",
              "      <td>True</td>\n",
              "      <td>300.11</td>\n",
              "      <td>300.11</td>\n",
              "      <td>1</td>\n",
              "      <td>19699.89</td>\n",
              "      <td>4699.89</td>\n",
              "      <td>2</td>\n",
              "    </tr>\n",
              "    <tr>\n",
              "      <th>1</th>\n",
              "      <td>1</td>\n",
              "      <td>10695</td>\n",
              "      <td>3000.11</td>\n",
              "      <td>2000-01-02T03:04:06Z</td>\n",
              "      <td>2052</td>\n",
              "      <td>2002</td>\n",
              "      <td>True</td>\n",
              "      <td>True</td>\n",
              "      <td>True</td>\n",
              "      <td>True</td>\n",
              "      <td>True</td>\n",
              "      <td>True</td>\n",
              "      <td>3300.22</td>\n",
              "      <td>3000.11</td>\n",
              "      <td>1</td>\n",
              "      <td>16699.78</td>\n",
              "      <td>1999.89</td>\n",
              "      <td>2</td>\n",
              "    </tr>\n",
              "    <tr>\n",
              "      <th>3</th>\n",
              "      <td>1</td>\n",
              "      <td>10697</td>\n",
              "      <td>300.11</td>\n",
              "      <td>2000-01-02T03:06:06Z</td>\n",
              "      <td>2052</td>\n",
              "      <td>2002</td>\n",
              "      <td>True</td>\n",
              "      <td>True</td>\n",
              "      <td>True</td>\n",
              "      <td>True</td>\n",
              "      <td>True</td>\n",
              "      <td>True</td>\n",
              "      <td>3600.33</td>\n",
              "      <td>3300.22</td>\n",
              "      <td>2</td>\n",
              "      <td>16399.67</td>\n",
              "      <td>1699.78</td>\n",
              "      <td>1</td>\n",
              "    </tr>\n",
              "    <tr>\n",
              "      <th>4</th>\n",
              "      <td>1</td>\n",
              "      <td>10698</td>\n",
              "      <td>300.11</td>\n",
              "      <td>2000-01-04T03:05:06Z</td>\n",
              "      <td>2001</td>\n",
              "      <td>2004</td>\n",
              "      <td>True</td>\n",
              "      <td>True</td>\n",
              "      <td>True</td>\n",
              "      <td>True</td>\n",
              "      <td>True</td>\n",
              "      <td>True</td>\n",
              "      <td>300.11</td>\n",
              "      <td>300.11</td>\n",
              "      <td>1</td>\n",
              "      <td>19699.89</td>\n",
              "      <td>4699.89</td>\n",
              "      <td>2</td>\n",
              "    </tr>\n",
              "  </tbody>\n",
              "</table>\n",
              "</div>"
            ],
            "text/plain": [
              "   customer_id load_id  ...  daily_deps_left num_daily_deps_left\n",
              "0            1   10694  ...          4699.89                   2\n",
              "1            1   10695  ...          1999.89                   2\n",
              "3            1   10697  ...          1699.78                   1\n",
              "4            1   10698  ...          4699.89                   2\n",
              "\n",
              "[4 rows x 18 columns]"
            ]
          },
          "metadata": {
            "tags": []
          },
          "execution_count": 305
        }
      ]
    },
    {
      "cell_type": "markdown",
      "metadata": {
        "id": "wsmFmo2MtSWa"
      },
      "source": [
        "### Weekly deposit amount over same week"
      ]
    },
    {
      "cell_type": "code",
      "metadata": {
        "id": "1IzogbObneW8",
        "outputId": "560bd6ba-22e2-4278-c984-7ff4dbe335e8",
        "colab": {
          "base_uri": "https://localhost:8080/",
          "height": 417
        }
      },
      "source": [
        "cust1 = Customer(1)\n",
        "cust1.process_load(Load('10694', '$300.11', '2000-01-01T03:04:06Z'))\n",
        "cust1.load_hist"
      ],
      "execution_count": 413,
      "outputs": [
        {
          "output_type": "stream",
          "text": [
            "before status:....\n",
            "Customer_id:1\n",
            "Current Deposit Balance:300.11\n",
            "Current Daily Deposits:300.11\n",
            "Current Weekly Deposits:300.11\n",
            "Current Daily Loads:1\n",
            "Daily Deposits Left:4699.89\n",
            "Weekly Deposits Left:20000\n",
            "Daily Loads Left:3\n",
            "inside get weekly deps left function\n",
            "arg is truueeee\n",
            "after status:....\n",
            "Customer_id:1\n",
            "Current Deposit Balance:300.11\n",
            "Current Daily Deposits:300.11\n",
            "Current Weekly Deposits:300.11\n",
            "Current Daily Loads:1\n",
            "Daily Deposits Left:4699.89\n",
            "Weekly Deposits Left:19699.89\n",
            "Daily Loads Left:3\n",
            "All Rules Passed ... Load Added\n"
          ],
          "name": "stdout"
        },
        {
          "output_type": "execute_result",
          "data": {
            "text/html": [
              "<div>\n",
              "<style scoped>\n",
              "    .dataframe tbody tr th:only-of-type {\n",
              "        vertical-align: middle;\n",
              "    }\n",
              "\n",
              "    .dataframe tbody tr th {\n",
              "        vertical-align: top;\n",
              "    }\n",
              "\n",
              "    .dataframe thead th {\n",
              "        text-align: right;\n",
              "    }\n",
              "</style>\n",
              "<table border=\"1\" class=\"dataframe\">\n",
              "  <thead>\n",
              "    <tr style=\"text-align: right;\">\n",
              "      <th></th>\n",
              "      <th>customer_id</th>\n",
              "      <th>load_id</th>\n",
              "      <th>load_amt</th>\n",
              "      <th>load_time</th>\n",
              "      <th>load_week_num</th>\n",
              "      <th>load_day_num</th>\n",
              "      <th>approved_status</th>\n",
              "      <th>ruleA</th>\n",
              "      <th>ruleB</th>\n",
              "      <th>rule1</th>\n",
              "      <th>rule2</th>\n",
              "      <th>rule3</th>\n",
              "    </tr>\n",
              "  </thead>\n",
              "  <tbody>\n",
              "    <tr>\n",
              "      <th>0</th>\n",
              "      <td>1</td>\n",
              "      <td>10694</td>\n",
              "      <td>300.11</td>\n",
              "      <td>2000-01-01T03:04:06Z</td>\n",
              "      <td>2052</td>\n",
              "      <td>2001</td>\n",
              "      <td>True</td>\n",
              "      <td>True</td>\n",
              "      <td>True</td>\n",
              "      <td>True</td>\n",
              "      <td>True</td>\n",
              "      <td>True</td>\n",
              "    </tr>\n",
              "  </tbody>\n",
              "</table>\n",
              "</div>"
            ],
            "text/plain": [
              "   customer_id load_id  load_amt  ... rule1  rule2  rule3\n",
              "0            1   10694    300.11  ...  True   True   True\n",
              "\n",
              "[1 rows x 12 columns]"
            ]
          },
          "metadata": {
            "tags": []
          },
          "execution_count": 413
        }
      ]
    },
    {
      "cell_type": "code",
      "metadata": {
        "id": "WbI80SRmw1l8",
        "outputId": "6bbbb807-2fa1-4ea6-cd6b-7cf87ef141cc",
        "colab": {
          "base_uri": "https://localhost:8080/",
          "height": 112
        }
      },
      "source": [
        "cust1.valid_loads"
      ],
      "execution_count": 414,
      "outputs": [
        {
          "output_type": "execute_result",
          "data": {
            "text/html": [
              "<div>\n",
              "<style scoped>\n",
              "    .dataframe tbody tr th:only-of-type {\n",
              "        vertical-align: middle;\n",
              "    }\n",
              "\n",
              "    .dataframe tbody tr th {\n",
              "        vertical-align: top;\n",
              "    }\n",
              "\n",
              "    .dataframe thead th {\n",
              "        text-align: right;\n",
              "    }\n",
              "</style>\n",
              "<table border=\"1\" class=\"dataframe\">\n",
              "  <thead>\n",
              "    <tr style=\"text-align: right;\">\n",
              "      <th></th>\n",
              "      <th>customer_id</th>\n",
              "      <th>load_id</th>\n",
              "      <th>load_amt</th>\n",
              "      <th>load_time</th>\n",
              "      <th>load_week_num</th>\n",
              "      <th>load_day_num</th>\n",
              "      <th>approved_status</th>\n",
              "      <th>ruleA</th>\n",
              "      <th>ruleB</th>\n",
              "      <th>rule1</th>\n",
              "      <th>rule2</th>\n",
              "      <th>rule3</th>\n",
              "      <th>cum_weekly_deps</th>\n",
              "      <th>cum_daily_deps</th>\n",
              "      <th>num_daily_deps</th>\n",
              "      <th>weekly_deps_left</th>\n",
              "      <th>daily_deps_left</th>\n",
              "      <th>num_daily_deps_left</th>\n",
              "    </tr>\n",
              "  </thead>\n",
              "  <tbody>\n",
              "    <tr>\n",
              "      <th>0</th>\n",
              "      <td>1</td>\n",
              "      <td>10694</td>\n",
              "      <td>300.11</td>\n",
              "      <td>2000-01-01T03:04:06Z</td>\n",
              "      <td>2052</td>\n",
              "      <td>2001</td>\n",
              "      <td>True</td>\n",
              "      <td>True</td>\n",
              "      <td>True</td>\n",
              "      <td>True</td>\n",
              "      <td>True</td>\n",
              "      <td>True</td>\n",
              "      <td>300.11</td>\n",
              "      <td>300.11</td>\n",
              "      <td>1</td>\n",
              "      <td>19699.89</td>\n",
              "      <td>4699.89</td>\n",
              "      <td>2</td>\n",
              "    </tr>\n",
              "  </tbody>\n",
              "</table>\n",
              "</div>"
            ],
            "text/plain": [
              "   customer_id load_id  ...  daily_deps_left num_daily_deps_left\n",
              "0            1   10694  ...          4699.89                   2\n",
              "\n",
              "[1 rows x 18 columns]"
            ]
          },
          "metadata": {
            "tags": []
          },
          "execution_count": 414
        }
      ]
    },
    {
      "cell_type": "code",
      "metadata": {
        "id": "aibNAOrAtZjD",
        "outputId": "a236c68d-4fd6-4716-936e-adad7aec008b",
        "colab": {
          "base_uri": "https://localhost:8080/",
          "height": 446
        }
      },
      "source": [
        "cust1.process_load(Load('10695', '$4000.11', '2000-01-02T03:04:06Z'))\n",
        "cust1.load_hist"
      ],
      "execution_count": 415,
      "outputs": [
        {
          "output_type": "stream",
          "text": [
            "before status:....\n",
            "Customer_id:1\n",
            "Current Deposit Balance:4300.22\n",
            "Current Daily Deposits:4300.22\n",
            "Current Weekly Deposits:4300.22\n",
            "Current Daily Loads:2\n",
            "Daily Deposits Left:999.8899999999999\n",
            "Weekly Deposits Left:19699.89\n",
            "Daily Loads Left:3\n",
            "inside get weekly deps left function\n",
            "arg is truueeee\n",
            "after status:....\n",
            "Customer_id:1\n",
            "Current Deposit Balance:4300.22\n",
            "Current Daily Deposits:4300.22\n",
            "Current Weekly Deposits:4300.22\n",
            "Current Daily Loads:2\n",
            "Daily Deposits Left:999.8899999999999\n",
            "Weekly Deposits Left:15699.779999999999\n",
            "Daily Loads Left:3\n",
            "All Rules Passed ... Load Added\n"
          ],
          "name": "stdout"
        },
        {
          "output_type": "execute_result",
          "data": {
            "text/html": [
              "<div>\n",
              "<style scoped>\n",
              "    .dataframe tbody tr th:only-of-type {\n",
              "        vertical-align: middle;\n",
              "    }\n",
              "\n",
              "    .dataframe tbody tr th {\n",
              "        vertical-align: top;\n",
              "    }\n",
              "\n",
              "    .dataframe thead th {\n",
              "        text-align: right;\n",
              "    }\n",
              "</style>\n",
              "<table border=\"1\" class=\"dataframe\">\n",
              "  <thead>\n",
              "    <tr style=\"text-align: right;\">\n",
              "      <th></th>\n",
              "      <th>customer_id</th>\n",
              "      <th>load_id</th>\n",
              "      <th>load_amt</th>\n",
              "      <th>load_time</th>\n",
              "      <th>load_week_num</th>\n",
              "      <th>load_day_num</th>\n",
              "      <th>approved_status</th>\n",
              "      <th>ruleA</th>\n",
              "      <th>ruleB</th>\n",
              "      <th>rule1</th>\n",
              "      <th>rule2</th>\n",
              "      <th>rule3</th>\n",
              "    </tr>\n",
              "  </thead>\n",
              "  <tbody>\n",
              "    <tr>\n",
              "      <th>0</th>\n",
              "      <td>1</td>\n",
              "      <td>10694</td>\n",
              "      <td>300.11</td>\n",
              "      <td>2000-01-01T03:04:06Z</td>\n",
              "      <td>2052</td>\n",
              "      <td>2001</td>\n",
              "      <td>True</td>\n",
              "      <td>True</td>\n",
              "      <td>True</td>\n",
              "      <td>True</td>\n",
              "      <td>True</td>\n",
              "      <td>True</td>\n",
              "    </tr>\n",
              "    <tr>\n",
              "      <th>1</th>\n",
              "      <td>1</td>\n",
              "      <td>10695</td>\n",
              "      <td>4000.11</td>\n",
              "      <td>2000-01-02T03:04:06Z</td>\n",
              "      <td>2052</td>\n",
              "      <td>2002</td>\n",
              "      <td>True</td>\n",
              "      <td>True</td>\n",
              "      <td>True</td>\n",
              "      <td>True</td>\n",
              "      <td>True</td>\n",
              "      <td>True</td>\n",
              "    </tr>\n",
              "  </tbody>\n",
              "</table>\n",
              "</div>"
            ],
            "text/plain": [
              "   customer_id load_id  load_amt  ... rule1  rule2  rule3\n",
              "0            1   10694    300.11  ...  True   True   True\n",
              "1            1   10695   4000.11  ...  True   True   True\n",
              "\n",
              "[2 rows x 12 columns]"
            ]
          },
          "metadata": {
            "tags": []
          },
          "execution_count": 415
        }
      ]
    },
    {
      "cell_type": "code",
      "metadata": {
        "id": "Jllw2xG0tdOb",
        "outputId": "0493648d-3623-4bdc-fb1c-04fb83073054",
        "colab": {
          "base_uri": "https://localhost:8080/",
          "height": 491
        }
      },
      "source": [
        "cust1.process_load(Load('10696', '$4000.11', '2000-01-03T03:05:06Z'))\n",
        "cust1.load_hist"
      ],
      "execution_count": 416,
      "outputs": [
        {
          "output_type": "stream",
          "text": [
            "load.load_week_num not in list(self.valid_loads.load_week_num): is true\n",
            "before status:....\n",
            "Customer_id:1\n",
            "Current Deposit Balance:8300.33\n",
            "Current Daily Deposits:8300.33\n",
            "Current Weekly Deposits:8300.33\n",
            "Current Daily Loads:3\n",
            "Daily Deposits Left:999.8899999999999\n",
            "Weekly Deposits Left:20000\n",
            "Daily Loads Left:3\n",
            "inside get weekly deps left function\n",
            "arg is truueeee\n",
            "after status:....\n",
            "Customer_id:1\n",
            "Current Deposit Balance:8300.33\n",
            "Current Daily Deposits:8300.33\n",
            "Current Weekly Deposits:8300.33\n",
            "Current Daily Loads:3\n",
            "Daily Deposits Left:999.8899999999999\n",
            "Weekly Deposits Left:15999.89\n",
            "Daily Loads Left:3\n",
            "All Rules Passed ... Load Added\n"
          ],
          "name": "stdout"
        },
        {
          "output_type": "execute_result",
          "data": {
            "text/html": [
              "<div>\n",
              "<style scoped>\n",
              "    .dataframe tbody tr th:only-of-type {\n",
              "        vertical-align: middle;\n",
              "    }\n",
              "\n",
              "    .dataframe tbody tr th {\n",
              "        vertical-align: top;\n",
              "    }\n",
              "\n",
              "    .dataframe thead th {\n",
              "        text-align: right;\n",
              "    }\n",
              "</style>\n",
              "<table border=\"1\" class=\"dataframe\">\n",
              "  <thead>\n",
              "    <tr style=\"text-align: right;\">\n",
              "      <th></th>\n",
              "      <th>customer_id</th>\n",
              "      <th>load_id</th>\n",
              "      <th>load_amt</th>\n",
              "      <th>load_time</th>\n",
              "      <th>load_week_num</th>\n",
              "      <th>load_day_num</th>\n",
              "      <th>approved_status</th>\n",
              "      <th>ruleA</th>\n",
              "      <th>ruleB</th>\n",
              "      <th>rule1</th>\n",
              "      <th>rule2</th>\n",
              "      <th>rule3</th>\n",
              "    </tr>\n",
              "  </thead>\n",
              "  <tbody>\n",
              "    <tr>\n",
              "      <th>0</th>\n",
              "      <td>1</td>\n",
              "      <td>10694</td>\n",
              "      <td>300.11</td>\n",
              "      <td>2000-01-01T03:04:06Z</td>\n",
              "      <td>2052</td>\n",
              "      <td>2001</td>\n",
              "      <td>True</td>\n",
              "      <td>True</td>\n",
              "      <td>True</td>\n",
              "      <td>True</td>\n",
              "      <td>True</td>\n",
              "      <td>True</td>\n",
              "    </tr>\n",
              "    <tr>\n",
              "      <th>1</th>\n",
              "      <td>1</td>\n",
              "      <td>10695</td>\n",
              "      <td>4000.11</td>\n",
              "      <td>2000-01-02T03:04:06Z</td>\n",
              "      <td>2052</td>\n",
              "      <td>2002</td>\n",
              "      <td>True</td>\n",
              "      <td>True</td>\n",
              "      <td>True</td>\n",
              "      <td>True</td>\n",
              "      <td>True</td>\n",
              "      <td>True</td>\n",
              "    </tr>\n",
              "    <tr>\n",
              "      <th>2</th>\n",
              "      <td>1</td>\n",
              "      <td>10696</td>\n",
              "      <td>4000.11</td>\n",
              "      <td>2000-01-03T03:05:06Z</td>\n",
              "      <td>2001</td>\n",
              "      <td>2003</td>\n",
              "      <td>True</td>\n",
              "      <td>True</td>\n",
              "      <td>True</td>\n",
              "      <td>True</td>\n",
              "      <td>True</td>\n",
              "      <td>True</td>\n",
              "    </tr>\n",
              "  </tbody>\n",
              "</table>\n",
              "</div>"
            ],
            "text/plain": [
              "   customer_id load_id  load_amt  ... rule1  rule2  rule3\n",
              "0            1   10694    300.11  ...  True   True   True\n",
              "1            1   10695   4000.11  ...  True   True   True\n",
              "2            1   10696   4000.11  ...  True   True   True\n",
              "\n",
              "[3 rows x 12 columns]"
            ]
          },
          "metadata": {
            "tags": []
          },
          "execution_count": 416
        }
      ]
    },
    {
      "cell_type": "code",
      "metadata": {
        "id": "6kQ-jkVmtmER",
        "outputId": "b636909d-f659-4bef-9775-8b46231aa9da",
        "colab": {
          "base_uri": "https://localhost:8080/",
          "height": 503
        }
      },
      "source": [
        "cust1.process_load(Load('10698', '$4000.11', '2000-01-05T03:06:06Z'))\n",
        "cust1.load_hist"
      ],
      "execution_count": 417,
      "outputs": [
        {
          "output_type": "stream",
          "text": [
            "before status:....\n",
            "Customer_id:1\n",
            "Current Deposit Balance:12300.44\n",
            "Current Daily Deposits:12300.44\n",
            "Current Weekly Deposits:12300.44\n",
            "Current Daily Loads:4\n",
            "Daily Deposits Left:999.8899999999999\n",
            "Weekly Deposits Left:15999.89\n",
            "Daily Loads Left:3\n",
            "inside get weekly deps left function\n",
            "arg is truueeee\n",
            "after status:....\n",
            "Customer_id:1\n",
            "Current Deposit Balance:12300.44\n",
            "Current Daily Deposits:12300.44\n",
            "Current Weekly Deposits:12300.44\n",
            "Current Daily Loads:4\n",
            "Daily Deposits Left:999.8899999999999\n",
            "Weekly Deposits Left:11999.779999999999\n",
            "Daily Loads Left:3\n",
            "All Rules Passed ... Load Added\n"
          ],
          "name": "stdout"
        },
        {
          "output_type": "execute_result",
          "data": {
            "text/html": [
              "<div>\n",
              "<style scoped>\n",
              "    .dataframe tbody tr th:only-of-type {\n",
              "        vertical-align: middle;\n",
              "    }\n",
              "\n",
              "    .dataframe tbody tr th {\n",
              "        vertical-align: top;\n",
              "    }\n",
              "\n",
              "    .dataframe thead th {\n",
              "        text-align: right;\n",
              "    }\n",
              "</style>\n",
              "<table border=\"1\" class=\"dataframe\">\n",
              "  <thead>\n",
              "    <tr style=\"text-align: right;\">\n",
              "      <th></th>\n",
              "      <th>customer_id</th>\n",
              "      <th>load_id</th>\n",
              "      <th>load_amt</th>\n",
              "      <th>load_time</th>\n",
              "      <th>load_week_num</th>\n",
              "      <th>load_day_num</th>\n",
              "      <th>approved_status</th>\n",
              "      <th>ruleA</th>\n",
              "      <th>ruleB</th>\n",
              "      <th>rule1</th>\n",
              "      <th>rule2</th>\n",
              "      <th>rule3</th>\n",
              "    </tr>\n",
              "  </thead>\n",
              "  <tbody>\n",
              "    <tr>\n",
              "      <th>0</th>\n",
              "      <td>1</td>\n",
              "      <td>10694</td>\n",
              "      <td>300.11</td>\n",
              "      <td>2000-01-01T03:04:06Z</td>\n",
              "      <td>2052</td>\n",
              "      <td>2001</td>\n",
              "      <td>True</td>\n",
              "      <td>True</td>\n",
              "      <td>True</td>\n",
              "      <td>True</td>\n",
              "      <td>True</td>\n",
              "      <td>True</td>\n",
              "    </tr>\n",
              "    <tr>\n",
              "      <th>1</th>\n",
              "      <td>1</td>\n",
              "      <td>10695</td>\n",
              "      <td>4000.11</td>\n",
              "      <td>2000-01-02T03:04:06Z</td>\n",
              "      <td>2052</td>\n",
              "      <td>2002</td>\n",
              "      <td>True</td>\n",
              "      <td>True</td>\n",
              "      <td>True</td>\n",
              "      <td>True</td>\n",
              "      <td>True</td>\n",
              "      <td>True</td>\n",
              "    </tr>\n",
              "    <tr>\n",
              "      <th>2</th>\n",
              "      <td>1</td>\n",
              "      <td>10696</td>\n",
              "      <td>4000.11</td>\n",
              "      <td>2000-01-03T03:05:06Z</td>\n",
              "      <td>2001</td>\n",
              "      <td>2003</td>\n",
              "      <td>True</td>\n",
              "      <td>True</td>\n",
              "      <td>True</td>\n",
              "      <td>True</td>\n",
              "      <td>True</td>\n",
              "      <td>True</td>\n",
              "    </tr>\n",
              "    <tr>\n",
              "      <th>3</th>\n",
              "      <td>1</td>\n",
              "      <td>10698</td>\n",
              "      <td>4000.11</td>\n",
              "      <td>2000-01-05T03:06:06Z</td>\n",
              "      <td>2001</td>\n",
              "      <td>2005</td>\n",
              "      <td>True</td>\n",
              "      <td>True</td>\n",
              "      <td>True</td>\n",
              "      <td>True</td>\n",
              "      <td>True</td>\n",
              "      <td>True</td>\n",
              "    </tr>\n",
              "  </tbody>\n",
              "</table>\n",
              "</div>"
            ],
            "text/plain": [
              "   customer_id load_id  load_amt  ... rule1  rule2  rule3\n",
              "0            1   10694    300.11  ...  True   True   True\n",
              "1            1   10695   4000.11  ...  True   True   True\n",
              "2            1   10696   4000.11  ...  True   True   True\n",
              "3            1   10698   4000.11  ...  True   True   True\n",
              "\n",
              "[4 rows x 12 columns]"
            ]
          },
          "metadata": {
            "tags": []
          },
          "execution_count": 417
        }
      ]
    },
    {
      "cell_type": "code",
      "metadata": {
        "id": "8d6YGLsrvwwu",
        "outputId": "70b28874-82ab-40d5-aed1-73ecc8becef1",
        "colab": {
          "base_uri": "https://localhost:8080/",
          "height": 247
        }
      },
      "source": [
        "cust1.valid_loads"
      ],
      "execution_count": 418,
      "outputs": [
        {
          "output_type": "execute_result",
          "data": {
            "text/html": [
              "<div>\n",
              "<style scoped>\n",
              "    .dataframe tbody tr th:only-of-type {\n",
              "        vertical-align: middle;\n",
              "    }\n",
              "\n",
              "    .dataframe tbody tr th {\n",
              "        vertical-align: top;\n",
              "    }\n",
              "\n",
              "    .dataframe thead th {\n",
              "        text-align: right;\n",
              "    }\n",
              "</style>\n",
              "<table border=\"1\" class=\"dataframe\">\n",
              "  <thead>\n",
              "    <tr style=\"text-align: right;\">\n",
              "      <th></th>\n",
              "      <th>customer_id</th>\n",
              "      <th>load_id</th>\n",
              "      <th>load_amt</th>\n",
              "      <th>load_time</th>\n",
              "      <th>load_week_num</th>\n",
              "      <th>load_day_num</th>\n",
              "      <th>approved_status</th>\n",
              "      <th>ruleA</th>\n",
              "      <th>ruleB</th>\n",
              "      <th>rule1</th>\n",
              "      <th>rule2</th>\n",
              "      <th>rule3</th>\n",
              "      <th>cum_weekly_deps</th>\n",
              "      <th>cum_daily_deps</th>\n",
              "      <th>num_daily_deps</th>\n",
              "      <th>weekly_deps_left</th>\n",
              "      <th>daily_deps_left</th>\n",
              "      <th>num_daily_deps_left</th>\n",
              "    </tr>\n",
              "  </thead>\n",
              "  <tbody>\n",
              "    <tr>\n",
              "      <th>0</th>\n",
              "      <td>1</td>\n",
              "      <td>10694</td>\n",
              "      <td>300.11</td>\n",
              "      <td>2000-01-01T03:04:06Z</td>\n",
              "      <td>2052</td>\n",
              "      <td>2001</td>\n",
              "      <td>True</td>\n",
              "      <td>True</td>\n",
              "      <td>True</td>\n",
              "      <td>True</td>\n",
              "      <td>True</td>\n",
              "      <td>True</td>\n",
              "      <td>300.11</td>\n",
              "      <td>300.11</td>\n",
              "      <td>1</td>\n",
              "      <td>19699.89</td>\n",
              "      <td>4699.89</td>\n",
              "      <td>2</td>\n",
              "    </tr>\n",
              "    <tr>\n",
              "      <th>1</th>\n",
              "      <td>1</td>\n",
              "      <td>10695</td>\n",
              "      <td>4000.11</td>\n",
              "      <td>2000-01-02T03:04:06Z</td>\n",
              "      <td>2052</td>\n",
              "      <td>2002</td>\n",
              "      <td>True</td>\n",
              "      <td>True</td>\n",
              "      <td>True</td>\n",
              "      <td>True</td>\n",
              "      <td>True</td>\n",
              "      <td>True</td>\n",
              "      <td>4300.22</td>\n",
              "      <td>4000.11</td>\n",
              "      <td>1</td>\n",
              "      <td>15699.78</td>\n",
              "      <td>999.89</td>\n",
              "      <td>2</td>\n",
              "    </tr>\n",
              "    <tr>\n",
              "      <th>2</th>\n",
              "      <td>1</td>\n",
              "      <td>10696</td>\n",
              "      <td>4000.11</td>\n",
              "      <td>2000-01-03T03:05:06Z</td>\n",
              "      <td>2001</td>\n",
              "      <td>2003</td>\n",
              "      <td>True</td>\n",
              "      <td>True</td>\n",
              "      <td>True</td>\n",
              "      <td>True</td>\n",
              "      <td>True</td>\n",
              "      <td>True</td>\n",
              "      <td>4000.11</td>\n",
              "      <td>4000.11</td>\n",
              "      <td>1</td>\n",
              "      <td>15999.89</td>\n",
              "      <td>999.89</td>\n",
              "      <td>2</td>\n",
              "    </tr>\n",
              "    <tr>\n",
              "      <th>3</th>\n",
              "      <td>1</td>\n",
              "      <td>10698</td>\n",
              "      <td>4000.11</td>\n",
              "      <td>2000-01-05T03:06:06Z</td>\n",
              "      <td>2001</td>\n",
              "      <td>2005</td>\n",
              "      <td>True</td>\n",
              "      <td>True</td>\n",
              "      <td>True</td>\n",
              "      <td>True</td>\n",
              "      <td>True</td>\n",
              "      <td>True</td>\n",
              "      <td>8000.22</td>\n",
              "      <td>4000.11</td>\n",
              "      <td>1</td>\n",
              "      <td>11999.78</td>\n",
              "      <td>999.89</td>\n",
              "      <td>2</td>\n",
              "    </tr>\n",
              "  </tbody>\n",
              "</table>\n",
              "</div>"
            ],
            "text/plain": [
              "   customer_id load_id  ...  daily_deps_left num_daily_deps_left\n",
              "0            1   10694  ...          4699.89                   2\n",
              "1            1   10695  ...           999.89                   2\n",
              "2            1   10696  ...           999.89                   2\n",
              "3            1   10698  ...           999.89                   2\n",
              "\n",
              "[4 rows x 18 columns]"
            ]
          },
          "metadata": {
            "tags": []
          },
          "execution_count": 418
        }
      ]
    },
    {
      "cell_type": "code",
      "metadata": {
        "id": "hOD1BQN3xV42",
        "outputId": "c932dae0-df71-43f8-e528-61fce81e3de4",
        "colab": {
          "base_uri": "https://localhost:8080/",
          "height": 561
        }
      },
      "source": [
        "cust1.process_load(Load('10700', '$4999.00', '2000-01-06T03:07:06Z'))\n",
        "cust1.load_hist"
      ],
      "execution_count": 422,
      "outputs": [
        {
          "output_type": "stream",
          "text": [
            "before status:....\n",
            "Customer_id:1\n",
            "Current Deposit Balance:22299.440000000002\n",
            "Current Daily Deposits:17299.440000000002\n",
            "Current Weekly Deposits:17299.440000000002\n",
            "Current Daily Loads:5\n",
            "Daily Deposits Left:1.0\n",
            "Weekly Deposits Left:11999.779999999999\n",
            "Daily Loads Left:3\n",
            "inside get weekly deps left function\n",
            "arg is truueeee\n",
            "after status:....\n",
            "Customer_id:1\n",
            "Current Deposit Balance:22299.440000000002\n",
            "Current Daily Deposits:17299.440000000002\n",
            "Current Weekly Deposits:17299.440000000002\n",
            "Current Daily Loads:5\n",
            "Daily Deposits Left:1.0\n",
            "Weekly Deposits Left:7000.779999999999\n",
            "Daily Loads Left:3\n",
            "All Rules Passed ... Load Added\n"
          ],
          "name": "stdout"
        },
        {
          "output_type": "execute_result",
          "data": {
            "text/html": [
              "<div>\n",
              "<style scoped>\n",
              "    .dataframe tbody tr th:only-of-type {\n",
              "        vertical-align: middle;\n",
              "    }\n",
              "\n",
              "    .dataframe tbody tr th {\n",
              "        vertical-align: top;\n",
              "    }\n",
              "\n",
              "    .dataframe thead th {\n",
              "        text-align: right;\n",
              "    }\n",
              "</style>\n",
              "<table border=\"1\" class=\"dataframe\">\n",
              "  <thead>\n",
              "    <tr style=\"text-align: right;\">\n",
              "      <th></th>\n",
              "      <th>customer_id</th>\n",
              "      <th>load_id</th>\n",
              "      <th>load_amt</th>\n",
              "      <th>load_time</th>\n",
              "      <th>load_week_num</th>\n",
              "      <th>load_day_num</th>\n",
              "      <th>approved_status</th>\n",
              "      <th>ruleA</th>\n",
              "      <th>ruleB</th>\n",
              "      <th>rule1</th>\n",
              "      <th>rule2</th>\n",
              "      <th>rule3</th>\n",
              "    </tr>\n",
              "  </thead>\n",
              "  <tbody>\n",
              "    <tr>\n",
              "      <th>0</th>\n",
              "      <td>1</td>\n",
              "      <td>10694</td>\n",
              "      <td>300.11</td>\n",
              "      <td>2000-01-01T03:04:06Z</td>\n",
              "      <td>2052</td>\n",
              "      <td>2001</td>\n",
              "      <td>True</td>\n",
              "      <td>True</td>\n",
              "      <td>True</td>\n",
              "      <td>True</td>\n",
              "      <td>True</td>\n",
              "      <td>True</td>\n",
              "    </tr>\n",
              "    <tr>\n",
              "      <th>1</th>\n",
              "      <td>1</td>\n",
              "      <td>10695</td>\n",
              "      <td>4000.11</td>\n",
              "      <td>2000-01-02T03:04:06Z</td>\n",
              "      <td>2052</td>\n",
              "      <td>2002</td>\n",
              "      <td>True</td>\n",
              "      <td>True</td>\n",
              "      <td>True</td>\n",
              "      <td>True</td>\n",
              "      <td>True</td>\n",
              "      <td>True</td>\n",
              "    </tr>\n",
              "    <tr>\n",
              "      <th>2</th>\n",
              "      <td>1</td>\n",
              "      <td>10696</td>\n",
              "      <td>4000.11</td>\n",
              "      <td>2000-01-03T03:05:06Z</td>\n",
              "      <td>2001</td>\n",
              "      <td>2003</td>\n",
              "      <td>True</td>\n",
              "      <td>True</td>\n",
              "      <td>True</td>\n",
              "      <td>True</td>\n",
              "      <td>True</td>\n",
              "      <td>True</td>\n",
              "    </tr>\n",
              "    <tr>\n",
              "      <th>3</th>\n",
              "      <td>1</td>\n",
              "      <td>10698</td>\n",
              "      <td>4000.11</td>\n",
              "      <td>2000-01-05T03:06:06Z</td>\n",
              "      <td>2001</td>\n",
              "      <td>2005</td>\n",
              "      <td>True</td>\n",
              "      <td>True</td>\n",
              "      <td>True</td>\n",
              "      <td>True</td>\n",
              "      <td>True</td>\n",
              "      <td>True</td>\n",
              "    </tr>\n",
              "    <tr>\n",
              "      <th>4</th>\n",
              "      <td>1</td>\n",
              "      <td>10699</td>\n",
              "      <td>5000.00</td>\n",
              "      <td>2000-01-06T03:06:06Z</td>\n",
              "      <td>2001</td>\n",
              "      <td>2006</td>\n",
              "      <td>False</td>\n",
              "      <td>True</td>\n",
              "      <td>True</td>\n",
              "      <td>False</td>\n",
              "      <td>True</td>\n",
              "      <td>True</td>\n",
              "    </tr>\n",
              "    <tr>\n",
              "      <th>5</th>\n",
              "      <td>1</td>\n",
              "      <td>10700</td>\n",
              "      <td>4999.00</td>\n",
              "      <td>2000-01-06T03:07:06Z</td>\n",
              "      <td>2001</td>\n",
              "      <td>2006</td>\n",
              "      <td>True</td>\n",
              "      <td>True</td>\n",
              "      <td>True</td>\n",
              "      <td>True</td>\n",
              "      <td>True</td>\n",
              "      <td>True</td>\n",
              "    </tr>\n",
              "  </tbody>\n",
              "</table>\n",
              "</div>"
            ],
            "text/plain": [
              "   customer_id load_id  load_amt  ...  rule1  rule2  rule3\n",
              "0            1   10694    300.11  ...   True   True   True\n",
              "1            1   10695   4000.11  ...   True   True   True\n",
              "2            1   10696   4000.11  ...   True   True   True\n",
              "3            1   10698   4000.11  ...   True   True   True\n",
              "4            1   10699   5000.00  ...  False   True   True\n",
              "5            1   10700   4999.00  ...   True   True   True\n",
              "\n",
              "[6 rows x 12 columns]"
            ]
          },
          "metadata": {
            "tags": []
          },
          "execution_count": 422
        }
      ]
    },
    {
      "cell_type": "code",
      "metadata": {
        "id": "xtIfTjrQxYz2",
        "outputId": "5c672d1f-0dee-4257-c764-1e5e6886b597",
        "colab": {
          "base_uri": "https://localhost:8080/",
          "height": 292
        }
      },
      "source": [
        "cust1.valid_loads"
      ],
      "execution_count": 423,
      "outputs": [
        {
          "output_type": "execute_result",
          "data": {
            "text/html": [
              "<div>\n",
              "<style scoped>\n",
              "    .dataframe tbody tr th:only-of-type {\n",
              "        vertical-align: middle;\n",
              "    }\n",
              "\n",
              "    .dataframe tbody tr th {\n",
              "        vertical-align: top;\n",
              "    }\n",
              "\n",
              "    .dataframe thead th {\n",
              "        text-align: right;\n",
              "    }\n",
              "</style>\n",
              "<table border=\"1\" class=\"dataframe\">\n",
              "  <thead>\n",
              "    <tr style=\"text-align: right;\">\n",
              "      <th></th>\n",
              "      <th>customer_id</th>\n",
              "      <th>load_id</th>\n",
              "      <th>load_amt</th>\n",
              "      <th>load_time</th>\n",
              "      <th>load_week_num</th>\n",
              "      <th>load_day_num</th>\n",
              "      <th>approved_status</th>\n",
              "      <th>ruleA</th>\n",
              "      <th>ruleB</th>\n",
              "      <th>rule1</th>\n",
              "      <th>rule2</th>\n",
              "      <th>rule3</th>\n",
              "      <th>cum_weekly_deps</th>\n",
              "      <th>cum_daily_deps</th>\n",
              "      <th>num_daily_deps</th>\n",
              "      <th>weekly_deps_left</th>\n",
              "      <th>daily_deps_left</th>\n",
              "      <th>num_daily_deps_left</th>\n",
              "    </tr>\n",
              "  </thead>\n",
              "  <tbody>\n",
              "    <tr>\n",
              "      <th>0</th>\n",
              "      <td>1</td>\n",
              "      <td>10694</td>\n",
              "      <td>300.11</td>\n",
              "      <td>2000-01-01T03:04:06Z</td>\n",
              "      <td>2052</td>\n",
              "      <td>2001</td>\n",
              "      <td>True</td>\n",
              "      <td>True</td>\n",
              "      <td>True</td>\n",
              "      <td>True</td>\n",
              "      <td>True</td>\n",
              "      <td>True</td>\n",
              "      <td>300.11</td>\n",
              "      <td>300.11</td>\n",
              "      <td>1</td>\n",
              "      <td>19699.89</td>\n",
              "      <td>4699.89</td>\n",
              "      <td>2</td>\n",
              "    </tr>\n",
              "    <tr>\n",
              "      <th>1</th>\n",
              "      <td>1</td>\n",
              "      <td>10695</td>\n",
              "      <td>4000.11</td>\n",
              "      <td>2000-01-02T03:04:06Z</td>\n",
              "      <td>2052</td>\n",
              "      <td>2002</td>\n",
              "      <td>True</td>\n",
              "      <td>True</td>\n",
              "      <td>True</td>\n",
              "      <td>True</td>\n",
              "      <td>True</td>\n",
              "      <td>True</td>\n",
              "      <td>4300.22</td>\n",
              "      <td>4000.11</td>\n",
              "      <td>1</td>\n",
              "      <td>15699.78</td>\n",
              "      <td>999.89</td>\n",
              "      <td>2</td>\n",
              "    </tr>\n",
              "    <tr>\n",
              "      <th>2</th>\n",
              "      <td>1</td>\n",
              "      <td>10696</td>\n",
              "      <td>4000.11</td>\n",
              "      <td>2000-01-03T03:05:06Z</td>\n",
              "      <td>2001</td>\n",
              "      <td>2003</td>\n",
              "      <td>True</td>\n",
              "      <td>True</td>\n",
              "      <td>True</td>\n",
              "      <td>True</td>\n",
              "      <td>True</td>\n",
              "      <td>True</td>\n",
              "      <td>4000.11</td>\n",
              "      <td>4000.11</td>\n",
              "      <td>1</td>\n",
              "      <td>15999.89</td>\n",
              "      <td>999.89</td>\n",
              "      <td>2</td>\n",
              "    </tr>\n",
              "    <tr>\n",
              "      <th>3</th>\n",
              "      <td>1</td>\n",
              "      <td>10698</td>\n",
              "      <td>4000.11</td>\n",
              "      <td>2000-01-05T03:06:06Z</td>\n",
              "      <td>2001</td>\n",
              "      <td>2005</td>\n",
              "      <td>True</td>\n",
              "      <td>True</td>\n",
              "      <td>True</td>\n",
              "      <td>True</td>\n",
              "      <td>True</td>\n",
              "      <td>True</td>\n",
              "      <td>8000.22</td>\n",
              "      <td>4000.11</td>\n",
              "      <td>1</td>\n",
              "      <td>11999.78</td>\n",
              "      <td>999.89</td>\n",
              "      <td>2</td>\n",
              "    </tr>\n",
              "    <tr>\n",
              "      <th>5</th>\n",
              "      <td>1</td>\n",
              "      <td>10700</td>\n",
              "      <td>4999.00</td>\n",
              "      <td>2000-01-06T03:07:06Z</td>\n",
              "      <td>2001</td>\n",
              "      <td>2006</td>\n",
              "      <td>True</td>\n",
              "      <td>True</td>\n",
              "      <td>True</td>\n",
              "      <td>True</td>\n",
              "      <td>True</td>\n",
              "      <td>True</td>\n",
              "      <td>12999.22</td>\n",
              "      <td>4999.00</td>\n",
              "      <td>1</td>\n",
              "      <td>7000.78</td>\n",
              "      <td>1.00</td>\n",
              "      <td>2</td>\n",
              "    </tr>\n",
              "  </tbody>\n",
              "</table>\n",
              "</div>"
            ],
            "text/plain": [
              "   customer_id load_id  ...  daily_deps_left num_daily_deps_left\n",
              "0            1   10694  ...          4699.89                   2\n",
              "1            1   10695  ...           999.89                   2\n",
              "2            1   10696  ...           999.89                   2\n",
              "3            1   10698  ...           999.89                   2\n",
              "5            1   10700  ...             1.00                   2\n",
              "\n",
              "[5 rows x 18 columns]"
            ]
          },
          "metadata": {
            "tags": []
          },
          "execution_count": 423
        }
      ]
    },
    {
      "cell_type": "code",
      "metadata": {
        "id": "oY351luRxf3N",
        "outputId": "da4bee05-783c-4168-9bc9-340e9a18bf84",
        "colab": {
          "base_uri": "https://localhost:8080/",
          "height": 590
        }
      },
      "source": [
        "cust1.process_load(Load('10701', '$4999.00', '2000-01-07T03:07:06Z'))\n",
        "cust1.load_hist"
      ],
      "execution_count": 424,
      "outputs": [
        {
          "output_type": "stream",
          "text": [
            "before status:....\n",
            "Customer_id:1\n",
            "Current Deposit Balance:27298.440000000002\n",
            "Current Daily Deposits:22298.440000000002\n",
            "Current Weekly Deposits:22298.440000000002\n",
            "Current Daily Loads:6\n",
            "Daily Deposits Left:1.0\n",
            "Weekly Deposits Left:7000.779999999999\n",
            "Daily Loads Left:3\n",
            "inside get weekly deps left function\n",
            "arg is truueeee\n",
            "after status:....\n",
            "Customer_id:1\n",
            "Current Deposit Balance:27298.440000000002\n",
            "Current Daily Deposits:22298.440000000002\n",
            "Current Weekly Deposits:22298.440000000002\n",
            "Current Daily Loads:6\n",
            "Daily Deposits Left:1.0\n",
            "Weekly Deposits Left:2001.7799999999988\n",
            "Daily Loads Left:3\n",
            "All Rules Passed ... Load Added\n"
          ],
          "name": "stdout"
        },
        {
          "output_type": "execute_result",
          "data": {
            "text/html": [
              "<div>\n",
              "<style scoped>\n",
              "    .dataframe tbody tr th:only-of-type {\n",
              "        vertical-align: middle;\n",
              "    }\n",
              "\n",
              "    .dataframe tbody tr th {\n",
              "        vertical-align: top;\n",
              "    }\n",
              "\n",
              "    .dataframe thead th {\n",
              "        text-align: right;\n",
              "    }\n",
              "</style>\n",
              "<table border=\"1\" class=\"dataframe\">\n",
              "  <thead>\n",
              "    <tr style=\"text-align: right;\">\n",
              "      <th></th>\n",
              "      <th>customer_id</th>\n",
              "      <th>load_id</th>\n",
              "      <th>load_amt</th>\n",
              "      <th>load_time</th>\n",
              "      <th>load_week_num</th>\n",
              "      <th>load_day_num</th>\n",
              "      <th>approved_status</th>\n",
              "      <th>ruleA</th>\n",
              "      <th>ruleB</th>\n",
              "      <th>rule1</th>\n",
              "      <th>rule2</th>\n",
              "      <th>rule3</th>\n",
              "    </tr>\n",
              "  </thead>\n",
              "  <tbody>\n",
              "    <tr>\n",
              "      <th>0</th>\n",
              "      <td>1</td>\n",
              "      <td>10694</td>\n",
              "      <td>300.11</td>\n",
              "      <td>2000-01-01T03:04:06Z</td>\n",
              "      <td>2052</td>\n",
              "      <td>2001</td>\n",
              "      <td>True</td>\n",
              "      <td>True</td>\n",
              "      <td>True</td>\n",
              "      <td>True</td>\n",
              "      <td>True</td>\n",
              "      <td>True</td>\n",
              "    </tr>\n",
              "    <tr>\n",
              "      <th>1</th>\n",
              "      <td>1</td>\n",
              "      <td>10695</td>\n",
              "      <td>4000.11</td>\n",
              "      <td>2000-01-02T03:04:06Z</td>\n",
              "      <td>2052</td>\n",
              "      <td>2002</td>\n",
              "      <td>True</td>\n",
              "      <td>True</td>\n",
              "      <td>True</td>\n",
              "      <td>True</td>\n",
              "      <td>True</td>\n",
              "      <td>True</td>\n",
              "    </tr>\n",
              "    <tr>\n",
              "      <th>2</th>\n",
              "      <td>1</td>\n",
              "      <td>10696</td>\n",
              "      <td>4000.11</td>\n",
              "      <td>2000-01-03T03:05:06Z</td>\n",
              "      <td>2001</td>\n",
              "      <td>2003</td>\n",
              "      <td>True</td>\n",
              "      <td>True</td>\n",
              "      <td>True</td>\n",
              "      <td>True</td>\n",
              "      <td>True</td>\n",
              "      <td>True</td>\n",
              "    </tr>\n",
              "    <tr>\n",
              "      <th>3</th>\n",
              "      <td>1</td>\n",
              "      <td>10698</td>\n",
              "      <td>4000.11</td>\n",
              "      <td>2000-01-05T03:06:06Z</td>\n",
              "      <td>2001</td>\n",
              "      <td>2005</td>\n",
              "      <td>True</td>\n",
              "      <td>True</td>\n",
              "      <td>True</td>\n",
              "      <td>True</td>\n",
              "      <td>True</td>\n",
              "      <td>True</td>\n",
              "    </tr>\n",
              "    <tr>\n",
              "      <th>4</th>\n",
              "      <td>1</td>\n",
              "      <td>10699</td>\n",
              "      <td>5000.00</td>\n",
              "      <td>2000-01-06T03:06:06Z</td>\n",
              "      <td>2001</td>\n",
              "      <td>2006</td>\n",
              "      <td>False</td>\n",
              "      <td>True</td>\n",
              "      <td>True</td>\n",
              "      <td>False</td>\n",
              "      <td>True</td>\n",
              "      <td>True</td>\n",
              "    </tr>\n",
              "    <tr>\n",
              "      <th>5</th>\n",
              "      <td>1</td>\n",
              "      <td>10700</td>\n",
              "      <td>4999.00</td>\n",
              "      <td>2000-01-06T03:07:06Z</td>\n",
              "      <td>2001</td>\n",
              "      <td>2006</td>\n",
              "      <td>True</td>\n",
              "      <td>True</td>\n",
              "      <td>True</td>\n",
              "      <td>True</td>\n",
              "      <td>True</td>\n",
              "      <td>True</td>\n",
              "    </tr>\n",
              "    <tr>\n",
              "      <th>6</th>\n",
              "      <td>1</td>\n",
              "      <td>10701</td>\n",
              "      <td>4999.00</td>\n",
              "      <td>2000-01-07T03:07:06Z</td>\n",
              "      <td>2001</td>\n",
              "      <td>2007</td>\n",
              "      <td>True</td>\n",
              "      <td>True</td>\n",
              "      <td>True</td>\n",
              "      <td>True</td>\n",
              "      <td>True</td>\n",
              "      <td>True</td>\n",
              "    </tr>\n",
              "  </tbody>\n",
              "</table>\n",
              "</div>"
            ],
            "text/plain": [
              "   customer_id load_id  load_amt  ...  rule1  rule2  rule3\n",
              "0            1   10694    300.11  ...   True   True   True\n",
              "1            1   10695   4000.11  ...   True   True   True\n",
              "2            1   10696   4000.11  ...   True   True   True\n",
              "3            1   10698   4000.11  ...   True   True   True\n",
              "4            1   10699   5000.00  ...  False   True   True\n",
              "5            1   10700   4999.00  ...   True   True   True\n",
              "6            1   10701   4999.00  ...   True   True   True\n",
              "\n",
              "[7 rows x 12 columns]"
            ]
          },
          "metadata": {
            "tags": []
          },
          "execution_count": 424
        }
      ]
    },
    {
      "cell_type": "code",
      "metadata": {
        "id": "lTZtniJDxlAN",
        "outputId": "8f5d8304-438f-44fb-9f14-42dbe72d2dac",
        "colab": {
          "base_uri": "https://localhost:8080/",
          "height": 337
        }
      },
      "source": [
        "cust1.valid_loads"
      ],
      "execution_count": 425,
      "outputs": [
        {
          "output_type": "execute_result",
          "data": {
            "text/html": [
              "<div>\n",
              "<style scoped>\n",
              "    .dataframe tbody tr th:only-of-type {\n",
              "        vertical-align: middle;\n",
              "    }\n",
              "\n",
              "    .dataframe tbody tr th {\n",
              "        vertical-align: top;\n",
              "    }\n",
              "\n",
              "    .dataframe thead th {\n",
              "        text-align: right;\n",
              "    }\n",
              "</style>\n",
              "<table border=\"1\" class=\"dataframe\">\n",
              "  <thead>\n",
              "    <tr style=\"text-align: right;\">\n",
              "      <th></th>\n",
              "      <th>customer_id</th>\n",
              "      <th>load_id</th>\n",
              "      <th>load_amt</th>\n",
              "      <th>load_time</th>\n",
              "      <th>load_week_num</th>\n",
              "      <th>load_day_num</th>\n",
              "      <th>approved_status</th>\n",
              "      <th>ruleA</th>\n",
              "      <th>ruleB</th>\n",
              "      <th>rule1</th>\n",
              "      <th>rule2</th>\n",
              "      <th>rule3</th>\n",
              "      <th>cum_weekly_deps</th>\n",
              "      <th>cum_daily_deps</th>\n",
              "      <th>num_daily_deps</th>\n",
              "      <th>weekly_deps_left</th>\n",
              "      <th>daily_deps_left</th>\n",
              "      <th>num_daily_deps_left</th>\n",
              "    </tr>\n",
              "  </thead>\n",
              "  <tbody>\n",
              "    <tr>\n",
              "      <th>0</th>\n",
              "      <td>1</td>\n",
              "      <td>10694</td>\n",
              "      <td>300.11</td>\n",
              "      <td>2000-01-01T03:04:06Z</td>\n",
              "      <td>2052</td>\n",
              "      <td>2001</td>\n",
              "      <td>True</td>\n",
              "      <td>True</td>\n",
              "      <td>True</td>\n",
              "      <td>True</td>\n",
              "      <td>True</td>\n",
              "      <td>True</td>\n",
              "      <td>300.11</td>\n",
              "      <td>300.11</td>\n",
              "      <td>1</td>\n",
              "      <td>19699.89</td>\n",
              "      <td>4699.89</td>\n",
              "      <td>2</td>\n",
              "    </tr>\n",
              "    <tr>\n",
              "      <th>1</th>\n",
              "      <td>1</td>\n",
              "      <td>10695</td>\n",
              "      <td>4000.11</td>\n",
              "      <td>2000-01-02T03:04:06Z</td>\n",
              "      <td>2052</td>\n",
              "      <td>2002</td>\n",
              "      <td>True</td>\n",
              "      <td>True</td>\n",
              "      <td>True</td>\n",
              "      <td>True</td>\n",
              "      <td>True</td>\n",
              "      <td>True</td>\n",
              "      <td>4300.22</td>\n",
              "      <td>4000.11</td>\n",
              "      <td>1</td>\n",
              "      <td>15699.78</td>\n",
              "      <td>999.89</td>\n",
              "      <td>2</td>\n",
              "    </tr>\n",
              "    <tr>\n",
              "      <th>2</th>\n",
              "      <td>1</td>\n",
              "      <td>10696</td>\n",
              "      <td>4000.11</td>\n",
              "      <td>2000-01-03T03:05:06Z</td>\n",
              "      <td>2001</td>\n",
              "      <td>2003</td>\n",
              "      <td>True</td>\n",
              "      <td>True</td>\n",
              "      <td>True</td>\n",
              "      <td>True</td>\n",
              "      <td>True</td>\n",
              "      <td>True</td>\n",
              "      <td>4000.11</td>\n",
              "      <td>4000.11</td>\n",
              "      <td>1</td>\n",
              "      <td>15999.89</td>\n",
              "      <td>999.89</td>\n",
              "      <td>2</td>\n",
              "    </tr>\n",
              "    <tr>\n",
              "      <th>3</th>\n",
              "      <td>1</td>\n",
              "      <td>10698</td>\n",
              "      <td>4000.11</td>\n",
              "      <td>2000-01-05T03:06:06Z</td>\n",
              "      <td>2001</td>\n",
              "      <td>2005</td>\n",
              "      <td>True</td>\n",
              "      <td>True</td>\n",
              "      <td>True</td>\n",
              "      <td>True</td>\n",
              "      <td>True</td>\n",
              "      <td>True</td>\n",
              "      <td>8000.22</td>\n",
              "      <td>4000.11</td>\n",
              "      <td>1</td>\n",
              "      <td>11999.78</td>\n",
              "      <td>999.89</td>\n",
              "      <td>2</td>\n",
              "    </tr>\n",
              "    <tr>\n",
              "      <th>5</th>\n",
              "      <td>1</td>\n",
              "      <td>10700</td>\n",
              "      <td>4999.00</td>\n",
              "      <td>2000-01-06T03:07:06Z</td>\n",
              "      <td>2001</td>\n",
              "      <td>2006</td>\n",
              "      <td>True</td>\n",
              "      <td>True</td>\n",
              "      <td>True</td>\n",
              "      <td>True</td>\n",
              "      <td>True</td>\n",
              "      <td>True</td>\n",
              "      <td>12999.22</td>\n",
              "      <td>4999.00</td>\n",
              "      <td>1</td>\n",
              "      <td>7000.78</td>\n",
              "      <td>1.00</td>\n",
              "      <td>2</td>\n",
              "    </tr>\n",
              "    <tr>\n",
              "      <th>6</th>\n",
              "      <td>1</td>\n",
              "      <td>10701</td>\n",
              "      <td>4999.00</td>\n",
              "      <td>2000-01-07T03:07:06Z</td>\n",
              "      <td>2001</td>\n",
              "      <td>2007</td>\n",
              "      <td>True</td>\n",
              "      <td>True</td>\n",
              "      <td>True</td>\n",
              "      <td>True</td>\n",
              "      <td>True</td>\n",
              "      <td>True</td>\n",
              "      <td>17998.22</td>\n",
              "      <td>4999.00</td>\n",
              "      <td>1</td>\n",
              "      <td>2001.78</td>\n",
              "      <td>1.00</td>\n",
              "      <td>2</td>\n",
              "    </tr>\n",
              "  </tbody>\n",
              "</table>\n",
              "</div>"
            ],
            "text/plain": [
              "   customer_id load_id  ...  daily_deps_left num_daily_deps_left\n",
              "0            1   10694  ...          4699.89                   2\n",
              "1            1   10695  ...           999.89                   2\n",
              "2            1   10696  ...           999.89                   2\n",
              "3            1   10698  ...           999.89                   2\n",
              "5            1   10700  ...             1.00                   2\n",
              "6            1   10701  ...             1.00                   2\n",
              "\n",
              "[6 rows x 18 columns]"
            ]
          },
          "metadata": {
            "tags": []
          },
          "execution_count": 425
        }
      ]
    },
    {
      "cell_type": "code",
      "metadata": {
        "id": "hHIjEu4DxnoE",
        "outputId": "e6b5229e-c83d-4776-d1a1-5ff921d0b533",
        "colab": {
          "base_uri": "https://localhost:8080/",
          "height": 310
        }
      },
      "source": [
        "cust1.process_load(Load('10702', '$4999.00', '2000-01-08T03:07:06Z'))\n",
        "cust1.load_hist"
      ],
      "execution_count": 426,
      "outputs": [
        {
          "output_type": "stream",
          "text": [
            "ERROR: No room for weekly deposits left\n",
            "Load Rejected\n"
          ],
          "name": "stdout"
        },
        {
          "output_type": "execute_result",
          "data": {
            "text/html": [
              "<div>\n",
              "<style scoped>\n",
              "    .dataframe tbody tr th:only-of-type {\n",
              "        vertical-align: middle;\n",
              "    }\n",
              "\n",
              "    .dataframe tbody tr th {\n",
              "        vertical-align: top;\n",
              "    }\n",
              "\n",
              "    .dataframe thead th {\n",
              "        text-align: right;\n",
              "    }\n",
              "</style>\n",
              "<table border=\"1\" class=\"dataframe\">\n",
              "  <thead>\n",
              "    <tr style=\"text-align: right;\">\n",
              "      <th></th>\n",
              "      <th>customer_id</th>\n",
              "      <th>load_id</th>\n",
              "      <th>load_amt</th>\n",
              "      <th>load_time</th>\n",
              "      <th>load_week_num</th>\n",
              "      <th>load_day_num</th>\n",
              "      <th>approved_status</th>\n",
              "      <th>ruleA</th>\n",
              "      <th>ruleB</th>\n",
              "      <th>rule1</th>\n",
              "      <th>rule2</th>\n",
              "      <th>rule3</th>\n",
              "    </tr>\n",
              "  </thead>\n",
              "  <tbody>\n",
              "    <tr>\n",
              "      <th>0</th>\n",
              "      <td>1</td>\n",
              "      <td>10694</td>\n",
              "      <td>300.11</td>\n",
              "      <td>2000-01-01T03:04:06Z</td>\n",
              "      <td>2052</td>\n",
              "      <td>2001</td>\n",
              "      <td>True</td>\n",
              "      <td>True</td>\n",
              "      <td>True</td>\n",
              "      <td>True</td>\n",
              "      <td>True</td>\n",
              "      <td>True</td>\n",
              "    </tr>\n",
              "    <tr>\n",
              "      <th>1</th>\n",
              "      <td>1</td>\n",
              "      <td>10695</td>\n",
              "      <td>4000.11</td>\n",
              "      <td>2000-01-02T03:04:06Z</td>\n",
              "      <td>2052</td>\n",
              "      <td>2002</td>\n",
              "      <td>True</td>\n",
              "      <td>True</td>\n",
              "      <td>True</td>\n",
              "      <td>True</td>\n",
              "      <td>True</td>\n",
              "      <td>True</td>\n",
              "    </tr>\n",
              "    <tr>\n",
              "      <th>2</th>\n",
              "      <td>1</td>\n",
              "      <td>10696</td>\n",
              "      <td>4000.11</td>\n",
              "      <td>2000-01-03T03:05:06Z</td>\n",
              "      <td>2001</td>\n",
              "      <td>2003</td>\n",
              "      <td>True</td>\n",
              "      <td>True</td>\n",
              "      <td>True</td>\n",
              "      <td>True</td>\n",
              "      <td>True</td>\n",
              "      <td>True</td>\n",
              "    </tr>\n",
              "    <tr>\n",
              "      <th>3</th>\n",
              "      <td>1</td>\n",
              "      <td>10698</td>\n",
              "      <td>4000.11</td>\n",
              "      <td>2000-01-05T03:06:06Z</td>\n",
              "      <td>2001</td>\n",
              "      <td>2005</td>\n",
              "      <td>True</td>\n",
              "      <td>True</td>\n",
              "      <td>True</td>\n",
              "      <td>True</td>\n",
              "      <td>True</td>\n",
              "      <td>True</td>\n",
              "    </tr>\n",
              "    <tr>\n",
              "      <th>4</th>\n",
              "      <td>1</td>\n",
              "      <td>10699</td>\n",
              "      <td>5000.00</td>\n",
              "      <td>2000-01-06T03:06:06Z</td>\n",
              "      <td>2001</td>\n",
              "      <td>2006</td>\n",
              "      <td>False</td>\n",
              "      <td>True</td>\n",
              "      <td>True</td>\n",
              "      <td>False</td>\n",
              "      <td>True</td>\n",
              "      <td>True</td>\n",
              "    </tr>\n",
              "    <tr>\n",
              "      <th>5</th>\n",
              "      <td>1</td>\n",
              "      <td>10700</td>\n",
              "      <td>4999.00</td>\n",
              "      <td>2000-01-06T03:07:06Z</td>\n",
              "      <td>2001</td>\n",
              "      <td>2006</td>\n",
              "      <td>True</td>\n",
              "      <td>True</td>\n",
              "      <td>True</td>\n",
              "      <td>True</td>\n",
              "      <td>True</td>\n",
              "      <td>True</td>\n",
              "    </tr>\n",
              "    <tr>\n",
              "      <th>6</th>\n",
              "      <td>1</td>\n",
              "      <td>10701</td>\n",
              "      <td>4999.00</td>\n",
              "      <td>2000-01-07T03:07:06Z</td>\n",
              "      <td>2001</td>\n",
              "      <td>2007</td>\n",
              "      <td>True</td>\n",
              "      <td>True</td>\n",
              "      <td>True</td>\n",
              "      <td>True</td>\n",
              "      <td>True</td>\n",
              "      <td>True</td>\n",
              "    </tr>\n",
              "    <tr>\n",
              "      <th>7</th>\n",
              "      <td>1</td>\n",
              "      <td>10702</td>\n",
              "      <td>4999.00</td>\n",
              "      <td>2000-01-08T03:07:06Z</td>\n",
              "      <td>2001</td>\n",
              "      <td>2008</td>\n",
              "      <td>False</td>\n",
              "      <td>True</td>\n",
              "      <td>True</td>\n",
              "      <td>True</td>\n",
              "      <td>True</td>\n",
              "      <td>False</td>\n",
              "    </tr>\n",
              "  </tbody>\n",
              "</table>\n",
              "</div>"
            ],
            "text/plain": [
              "   customer_id load_id  load_amt  ...  rule1  rule2  rule3\n",
              "0            1   10694    300.11  ...   True   True   True\n",
              "1            1   10695   4000.11  ...   True   True   True\n",
              "2            1   10696   4000.11  ...   True   True   True\n",
              "3            1   10698   4000.11  ...   True   True   True\n",
              "4            1   10699   5000.00  ...  False   True   True\n",
              "5            1   10700   4999.00  ...   True   True   True\n",
              "6            1   10701   4999.00  ...   True   True   True\n",
              "7            1   10702   4999.00  ...   True   True  False\n",
              "\n",
              "[8 rows x 12 columns]"
            ]
          },
          "metadata": {
            "tags": []
          },
          "execution_count": 426
        }
      ]
    },
    {
      "cell_type": "code",
      "metadata": {
        "id": "KePSBzuExw76"
      },
      "source": [
        ""
      ],
      "execution_count": null,
      "outputs": []
    }
  ]
}